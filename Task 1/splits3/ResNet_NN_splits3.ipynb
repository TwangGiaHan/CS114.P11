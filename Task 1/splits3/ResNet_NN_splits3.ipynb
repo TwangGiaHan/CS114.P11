{
 "cells": [
  {
   "cell_type": "code",
   "execution_count": 1,
   "id": "aa70a63f",
   "metadata": {
    "execution": {
     "iopub.execute_input": "2025-01-13T17:58:04.257506Z",
     "iopub.status.busy": "2025-01-13T17:58:04.257210Z",
     "iopub.status.idle": "2025-01-13T17:58:12.843542Z",
     "shell.execute_reply": "2025-01-13T17:58:12.842589Z"
    },
    "papermill": {
     "duration": 8.59619,
     "end_time": "2025-01-13T17:58:12.845204",
     "exception": false,
     "start_time": "2025-01-13T17:58:04.249014",
     "status": "completed"
    },
    "tags": []
   },
   "outputs": [],
   "source": [
    "import os\n",
    "import pandas as pd\n",
    "import multiprocessing\n",
    "from PIL import Image, UnidentifiedImageError\n",
    "from sklearn.model_selection import train_test_split\n",
    "from tensorflow.keras.preprocessing.image import ImageDataGenerator\n",
    "from keras.optimizers import Adam\n",
    "import tensorflow as tf\n",
    "from tensorflow.keras.applications import ResNet50\n",
    "from tensorflow.keras import layers, models, optimizers, callbacks\n",
    "import numpy as np\n",
    "import hashlib\n",
    "import matplotlib.pyplot as plt\n"
   ]
  },
  {
   "cell_type": "markdown",
   "id": "462ad582",
   "metadata": {
    "papermill": {
     "duration": 0.004236,
     "end_time": "2025-01-13T17:58:12.854398",
     "exception": false,
     "start_time": "2025-01-13T17:58:12.850162",
     "status": "completed"
    },
    "tags": []
   },
   "source": [
    "# Data Loading"
   ]
  },
  {
   "cell_type": "code",
   "execution_count": 2,
   "id": "1e0ef406",
   "metadata": {
    "execution": {
     "iopub.execute_input": "2025-01-13T17:58:12.863934Z",
     "iopub.status.busy": "2025-01-13T17:58:12.863444Z",
     "iopub.status.idle": "2025-01-13T17:58:12.867043Z",
     "shell.execute_reply": "2025-01-13T17:58:12.866378Z"
    },
    "papermill": {
     "duration": 0.009604,
     "end_time": "2025-01-13T17:58:12.868246",
     "exception": false,
     "start_time": "2025-01-13T17:58:12.858642",
     "status": "completed"
    },
    "tags": []
   },
   "outputs": [],
   "source": [
    "SPLITS_ID = 3\n",
    "BATCH_SIZE = 64\n",
    "WIDTH = 224\n",
    "HEIGHT = 224\n",
    "SEED = 4"
   ]
  },
  {
   "cell_type": "code",
   "execution_count": 3,
   "id": "bb9b91f8",
   "metadata": {
    "execution": {
     "iopub.execute_input": "2025-01-13T17:58:12.877503Z",
     "iopub.status.busy": "2025-01-13T17:58:12.877242Z",
     "iopub.status.idle": "2025-01-13T17:58:12.880395Z",
     "shell.execute_reply": "2025-01-13T17:58:12.879627Z"
    },
    "papermill": {
     "duration": 0.009109,
     "end_time": "2025-01-13T17:58:12.881706",
     "exception": false,
     "start_time": "2025-01-13T17:58:12.872597",
     "status": "completed"
    },
    "tags": []
   },
   "outputs": [],
   "source": [
    "DATASET_PATH = '/kaggle/input/data-car-public/Public'\n",
    "SPLITS_PATH = '/kaggle/input/cardataset-splits/cardataset_splits'"
   ]
  },
  {
   "cell_type": "code",
   "execution_count": 4,
   "id": "fc2c0b9d",
   "metadata": {
    "execution": {
     "iopub.execute_input": "2025-01-13T17:58:12.890991Z",
     "iopub.status.busy": "2025-01-13T17:58:12.890784Z",
     "iopub.status.idle": "2025-01-13T17:58:13.031438Z",
     "shell.execute_reply": "2025-01-13T17:58:13.030525Z"
    },
    "papermill": {
     "duration": 0.147012,
     "end_time": "2025-01-13T17:58:13.032967",
     "exception": false,
     "start_time": "2025-01-13T17:58:12.885955",
     "status": "completed"
    },
    "tags": []
   },
   "outputs": [],
   "source": [
    "train_csv = os.path.join(SPLITS_PATH, f\"CarDataset-Splits-{SPLITS_ID}-Train.csv\")\n",
    "test_csv = os.path.join(SPLITS_PATH, f\"CarDataset-Splits-{SPLITS_ID}-Test.csv\")\n",
    "\n",
    "train_df = pd.read_csv(train_csv)\n",
    "test_df = pd.read_csv(test_csv)\n",
    "\n",
    "\n",
    "train_df[\"ImageFullPath\"] = train_df[\"ImageFullPath\"].apply(lambda x: os.path.join(DATASET_PATH, x))\n",
    "test_df[\"ImageFullPath\"] = test_df[\"ImageFullPath\"].apply(lambda x: os.path.join(DATASET_PATH, x))\n",
    "\n",
    "train_df[\"CategoryID\"] = train_df[\"CategoryID\"].astype(str)\n",
    "test_df[\"CategoryID\"] = test_df[\"CategoryID\"].astype(str)"
   ]
  },
  {
   "cell_type": "code",
   "execution_count": 5,
   "id": "3925b028",
   "metadata": {
    "execution": {
     "iopub.execute_input": "2025-01-13T17:58:13.042754Z",
     "iopub.status.busy": "2025-01-13T17:58:13.042509Z",
     "iopub.status.idle": "2025-01-13T17:58:13.053819Z",
     "shell.execute_reply": "2025-01-13T17:58:13.053167Z"
    },
    "papermill": {
     "duration": 0.017454,
     "end_time": "2025-01-13T17:58:13.055010",
     "exception": false,
     "start_time": "2025-01-13T17:58:13.037556",
     "status": "completed"
    },
    "tags": []
   },
   "outputs": [
    {
     "data": {
      "text/html": [
       "<div>\n",
       "<style scoped>\n",
       "    .dataframe tbody tr th:only-of-type {\n",
       "        vertical-align: middle;\n",
       "    }\n",
       "\n",
       "    .dataframe tbody tr th {\n",
       "        vertical-align: top;\n",
       "    }\n",
       "\n",
       "    .dataframe thead th {\n",
       "        text-align: right;\n",
       "    }\n",
       "</style>\n",
       "<table border=\"1\" class=\"dataframe\">\n",
       "  <thead>\n",
       "    <tr style=\"text-align: right;\">\n",
       "      <th></th>\n",
       "      <th>ImageFullPath</th>\n",
       "      <th>CategoryID</th>\n",
       "    </tr>\n",
       "  </thead>\n",
       "  <tbody>\n",
       "    <tr>\n",
       "      <th>0</th>\n",
       "      <td>/kaggle/input/data-car-public/Public/Mazda/225...</td>\n",
       "      <td>4</td>\n",
       "    </tr>\n",
       "    <tr>\n",
       "      <th>1</th>\n",
       "      <td>/kaggle/input/data-car-public/Public/Mazda/225...</td>\n",
       "      <td>4</td>\n",
       "    </tr>\n",
       "    <tr>\n",
       "      <th>2</th>\n",
       "      <td>/kaggle/input/data-car-public/Public/Mazda/225...</td>\n",
       "      <td>4</td>\n",
       "    </tr>\n",
       "    <tr>\n",
       "      <th>3</th>\n",
       "      <td>/kaggle/input/data-car-public/Public/Mazda/225...</td>\n",
       "      <td>4</td>\n",
       "    </tr>\n",
       "    <tr>\n",
       "      <th>4</th>\n",
       "      <td>/kaggle/input/data-car-public/Public/Mazda/225...</td>\n",
       "      <td>4</td>\n",
       "    </tr>\n",
       "    <tr>\n",
       "      <th>...</th>\n",
       "      <td>...</td>\n",
       "      <td>...</td>\n",
       "    </tr>\n",
       "    <tr>\n",
       "      <th>27858</th>\n",
       "      <td>/kaggle/input/data-car-public/Public/Honda/225...</td>\n",
       "      <td>1</td>\n",
       "    </tr>\n",
       "    <tr>\n",
       "      <th>27859</th>\n",
       "      <td>/kaggle/input/data-car-public/Public/Honda/225...</td>\n",
       "      <td>1</td>\n",
       "    </tr>\n",
       "    <tr>\n",
       "      <th>27860</th>\n",
       "      <td>/kaggle/input/data-car-public/Public/Honda/225...</td>\n",
       "      <td>1</td>\n",
       "    </tr>\n",
       "    <tr>\n",
       "      <th>27861</th>\n",
       "      <td>/kaggle/input/data-car-public/Public/Honda/225...</td>\n",
       "      <td>1</td>\n",
       "    </tr>\n",
       "    <tr>\n",
       "      <th>27862</th>\n",
       "      <td>/kaggle/input/data-car-public/Public/Honda/225...</td>\n",
       "      <td>1</td>\n",
       "    </tr>\n",
       "  </tbody>\n",
       "</table>\n",
       "<p>27863 rows × 2 columns</p>\n",
       "</div>"
      ],
      "text/plain": [
       "                                           ImageFullPath CategoryID\n",
       "0      /kaggle/input/data-car-public/Public/Mazda/225...          4\n",
       "1      /kaggle/input/data-car-public/Public/Mazda/225...          4\n",
       "2      /kaggle/input/data-car-public/Public/Mazda/225...          4\n",
       "3      /kaggle/input/data-car-public/Public/Mazda/225...          4\n",
       "4      /kaggle/input/data-car-public/Public/Mazda/225...          4\n",
       "...                                                  ...        ...\n",
       "27858  /kaggle/input/data-car-public/Public/Honda/225...          1\n",
       "27859  /kaggle/input/data-car-public/Public/Honda/225...          1\n",
       "27860  /kaggle/input/data-car-public/Public/Honda/225...          1\n",
       "27861  /kaggle/input/data-car-public/Public/Honda/225...          1\n",
       "27862  /kaggle/input/data-car-public/Public/Honda/225...          1\n",
       "\n",
       "[27863 rows x 2 columns]"
      ]
     },
     "execution_count": 5,
     "metadata": {},
     "output_type": "execute_result"
    }
   ],
   "source": [
    "train_df"
   ]
  },
  {
   "cell_type": "code",
   "execution_count": 6,
   "id": "40f3a369",
   "metadata": {
    "execution": {
     "iopub.execute_input": "2025-01-13T17:58:13.064727Z",
     "iopub.status.busy": "2025-01-13T17:58:13.064523Z",
     "iopub.status.idle": "2025-01-13T17:58:13.071597Z",
     "shell.execute_reply": "2025-01-13T17:58:13.070859Z"
    },
    "papermill": {
     "duration": 0.013113,
     "end_time": "2025-01-13T17:58:13.072725",
     "exception": false,
     "start_time": "2025-01-13T17:58:13.059612",
     "status": "completed"
    },
    "tags": []
   },
   "outputs": [
    {
     "data": {
      "text/html": [
       "<div>\n",
       "<style scoped>\n",
       "    .dataframe tbody tr th:only-of-type {\n",
       "        vertical-align: middle;\n",
       "    }\n",
       "\n",
       "    .dataframe tbody tr th {\n",
       "        vertical-align: top;\n",
       "    }\n",
       "\n",
       "    .dataframe thead th {\n",
       "        text-align: right;\n",
       "    }\n",
       "</style>\n",
       "<table border=\"1\" class=\"dataframe\">\n",
       "  <thead>\n",
       "    <tr style=\"text-align: right;\">\n",
       "      <th></th>\n",
       "      <th>ImageFullPath</th>\n",
       "      <th>CategoryID</th>\n",
       "    </tr>\n",
       "  </thead>\n",
       "  <tbody>\n",
       "    <tr>\n",
       "      <th>0</th>\n",
       "      <td>/kaggle/input/data-car-public/Public/Mazda/225...</td>\n",
       "      <td>4</td>\n",
       "    </tr>\n",
       "    <tr>\n",
       "      <th>1</th>\n",
       "      <td>/kaggle/input/data-car-public/Public/Mazda/225...</td>\n",
       "      <td>4</td>\n",
       "    </tr>\n",
       "    <tr>\n",
       "      <th>2</th>\n",
       "      <td>/kaggle/input/data-car-public/Public/Mazda/225...</td>\n",
       "      <td>4</td>\n",
       "    </tr>\n",
       "    <tr>\n",
       "      <th>3</th>\n",
       "      <td>/kaggle/input/data-car-public/Public/Mazda/225...</td>\n",
       "      <td>4</td>\n",
       "    </tr>\n",
       "    <tr>\n",
       "      <th>4</th>\n",
       "      <td>/kaggle/input/data-car-public/Public/Mazda/225...</td>\n",
       "      <td>4</td>\n",
       "    </tr>\n",
       "    <tr>\n",
       "      <th>...</th>\n",
       "      <td>...</td>\n",
       "      <td>...</td>\n",
       "    </tr>\n",
       "    <tr>\n",
       "      <th>6961</th>\n",
       "      <td>/kaggle/input/data-car-public/Public/Honda/225...</td>\n",
       "      <td>1</td>\n",
       "    </tr>\n",
       "    <tr>\n",
       "      <th>6962</th>\n",
       "      <td>/kaggle/input/data-car-public/Public/Honda/225...</td>\n",
       "      <td>1</td>\n",
       "    </tr>\n",
       "    <tr>\n",
       "      <th>6963</th>\n",
       "      <td>/kaggle/input/data-car-public/Public/Honda/225...</td>\n",
       "      <td>1</td>\n",
       "    </tr>\n",
       "    <tr>\n",
       "      <th>6964</th>\n",
       "      <td>/kaggle/input/data-car-public/Public/Honda/225...</td>\n",
       "      <td>1</td>\n",
       "    </tr>\n",
       "    <tr>\n",
       "      <th>6965</th>\n",
       "      <td>/kaggle/input/data-car-public/Public/Honda/225...</td>\n",
       "      <td>1</td>\n",
       "    </tr>\n",
       "  </tbody>\n",
       "</table>\n",
       "<p>6966 rows × 2 columns</p>\n",
       "</div>"
      ],
      "text/plain": [
       "                                          ImageFullPath CategoryID\n",
       "0     /kaggle/input/data-car-public/Public/Mazda/225...          4\n",
       "1     /kaggle/input/data-car-public/Public/Mazda/225...          4\n",
       "2     /kaggle/input/data-car-public/Public/Mazda/225...          4\n",
       "3     /kaggle/input/data-car-public/Public/Mazda/225...          4\n",
       "4     /kaggle/input/data-car-public/Public/Mazda/225...          4\n",
       "...                                                 ...        ...\n",
       "6961  /kaggle/input/data-car-public/Public/Honda/225...          1\n",
       "6962  /kaggle/input/data-car-public/Public/Honda/225...          1\n",
       "6963  /kaggle/input/data-car-public/Public/Honda/225...          1\n",
       "6964  /kaggle/input/data-car-public/Public/Honda/225...          1\n",
       "6965  /kaggle/input/data-car-public/Public/Honda/225...          1\n",
       "\n",
       "[6966 rows x 2 columns]"
      ]
     },
     "execution_count": 6,
     "metadata": {},
     "output_type": "execute_result"
    }
   ],
   "source": [
    "test_df"
   ]
  },
  {
   "cell_type": "markdown",
   "id": "1574d0e9",
   "metadata": {
    "papermill": {
     "duration": 0.004356,
     "end_time": "2025-01-13T17:58:13.081822",
     "exception": false,
     "start_time": "2025-01-13T17:58:13.077466",
     "status": "completed"
    },
    "tags": []
   },
   "source": [
    "# Preprocessing"
   ]
  },
  {
   "cell_type": "code",
   "execution_count": 7,
   "id": "f7e14f80",
   "metadata": {
    "execution": {
     "iopub.execute_input": "2025-01-13T17:58:13.091576Z",
     "iopub.status.busy": "2025-01-13T17:58:13.091356Z",
     "iopub.status.idle": "2025-01-13T17:58:13.141864Z",
     "shell.execute_reply": "2025-01-13T17:58:13.141221Z"
    },
    "papermill": {
     "duration": 0.056715,
     "end_time": "2025-01-13T17:58:13.143110",
     "exception": false,
     "start_time": "2025-01-13T17:58:13.086395",
     "status": "completed"
    },
    "tags": []
   },
   "outputs": [],
   "source": [
    "# Đọc danh sách ảnh trùng lặp\n",
    "duplicate = pd.read_csv('/kaggle/input/car-duplicateimages/DuplicateImages.csv')\n",
    "duplicate['Image2'] = duplicate['Image2'].apply(lambda x: os.path.join(DATASET_PATH, x))\n",
    "\n",
    "# Chỉ lấy những ảnh có Similarity > 0.95\n",
    "high_similarity_duplicates = duplicate[duplicate['Similarity'] > 0.95]\n",
    "\n",
    "# Lấy danh sách đường dẫn ảnh cần loại bỏ\n",
    "duplicate_paths = high_similarity_duplicates['Image2'].unique().tolist()\n",
    "\n",
    "# Loại bỏ các ảnh trùng lặp khỏi train_df\n",
    "train_df = train_df[~train_df['ImageFullPath'].isin(duplicate_paths)]"
   ]
  },
  {
   "cell_type": "code",
   "execution_count": 8,
   "id": "4eb00081",
   "metadata": {
    "execution": {
     "iopub.execute_input": "2025-01-13T17:58:13.153460Z",
     "iopub.status.busy": "2025-01-13T17:58:13.153210Z",
     "iopub.status.idle": "2025-01-13T17:58:13.160628Z",
     "shell.execute_reply": "2025-01-13T17:58:13.159865Z"
    },
    "papermill": {
     "duration": 0.013939,
     "end_time": "2025-01-13T17:58:13.161813",
     "exception": false,
     "start_time": "2025-01-13T17:58:13.147874",
     "status": "completed"
    },
    "tags": []
   },
   "outputs": [
    {
     "data": {
      "text/html": [
       "<div>\n",
       "<style scoped>\n",
       "    .dataframe tbody tr th:only-of-type {\n",
       "        vertical-align: middle;\n",
       "    }\n",
       "\n",
       "    .dataframe tbody tr th {\n",
       "        vertical-align: top;\n",
       "    }\n",
       "\n",
       "    .dataframe thead th {\n",
       "        text-align: right;\n",
       "    }\n",
       "</style>\n",
       "<table border=\"1\" class=\"dataframe\">\n",
       "  <thead>\n",
       "    <tr style=\"text-align: right;\">\n",
       "      <th></th>\n",
       "      <th>ImageFullPath</th>\n",
       "      <th>CategoryID</th>\n",
       "    </tr>\n",
       "  </thead>\n",
       "  <tbody>\n",
       "    <tr>\n",
       "      <th>0</th>\n",
       "      <td>/kaggle/input/data-car-public/Public/Mazda/225...</td>\n",
       "      <td>4</td>\n",
       "    </tr>\n",
       "    <tr>\n",
       "      <th>1</th>\n",
       "      <td>/kaggle/input/data-car-public/Public/Mazda/225...</td>\n",
       "      <td>4</td>\n",
       "    </tr>\n",
       "    <tr>\n",
       "      <th>2</th>\n",
       "      <td>/kaggle/input/data-car-public/Public/Mazda/225...</td>\n",
       "      <td>4</td>\n",
       "    </tr>\n",
       "    <tr>\n",
       "      <th>3</th>\n",
       "      <td>/kaggle/input/data-car-public/Public/Mazda/225...</td>\n",
       "      <td>4</td>\n",
       "    </tr>\n",
       "    <tr>\n",
       "      <th>4</th>\n",
       "      <td>/kaggle/input/data-car-public/Public/Mazda/225...</td>\n",
       "      <td>4</td>\n",
       "    </tr>\n",
       "    <tr>\n",
       "      <th>...</th>\n",
       "      <td>...</td>\n",
       "      <td>...</td>\n",
       "    </tr>\n",
       "    <tr>\n",
       "      <th>27858</th>\n",
       "      <td>/kaggle/input/data-car-public/Public/Honda/225...</td>\n",
       "      <td>1</td>\n",
       "    </tr>\n",
       "    <tr>\n",
       "      <th>27859</th>\n",
       "      <td>/kaggle/input/data-car-public/Public/Honda/225...</td>\n",
       "      <td>1</td>\n",
       "    </tr>\n",
       "    <tr>\n",
       "      <th>27860</th>\n",
       "      <td>/kaggle/input/data-car-public/Public/Honda/225...</td>\n",
       "      <td>1</td>\n",
       "    </tr>\n",
       "    <tr>\n",
       "      <th>27861</th>\n",
       "      <td>/kaggle/input/data-car-public/Public/Honda/225...</td>\n",
       "      <td>1</td>\n",
       "    </tr>\n",
       "    <tr>\n",
       "      <th>27862</th>\n",
       "      <td>/kaggle/input/data-car-public/Public/Honda/225...</td>\n",
       "      <td>1</td>\n",
       "    </tr>\n",
       "  </tbody>\n",
       "</table>\n",
       "<p>26567 rows × 2 columns</p>\n",
       "</div>"
      ],
      "text/plain": [
       "                                           ImageFullPath CategoryID\n",
       "0      /kaggle/input/data-car-public/Public/Mazda/225...          4\n",
       "1      /kaggle/input/data-car-public/Public/Mazda/225...          4\n",
       "2      /kaggle/input/data-car-public/Public/Mazda/225...          4\n",
       "3      /kaggle/input/data-car-public/Public/Mazda/225...          4\n",
       "4      /kaggle/input/data-car-public/Public/Mazda/225...          4\n",
       "...                                                  ...        ...\n",
       "27858  /kaggle/input/data-car-public/Public/Honda/225...          1\n",
       "27859  /kaggle/input/data-car-public/Public/Honda/225...          1\n",
       "27860  /kaggle/input/data-car-public/Public/Honda/225...          1\n",
       "27861  /kaggle/input/data-car-public/Public/Honda/225...          1\n",
       "27862  /kaggle/input/data-car-public/Public/Honda/225...          1\n",
       "\n",
       "[26567 rows x 2 columns]"
      ]
     },
     "execution_count": 8,
     "metadata": {},
     "output_type": "execute_result"
    }
   ],
   "source": [
    "train_df"
   ]
  },
  {
   "cell_type": "code",
   "execution_count": 9,
   "id": "9931d616",
   "metadata": {
    "execution": {
     "iopub.execute_input": "2025-01-13T17:58:13.173711Z",
     "iopub.status.busy": "2025-01-13T17:58:13.173489Z",
     "iopub.status.idle": "2025-01-13T18:02:53.797764Z",
     "shell.execute_reply": "2025-01-13T18:02:53.796744Z"
    },
    "papermill": {
     "duration": 280.63125,
     "end_time": "2025-01-13T18:02:53.799248",
     "exception": false,
     "start_time": "2025-01-13T17:58:13.167998",
     "status": "completed"
    },
    "tags": []
   },
   "outputs": [
    {
     "name": "stdout",
     "output_type": "stream",
     "text": [
      "Warning: File not found - /kaggle/input/data-car-public/Public/Mazda/22520779-22521587.Mazda.146 (1).jpg\n",
      "Warning: File not found - /kaggle/input/data-car-public/Public/Mazda/22520779-22521587.Mazda.148 (1).jpg\n",
      "Warning: File not found - /kaggle/input/data-car-public/Public/Mazda/22520779-22521587.Mazda.147 (1).jpg\n",
      "Warning: File not found - /kaggle/input/data-car-public/Public/Mazda/22520779-22521587.Mazda.149 (1).jpg\n",
      "Warning: File not found - /kaggle/input/data-car-public/Public/Mazda/22520779-22521587.Mazda.144 (1).jpg\n",
      "Warning: File not found - /kaggle/input/data-car-public/Public/Mitsubishi/22521586-22521559.Mitsubishi.155 (1).jpg\n",
      "Warning: File not found - /kaggle/input/data-car-public/Public/Mitsubishi/22521586-22521559.Mitsubishi.158 (1).jpg\n",
      "Warning: File not found - /kaggle/input/data-car-public/Public/Mitsubishi/22521586-22521559.Mitsubishi.159 (1).jpg\n",
      "Warning: File not found - /kaggle/input/data-car-public/Public/Mitsubishi/22521586-22521559.Mitsubishi.160 (1).jpg\n",
      "Warning: File not found - /kaggle/input/data-car-public/Public/Mitsubishi/22521586-22521559.Mitsubishi.161 (1).jpg\n",
      "Warning: File not found - /kaggle/input/data-car-public/Public/Mitsubishi/22521586-22521559.Mitsubishi.162 (1).jpg\n",
      "Warning: File not found - /kaggle/input/data-car-public/Public/Mitsubishi/22521586-22521559.Mitsubishi.163 (1).jpg\n",
      "Warning: File not found - /kaggle/input/data-car-public/Public/Mitsubishi/22521586-22521559.Mitsubishi.165 (1).jpg\n",
      "Warning: File not found - /kaggle/input/data-car-public/Public/Mitsubishi/22521586-22521559.Mitsubishi.166 (1).jpg\n",
      "Warning: File not found - /kaggle/input/data-car-public/Public/Mitsubishi/22521586-22521559.Mitsubishi.167 (1).jpg\n",
      "Warning: File not found - /kaggle/input/data-car-public/Public/Mitsubishi/22521586-22521559.Mitsubishi.168 (1).jpg\n",
      "Warning: File not found - /kaggle/input/data-car-public/Public/Mitsubishi/22521586-22521559.Mitsubishi.170 (1).jpg\n",
      "Warning: File not found - /kaggle/input/data-car-public/Public/Mitsubishi/22521586-22521559.Mitsubishi.171 (1).jpg\n",
      "Warning: File not found - /kaggle/input/data-car-public/Public/Mitsubishi/22521586-22521559.Mitsubishi.172 (1).jpg\n",
      "Warning: File not found - /kaggle/input/data-car-public/Public/Mitsubishi/22521586-22521559.Mitsubishi.175 (1).jpg\n",
      "Warning: File not found - /kaggle/input/data-car-public/Public/Mitsubishi/22521586-22521559.Mitsubishi.176 (1).jpg\n",
      "Warning: File not found - /kaggle/input/data-car-public/Public/Mitsubishi/22521586-22521559.Mitsubishi.177 (1).jpg\n",
      "Warning: File not found - /kaggle/input/data-car-public/Public/Mitsubishi/22521586-22521559.Mitsubishi.178 (1).jpg\n",
      "Warning: File not found - /kaggle/input/data-car-public/Public/Mitsubishi/22521586-22521559.Mitsubishi.179 (1).jpg\n",
      "Warning: File not found - /kaggle/input/data-car-public/Public/Mitsubishi/22521586-22521559.Mitsubishi.180 (1).jpg\n",
      "Warning: File not found - /kaggle/input/data-car-public/Public/Hyundai/22520779-22521587.Hyundai.346 (1).jpg\n",
      "Warning: File not found - /kaggle/input/data-car-public/Public/KIA/22520477-22520490.KIA.2 (1).jpg\n",
      "Warning: File not found - /kaggle/input/data-car-public/Public/KIA/22520477-22520490.KIA.0 (1).jpg\n",
      "Warning: File not found - /kaggle/input/data-car-public/Public/KIA/22520477-22520490.KIA.1 (1).jpg\n",
      "Warning: File not found - /kaggle/input/data-car-public/Public/Honda/22521492-22521599.Honda.3 (1).jpg\n",
      "Valid images: 26521\n",
      "Invalid images: 16\n",
      "Warning: File not found - /kaggle/input/data-car-public/Public/Mazda/22520779-22521587.Mazda.143 (1).jpg\n",
      "Warning: File not found - /kaggle/input/data-car-public/Public/Mazda/22520779-22521587.Mazda.145 (1).jpg\n",
      "Warning: File not found - /kaggle/input/data-car-public/Public/Mitsubishi/22521586-22521559.Mitsubishi.156 (1).jpg\n",
      "Warning: File not found - /kaggle/input/data-car-public/Public/Mitsubishi/22521586-22521559.Mitsubishi.157 (1).jpg\n",
      "Warning: File not found - /kaggle/input/data-car-public/Public/Mitsubishi/22521586-22521559.Mitsubishi.164 (1).jpg\n",
      "Warning: File not found - /kaggle/input/data-car-public/Public/Mitsubishi/22521586-22521559.Mitsubishi.169 (1).jpg\n",
      "Warning: File not found - /kaggle/input/data-car-public/Public/Mitsubishi/22521586-22521559.Mitsubishi.173 (1).jpg\n",
      "Warning: File not found - /kaggle/input/data-car-public/Public/Mitsubishi/22521586-22521559.Mitsubishi.174 (1).jpg\n",
      "Warning: File not found - /kaggle/input/data-car-public/Public/Hyundai/22520779-22521587.Hyundai.350 (1).jpg\n",
      "Warning: File not found - /kaggle/input/data-car-public/Public/Honda/22521492-22521599.Honda.9 (1).jpg\n",
      "Valid images: 6956\n",
      "Invalid images: 0\n"
     ]
    }
   ],
   "source": [
    "def check_image(df, column=\"ImageFullPath\"):\n",
    "    valid_images = []\n",
    "    invalid_images = []\n",
    "    for path in df[column]:\n",
    "        if not os.path.exists(path):\n",
    "            print(f\"Warning: File not found - {path}\")\n",
    "            continue\n",
    "        try:\n",
    "            with Image.open(path) as img:\n",
    "                img.verify()  # Xác minh file là ảnh hợp lệ\n",
    "                valid_images.append(path)\n",
    "        except (UnidentifiedImageError, FileNotFoundError, IOError):\n",
    "            invalid_images.append(path)\n",
    "    print(f\"Valid images: {len(valid_images)}\")\n",
    "    print(f\"Invalid images: {len(invalid_images)}\")\n",
    "    return valid_images\n",
    "            \n",
    "# Kiểm tra dữ liệu train và test\n",
    "train_valid_paths = check_image(train_df)\n",
    "test_valid_paths = check_image(test_df)\n",
    "\n",
    "# Lọc chỉ giữ lại các ảnh hợp lệ\n",
    "train_df = train_df[train_df['ImageFullPath'].isin(train_valid_paths)]\n",
    "test_df = test_df[test_df['ImageFullPath'].isin(test_valid_paths)]"
   ]
  },
  {
   "cell_type": "code",
   "execution_count": 10,
   "id": "f83509e7",
   "metadata": {
    "execution": {
     "iopub.execute_input": "2025-01-13T18:02:53.812480Z",
     "iopub.status.busy": "2025-01-13T18:02:53.812181Z",
     "iopub.status.idle": "2025-01-13T18:02:53.820431Z",
     "shell.execute_reply": "2025-01-13T18:02:53.819607Z"
    },
    "papermill": {
     "duration": 0.016127,
     "end_time": "2025-01-13T18:02:53.821787",
     "exception": false,
     "start_time": "2025-01-13T18:02:53.805660",
     "status": "completed"
    },
    "tags": []
   },
   "outputs": [
    {
     "data": {
      "text/html": [
       "<div>\n",
       "<style scoped>\n",
       "    .dataframe tbody tr th:only-of-type {\n",
       "        vertical-align: middle;\n",
       "    }\n",
       "\n",
       "    .dataframe tbody tr th {\n",
       "        vertical-align: top;\n",
       "    }\n",
       "\n",
       "    .dataframe thead th {\n",
       "        text-align: right;\n",
       "    }\n",
       "</style>\n",
       "<table border=\"1\" class=\"dataframe\">\n",
       "  <thead>\n",
       "    <tr style=\"text-align: right;\">\n",
       "      <th></th>\n",
       "      <th>ImageFullPath</th>\n",
       "      <th>CategoryID</th>\n",
       "    </tr>\n",
       "  </thead>\n",
       "  <tbody>\n",
       "    <tr>\n",
       "      <th>0</th>\n",
       "      <td>/kaggle/input/data-car-public/Public/Mazda/225...</td>\n",
       "      <td>4</td>\n",
       "    </tr>\n",
       "    <tr>\n",
       "      <th>1</th>\n",
       "      <td>/kaggle/input/data-car-public/Public/Mazda/225...</td>\n",
       "      <td>4</td>\n",
       "    </tr>\n",
       "    <tr>\n",
       "      <th>2</th>\n",
       "      <td>/kaggle/input/data-car-public/Public/Mazda/225...</td>\n",
       "      <td>4</td>\n",
       "    </tr>\n",
       "    <tr>\n",
       "      <th>3</th>\n",
       "      <td>/kaggle/input/data-car-public/Public/Mazda/225...</td>\n",
       "      <td>4</td>\n",
       "    </tr>\n",
       "    <tr>\n",
       "      <th>4</th>\n",
       "      <td>/kaggle/input/data-car-public/Public/Mazda/225...</td>\n",
       "      <td>4</td>\n",
       "    </tr>\n",
       "    <tr>\n",
       "      <th>...</th>\n",
       "      <td>...</td>\n",
       "      <td>...</td>\n",
       "    </tr>\n",
       "    <tr>\n",
       "      <th>27858</th>\n",
       "      <td>/kaggle/input/data-car-public/Public/Honda/225...</td>\n",
       "      <td>1</td>\n",
       "    </tr>\n",
       "    <tr>\n",
       "      <th>27859</th>\n",
       "      <td>/kaggle/input/data-car-public/Public/Honda/225...</td>\n",
       "      <td>1</td>\n",
       "    </tr>\n",
       "    <tr>\n",
       "      <th>27860</th>\n",
       "      <td>/kaggle/input/data-car-public/Public/Honda/225...</td>\n",
       "      <td>1</td>\n",
       "    </tr>\n",
       "    <tr>\n",
       "      <th>27861</th>\n",
       "      <td>/kaggle/input/data-car-public/Public/Honda/225...</td>\n",
       "      <td>1</td>\n",
       "    </tr>\n",
       "    <tr>\n",
       "      <th>27862</th>\n",
       "      <td>/kaggle/input/data-car-public/Public/Honda/225...</td>\n",
       "      <td>1</td>\n",
       "    </tr>\n",
       "  </tbody>\n",
       "</table>\n",
       "<p>26521 rows × 2 columns</p>\n",
       "</div>"
      ],
      "text/plain": [
       "                                           ImageFullPath CategoryID\n",
       "0      /kaggle/input/data-car-public/Public/Mazda/225...          4\n",
       "1      /kaggle/input/data-car-public/Public/Mazda/225...          4\n",
       "2      /kaggle/input/data-car-public/Public/Mazda/225...          4\n",
       "3      /kaggle/input/data-car-public/Public/Mazda/225...          4\n",
       "4      /kaggle/input/data-car-public/Public/Mazda/225...          4\n",
       "...                                                  ...        ...\n",
       "27858  /kaggle/input/data-car-public/Public/Honda/225...          1\n",
       "27859  /kaggle/input/data-car-public/Public/Honda/225...          1\n",
       "27860  /kaggle/input/data-car-public/Public/Honda/225...          1\n",
       "27861  /kaggle/input/data-car-public/Public/Honda/225...          1\n",
       "27862  /kaggle/input/data-car-public/Public/Honda/225...          1\n",
       "\n",
       "[26521 rows x 2 columns]"
      ]
     },
     "execution_count": 10,
     "metadata": {},
     "output_type": "execute_result"
    }
   ],
   "source": [
    "train_df"
   ]
  },
  {
   "cell_type": "code",
   "execution_count": 11,
   "id": "fe27d2bc",
   "metadata": {
    "execution": {
     "iopub.execute_input": "2025-01-13T18:02:53.833741Z",
     "iopub.status.busy": "2025-01-13T18:02:53.833516Z",
     "iopub.status.idle": "2025-01-13T18:02:53.841238Z",
     "shell.execute_reply": "2025-01-13T18:02:53.840412Z"
    },
    "papermill": {
     "duration": 0.01524,
     "end_time": "2025-01-13T18:02:53.842647",
     "exception": false,
     "start_time": "2025-01-13T18:02:53.827407",
     "status": "completed"
    },
    "tags": []
   },
   "outputs": [
    {
     "data": {
      "text/html": [
       "<div>\n",
       "<style scoped>\n",
       "    .dataframe tbody tr th:only-of-type {\n",
       "        vertical-align: middle;\n",
       "    }\n",
       "\n",
       "    .dataframe tbody tr th {\n",
       "        vertical-align: top;\n",
       "    }\n",
       "\n",
       "    .dataframe thead th {\n",
       "        text-align: right;\n",
       "    }\n",
       "</style>\n",
       "<table border=\"1\" class=\"dataframe\">\n",
       "  <thead>\n",
       "    <tr style=\"text-align: right;\">\n",
       "      <th></th>\n",
       "      <th>ImageFullPath</th>\n",
       "      <th>CategoryID</th>\n",
       "    </tr>\n",
       "  </thead>\n",
       "  <tbody>\n",
       "    <tr>\n",
       "      <th>0</th>\n",
       "      <td>/kaggle/input/data-car-public/Public/Mazda/225...</td>\n",
       "      <td>4</td>\n",
       "    </tr>\n",
       "    <tr>\n",
       "      <th>1</th>\n",
       "      <td>/kaggle/input/data-car-public/Public/Mazda/225...</td>\n",
       "      <td>4</td>\n",
       "    </tr>\n",
       "    <tr>\n",
       "      <th>2</th>\n",
       "      <td>/kaggle/input/data-car-public/Public/Mazda/225...</td>\n",
       "      <td>4</td>\n",
       "    </tr>\n",
       "    <tr>\n",
       "      <th>3</th>\n",
       "      <td>/kaggle/input/data-car-public/Public/Mazda/225...</td>\n",
       "      <td>4</td>\n",
       "    </tr>\n",
       "    <tr>\n",
       "      <th>5</th>\n",
       "      <td>/kaggle/input/data-car-public/Public/Mazda/225...</td>\n",
       "      <td>4</td>\n",
       "    </tr>\n",
       "    <tr>\n",
       "      <th>...</th>\n",
       "      <td>...</td>\n",
       "      <td>...</td>\n",
       "    </tr>\n",
       "    <tr>\n",
       "      <th>6961</th>\n",
       "      <td>/kaggle/input/data-car-public/Public/Honda/225...</td>\n",
       "      <td>1</td>\n",
       "    </tr>\n",
       "    <tr>\n",
       "      <th>6962</th>\n",
       "      <td>/kaggle/input/data-car-public/Public/Honda/225...</td>\n",
       "      <td>1</td>\n",
       "    </tr>\n",
       "    <tr>\n",
       "      <th>6963</th>\n",
       "      <td>/kaggle/input/data-car-public/Public/Honda/225...</td>\n",
       "      <td>1</td>\n",
       "    </tr>\n",
       "    <tr>\n",
       "      <th>6964</th>\n",
       "      <td>/kaggle/input/data-car-public/Public/Honda/225...</td>\n",
       "      <td>1</td>\n",
       "    </tr>\n",
       "    <tr>\n",
       "      <th>6965</th>\n",
       "      <td>/kaggle/input/data-car-public/Public/Honda/225...</td>\n",
       "      <td>1</td>\n",
       "    </tr>\n",
       "  </tbody>\n",
       "</table>\n",
       "<p>6956 rows × 2 columns</p>\n",
       "</div>"
      ],
      "text/plain": [
       "                                          ImageFullPath CategoryID\n",
       "0     /kaggle/input/data-car-public/Public/Mazda/225...          4\n",
       "1     /kaggle/input/data-car-public/Public/Mazda/225...          4\n",
       "2     /kaggle/input/data-car-public/Public/Mazda/225...          4\n",
       "3     /kaggle/input/data-car-public/Public/Mazda/225...          4\n",
       "5     /kaggle/input/data-car-public/Public/Mazda/225...          4\n",
       "...                                                 ...        ...\n",
       "6961  /kaggle/input/data-car-public/Public/Honda/225...          1\n",
       "6962  /kaggle/input/data-car-public/Public/Honda/225...          1\n",
       "6963  /kaggle/input/data-car-public/Public/Honda/225...          1\n",
       "6964  /kaggle/input/data-car-public/Public/Honda/225...          1\n",
       "6965  /kaggle/input/data-car-public/Public/Honda/225...          1\n",
       "\n",
       "[6956 rows x 2 columns]"
      ]
     },
     "execution_count": 11,
     "metadata": {},
     "output_type": "execute_result"
    }
   ],
   "source": [
    "test_df"
   ]
  },
  {
   "cell_type": "code",
   "execution_count": 12,
   "id": "856e53ce",
   "metadata": {
    "execution": {
     "iopub.execute_input": "2025-01-13T18:02:53.855659Z",
     "iopub.status.busy": "2025-01-13T18:02:53.855442Z",
     "iopub.status.idle": "2025-01-13T18:03:09.970464Z",
     "shell.execute_reply": "2025-01-13T18:03:09.969616Z"
    },
    "papermill": {
     "duration": 16.123128,
     "end_time": "2025-01-13T18:03:09.971917",
     "exception": false,
     "start_time": "2025-01-13T18:02:53.848789",
     "status": "completed"
    },
    "tags": []
   },
   "outputs": [
    {
     "name": "stdout",
     "output_type": "stream",
     "text": [
      "Found 21216 validated image filenames belonging to 9 classes.\n",
      "Found 5305 validated image filenames belonging to 9 classes.\n",
      "Found 6956 validated image filenames belonging to 9 classes.\n"
     ]
    }
   ],
   "source": [
    "from sklearn.model_selection import train_test_split\n",
    "from tensorflow.keras.preprocessing.image import ImageDataGenerator\n",
    "from tensorflow.keras.applications.resnet50 import preprocess_input\n",
    "\n",
    "# Chia dữ liệu theo tỷ lệ lớp\n",
    "train_data, val_data = train_test_split(\n",
    "    train_df,\n",
    "    test_size=0.2,\n",
    "    stratify=train_df['CategoryID'],  # Đảm bảo phân phối lớp đồng đều\n",
    "    random_state=SEED\n",
    ")\n",
    "\n",
    "# Khởi tạo ImageDataGenerator\n",
    "train_data_generator = ImageDataGenerator(\n",
    "    preprocessing_function=preprocess_input,\n",
    "    rotation_range=10,          # Xoay ngẫu nhiên\n",
    "    width_shift_range=0.1,      # Dịch chuyển ngang\n",
    "    height_shift_range=0.1,     # Dịch chuyển dọc\n",
    "    shear_range=0.1,            # Biến dạng hình học\n",
    "    zoom_range=0.2,             # Phóng to / thu nhỏ\n",
    "    horizontal_flip=True,       # Lật ngang\n",
    "    fill_mode='nearest'         # Điền các pixel trống bằng giá trị pixel gần nhất\n",
    ")\n",
    "\n",
    "test_data_generator = ImageDataGenerator(\n",
    "    preprocessing_function=preprocess_input\n",
    ")\n",
    "\n",
    "# Cấu hình chung\n",
    "dataframe_config = {\n",
    "    'x_col': 'ImageFullPath',\n",
    "    'y_col': 'CategoryID',\n",
    "    'target_size': (HEIGHT, WIDTH),\n",
    "    'batch_size': BATCH_SIZE,\n",
    "    'class_mode': 'categorical',\n",
    "    'shuffle': True,\n",
    "    'seed': SEED,\n",
    "    'color_mode': 'rgb',\n",
    "}\n",
    "\n",
    "# Flow từ DataFrame\n",
    "train_generator = train_data_generator.flow_from_dataframe(train_data, **dataframe_config)\n",
    "val_generator = train_data_generator.flow_from_dataframe(val_data, **dataframe_config)\n",
    "test_generator = test_data_generator.flow_from_dataframe(test_df, **dataframe_config)\n"
   ]
  },
  {
   "cell_type": "code",
   "execution_count": 13,
   "id": "ca51cd6b",
   "metadata": {
    "execution": {
     "iopub.execute_input": "2025-01-13T18:03:09.985320Z",
     "iopub.status.busy": "2025-01-13T18:03:09.985088Z",
     "iopub.status.idle": "2025-01-13T18:03:09.998714Z",
     "shell.execute_reply": "2025-01-13T18:03:09.998064Z"
    },
    "papermill": {
     "duration": 0.021658,
     "end_time": "2025-01-13T18:03:09.999887",
     "exception": false,
     "start_time": "2025-01-13T18:03:09.978229",
     "status": "completed"
    },
    "tags": []
   },
   "outputs": [
    {
     "name": "stdout",
     "output_type": "stream",
     "text": [
      "Data Distribution in Train Generator:\n",
      "  0: 2516\n",
      "  1: 1846\n",
      "  2: 2011\n",
      "  3: 1943\n",
      "  4: 2051\n",
      "  5: 1834\n",
      "  6: 4099\n",
      "  7: 3578\n",
      "  8: 1338\n",
      "\n",
      "\n",
      "Data Distribution in Validation Generator:\n",
      "  0: 629\n",
      "  1: 462\n",
      "  2: 503\n",
      "  3: 486\n",
      "  4: 513\n",
      "  5: 458\n",
      "  6: 1025\n",
      "  7: 895\n",
      "  8: 334\n",
      "\n",
      "\n",
      "Data Distribution in Test Generator:\n",
      "  0: 791\n",
      "  1: 605\n",
      "  2: 651\n",
      "  3: 674\n",
      "  4: 663\n",
      "  5: 597\n",
      "  6: 1333\n",
      "  7: 1184\n",
      "  8: 458\n",
      "\n",
      "\n"
     ]
    }
   ],
   "source": [
    "import numpy as np\n",
    "\n",
    "def check_data_distribution(generator, name):\n",
    "    # Truy cập các nhãn được gán trong generator\n",
    "    labels = generator.classes  # Danh sách chỉ số lớp cho mỗi mẫu\n",
    "    unique, counts = np.unique(labels, return_counts=True)  # Đếm số lượng mẫu mỗi lớp\n",
    "    \n",
    "    # Truy cập tên lớp\n",
    "    class_names = list(generator.class_indices.keys())  # Danh sách tên các lớp\n",
    "    distribution = dict(zip(class_names, counts))  # Ghép tên lớp và số lượng mẫu\n",
    "    \n",
    "    print(f\"Data Distribution in {name}:\")\n",
    "    for cls, count in distribution.items():\n",
    "        print(f\"  {cls}: {count}\")\n",
    "    print(\"\\n\")\n",
    "    return distribution\n",
    "\n",
    "# Kiểm tra phân phối trên từng generator\n",
    "train_distribution = check_data_distribution(train_generator, \"Train Generator\")\n",
    "val_distribution = check_data_distribution(val_generator, \"Validation Generator\")\n",
    "test_distribution = check_data_distribution(test_generator, \"Test Generator\")\n"
   ]
  },
  {
   "cell_type": "code",
   "execution_count": 14,
   "id": "512e45ae",
   "metadata": {
    "execution": {
     "iopub.execute_input": "2025-01-13T18:03:10.013013Z",
     "iopub.status.busy": "2025-01-13T18:03:10.012781Z",
     "iopub.status.idle": "2025-01-13T18:03:10.934454Z",
     "shell.execute_reply": "2025-01-13T18:03:10.933325Z"
    },
    "papermill": {
     "duration": 0.930067,
     "end_time": "2025-01-13T18:03:10.936017",
     "exception": false,
     "start_time": "2025-01-13T18:03:10.005950",
     "status": "completed"
    },
    "tags": []
   },
   "outputs": [
    {
     "data": {
      "image/png": "[encoded data removed]",
      "text/plain": [
       "<Figure size 1200x600 with 1 Axes>"
      ]
     },
     "metadata": {},
     "output_type": "display_data"
    },
    {
     "data": {
      "image/png": "[encoded data removed]",
      "text/plain": [
       "<Figure size 1200x600 with 1 Axes>"
      ]
     },
     "metadata": {},
     "output_type": "display_data"
    },
    {
     "data": {
      "image/png": "[encoded data removed]",
      "text/plain": [
       "<Figure size 1200x600 with 1 Axes>"
      ]
     },
     "metadata": {},
     "output_type": "display_data"
    }
   ],
   "source": [
    "import matplotlib.pyplot as plt\n",
    "\n",
    "def plot_distribution(distribution, title):\n",
    "    classes = list(distribution.keys())\n",
    "    counts = list(distribution.values())\n",
    "    \n",
    "    plt.figure(figsize=(12, 6))\n",
    "    plt.bar(classes, counts, color='skyblue')\n",
    "    plt.title(title)\n",
    "    plt.xlabel(\"Classes\")\n",
    "    plt.ylabel(\"Number of Samples\")\n",
    "    plt.xticks(rotation=45)\n",
    "    plt.show()\n",
    "\n",
    "# Vẽ biểu đồ phân phối\n",
    "plot_distribution(train_distribution, \"Train Data Distribution\")\n",
    "plot_distribution(val_distribution, \"Validation Data Distribution\")\n",
    "plot_distribution(test_distribution, \"Test Data Distribution\")\n"
   ]
  },
  {
   "cell_type": "code",
   "execution_count": 15,
   "id": "a26882d1",
   "metadata": {
    "execution": {
     "iopub.execute_input": "2025-01-13T18:03:10.955382Z",
     "iopub.status.busy": "2025-01-13T18:03:10.955041Z",
     "iopub.status.idle": "2025-01-13T18:03:13.291128Z",
     "shell.execute_reply": "2025-01-13T18:03:13.290437Z"
    },
    "papermill": {
     "duration": 2.347121,
     "end_time": "2025-01-13T18:03:13.292809",
     "exception": false,
     "start_time": "2025-01-13T18:03:10.945688",
     "status": "completed"
    },
    "tags": []
   },
   "outputs": [
    {
     "name": "stdout",
     "output_type": "stream",
     "text": [
      "Downloading data from https://storage.googleapis.com/tensorflow/keras-applications/resnet/resnet50_weights_tf_dim_ordering_tf_kernels_notop.h5\n",
      "\u001b[1m94765736/94765736\u001b[0m \u001b[32m━━━━━━━━━━━━━━━━━━━━\u001b[0m\u001b[37m\u001b[0m \u001b[1m0s\u001b[0m 0us/step\n"
     ]
    }
   ],
   "source": [
    "base_model = ResNet50(\n",
    "    include_top=False,  \n",
    "    weights='imagenet', \n",
    "    input_shape=(224, 224, 3) \n",
    ")\n",
    "\n",
    "model = models.Sequential()\n",
    "model.add(base_model)\n",
    "model.add(layers.GlobalAveragePooling2D())\n",
    "model.add(layers.Dense(1024, activation='relu'))\n",
    "model.add(layers.Dropout(0.5))\n",
    "model.add(layers.Dense(512, activation='relu'))\n",
    "model.add(layers.Dense(256, activation='relu'))\n",
    "model.add(layers.Dense(128, activation='relu'))\n",
    "model.add(layers.Dense(9, activation='softmax'))  "
   ]
  },
  {
   "cell_type": "markdown",
   "id": "67f9fada",
   "metadata": {
    "papermill": {
     "duration": 0.007754,
     "end_time": "2025-01-13T18:03:13.308959",
     "exception": false,
     "start_time": "2025-01-13T18:03:13.301205",
     "status": "completed"
    },
    "tags": []
   },
   "source": [
    "# Training"
   ]
  },
  {
   "cell_type": "code",
   "execution_count": 16,
   "id": "cdba4c5f",
   "metadata": {
    "execution": {
     "iopub.execute_input": "2025-01-13T18:03:13.325984Z",
     "iopub.status.busy": "2025-01-13T18:03:13.325735Z",
     "iopub.status.idle": "2025-01-13T18:03:13.331915Z",
     "shell.execute_reply": "2025-01-13T18:03:13.331254Z"
    },
    "papermill": {
     "duration": 0.016058,
     "end_time": "2025-01-13T18:03:13.333163",
     "exception": false,
     "start_time": "2025-01-13T18:03:13.317105",
     "status": "completed"
    },
    "tags": []
   },
   "outputs": [],
   "source": [
    "from tensorflow.keras.callbacks import ModelCheckpoint, EarlyStopping, ReduceLROnPlateau, TensorBoard, LearningRateScheduler\n",
    "\n",
    "# Callbacks\n",
    "checkpoint = ModelCheckpoint(\"model.keras\", monitor=\"val_loss\", save_best_only=True, verbose=1)\n",
    "early_stopping = EarlyStopping(monitor=\"val_loss\", patience=3, verbose=1, restore_best_weights=True)\n",
    "reduce_lr = ReduceLROnPlateau(\n",
    "    monitor='val_loss',\n",
    "    factor=0.5,\n",
    "    patience=2,\n",
    "    verbose=1,\n",
    "    min_lr=1e-6\n",
    ")\n",
    "\n",
    "callbacks = [checkpoint,reduce_lr,early_stopping]"
   ]
  },
  {
   "cell_type": "code",
   "execution_count": 17,
   "id": "7c26a675",
   "metadata": {
    "execution": {
     "iopub.execute_input": "2025-01-13T18:03:13.349073Z",
     "iopub.status.busy": "2025-01-13T18:03:13.348860Z",
     "iopub.status.idle": "2025-01-13T18:03:13.351748Z",
     "shell.execute_reply": "2025-01-13T18:03:13.351094Z"
    },
    "papermill": {
     "duration": 0.012146,
     "end_time": "2025-01-13T18:03:13.352939",
     "exception": false,
     "start_time": "2025-01-13T18:03:13.340793",
     "status": "completed"
    },
    "tags": []
   },
   "outputs": [],
   "source": [
    "learning_rate = 0.0001\n",
    "epochs = 30"
   ]
  },
  {
   "cell_type": "code",
   "execution_count": 18,
   "id": "868d41d2",
   "metadata": {
    "execution": {
     "iopub.execute_input": "2025-01-13T18:03:13.368917Z",
     "iopub.status.busy": "2025-01-13T18:03:13.368709Z",
     "iopub.status.idle": "2025-01-13T18:03:13.380510Z",
     "shell.execute_reply": "2025-01-13T18:03:13.379894Z"
    },
    "papermill": {
     "duration": 0.020995,
     "end_time": "2025-01-13T18:03:13.381649",
     "exception": false,
     "start_time": "2025-01-13T18:03:13.360654",
     "status": "completed"
    },
    "tags": []
   },
   "outputs": [],
   "source": [
    "model.compile(\n",
    "    optimizer=Adam(learning_rate=learning_rate),\n",
    "    loss='categorical_crossentropy',\n",
    "    metrics=['accuracy']\n",
    ")"
   ]
  },
  {
   "cell_type": "code",
   "execution_count": 19,
   "id": "61b02115",
   "metadata": {
    "execution": {
     "iopub.execute_input": "2025-01-13T18:03:13.397840Z",
     "iopub.status.busy": "2025-01-13T18:03:13.397625Z",
     "iopub.status.idle": "2025-01-13T18:03:13.422632Z",
     "shell.execute_reply": "2025-01-13T18:03:13.421980Z"
    },
    "papermill": {
     "duration": 0.034517,
     "end_time": "2025-01-13T18:03:13.423901",
     "exception": false,
     "start_time": "2025-01-13T18:03:13.389384",
     "status": "completed"
    },
    "tags": []
   },
   "outputs": [],
   "source": [
    "from sklearn.utils.class_weight import compute_class_weight\n",
    "\n",
    "class_weights = compute_class_weight(\n",
    "    class_weight='balanced',\n",
    "    classes=np.unique(train_df['CategoryID']),\n",
    "    y=train_df['CategoryID']\n",
    ")\n",
    "\n",
    "class_weights_dict = dict(enumerate(class_weights))"
   ]
  },
  {
   "cell_type": "code",
   "execution_count": 20,
   "id": "8938adb1",
   "metadata": {
    "execution": {
     "iopub.execute_input": "2025-01-13T18:03:13.439855Z",
     "iopub.status.busy": "2025-01-13T18:03:13.439637Z",
     "iopub.status.idle": "2025-01-13T19:46:50.896243Z",
     "shell.execute_reply": "2025-01-13T19:46:50.895512Z"
    },
    "papermill": {
     "duration": 6217.46632,
     "end_time": "2025-01-13T19:46:50.897870",
     "exception": false,
     "start_time": "2025-01-13T18:03:13.431550",
     "status": "completed"
    },
    "tags": []
   },
   "outputs": [
    {
     "name": "stderr",
     "output_type": "stream",
     "text": [
      "/usr/local/lib/python3.10/dist-packages/PIL/Image.py:1056: UserWarning: Palette images with Transparency expressed in bytes should be converted to RGBA images\n",
      "  warnings.warn(\n"
     ]
    },
    {
     "name": "stdout",
     "output_type": "stream",
     "text": [
      "Epoch 1/30\n"
     ]
    },
    {
     "name": "stderr",
     "output_type": "stream",
     "text": [
      "/usr/local/lib/python3.10/dist-packages/keras/src/trainers/data_adapters/py_dataset_adapter.py:121: UserWarning: Your `PyDataset` class should call `super().__init__(**kwargs)` in its constructor. `**kwargs` can include `workers`, `use_multiprocessing`, `max_queue_size`. Do not pass these arguments to `fit()`, as they will be ignored.\n",
      "  self._warn_if_super_not_called()\n"
     ]
    },
    {
     "name": "stdout",
     "output_type": "stream",
     "text": [
      "\u001b[1m332/332\u001b[0m \u001b[32m━━━━━━━━━━━━━━━━━━━━\u001b[0m\u001b[37m\u001b[0m \u001b[1m0s\u001b[0m 1s/step - accuracy: 0.2811 - loss: 1.9333\n",
      "Epoch 1: val_loss improved from inf to 1.40413, saving model to model.keras\n",
      "\u001b[1m332/332\u001b[0m \u001b[32m━━━━━━━━━━━━━━━━━━━━\u001b[0m\u001b[37m\u001b[0m \u001b[1m651s\u001b[0m 2s/step - accuracy: 0.2814 - loss: 1.9324 - val_accuracy: 0.5499 - val_loss: 1.4041 - learning_rate: 1.0000e-04\n",
      "Epoch 2/30\n",
      "\u001b[1m332/332\u001b[0m \u001b[32m━━━━━━━━━━━━━━━━━━━━\u001b[0m\u001b[37m\u001b[0m \u001b[1m0s\u001b[0m 1s/step - accuracy: 0.6450 - loss: 1.0390\n",
      "Epoch 2: val_loss improved from 1.40413 to 0.98278, saving model to model.keras\n",
      "\u001b[1m332/332\u001b[0m \u001b[32m━━━━━━━━━━━━━━━━━━━━\u001b[0m\u001b[37m\u001b[0m \u001b[1m555s\u001b[0m 2s/step - accuracy: 0.6450 - loss: 1.0388 - val_accuracy: 0.6863 - val_loss: 0.9828 - learning_rate: 1.0000e-04\n",
      "Epoch 3/30\n",
      "\u001b[1m332/332\u001b[0m \u001b[32m━━━━━━━━━━━━━━━━━━━━\u001b[0m\u001b[37m\u001b[0m \u001b[1m0s\u001b[0m 1s/step - accuracy: 0.7424 - loss: 0.7538\n",
      "Epoch 3: val_loss did not improve from 0.98278\n",
      "\u001b[1m332/332\u001b[0m \u001b[32m━━━━━━━━━━━━━━━━━━━━\u001b[0m\u001b[37m\u001b[0m \u001b[1m539s\u001b[0m 2s/step - accuracy: 0.7424 - loss: 0.7538 - val_accuracy: 0.6843 - val_loss: 0.9872 - learning_rate: 1.0000e-04\n",
      "Epoch 4/30\n",
      "\u001b[1m332/332\u001b[0m \u001b[32m━━━━━━━━━━━━━━━━━━━━\u001b[0m\u001b[37m\u001b[0m \u001b[1m0s\u001b[0m 1s/step - accuracy: 0.7899 - loss: 0.6121\n",
      "Epoch 4: val_loss did not improve from 0.98278\n",
      "\n",
      "Epoch 4: ReduceLROnPlateau reducing learning rate to 4.999999873689376e-05.\n",
      "\u001b[1m332/332\u001b[0m \u001b[32m━━━━━━━━━━━━━━━━━━━━\u001b[0m\u001b[37m\u001b[0m \u001b[1m561s\u001b[0m 2s/step - accuracy: 0.7899 - loss: 0.6121 - val_accuracy: 0.6882 - val_loss: 1.0196 - learning_rate: 1.0000e-04\n",
      "Epoch 5/30\n",
      "\u001b[1m332/332\u001b[0m \u001b[32m━━━━━━━━━━━━━━━━━━━━\u001b[0m\u001b[37m\u001b[0m \u001b[1m0s\u001b[0m 1s/step - accuracy: 0.8466 - loss: 0.4312\n",
      "Epoch 5: val_loss improved from 0.98278 to 0.62244, saving model to model.keras\n",
      "\u001b[1m332/332\u001b[0m \u001b[32m━━━━━━━━━━━━━━━━━━━━\u001b[0m\u001b[37m\u001b[0m \u001b[1m563s\u001b[0m 2s/step - accuracy: 0.8467 - loss: 0.4311 - val_accuracy: 0.8032 - val_loss: 0.6224 - learning_rate: 5.0000e-05\n",
      "Epoch 6/30\n",
      "\u001b[1m332/332\u001b[0m \u001b[32m━━━━━━━━━━━━━━━━━━━━\u001b[0m\u001b[37m\u001b[0m \u001b[1m0s\u001b[0m 1s/step - accuracy: 0.8806 - loss: 0.3447\n",
      "Epoch 6: val_loss did not improve from 0.62244\n",
      "\u001b[1m332/332\u001b[0m \u001b[32m━━━━━━━━━━━━━━━━━━━━\u001b[0m\u001b[37m\u001b[0m \u001b[1m555s\u001b[0m 2s/step - accuracy: 0.8806 - loss: 0.3447 - val_accuracy: 0.7921 - val_loss: 0.6663 - learning_rate: 5.0000e-05\n",
      "Epoch 7/30\n",
      "\u001b[1m332/332\u001b[0m \u001b[32m━━━━━━━━━━━━━━━━━━━━\u001b[0m\u001b[37m\u001b[0m \u001b[1m0s\u001b[0m 1s/step - accuracy: 0.8977 - loss: 0.2832\n",
      "Epoch 7: val_loss did not improve from 0.62244\n",
      "\n",
      "Epoch 7: ReduceLROnPlateau reducing learning rate to 2.499999936844688e-05.\n",
      "\u001b[1m332/332\u001b[0m \u001b[32m━━━━━━━━━━━━━━━━━━━━\u001b[0m\u001b[37m\u001b[0m \u001b[1m557s\u001b[0m 2s/step - accuracy: 0.8977 - loss: 0.2832 - val_accuracy: 0.8015 - val_loss: 0.6587 - learning_rate: 5.0000e-05\n",
      "Epoch 8/30\n",
      "\u001b[1m332/332\u001b[0m \u001b[32m━━━━━━━━━━━━━━━━━━━━\u001b[0m\u001b[37m\u001b[0m \u001b[1m0s\u001b[0m 1s/step - accuracy: 0.9267 - loss: 0.2029\n",
      "Epoch 8: val_loss improved from 0.62244 to 0.58177, saving model to model.keras\n",
      "\u001b[1m332/332\u001b[0m \u001b[32m━━━━━━━━━━━━━━━━━━━━\u001b[0m\u001b[37m\u001b[0m \u001b[1m561s\u001b[0m 2s/step - accuracy: 0.9267 - loss: 0.2029 - val_accuracy: 0.8358 - val_loss: 0.5818 - learning_rate: 2.5000e-05\n",
      "Epoch 9/30\n",
      "\u001b[1m332/332\u001b[0m \u001b[32m━━━━━━━━━━━━━━━━━━━━\u001b[0m\u001b[37m\u001b[0m \u001b[1m0s\u001b[0m 1s/step - accuracy: 0.9413 - loss: 0.1607\n",
      "Epoch 9: val_loss did not improve from 0.58177\n",
      "\u001b[1m332/332\u001b[0m \u001b[32m━━━━━━━━━━━━━━━━━━━━\u001b[0m\u001b[37m\u001b[0m \u001b[1m565s\u001b[0m 2s/step - accuracy: 0.9413 - loss: 0.1607 - val_accuracy: 0.8302 - val_loss: 0.6088 - learning_rate: 2.5000e-05\n",
      "Epoch 10/30\n",
      "\u001b[1m332/332\u001b[0m \u001b[32m━━━━━━━━━━━━━━━━━━━━\u001b[0m\u001b[37m\u001b[0m \u001b[1m0s\u001b[0m 1s/step - accuracy: 0.9481 - loss: 0.1393\n",
      "Epoch 10: val_loss did not improve from 0.58177\n",
      "\n",
      "Epoch 10: ReduceLROnPlateau reducing learning rate to 1.249999968422344e-05.\n",
      "\u001b[1m332/332\u001b[0m \u001b[32m━━━━━━━━━━━━━━━━━━━━\u001b[0m\u001b[37m\u001b[0m \u001b[1m550s\u001b[0m 2s/step - accuracy: 0.9481 - loss: 0.1392 - val_accuracy: 0.8326 - val_loss: 0.6268 - learning_rate: 2.5000e-05\n",
      "Epoch 11/30\n",
      "\u001b[1m332/332\u001b[0m \u001b[32m━━━━━━━━━━━━━━━━━━━━\u001b[0m\u001b[37m\u001b[0m \u001b[1m0s\u001b[0m 1s/step - accuracy: 0.9543 - loss: 0.1224\n",
      "Epoch 11: val_loss did not improve from 0.58177\n",
      "\u001b[1m332/332\u001b[0m \u001b[32m━━━━━━━━━━━━━━━━━━━━\u001b[0m\u001b[37m\u001b[0m \u001b[1m558s\u001b[0m 2s/step - accuracy: 0.9543 - loss: 0.1223 - val_accuracy: 0.8337 - val_loss: 0.6151 - learning_rate: 1.2500e-05\n",
      "Epoch 11: early stopping\n",
      "Restoring model weights from the end of the best epoch: 8.\n"
     ]
    }
   ],
   "source": [
    "history = model.fit(\n",
    "    train_generator,\n",
    "    epochs=epochs,\n",
    "    validation_data=val_generator,\n",
    "    callbacks=callbacks,\n",
    "    class_weight=class_weights_dict\n",
    ")"
   ]
  },
  {
   "cell_type": "markdown",
   "id": "9aebc8b4",
   "metadata": {
    "papermill": {
     "duration": 0.180304,
     "end_time": "2025-01-13T19:46:51.260455",
     "exception": false,
     "start_time": "2025-01-13T19:46:51.080151",
     "status": "completed"
    },
    "tags": []
   },
   "source": [
    "# Testing"
   ]
  },
  {
   "cell_type": "code",
   "execution_count": 21,
   "id": "e8ae08ac",
   "metadata": {
    "execution": {
     "iopub.execute_input": "2025-01-13T19:46:51.619250Z",
     "iopub.status.busy": "2025-01-13T19:46:51.618947Z",
     "iopub.status.idle": "2025-01-13T19:48:23.771310Z",
     "shell.execute_reply": "2025-01-13T19:48:23.770452Z"
    },
    "papermill": {
     "duration": 92.515155,
     "end_time": "2025-01-13T19:48:23.954581",
     "exception": false,
     "start_time": "2025-01-13T19:46:51.439426",
     "status": "completed"
    },
    "tags": []
   },
   "outputs": [
    {
     "name": "stdout",
     "output_type": "stream",
     "text": [
      "\u001b[1m109/109\u001b[0m \u001b[32m━━━━━━━━━━━━━━━━━━━━\u001b[0m\u001b[37m\u001b[0m \u001b[1m90s\u001b[0m 825ms/step - accuracy: 0.8227 - loss: 0.6710\n",
      "Test Accuracy: 0.8270557522773743\n"
     ]
    }
   ],
   "source": [
    "loss, accuracy = model.evaluate(test_generator, steps=len(test_generator))\n",
    "print(f\"Test Accuracy: {accuracy}\")"
   ]
  }
 ],
 "metadata": {
  "kaggle": {
   "accelerator": "none",
   "dataSources": [
    {
     "datasetId": 6456424,
     "sourceId": 10417621,
     "sourceType": "datasetVersion"
    },
    {
     "datasetId": 6456529,
     "sourceId": 10417775,
     "sourceType": "datasetVersion"
    },
    {
     "datasetId": 6461064,
     "sourceId": 10460360,
     "sourceType": "datasetVersion"
    }
   ],
   "dockerImageVersionId": 30823,
   "isGpuEnabled": false,
   "isInternetEnabled": true,
   "language": "python",
   "sourceType": "notebook"
  },
  "kernelspec": {
   "display_name": "Python 3",
   "language": "python",
   "name": "python3"
  },
  "language_info": {
   "codemirror_mode": {
    "name": "ipython",
    "version": 3
   },
   "file_extension": ".py",
   "mimetype": "text/x-python",
   "name": "python",
   "nbconvert_exporter": "python",
   "pygments_lexer": "ipython3",
   "version": "3.10.12"
  },
  "papermill": {
   "default_parameters": {},
   "duration": 6625.999752,
   "end_time": "2025-01-13T19:48:28.036668",
   "environment_variables": {},
   "exception": true,
   "input_path": "__notebook__.ipynb",
   "output_path": "__notebook__.ipynb",
   "parameters": {},
   "start_time": "2025-01-13T17:58:02.036916",
   "version": "2.6.0"
  }
 },
 "nbformat": 4,
 "nbformat_minor": 5
}
