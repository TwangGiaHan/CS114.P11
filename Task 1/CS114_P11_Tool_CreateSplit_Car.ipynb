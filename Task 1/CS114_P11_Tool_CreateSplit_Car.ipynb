{
  "nbformat": 4,
  "nbformat_minor": 0,
  "metadata": {
    "colab": {
      "provenance": []
    },
    "kernelspec": {
      "name": "python3",
      "display_name": "Python 3"
    },
    "language_info": {
      "name": "python"
    }
  },
  "cells": [
    {
      "cell_type": "markdown",
      "source": [
        "# TẠO CÁC TẬP DỮ LIỆU TRAIN, TEST (SPLITS)\n",
        "\n",
        "1. Yêu cầu chung: Tạo ra các splits, mỗi split tương ứng với một tập dữ liệu train - test\n",
        "  + Bài học lý thuyết (để trả lời cho các câu hỏi như vì sao phải cần việc này, thực hiện việc này như thế nào):\n",
        "    - https://www.kaggle.com/code/satishgunjal/tutorial-k-fold-cross-validation\n",
        "    - https://machinelearningmastery.com/training-validation-test-split-and-cross-validation-done-right/\n",
        "    - https://machinelearningmastery.com/how-to-configure-k-fold-cross-validation/\n",
        "\n",
        "  <IMG SRC = 'https://raw.githubusercontent.com/satishgunjal/images/master/KFold_Cross_Validation.png'>\n",
        "2. Yêu cầu cụ thể:\n",
        "- Input:\n",
        "    + Thư mục cha chứa các thư mục con - mỗi thư mục con tương ứng với tên của từng hiệu xe (Honda, Suzuki, VinFast, Yamaha, Others). Ví dụ: https://drive.google.com/drive/u/1/folders/1Uj0V9URNHpzSHeXHSB89AoGCjGki8Yra\n",
        "    + Các ảnh được đặt tên theo quy ước: các tập tin ảnh theo quy ước\n",
        "    + Số splits NumSplits - mặc định NumSplits=5 (tương đương 5-fold CV)\n",
        "- Output:\n",
        "    + File CarDataset.csv - Tập tin chứa tất cả ảnh của dataset\n",
        "      - Chương trình sẽ scan qua cây thư mục để tìm tất cả các ảnh (chỉ chọn các ảnh có định dạng + phần mở rộng là .jpg)\n",
        "      - Mỗi dòng sẽ có các thông tin cách nhau bằng dấu phẩy, theo quy ước: ImageFullPath, CategoryID\n",
        "            - ImageFullPath ở dạng <Thư mục Hiệu xe>/<Tên ảnh>. Ví dụ: Honda/2024123.Honda.1.jpg.\n",
        "            - CategoryID là số nguyên thuộc [0..5] theo quy ước\n",
        "              - 0: Others\n",
        "              - 1: Honda\n",
        "              - 2: Suzuki\n",
        "              - 3: Yamaha\n",
        "              - 4: VinFast     \n",
        "    + File CarDataset-Splits-[1..5]-[Train/Test].csv - Phân chia thành các splits, mỗi split gồm các ảnh được chia thành thành 2 tập Train - Test\n",
        "      + Chương trình sẽ đọc dữ liệu từ file CarDataset.csv, sau đó với mỗi hiệu xe, chia ngẫu nhiên thành 5 tập dữ liệu. Lưu ý là phải chia theo hiệu xe, để đảm bảo dữ liệu Train/Test có dữ liệu của các hiệu xe.\n",
        "      + Từ 5 tập dữ liệu chia ngẫu nhiên theo các hiệu xe Xij (i là thứ tự tập dữ liệu, j là CategoryID), gom lại thành 5 tập dữ liệu lớn hơn Xi, sao cho mỗi tập dữ liệu này chứa đủ dữ liệu của tất cả các hiệu xe. Tức là Xi = Union(Xij)       \n",
        "      + Từ 5 tập dữ liệu Xi này (tương ứng với FOLDi ở trong hình vẽ trên), tạo ra 5 splits Split-i\n",
        "      + Với mỗi bộ dữ liệu Split-i, ghi xuống thành 2 tập tin tương ứng với Train, Test. Ví dụ Split-1 thì ghi thành tập tin  CarDataset-Splits-1-Train.csv và CarDataset-Splits-1-Test.csv. Tập Train gồm 4 bộ, Test gồm bộ còn lại. Ví dụ,\n",
        "          + Split-1: tập Train sẽ gồm X2, X3, X4, X5, tập Test là X1\n",
        "          + Split-5: tập Train sẽ gồm X1, X2, X3, X4, tập Test là X5\n",
        "      + Mỗi dòng sẽ có các thông tin cách nhau bằng dấu phẩy, theo quy ước: ImageFullPath, CategoryID\n",
        "- Lưu ý:\n",
        "  - Nên viết thêm các cell\n",
        "    - Hiển thị danh sách các tên tập tin ảnh trong từng Split-Train/Test,\n",
        "    - Thống kê các ảnh cho từng CategoryID trong mỗi Split-Train/Test\n",
        "  - Cần có chú thích\n",
        "3. Nộp bài: SV share notebook. Các bài nộp sớm sẽ được full điểm. Deadline: TBA\n",
        "4. Bài làm đạt yêu cầu sẽ được paste vào notebook với ghi nhận đóng góp từ tác giả."
      ],
      "metadata": {
        "id": "kXLvTDMGbDjG"
      }
    },
    {
      "cell_type": "markdown",
      "source": [
        "## Thông tin của tác giả, ngày cập nhật\n",
        "Thành viên nhóm:\n",
        "\n",
        "\n",
        "*   Tăng Gia Hân - 22520394\n",
        "*   Tăng Mỹ Hân - 22520395\n",
        "\n",
        "\n",
        "Ngày cập nhật: 15/12/2024"
      ],
      "metadata": {
        "id": "omyxyLGgtd0O"
      }
    },
    {
      "cell_type": "markdown",
      "source": [
        "# Code"
      ],
      "metadata": {
        "id": "agSK4RpgDIZQ"
      }
    },
    {
      "cell_type": "code",
      "execution_count": null,
      "metadata": {
        "id": "gZOFmsz0a9pF",
        "colab": {
          "base_uri": "https://localhost:8080/"
        },
        "outputId": "6d5cf0ad-a9ba-4f0a-f788-db29ef3f0b64"
      },
      "outputs": [
        {
          "output_type": "stream",
          "name": "stdout",
          "text": [
            "Mounted at /content/drive\n"
          ]
        }
      ],
      "source": [
        "from google.colab import drive\n",
        "drive.mount('/content/drive')"
      ]
    },
    {
      "cell_type": "code",
      "source": [
        "%cd /content/drive/MyDrive/Colab Notebooks/CS114"
      ],
      "metadata": {
        "colab": {
          "base_uri": "https://localhost:8080/"
        },
        "id": "MQAzSHAR_m22",
        "outputId": "c42bfd7d-0343-499a-976e-6c54c55f2711"
      },
      "execution_count": null,
      "outputs": [
        {
          "output_type": "stream",
          "name": "stdout",
          "text": [
            "/content/drive/MyDrive/Colab Notebooks/CS114\n"
          ]
        }
      ]
    },
    {
      "cell_type": "code",
      "source": [
        "import os\n",
        "import csv\n",
        "\n",
        "# Loại xe và ID tương ứng\n",
        "categories = {\n",
        "    'Others': 0,\n",
        "    'Honda': 1,\n",
        "    'Hyundai': 2,\n",
        "    'KIA': 3,\n",
        "    'Mazda': 4,\n",
        "    'Mitsubishi': 5,\n",
        "    'Suzuki': 6,\n",
        "    'Toyota': 7,\n",
        "    'VinFast': 8\n",
        "}\n",
        "\n",
        "# Scan the directory and collect image paths\n",
        "def scan_images(input_dir):\n",
        "    data = []\n",
        "    valid_extensions = {'.jpg', '.jpeg', '.png'}\n",
        "\n",
        "    # Duyệt cây thư mục\n",
        "    for brand in os.listdir(input_dir):\n",
        "        brand_path = os.path.join(input_dir, brand)\n",
        "\n",
        "        if os.path.isdir(brand_path) and brand in categories:\n",
        "            for filename in os.listdir(brand_path):\n",
        "                if os.path.splitext(filename)[1].lower() in valid_extensions:\n",
        "                    # Kiểm tra filename có chứa tên hiệu xe không\n",
        "                    if brand in filename:\n",
        "                        # Full path of the image\n",
        "                        image_full_path = os.path.join(brand, filename)\n",
        "                        # Lấy category ID cho từng hiệu xe\n",
        "                        category_id = categories[brand]\n",
        "                        # Thêm vào list data\n",
        "                        data.append([image_full_path, category_id])\n",
        "\n",
        "    return data\n",
        "\n",
        "# Ghi data vào file CSV\n",
        "def write_to_csv(data, output_file):\n",
        "    with open(output_file, mode='w', newline='', encoding='utf-8') as file:\n",
        "        writer = csv.writer(file)\n",
        "        writer.writerow([\"ImageFullPath\", \"CategoryID\"])  # Header\n",
        "        writer.writerows(data)\n",
        "\n",
        "# Main\n",
        "input_directory = \"Public\"\n",
        "output_file = \"CarDataset.csv\"\n",
        "\n",
        "# Scan images and create the dataset\n",
        "image_data = scan_images(input_directory)\n",
        "write_to_csv(image_data, output_file)\n",
        "\n",
        "print(f\"Dataset has been saved to {output_file}.\")\n"
      ],
      "metadata": {
        "colab": {
          "base_uri": "https://localhost:8080/"
        },
        "id": "Pm3ZcVLrL-AY",
        "outputId": "2aef22d1-820e-4220-e39e-8e9aab346be5"
      },
      "execution_count": null,
      "outputs": [
        {
          "output_type": "stream",
          "name": "stdout",
          "text": [
            "Dataset has been saved to CarDataset.csv.\n"
          ]
        }
      ]
    },
    {
      "cell_type": "code",
      "source": [
        "import os\n",
        "import csv\n",
        "from sklearn.model_selection import StratifiedKFold\n",
        "import pandas as pd\n",
        "\n",
        "# Đọc dữ liệu từ CarDataset.csv\n",
        "def read_dataset(file_path):\n",
        "    data = pd.read_csv(file_path)\n",
        "    return data  # DataFrame với cột \"ImageFullPath\" và \"CategoryID\"\n",
        "\n",
        "# Ghi dữ liệu xuống file CSV\n",
        "def write_split_to_csv(data, split_type, fold_index, output_dir):\n",
        "    output_file = os.path.join(output_dir, f\"CarDataset-Splits-{fold_index}-{split_type}.csv\")\n",
        "    data.to_csv(output_file, index=False)\n",
        "    print(f\"Saved: {output_file}\")\n",
        "\n",
        "\n",
        "input_file = \"CarDataset.csv\"\n",
        "output_directory = \"splits_output\"\n",
        "num_splits = 5\n",
        "\n",
        "if not os.path.exists(output_directory):\n",
        "    os.makedirs(output_directory)\n",
        "\n",
        "# Đọc dữ liệu\n",
        "dataset = read_dataset(input_file)\n",
        "\n",
        "# Tạo danh sách đường dẫn ảnh và nhãn\n",
        "X = dataset[\"ImageFullPath\"].values  # Feature (đường dẫn ảnh)\n",
        "y = dataset[\"CategoryID\"].values  # Labels (CategoryID)\n",
        "\n",
        "# Chia dữ liệu bằng StratifiedKFold\n",
        "skf = StratifiedKFold(n_splits=num_splits, shuffle=True, random_state=42)\n",
        "\n",
        "# Tạo các Split Train-Test\n",
        "for fold_index, (train_idx, test_idx) in enumerate(skf.split(X, y), start=1):\n",
        "    # Lấy dữ liệu Train/Test theo chỉ số\n",
        "    train_data = dataset.iloc[train_idx]\n",
        "    test_data = dataset.iloc[test_idx]\n",
        "\n",
        "    # Ghi dữ liệu xuống file CSV\n",
        "    write_split_to_csv(train_data, \"Train\", fold_index, output_directory)\n",
        "    write_split_to_csv(test_data, \"Test\", fold_index, output_directory)\n",
        "\n",
        "    # Thống kê dữ liệu\n",
        "    print(f\"Fold-{fold_index} Train statistics:\")\n",
        "    print(train_data[\"CategoryID\"].value_counts())\n",
        "    print(f\"Fold-{fold_index} Test statistics:\")\n",
        "    print(test_data[\"CategoryID\"].value_counts())\n"
      ],
      "metadata": {
        "colab": {
          "base_uri": "https://localhost:8080/"
        },
        "id": "tLAWaGO-W-an",
        "outputId": "44e17c67-9514-4641-d283-ee6d0b2ab9e6"
      },
      "execution_count": null,
      "outputs": [
        {
          "output_type": "stream",
          "name": "stdout",
          "text": [
            "Saved: splits_output/CarDataset-Splits-1-Train.csv\n",
            "Saved: splits_output/CarDataset-Splits-1-Test.csv\n",
            "Fold-1 Train statistics:\n",
            "CategoryID\n",
            "6    5334\n",
            "7    4734\n",
            "0    3164\n",
            "3    2695\n",
            "4    2660\n",
            "2    2609\n",
            "1    2423\n",
            "5    2410\n",
            "8    1834\n",
            "Name: count, dtype: int64\n",
            "Fold-1 Test statistics:\n",
            "CategoryID\n",
            "6    1333\n",
            "7    1184\n",
            "0     791\n",
            "3     674\n",
            "4     666\n",
            "2     652\n",
            "1     605\n",
            "5     602\n",
            "8     459\n",
            "Name: count, dtype: int64\n",
            "Saved: splits_output/CarDataset-Splits-2-Train.csv\n",
            "Saved: splits_output/CarDataset-Splits-2-Test.csv\n",
            "Fold-2 Train statistics:\n",
            "CategoryID\n",
            "6    5334\n",
            "7    4734\n",
            "0    3164\n",
            "3    2695\n",
            "4    2661\n",
            "2    2609\n",
            "1    2422\n",
            "5    2409\n",
            "8    1835\n",
            "Name: count, dtype: int64\n",
            "Fold-2 Test statistics:\n",
            "CategoryID\n",
            "6    1333\n",
            "7    1184\n",
            "0     791\n",
            "3     674\n",
            "4     665\n",
            "2     652\n",
            "1     606\n",
            "5     603\n",
            "8     458\n",
            "Name: count, dtype: int64\n",
            "Saved: splits_output/CarDataset-Splits-3-Train.csv\n",
            "Saved: splits_output/CarDataset-Splits-3-Test.csv\n",
            "Fold-3 Train statistics:\n",
            "CategoryID\n",
            "6    5334\n",
            "7    4734\n",
            "0    3164\n",
            "3    2695\n",
            "4    2661\n",
            "2    2609\n",
            "1    2422\n",
            "5    2409\n",
            "8    1835\n",
            "Name: count, dtype: int64\n",
            "Fold-3 Test statistics:\n",
            "CategoryID\n",
            "6    1333\n",
            "7    1184\n",
            "0     791\n",
            "3     674\n",
            "4     665\n",
            "2     652\n",
            "1     606\n",
            "5     603\n",
            "8     458\n",
            "Name: count, dtype: int64\n",
            "Saved: splits_output/CarDataset-Splits-4-Train.csv\n",
            "Saved: splits_output/CarDataset-Splits-4-Test.csv\n",
            "Fold-4 Train statistics:\n",
            "CategoryID\n",
            "6    5333\n",
            "7    4735\n",
            "0    3164\n",
            "3    2696\n",
            "4    2661\n",
            "2    2608\n",
            "1    2422\n",
            "5    2410\n",
            "8    1834\n",
            "Name: count, dtype: int64\n",
            "Fold-4 Test statistics:\n",
            "CategoryID\n",
            "6    1334\n",
            "7    1183\n",
            "0     791\n",
            "3     673\n",
            "4     665\n",
            "2     653\n",
            "1     606\n",
            "5     602\n",
            "8     459\n",
            "Name: count, dtype: int64\n",
            "Saved: splits_output/CarDataset-Splits-5-Train.csv\n",
            "Saved: splits_output/CarDataset-Splits-5-Test.csv\n",
            "Fold-5 Train statistics:\n",
            "CategoryID\n",
            "6    5333\n",
            "7    4735\n",
            "0    3164\n",
            "3    2695\n",
            "4    2661\n",
            "2    2609\n",
            "1    2423\n",
            "5    2410\n",
            "8    1834\n",
            "Name: count, dtype: int64\n",
            "Fold-5 Test statistics:\n",
            "CategoryID\n",
            "6    1334\n",
            "7    1183\n",
            "0     791\n",
            "3     674\n",
            "4     665\n",
            "2     652\n",
            "1     605\n",
            "5     602\n",
            "8     459\n",
            "Name: count, dtype: int64\n"
          ]
        }
      ]
    }
  ]
}