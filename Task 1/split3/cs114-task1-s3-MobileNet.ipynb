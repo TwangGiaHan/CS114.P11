{
 "cells": [
  {
   "cell_type": "code",
   "execution_count": 1,
   "id": "88814209",
   "metadata": {
    "execution": {
     "iopub.execute_input": "2025-01-10T12:22:27.968249Z",
     "iopub.status.busy": "2025-01-10T12:22:27.967663Z",
     "iopub.status.idle": "2025-01-10T12:22:36.550695Z",
     "shell.execute_reply": "2025-01-10T12:22:36.549971Z"
    },
    "papermill": {
     "duration": 8.591498,
     "end_time": "2025-01-10T12:22:36.552378",
     "exception": false,
     "start_time": "2025-01-10T12:22:27.960880",
     "status": "completed"
    },
    "tags": []
   },
   "outputs": [],
   "source": [
    "import hashlib\n",
    "import numpy as np\n",
    "import os\n",
    "import pandas as pd\n",
    "import multiprocessing\n",
    "from PIL import Image\n",
    "from sklearn.model_selection import train_test_split\n",
    "from tensorflow.keras.preprocessing.image import ImageDataGenerator\n",
    "from tensorflow.keras.models import Sequential\n",
    "from tensorflow.keras.layers import GlobalAveragePooling2D, Flatten, Dense, Dropout, BatchNormalization\n",
    "from keras.optimizers import Adam\n",
    "import tensorflow as tf\n",
    "from tensorflow.keras import layers, models, optimizers, callbacks"
   ]
  },
  {
   "cell_type": "code",
   "execution_count": 2,
   "id": "f2ec2f71",
   "metadata": {
    "execution": {
     "iopub.execute_input": "2025-01-10T12:22:36.561934Z",
     "iopub.status.busy": "2025-01-10T12:22:36.561413Z",
     "iopub.status.idle": "2025-01-10T12:22:36.565250Z",
     "shell.execute_reply": "2025-01-10T12:22:36.564404Z"
    },
    "papermill": {
     "duration": 0.009773,
     "end_time": "2025-01-10T12:22:36.566592",
     "exception": false,
     "start_time": "2025-01-10T12:22:36.556819",
     "status": "completed"
    },
    "tags": []
   },
   "outputs": [],
   "source": [
    "SPLITS_ID = 3"
   ]
  },
  {
   "cell_type": "code",
   "execution_count": 3,
   "id": "39023b6f",
   "metadata": {
    "execution": {
     "iopub.execute_input": "2025-01-10T12:22:36.575060Z",
     "iopub.status.busy": "2025-01-10T12:22:36.574801Z",
     "iopub.status.idle": "2025-01-10T12:22:36.577897Z",
     "shell.execute_reply": "2025-01-10T12:22:36.577243Z"
    },
    "papermill": {
     "duration": 0.008624,
     "end_time": "2025-01-10T12:22:36.579094",
     "exception": false,
     "start_time": "2025-01-10T12:22:36.570470",
     "status": "completed"
    },
    "tags": []
   },
   "outputs": [],
   "source": [
    "DATASET_PATH = \"/kaggle/input/data-car-public/Public\""
   ]
  },
  {
   "cell_type": "code",
   "execution_count": 4,
   "id": "385ec0d8",
   "metadata": {
    "execution": {
     "iopub.execute_input": "2025-01-10T12:22:36.587394Z",
     "iopub.status.busy": "2025-01-10T12:22:36.587184Z",
     "iopub.status.idle": "2025-01-10T12:22:36.590263Z",
     "shell.execute_reply": "2025-01-10T12:22:36.589640Z"
    },
    "papermill": {
     "duration": 0.008452,
     "end_time": "2025-01-10T12:22:36.591413",
     "exception": false,
     "start_time": "2025-01-10T12:22:36.582961",
     "status": "completed"
    },
    "tags": []
   },
   "outputs": [],
   "source": [
    "BATCH_SIZE = 64\n",
    "WIDTH = 224\n",
    "HEIGHT = 224\n",
    "SEED = 42"
   ]
  },
  {
   "cell_type": "code",
   "execution_count": 5,
   "id": "027196c3",
   "metadata": {
    "execution": {
     "iopub.execute_input": "2025-01-10T12:22:36.600035Z",
     "iopub.status.busy": "2025-01-10T12:22:36.599784Z",
     "iopub.status.idle": "2025-01-10T12:22:36.721763Z",
     "shell.execute_reply": "2025-01-10T12:22:36.721099Z"
    },
    "papermill": {
     "duration": 0.12812,
     "end_time": "2025-01-10T12:22:36.723325",
     "exception": false,
     "start_time": "2025-01-10T12:22:36.595205",
     "status": "completed"
    },
    "tags": []
   },
   "outputs": [],
   "source": [
    "## DATA LOADING\n",
    "#Tạo đường dẫn đến file train và test theo SPLITS_ID\n",
    "train_csv = '/kaggle/input/cardataset-splits/CarDataset-Splits-3-Train.csv'\n",
    "test_csv = '/kaggle/input/cardataset-splits/CarDataset-Splits-3-Test.csv'\n",
    "\n",
    "#Đọc file\n",
    "train_df = pd.read_csv(train_csv)\n",
    "test_df = pd.read_csv(test_csv)\n",
    "\n",
    "#Cập nhật cột file_path trong DataFrame train_df, test_df bằng cách thêm đường dẫn cơ sở (DATASET_PATH) vào mỗi giá trị trong cột này\n",
    "train_df[\"ImageFullPath\"] = train_df[\"ImageFullPath\"].apply(lambda x: os.path.join(DATASET_PATH, x))\n",
    "test_df[\"ImageFullPath\"] = test_df[\"ImageFullPath\"].apply(lambda x: os.path.join(DATASET_PATH, x))\n",
    "\n",
    "#Chuyển kiểu dữ liệua các gía trị trong cột class sang dạng string vì flow_from_dataframe cần đầu vào là kiểu string\n",
    "train_df[\"CategoryID\"] = train_df[\"CategoryID\"].astype(str)\n",
    "test_df[\"CategoryID\"] = test_df[\"CategoryID\"].astype(str)"
   ]
  },
  {
   "cell_type": "code",
   "execution_count": 6,
   "id": "d576761f",
   "metadata": {
    "execution": {
     "iopub.execute_input": "2025-01-10T12:22:36.732043Z",
     "iopub.status.busy": "2025-01-10T12:22:36.731766Z",
     "iopub.status.idle": "2025-01-10T12:22:36.743281Z",
     "shell.execute_reply": "2025-01-10T12:22:36.742461Z"
    },
    "papermill": {
     "duration": 0.01719,
     "end_time": "2025-01-10T12:22:36.744587",
     "exception": false,
     "start_time": "2025-01-10T12:22:36.727397",
     "status": "completed"
    },
    "tags": []
   },
   "outputs": [
    {
     "data": {
      "text/html": [
       "<div>\n",
       "<style scoped>\n",
       "    .dataframe tbody tr th:only-of-type {\n",
       "        vertical-align: middle;\n",
       "    }\n",
       "\n",
       "    .dataframe tbody tr th {\n",
       "        vertical-align: top;\n",
       "    }\n",
       "\n",
       "    .dataframe thead th {\n",
       "        text-align: right;\n",
       "    }\n",
       "</style>\n",
       "<table border=\"1\" class=\"dataframe\">\n",
       "  <thead>\n",
       "    <tr style=\"text-align: right;\">\n",
       "      <th></th>\n",
       "      <th>ImageFullPath</th>\n",
       "      <th>CategoryID</th>\n",
       "    </tr>\n",
       "  </thead>\n",
       "  <tbody>\n",
       "    <tr>\n",
       "      <th>0</th>\n",
       "      <td>/kaggle/input/data-car-public/Public/Mazda/225...</td>\n",
       "      <td>4</td>\n",
       "    </tr>\n",
       "    <tr>\n",
       "      <th>1</th>\n",
       "      <td>/kaggle/input/data-car-public/Public/Mazda/225...</td>\n",
       "      <td>4</td>\n",
       "    </tr>\n",
       "    <tr>\n",
       "      <th>2</th>\n",
       "      <td>/kaggle/input/data-car-public/Public/Mazda/225...</td>\n",
       "      <td>4</td>\n",
       "    </tr>\n",
       "    <tr>\n",
       "      <th>3</th>\n",
       "      <td>/kaggle/input/data-car-public/Public/Mazda/225...</td>\n",
       "      <td>4</td>\n",
       "    </tr>\n",
       "    <tr>\n",
       "      <th>4</th>\n",
       "      <td>/kaggle/input/data-car-public/Public/Mazda/225...</td>\n",
       "      <td>4</td>\n",
       "    </tr>\n",
       "    <tr>\n",
       "      <th>...</th>\n",
       "      <td>...</td>\n",
       "      <td>...</td>\n",
       "    </tr>\n",
       "    <tr>\n",
       "      <th>27858</th>\n",
       "      <td>/kaggle/input/data-car-public/Public/Honda/225...</td>\n",
       "      <td>1</td>\n",
       "    </tr>\n",
       "    <tr>\n",
       "      <th>27859</th>\n",
       "      <td>/kaggle/input/data-car-public/Public/Honda/225...</td>\n",
       "      <td>1</td>\n",
       "    </tr>\n",
       "    <tr>\n",
       "      <th>27860</th>\n",
       "      <td>/kaggle/input/data-car-public/Public/Honda/225...</td>\n",
       "      <td>1</td>\n",
       "    </tr>\n",
       "    <tr>\n",
       "      <th>27861</th>\n",
       "      <td>/kaggle/input/data-car-public/Public/Honda/225...</td>\n",
       "      <td>1</td>\n",
       "    </tr>\n",
       "    <tr>\n",
       "      <th>27862</th>\n",
       "      <td>/kaggle/input/data-car-public/Public/Honda/225...</td>\n",
       "      <td>1</td>\n",
       "    </tr>\n",
       "  </tbody>\n",
       "</table>\n",
       "<p>27863 rows × 2 columns</p>\n",
       "</div>"
      ],
      "text/plain": [
       "                                           ImageFullPath CategoryID\n",
       "0      /kaggle/input/data-car-public/Public/Mazda/225...          4\n",
       "1      /kaggle/input/data-car-public/Public/Mazda/225...          4\n",
       "2      /kaggle/input/data-car-public/Public/Mazda/225...          4\n",
       "3      /kaggle/input/data-car-public/Public/Mazda/225...          4\n",
       "4      /kaggle/input/data-car-public/Public/Mazda/225...          4\n",
       "...                                                  ...        ...\n",
       "27858  /kaggle/input/data-car-public/Public/Honda/225...          1\n",
       "27859  /kaggle/input/data-car-public/Public/Honda/225...          1\n",
       "27860  /kaggle/input/data-car-public/Public/Honda/225...          1\n",
       "27861  /kaggle/input/data-car-public/Public/Honda/225...          1\n",
       "27862  /kaggle/input/data-car-public/Public/Honda/225...          1\n",
       "\n",
       "[27863 rows x 2 columns]"
      ]
     },
     "execution_count": 6,
     "metadata": {},
     "output_type": "execute_result"
    }
   ],
   "source": [
    "train_df"
   ]
  },
  {
   "cell_type": "code",
   "execution_count": 7,
   "id": "80a9acb2",
   "metadata": {
    "execution": {
     "iopub.execute_input": "2025-01-10T12:22:36.753943Z",
     "iopub.status.busy": "2025-01-10T12:22:36.753661Z",
     "iopub.status.idle": "2025-01-10T12:22:36.761812Z",
     "shell.execute_reply": "2025-01-10T12:22:36.761047Z"
    },
    "papermill": {
     "duration": 0.014233,
     "end_time": "2025-01-10T12:22:36.763248",
     "exception": false,
     "start_time": "2025-01-10T12:22:36.749015",
     "status": "completed"
    },
    "tags": []
   },
   "outputs": [
    {
     "data": {
      "text/html": [
       "<div>\n",
       "<style scoped>\n",
       "    .dataframe tbody tr th:only-of-type {\n",
       "        vertical-align: middle;\n",
       "    }\n",
       "\n",
       "    .dataframe tbody tr th {\n",
       "        vertical-align: top;\n",
       "    }\n",
       "\n",
       "    .dataframe thead th {\n",
       "        text-align: right;\n",
       "    }\n",
       "</style>\n",
       "<table border=\"1\" class=\"dataframe\">\n",
       "  <thead>\n",
       "    <tr style=\"text-align: right;\">\n",
       "      <th></th>\n",
       "      <th>ImageFullPath</th>\n",
       "      <th>CategoryID</th>\n",
       "    </tr>\n",
       "  </thead>\n",
       "  <tbody>\n",
       "    <tr>\n",
       "      <th>0</th>\n",
       "      <td>/kaggle/input/data-car-public/Public/Mazda/225...</td>\n",
       "      <td>4</td>\n",
       "    </tr>\n",
       "    <tr>\n",
       "      <th>1</th>\n",
       "      <td>/kaggle/input/data-car-public/Public/Mazda/225...</td>\n",
       "      <td>4</td>\n",
       "    </tr>\n",
       "    <tr>\n",
       "      <th>2</th>\n",
       "      <td>/kaggle/input/data-car-public/Public/Mazda/225...</td>\n",
       "      <td>4</td>\n",
       "    </tr>\n",
       "    <tr>\n",
       "      <th>3</th>\n",
       "      <td>/kaggle/input/data-car-public/Public/Mazda/225...</td>\n",
       "      <td>4</td>\n",
       "    </tr>\n",
       "    <tr>\n",
       "      <th>4</th>\n",
       "      <td>/kaggle/input/data-car-public/Public/Mazda/225...</td>\n",
       "      <td>4</td>\n",
       "    </tr>\n",
       "    <tr>\n",
       "      <th>...</th>\n",
       "      <td>...</td>\n",
       "      <td>...</td>\n",
       "    </tr>\n",
       "    <tr>\n",
       "      <th>6961</th>\n",
       "      <td>/kaggle/input/data-car-public/Public/Honda/225...</td>\n",
       "      <td>1</td>\n",
       "    </tr>\n",
       "    <tr>\n",
       "      <th>6962</th>\n",
       "      <td>/kaggle/input/data-car-public/Public/Honda/225...</td>\n",
       "      <td>1</td>\n",
       "    </tr>\n",
       "    <tr>\n",
       "      <th>6963</th>\n",
       "      <td>/kaggle/input/data-car-public/Public/Honda/225...</td>\n",
       "      <td>1</td>\n",
       "    </tr>\n",
       "    <tr>\n",
       "      <th>6964</th>\n",
       "      <td>/kaggle/input/data-car-public/Public/Honda/225...</td>\n",
       "      <td>1</td>\n",
       "    </tr>\n",
       "    <tr>\n",
       "      <th>6965</th>\n",
       "      <td>/kaggle/input/data-car-public/Public/Honda/225...</td>\n",
       "      <td>1</td>\n",
       "    </tr>\n",
       "  </tbody>\n",
       "</table>\n",
       "<p>6966 rows × 2 columns</p>\n",
       "</div>"
      ],
      "text/plain": [
       "                                          ImageFullPath CategoryID\n",
       "0     /kaggle/input/data-car-public/Public/Mazda/225...          4\n",
       "1     /kaggle/input/data-car-public/Public/Mazda/225...          4\n",
       "2     /kaggle/input/data-car-public/Public/Mazda/225...          4\n",
       "3     /kaggle/input/data-car-public/Public/Mazda/225...          4\n",
       "4     /kaggle/input/data-car-public/Public/Mazda/225...          4\n",
       "...                                                 ...        ...\n",
       "6961  /kaggle/input/data-car-public/Public/Honda/225...          1\n",
       "6962  /kaggle/input/data-car-public/Public/Honda/225...          1\n",
       "6963  /kaggle/input/data-car-public/Public/Honda/225...          1\n",
       "6964  /kaggle/input/data-car-public/Public/Honda/225...          1\n",
       "6965  /kaggle/input/data-car-public/Public/Honda/225...          1\n",
       "\n",
       "[6966 rows x 2 columns]"
      ]
     },
     "execution_count": 7,
     "metadata": {},
     "output_type": "execute_result"
    }
   ],
   "source": [
    "test_df"
   ]
  },
  {
   "cell_type": "code",
   "execution_count": 8,
   "id": "5bf65a95",
   "metadata": {
    "execution": {
     "iopub.execute_input": "2025-01-10T12:22:36.772550Z",
     "iopub.status.busy": "2025-01-10T12:22:36.772314Z",
     "iopub.status.idle": "2025-01-10T12:22:36.779333Z",
     "shell.execute_reply": "2025-01-10T12:22:36.778452Z"
    },
    "papermill": {
     "duration": 0.012955,
     "end_time": "2025-01-10T12:22:36.780607",
     "exception": false,
     "start_time": "2025-01-10T12:22:36.767652",
     "status": "completed"
    },
    "tags": []
   },
   "outputs": [],
   "source": [
    "## PREPROCESSING\n",
    "\n",
    "image_set = set()\n",
    "#Tạo 1 set dùng để lưu trữ các giá trị hash của các mảng numpy đại diện cho ảnh. Điều này giúp phát hiện các ảnh trùng lặp.\n",
    "\n",
    "def hash_numpy_array(arr):\n",
    "    '''\n",
    "    Mục đích: Tạo giá trị hash từ một mảng numpy để kiểm tra trùng lặp ảnh.\n",
    "    '''\n",
    "    arr_bytes = arr.tobytes()\n",
    "    #Chuyển đổi mảng numpy thành chuỗi bytes.\n",
    "\n",
    "    hash_obj = hashlib.sha256(arr_bytes)\n",
    "    #Tạo đối tượng hash SHA-256 từ chuỗi bytes.\n",
    "\n",
    "    hash_hex = hash_obj.hexdigest()\n",
    "    #Chuyển đổi đối tượng hash thành chuỗi hex.\n",
    "\n",
    "    return hash_hex\n",
    "    #Trả về chuỗi hex của giá trị hash.\n",
    "\n",
    "def validate_image(image_path, skip_duplicate):\n",
    "    '''\n",
    "    Mục đích: Xác thực một ảnh.\n",
    "    Cách hoạt động:\n",
    "        - Kiểm tra xem đường dẫn ảnh có tồn tại và là một tệp tin không.\n",
    "        - Mở ảnh và thay đổi kích thước.\n",
    "        - Nếu skip_duplicate là True, tính toán giá trị hash của ảnh và kiểm tra xem giá trị này đã có trong image_set chưa.\n",
    "            + Nếu đã có, trả về False.\n",
    "            + Nếu chưa, thêm giá trị hash vào image_set.\n",
    "        - Trả về True nếu ảnh hợp lệ.\n",
    "    '''\n",
    "    if not os.path.exists(image_path):\n",
    "        return False\n",
    "    if not os.path.isfile(image_path):\n",
    "        return False\n",
    "    try:\n",
    "        with Image.open(image_path) as img:\n",
    "            img.resize((WIDTH, HEIGHT))\n",
    "            if skip_duplicate:\n",
    "                hash_value = hash_numpy_array(np.array(img))\n",
    "                if hash_value in image_set:\n",
    "                    return False\n",
    "                else:\n",
    "                    image_set.add(hash_value)\n",
    "        return True\n",
    "\n",
    "    except Exception as e:\n",
    "        print(e)\n",
    "        return False\n",
    "\n",
    "def validate_images_multicore(df, num_processes, skip_duplicate=False):\n",
    "    '''\n",
    "    Mục đích: Xác thực các ảnh trong DataFrame bằng cách sử dụng nhiều tiến trình.\n",
    "    Cách hoạt động:\n",
    "        - multiprocessing.Pool(num_processes): Tạo một pool với số lượng tiến trình được chỉ định bởi num_processes.\n",
    "        - pool.starmap(validate_image,\n",
    "                       zip(df[\"file_path\"],\n",
    "                       [skip_duplicate] * len(df))\n",
    "                       ): Phân chia công việc xác thực ảnh giữa các tiến trình.\n",
    "        - zip(df[\"file_path\"],\n",
    "              [skip_duplicate] * len(df)\n",
    "              ): Kết hợp từng đường dẫn ảnh với giá trị skip_duplicate để truyền vào hàm validate_image.\n",
    "        - return df[results]: Trả về DataFrame chỉ chứa các hàng mà ảnh đã được xác thực hợp lệ.\n",
    "    '''\n",
    "    with multiprocessing.Pool(num_processes) as pool:\n",
    "        results = pool.starmap(\n",
    "            validate_image,\n",
    "            zip(df[\"ImageFullPath\"], [skip_duplicate] * len(df))\n",
    "        )\n",
    "    return df[results]"
   ]
  },
  {
   "cell_type": "code",
   "execution_count": 9,
   "id": "c9129d6c",
   "metadata": {
    "execution": {
     "iopub.execute_input": "2025-01-10T12:22:36.789553Z",
     "iopub.status.busy": "2025-01-10T12:22:36.789345Z",
     "iopub.status.idle": "2025-01-10T12:28:52.582997Z",
     "shell.execute_reply": "2025-01-10T12:28:52.581811Z"
    },
    "papermill": {
     "duration": 375.800034,
     "end_time": "2025-01-10T12:28:52.584755",
     "exception": false,
     "start_time": "2025-01-10T12:22:36.784721",
     "status": "completed"
    },
    "tags": []
   },
   "outputs": [
    {
     "name": "stderr",
     "output_type": "stream",
     "text": [
      "/usr/lib/python3.10/multiprocessing/popen_fork.py:66: RuntimeWarning: os.fork() was called. os.fork() is incompatible with multithreaded code, and JAX is multithreaded, so this will likely lead to a deadlock.\n",
      "  self.pid = os.fork()\n"
     ]
    },
    {
     "name": "stdout",
     "output_type": "stream",
     "text": [
      "cannot identify image file '/kaggle/input/data-car-public/Public/Mitsubishi/22521463-22521213-22521259.Mitsubishi.57.jpg'\n",
      "cannot identify image file '/kaggle/input/data-car-public/Public/Mitsubishi/22521463-22521213-22521259.Mitsubishi.75.jpg'\n",
      "cannot identify image file '/kaggle/input/data-car-public/Public/Mitsubishi/22521463-22521213-22521259.Mitsubishi.76.jpg'\n",
      "cannot identify image file '/kaggle/input/data-car-public/Public/Others/22521463-22521213-22521259.Others.53.jpg'\n",
      "cannot identify image file '/kaggle/input/data-car-public/Public/Others/22520477-22520490.Others.7.jpg'\n",
      "cannot identify image file '/kaggle/input/data-car-public/Public/Others/22520477-22520490.Others.8.jpg'\n",
      "cannot identify image file '/kaggle/input/data-car-public/Public/Others/22520477-22520490.Others.2.jpg'\n",
      "cannot identify image file '/kaggle/input/data-car-public/Public/Others/22520477-22520490.Others.30.jpg'\n",
      "cannot identify image file '/kaggle/input/data-car-public/Public/Others/22520477-22520490.Others.6.jpg'\n",
      "cannot identify image file '/kaggle/input/data-car-public/Public/Others/22520477-22520490.Others.5.jpg'\n",
      "cannot identify image file '/kaggle/input/data-car-public/Public/Others/22520477-22520490.Others.4.jpg'\n",
      "cannot identify image file '/kaggle/input/data-car-public/Public/Others/22520477-22520490.Others.10.jpg'\n",
      "cannot identify image file '/kaggle/input/data-car-public/Public/Others/22520477-22520490.Others.3.jpg'\n",
      "cannot identify image file '/kaggle/input/data-car-public/Public/Honda/22521560-22521614.Honda.41.jpg'\n",
      "cannot identify image file '/kaggle/input/data-car-public/Public/Honda/22521560-22521614.Honda.36.jpg'\n",
      "cannot identify image file '/kaggle/input/data-car-public/Public/Honda/22521560-22521614.Honda.37.jpg'\n"
     ]
    }
   ],
   "source": [
    "train_df = validate_images_multicore(train_df, num_processes=16, skip_duplicate=True)"
   ]
  },
  {
   "cell_type": "code",
   "execution_count": 10,
   "id": "bc6c7414",
   "metadata": {
    "execution": {
     "iopub.execute_input": "2025-01-10T12:28:52.598431Z",
     "iopub.status.busy": "2025-01-10T12:28:52.598139Z",
     "iopub.status.idle": "2025-01-10T12:28:52.601849Z",
     "shell.execute_reply": "2025-01-10T12:28:52.601052Z"
    },
    "papermill": {
     "duration": 0.01163,
     "end_time": "2025-01-10T12:28:52.603246",
     "exception": false,
     "start_time": "2025-01-10T12:28:52.591616",
     "status": "completed"
    },
    "tags": []
   },
   "outputs": [],
   "source": [
    "image_set = set()"
   ]
  },
  {
   "cell_type": "code",
   "execution_count": 11,
   "id": "ac967332",
   "metadata": {
    "execution": {
     "iopub.execute_input": "2025-01-10T12:28:52.615380Z",
     "iopub.status.busy": "2025-01-10T12:28:52.615122Z",
     "iopub.status.idle": "2025-01-10T12:29:51.016095Z",
     "shell.execute_reply": "2025-01-10T12:29:51.014821Z"
    },
    "papermill": {
     "duration": 58.409066,
     "end_time": "2025-01-10T12:29:51.018051",
     "exception": false,
     "start_time": "2025-01-10T12:28:52.608985",
     "status": "completed"
    },
    "tags": []
   },
   "outputs": [
    {
     "name": "stderr",
     "output_type": "stream",
     "text": [
      "/usr/lib/python3.10/multiprocessing/popen_fork.py:66: RuntimeWarning: os.fork() was called. os.fork() is incompatible with multithreaded code, and JAX is multithreaded, so this will likely lead to a deadlock.\n",
      "  self.pid = os.fork()\n"
     ]
    }
   ],
   "source": [
    "test_df = validate_images_multicore(test_df, num_processes=16)"
   ]
  },
  {
   "cell_type": "code",
   "execution_count": 12,
   "id": "374e54c0",
   "metadata": {
    "execution": {
     "iopub.execute_input": "2025-01-10T12:29:51.031011Z",
     "iopub.status.busy": "2025-01-10T12:29:51.030711Z",
     "iopub.status.idle": "2025-01-10T12:30:09.128414Z",
     "shell.execute_reply": "2025-01-10T12:30:09.127444Z"
    },
    "papermill": {
     "duration": 18.105618,
     "end_time": "2025-01-10T12:30:09.129989",
     "exception": false,
     "start_time": "2025-01-10T12:29:51.024371",
     "status": "completed"
    },
    "tags": []
   },
   "outputs": [
    {
     "name": "stdout",
     "output_type": "stream",
     "text": [
      "Found 27509 validated image filenames belonging to 9 classes.\n",
      "Found 6956 validated image filenames belonging to 9 classes.\n"
     ]
    }
   ],
   "source": [
    "## TRAINING\n",
    "from tensorflow.keras.applications import MobileNetV3Large\n",
    "from tensorflow.keras.applications.mobilenet_v2 import preprocess_input\n",
    "\n",
    "train_data_generator = ImageDataGenerator(\n",
    "    preprocessing_function=preprocess_input,\n",
    "    rotation_range=20,  # Xoay ảnh trong khoảng [-20, 20] độ\n",
    "    width_shift_range=0.2,  # Dịch chuyển ngang\n",
    "    height_shift_range=0.2,  # Dịch chuyển dọc\n",
    "    shear_range=0.2,  # Biến đổi hình dạng\n",
    "    zoom_range=0.2,  # Phóng to/thu nhỏ\n",
    "    horizontal_flip=True,  # Lật ngang\n",
    "    fill_mode='nearest'  # Điền giá trị vào các vùng bị thay đổi\n",
    ")\n",
    "\n",
    "test_data_generator = ImageDataGenerator(preprocessing_function=preprocess_input)\n",
    "\n",
    "dataframe_config = {\n",
    "    'x_col': 'ImageFullPath',\n",
    "    'y_col': 'CategoryID',\n",
    "    'target_size': (HEIGHT, WIDTH),\n",
    "    'batch_size': BATCH_SIZE,\n",
    "    'class_mode': 'categorical',\n",
    "    'shuffle': True,\n",
    "    'seed': SEED,\n",
    "    'color_mode': 'rgb',\n",
    "}\n",
    "\n",
    "train_generator = train_data_generator.flow_from_dataframe(train_df, **dataframe_config)\n",
    "test_generator = test_data_generator.flow_from_dataframe(test_df, **dataframe_config)\n"
   ]
  },
  {
   "cell_type": "code",
   "execution_count": 13,
   "id": "fbcbfd21",
   "metadata": {
    "execution": {
     "iopub.execute_input": "2025-01-10T12:30:09.142515Z",
     "iopub.status.busy": "2025-01-10T12:30:09.142258Z",
     "iopub.status.idle": "2025-01-10T12:30:10.221102Z",
     "shell.execute_reply": "2025-01-10T12:30:10.220194Z"
    },
    "papermill": {
     "duration": 1.086422,
     "end_time": "2025-01-10T12:30:10.222435",
     "exception": false,
     "start_time": "2025-01-10T12:30:09.136013",
     "status": "completed"
    },
    "tags": []
   },
   "outputs": [
    {
     "data": {
      "image/png": "[encoded data removed]",
      "text/plain": [
       "<Figure size 1200x600 with 1 Axes>"
      ]
     },
     "metadata": {},
     "output_type": "display_data"
    },
    {
     "data": {
      "image/png": "[encoded data removed]",
      "text/plain": [
       "<Figure size 1200x600 with 1 Axes>"
      ]
     },
     "metadata": {},
     "output_type": "display_data"
    }
   ],
   "source": [
    "import matplotlib.pyplot as plt\n",
    "import seaborn as sns\n",
    "\n",
    "def plot_class_distribution(df, title, column='CategoryID'):\n",
    "    \"\"\"\n",
    "    Vẽ biểu đồ phân phối dữ liệu của các lớp.\n",
    "    df: DataFrame chứa dữ liệu.\n",
    "    title: Tiêu đề biểu đồ.\n",
    "    column: Cột chứa thông tin phân loại.\n",
    "    \"\"\"\n",
    "    class_counts = df[column].value_counts()\n",
    "\n",
    "    plt.figure(figsize=(12, 6))\n",
    "    sns.barplot(x=class_counts.index, y=class_counts.values, palette='viridis')\n",
    "    plt.title(title, fontsize=16)\n",
    "    plt.xlabel('Class', fontsize=14)\n",
    "    plt.ylabel('Frequency', fontsize=14)\n",
    "    plt.xticks(rotation=45)\n",
    "    plt.grid(axis='y', linestyle='--', alpha=0.7)\n",
    "    plt.show()\n",
    "\n",
    "# Kiểm tra phân phối dữ liệu trong tập huấn luyện và tập kiểm tra\n",
    "plot_class_distribution(train_df, title=\"Class Distribution in Training Set\")\n",
    "plot_class_distribution(test_df, title=\"Class Distribution in Test Set\")\n"
   ]
  },
  {
   "cell_type": "code",
   "execution_count": 14,
   "id": "510668b3",
   "metadata": {
    "execution": {
     "iopub.execute_input": "2025-01-10T12:30:10.238040Z",
     "iopub.status.busy": "2025-01-10T12:30:10.237530Z",
     "iopub.status.idle": "2025-01-10T12:30:12.103054Z",
     "shell.execute_reply": "2025-01-10T12:30:12.102311Z"
    },
    "papermill": {
     "duration": 1.874745,
     "end_time": "2025-01-10T12:30:12.104668",
     "exception": false,
     "start_time": "2025-01-10T12:30:10.229923",
     "status": "completed"
    },
    "tags": []
   },
   "outputs": [
    {
     "name": "stdout",
     "output_type": "stream",
     "text": [
      "Downloading data from https://storage.googleapis.com/tensorflow/keras-applications/mobilenet_v3/weights_mobilenet_v3_large_224_1.0_float_no_top_v2.h5\n",
      "\u001b[1m12683000/12683000\u001b[0m \u001b[32m━━━━━━━━━━━━━━━━━━━━\u001b[0m\u001b[37m\u001b[0m \u001b[1m0s\u001b[0m 0us/step\n"
     ]
    }
   ],
   "source": [
    "base_model = MobileNetV3Large(include_top=False, weights='imagenet', input_shape=(HEIGHT, WIDTH, 3))\n",
    "\n",
    "\n",
    "# Build Model\n",
    "model = Sequential([\n",
    "    base_model,\n",
    "    GlobalAveragePooling2D(),\n",
    "    Dense(512, activation='relu'),\n",
    "    BatchNormalization(),\n",
    "    Dense(256, activation='relu'),\n",
    "    BatchNormalization(),\n",
    "    Dropout(0.2),\n",
    "    Dense(len(train_df['CategoryID'].unique()), activation='softmax')  # Adjust output neurons\n",
    "])"
   ]
  },
  {
   "cell_type": "code",
   "execution_count": 15,
   "id": "823e21bf",
   "metadata": {
    "execution": {
     "iopub.execute_input": "2025-01-10T12:30:12.121029Z",
     "iopub.status.busy": "2025-01-10T12:30:12.120742Z",
     "iopub.status.idle": "2025-01-10T12:30:12.124117Z",
     "shell.execute_reply": "2025-01-10T12:30:12.123299Z"
    },
    "papermill": {
     "duration": 0.012718,
     "end_time": "2025-01-10T12:30:12.125396",
     "exception": false,
     "start_time": "2025-01-10T12:30:12.112678",
     "status": "completed"
    },
    "tags": []
   },
   "outputs": [],
   "source": [
    "learning_rate = 0.0001\n",
    "epochs = 30"
   ]
  },
  {
   "cell_type": "code",
   "execution_count": 16,
   "id": "4d0b45f2",
   "metadata": {
    "execution": {
     "iopub.execute_input": "2025-01-10T12:30:12.140622Z",
     "iopub.status.busy": "2025-01-10T12:30:12.140413Z",
     "iopub.status.idle": "2025-01-10T12:30:12.152599Z",
     "shell.execute_reply": "2025-01-10T12:30:12.152019Z"
    },
    "papermill": {
     "duration": 0.021159,
     "end_time": "2025-01-10T12:30:12.153787",
     "exception": false,
     "start_time": "2025-01-10T12:30:12.132628",
     "status": "completed"
    },
    "tags": []
   },
   "outputs": [],
   "source": [
    "model.compile(\n",
    "    optimizer=Adam(learning_rate=learning_rate),\n",
    "    loss='categorical_crossentropy',\n",
    "    metrics=['accuracy']\n",
    ")"
   ]
  },
  {
   "cell_type": "code",
   "execution_count": 17,
   "id": "570a5aac",
   "metadata": {
    "execution": {
     "iopub.execute_input": "2025-01-10T12:30:12.169432Z",
     "iopub.status.busy": "2025-01-10T12:30:12.169220Z",
     "iopub.status.idle": "2025-01-10T12:30:12.175039Z",
     "shell.execute_reply": "2025-01-10T12:30:12.174380Z"
    },
    "papermill": {
     "duration": 0.015105,
     "end_time": "2025-01-10T12:30:12.176289",
     "exception": false,
     "start_time": "2025-01-10T12:30:12.161184",
     "status": "completed"
    },
    "tags": []
   },
   "outputs": [],
   "source": [
    "from tensorflow.keras.callbacks import ModelCheckpoint, EarlyStopping, ReduceLROnPlateau, TensorBoard, LearningRateScheduler\n",
    "\n",
    "# Callbacks\n",
    "checkpoint = ModelCheckpoint(\"model.keras\", monitor=\"loss\", save_best_only=True, verbose=1)\n",
    "early_stopping = EarlyStopping(monitor=\"loss\", patience=5, verbose=1, restore_best_weights=True)\n",
    "reduce_lr = ReduceLROnPlateau(\n",
    "    monitor='loss',\n",
    "    factor=0.5,\n",
    "    patience=3,\n",
    "    verbose=1,\n",
    "    min_lr=1e-6\n",
    ")\n",
    "\n",
    "callbacks = [checkpoint, early_stopping, reduce_lr]\n"
   ]
  },
  {
   "cell_type": "code",
   "execution_count": 18,
   "id": "b345cbfc",
   "metadata": {
    "execution": {
     "iopub.execute_input": "2025-01-10T12:30:12.191452Z",
     "iopub.status.busy": "2025-01-10T12:30:12.191220Z",
     "iopub.status.idle": "2025-01-10T12:30:12.217815Z",
     "shell.execute_reply": "2025-01-10T12:30:12.217169Z"
    },
    "papermill": {
     "duration": 0.035521,
     "end_time": "2025-01-10T12:30:12.218955",
     "exception": false,
     "start_time": "2025-01-10T12:30:12.183434",
     "status": "completed"
    },
    "tags": []
   },
   "outputs": [],
   "source": [
    "# Xử lý class imbalance (nếu có)\n",
    "from sklearn.utils.class_weight import compute_class_weight\n",
    "\n",
    "class_weights = compute_class_weight(\n",
    "    class_weight='balanced',\n",
    "    classes=np.unique(train_df['CategoryID']),\n",
    "    y=train_df['CategoryID']\n",
    ")\n",
    "\n",
    "class_weights_dict = dict(enumerate(class_weights))\n"
   ]
  },
  {
   "cell_type": "code",
   "execution_count": 19,
   "id": "46c4734c",
   "metadata": {
    "execution": {
     "iopub.execute_input": "2025-01-10T12:30:12.234549Z",
     "iopub.status.busy": "2025-01-10T12:30:12.234321Z",
     "iopub.status.idle": "2025-01-10T17:16:38.621834Z",
     "shell.execute_reply": "2025-01-10T17:16:38.620855Z"
    },
    "papermill": {
     "duration": 17186.39692,
     "end_time": "2025-01-10T17:16:38.623512",
     "exception": false,
     "start_time": "2025-01-10T12:30:12.226592",
     "status": "completed"
    },
    "tags": []
   },
   "outputs": [
    {
     "name": "stderr",
     "output_type": "stream",
     "text": [
      "/usr/local/lib/python3.10/dist-packages/PIL/Image.py:1056: UserWarning: Palette images with Transparency expressed in bytes should be converted to RGBA images\n",
      "  warnings.warn(\n"
     ]
    },
    {
     "name": "stdout",
     "output_type": "stream",
     "text": [
      "Epoch 1/30\n"
     ]
    },
    {
     "name": "stderr",
     "output_type": "stream",
     "text": [
      "/usr/local/lib/python3.10/dist-packages/keras/src/trainers/data_adapters/py_dataset_adapter.py:121: UserWarning: Your `PyDataset` class should call `super().__init__(**kwargs)` in its constructor. `**kwargs` can include `workers`, `use_multiprocessing`, `max_queue_size`. Do not pass these arguments to `fit()`, as they will be ignored.\n",
      "  self._warn_if_super_not_called()\n"
     ]
    },
    {
     "name": "stdout",
     "output_type": "stream",
     "text": [
      "\u001b[1m430/430\u001b[0m \u001b[32m━━━━━━━━━━━━━━━━━━━━\u001b[0m\u001b[37m\u001b[0m \u001b[1m0s\u001b[0m 1s/step - accuracy: 0.2213 - loss: 2.5200\n",
      "Epoch 1: loss improved from inf to 2.24191, saving model to model.keras\n",
      "\u001b[1m430/430\u001b[0m \u001b[32m━━━━━━━━━━━━━━━━━━━━\u001b[0m\u001b[37m\u001b[0m \u001b[1m663s\u001b[0m 1s/step - accuracy: 0.2214 - loss: 2.5194 - learning_rate: 1.0000e-04\n",
      "Epoch 2/30\n",
      "\u001b[1m430/430\u001b[0m \u001b[32m━━━━━━━━━━━━━━━━━━━━\u001b[0m\u001b[37m\u001b[0m \u001b[1m0s\u001b[0m 1s/step - accuracy: 0.4106 - loss: 1.7114\n",
      "Epoch 2: loss improved from 2.24191 to 1.62324, saving model to model.keras\n",
      "\u001b[1m430/430\u001b[0m \u001b[32m━━━━━━━━━━━━━━━━━━━━\u001b[0m\u001b[37m\u001b[0m \u001b[1m565s\u001b[0m 1s/step - accuracy: 0.4107 - loss: 1.7112 - learning_rate: 1.0000e-04\n",
      "Epoch 3/30\n",
      "\u001b[1m430/430\u001b[0m \u001b[32m━━━━━━━━━━━━━━━━━━━━\u001b[0m\u001b[37m\u001b[0m \u001b[1m0s\u001b[0m 1s/step - accuracy: 0.5371 - loss: 1.3361\n",
      "Epoch 3: loss improved from 1.62324 to 1.30053, saving model to model.keras\n",
      "\u001b[1m430/430\u001b[0m \u001b[32m━━━━━━━━━━━━━━━━━━━━\u001b[0m\u001b[37m\u001b[0m \u001b[1m585s\u001b[0m 1s/step - accuracy: 0.5371 - loss: 1.3360 - learning_rate: 1.0000e-04\n",
      "Epoch 4/30\n",
      "\u001b[1m430/430\u001b[0m \u001b[32m━━━━━━━━━━━━━━━━━━━━\u001b[0m\u001b[37m\u001b[0m \u001b[1m0s\u001b[0m 1s/step - accuracy: 0.6156 - loss: 1.0958\n",
      "Epoch 4: loss improved from 1.30053 to 1.07741, saving model to model.keras\n",
      "\u001b[1m430/430\u001b[0m \u001b[32m━━━━━━━━━━━━━━━━━━━━\u001b[0m\u001b[37m\u001b[0m \u001b[1m586s\u001b[0m 1s/step - accuracy: 0.6156 - loss: 1.0957 - learning_rate: 1.0000e-04\n",
      "Epoch 5/30\n",
      "\u001b[1m430/430\u001b[0m \u001b[32m━━━━━━━━━━━━━━━━━━━━\u001b[0m\u001b[37m\u001b[0m \u001b[1m0s\u001b[0m 1s/step - accuracy: 0.6812 - loss: 0.9111\n",
      "Epoch 5: loss improved from 1.07741 to 0.91658, saving model to model.keras\n",
      "\u001b[1m430/430\u001b[0m \u001b[32m━━━━━━━━━━━━━━━━━━━━\u001b[0m\u001b[37m\u001b[0m \u001b[1m573s\u001b[0m 1s/step - accuracy: 0.6812 - loss: 0.9111 - learning_rate: 1.0000e-04\n",
      "Epoch 6/30\n",
      "\u001b[1m430/430\u001b[0m \u001b[32m━━━━━━━━━━━━━━━━━━━━\u001b[0m\u001b[37m\u001b[0m \u001b[1m0s\u001b[0m 1s/step - accuracy: 0.7179 - loss: 0.8043\n",
      "Epoch 6: loss improved from 0.91658 to 0.79260, saving model to model.keras\n",
      "\u001b[1m430/430\u001b[0m \u001b[32m━━━━━━━━━━━━━━━━━━━━\u001b[0m\u001b[37m\u001b[0m \u001b[1m560s\u001b[0m 1s/step - accuracy: 0.7180 - loss: 0.8042 - learning_rate: 1.0000e-04\n",
      "Epoch 7/30\n",
      "\u001b[1m430/430\u001b[0m \u001b[32m━━━━━━━━━━━━━━━━━━━━\u001b[0m\u001b[37m\u001b[0m \u001b[1m0s\u001b[0m 1s/step - accuracy: 0.7590 - loss: 0.6798\n",
      "Epoch 7: loss improved from 0.79260 to 0.67806, saving model to model.keras\n",
      "\u001b[1m430/430\u001b[0m \u001b[32m━━━━━━━━━━━━━━━━━━━━\u001b[0m\u001b[37m\u001b[0m \u001b[1m589s\u001b[0m 1s/step - accuracy: 0.7590 - loss: 0.6798 - learning_rate: 1.0000e-04\n",
      "Epoch 8/30\n",
      "\u001b[1m430/430\u001b[0m \u001b[32m━━━━━━━━━━━━━━━━━━━━\u001b[0m\u001b[37m\u001b[0m \u001b[1m0s\u001b[0m 1s/step - accuracy: 0.7894 - loss: 0.5924\n",
      "Epoch 8: loss improved from 0.67806 to 0.59526, saving model to model.keras\n",
      "\u001b[1m430/430\u001b[0m \u001b[32m━━━━━━━━━━━━━━━━━━━━\u001b[0m\u001b[37m\u001b[0m \u001b[1m571s\u001b[0m 1s/step - accuracy: 0.7894 - loss: 0.5924 - learning_rate: 1.0000e-04\n",
      "Epoch 9/30\n",
      "\u001b[1m430/430\u001b[0m \u001b[32m━━━━━━━━━━━━━━━━━━━━\u001b[0m\u001b[37m\u001b[0m \u001b[1m0s\u001b[0m 1s/step - accuracy: 0.8171 - loss: 0.5078\n",
      "Epoch 9: loss improved from 0.59526 to 0.50851, saving model to model.keras\n",
      "\u001b[1m430/430\u001b[0m \u001b[32m━━━━━━━━━━━━━━━━━━━━\u001b[0m\u001b[37m\u001b[0m \u001b[1m583s\u001b[0m 1s/step - accuracy: 0.8171 - loss: 0.5078 - learning_rate: 1.0000e-04\n",
      "Epoch 10/30\n",
      "\u001b[1m430/430\u001b[0m \u001b[32m━━━━━━━━━━━━━━━━━━━━\u001b[0m\u001b[37m\u001b[0m \u001b[1m0s\u001b[0m 1s/step - accuracy: 0.8433 - loss: 0.4449\n",
      "Epoch 10: loss improved from 0.50851 to 0.44910, saving model to model.keras\n",
      "\u001b[1m430/430\u001b[0m \u001b[32m━━━━━━━━━━━━━━━━━━━━\u001b[0m\u001b[37m\u001b[0m \u001b[1m558s\u001b[0m 1s/step - accuracy: 0.8433 - loss: 0.4449 - learning_rate: 1.0000e-04\n",
      "Epoch 11/30\n",
      "\u001b[1m430/430\u001b[0m \u001b[32m━━━━━━━━━━━━━━━━━━━━\u001b[0m\u001b[37m\u001b[0m \u001b[1m0s\u001b[0m 1s/step - accuracy: 0.8593 - loss: 0.3821\n",
      "Epoch 11: loss improved from 0.44910 to 0.39298, saving model to model.keras\n",
      "\u001b[1m430/430\u001b[0m \u001b[32m━━━━━━━━━━━━━━━━━━━━\u001b[0m\u001b[37m\u001b[0m \u001b[1m566s\u001b[0m 1s/step - accuracy: 0.8593 - loss: 0.3821 - learning_rate: 1.0000e-04\n",
      "Epoch 12/30\n",
      "\u001b[1m430/430\u001b[0m \u001b[32m━━━━━━━━━━━━━━━━━━━━\u001b[0m\u001b[37m\u001b[0m \u001b[1m0s\u001b[0m 1s/step - accuracy: 0.8820 - loss: 0.3263\n",
      "Epoch 12: loss improved from 0.39298 to 0.33589, saving model to model.keras\n",
      "\u001b[1m430/430\u001b[0m \u001b[32m━━━━━━━━━━━━━━━━━━━━\u001b[0m\u001b[37m\u001b[0m \u001b[1m586s\u001b[0m 1s/step - accuracy: 0.8820 - loss: 0.3263 - learning_rate: 1.0000e-04\n",
      "Epoch 13/30\n",
      "\u001b[1m430/430\u001b[0m \u001b[32m━━━━━━━━━━━━━━━━━━━━\u001b[0m\u001b[37m\u001b[0m \u001b[1m0s\u001b[0m 1s/step - accuracy: 0.8961 - loss: 0.2903\n",
      "Epoch 13: loss improved from 0.33589 to 0.29937, saving model to model.keras\n",
      "\u001b[1m430/430\u001b[0m \u001b[32m━━━━━━━━━━━━━━━━━━━━\u001b[0m\u001b[37m\u001b[0m \u001b[1m567s\u001b[0m 1s/step - accuracy: 0.8961 - loss: 0.2903 - learning_rate: 1.0000e-04\n",
      "Epoch 14/30\n",
      "\u001b[1m430/430\u001b[0m \u001b[32m━━━━━━━━━━━━━━━━━━━━\u001b[0m\u001b[37m\u001b[0m \u001b[1m0s\u001b[0m 1s/step - accuracy: 0.9080 - loss: 0.2557\n",
      "Epoch 14: loss improved from 0.29937 to 0.26163, saving model to model.keras\n",
      "\u001b[1m430/430\u001b[0m \u001b[32m━━━━━━━━━━━━━━━━━━━━\u001b[0m\u001b[37m\u001b[0m \u001b[1m564s\u001b[0m 1s/step - accuracy: 0.9080 - loss: 0.2558 - learning_rate: 1.0000e-04\n",
      "Epoch 15/30\n",
      "\u001b[1m430/430\u001b[0m \u001b[32m━━━━━━━━━━━━━━━━━━━━\u001b[0m\u001b[37m\u001b[0m \u001b[1m0s\u001b[0m 1s/step - accuracy: 0.9184 - loss: 0.2228\n",
      "Epoch 15: loss improved from 0.26163 to 0.23502, saving model to model.keras\n",
      "\u001b[1m430/430\u001b[0m \u001b[32m━━━━━━━━━━━━━━━━━━━━\u001b[0m\u001b[37m\u001b[0m \u001b[1m565s\u001b[0m 1s/step - accuracy: 0.9184 - loss: 0.2229 - learning_rate: 1.0000e-04\n",
      "Epoch 16/30\n",
      "\u001b[1m430/430\u001b[0m \u001b[32m━━━━━━━━━━━━━━━━━━━━\u001b[0m\u001b[37m\u001b[0m \u001b[1m0s\u001b[0m 1s/step - accuracy: 0.9248 - loss: 0.2066\n",
      "Epoch 16: loss improved from 0.23502 to 0.20644, saving model to model.keras\n",
      "\u001b[1m430/430\u001b[0m \u001b[32m━━━━━━━━━━━━━━━━━━━━\u001b[0m\u001b[37m\u001b[0m \u001b[1m577s\u001b[0m 1s/step - accuracy: 0.9248 - loss: 0.2066 - learning_rate: 1.0000e-04\n",
      "Epoch 17/30\n",
      "\u001b[1m430/430\u001b[0m \u001b[32m━━━━━━━━━━━━━━━━━━━━\u001b[0m\u001b[37m\u001b[0m \u001b[1m0s\u001b[0m 1s/step - accuracy: 0.9403 - loss: 0.1681\n",
      "Epoch 17: loss improved from 0.20644 to 0.17991, saving model to model.keras\n",
      "\u001b[1m430/430\u001b[0m \u001b[32m━━━━━━━━━━━━━━━━━━━━\u001b[0m\u001b[37m\u001b[0m \u001b[1m567s\u001b[0m 1s/step - accuracy: 0.9403 - loss: 0.1682 - learning_rate: 1.0000e-04\n",
      "Epoch 18/30\n",
      "\u001b[1m430/430\u001b[0m \u001b[32m━━━━━━━━━━━━━━━━━━━━\u001b[0m\u001b[37m\u001b[0m \u001b[1m0s\u001b[0m 1s/step - accuracy: 0.9397 - loss: 0.1655\n",
      "Epoch 18: loss improved from 0.17991 to 0.16843, saving model to model.keras\n",
      "\u001b[1m430/430\u001b[0m \u001b[32m━━━━━━━━━━━━━━━━━━━━\u001b[0m\u001b[37m\u001b[0m \u001b[1m574s\u001b[0m 1s/step - accuracy: 0.9397 - loss: 0.1655 - learning_rate: 1.0000e-04\n",
      "Epoch 19/30\n",
      "\u001b[1m430/430\u001b[0m \u001b[32m━━━━━━━━━━━━━━━━━━━━\u001b[0m\u001b[37m\u001b[0m \u001b[1m0s\u001b[0m 1s/step - accuracy: 0.9465 - loss: 0.1423\n",
      "Epoch 19: loss improved from 0.16843 to 0.14758, saving model to model.keras\n",
      "\u001b[1m430/430\u001b[0m \u001b[32m━━━━━━━━━━━━━━━━━━━━\u001b[0m\u001b[37m\u001b[0m \u001b[1m550s\u001b[0m 1s/step - accuracy: 0.9465 - loss: 0.1423 - learning_rate: 1.0000e-04\n",
      "Epoch 20/30\n",
      "\u001b[1m430/430\u001b[0m \u001b[32m━━━━━━━━━━━━━━━━━━━━\u001b[0m\u001b[37m\u001b[0m \u001b[1m0s\u001b[0m 1s/step - accuracy: 0.9536 - loss: 0.1311\n",
      "Epoch 20: loss improved from 0.14758 to 0.13276, saving model to model.keras\n",
      "\u001b[1m430/430\u001b[0m \u001b[32m━━━━━━━━━━━━━━━━━━━━\u001b[0m\u001b[37m\u001b[0m \u001b[1m567s\u001b[0m 1s/step - accuracy: 0.9536 - loss: 0.1311 - learning_rate: 1.0000e-04\n",
      "Epoch 21/30\n",
      "\u001b[1m430/430\u001b[0m \u001b[32m━━━━━━━━━━━━━━━━━━━━\u001b[0m\u001b[37m\u001b[0m \u001b[1m0s\u001b[0m 1s/step - accuracy: 0.9585 - loss: 0.1154\n",
      "Epoch 21: loss improved from 0.13276 to 0.12419, saving model to model.keras\n",
      "\u001b[1m430/430\u001b[0m \u001b[32m━━━━━━━━━━━━━━━━━━━━\u001b[0m\u001b[37m\u001b[0m \u001b[1m559s\u001b[0m 1s/step - accuracy: 0.9585 - loss: 0.1154 - learning_rate: 1.0000e-04\n",
      "Epoch 22/30\n",
      "\u001b[1m430/430\u001b[0m \u001b[32m━━━━━━━━━━━━━━━━━━━━\u001b[0m\u001b[37m\u001b[0m \u001b[1m0s\u001b[0m 1s/step - accuracy: 0.9561 - loss: 0.1190\n",
      "Epoch 22: loss improved from 0.12419 to 0.11692, saving model to model.keras\n",
      "\u001b[1m430/430\u001b[0m \u001b[32m━━━━━━━━━━━━━━━━━━━━\u001b[0m\u001b[37m\u001b[0m \u001b[1m564s\u001b[0m 1s/step - accuracy: 0.9561 - loss: 0.1190 - learning_rate: 1.0000e-04\n",
      "Epoch 23/30\n",
      "\u001b[1m430/430\u001b[0m \u001b[32m━━━━━━━━━━━━━━━━━━━━\u001b[0m\u001b[37m\u001b[0m \u001b[1m0s\u001b[0m 1s/step - accuracy: 0.9649 - loss: 0.0971\n",
      "Epoch 23: loss improved from 0.11692 to 0.10059, saving model to model.keras\n",
      "\u001b[1m430/430\u001b[0m \u001b[32m━━━━━━━━━━━━━━━━━━━━\u001b[0m\u001b[37m\u001b[0m \u001b[1m560s\u001b[0m 1s/step - accuracy: 0.9649 - loss: 0.0971 - learning_rate: 1.0000e-04\n",
      "Epoch 24/30\n",
      "\u001b[1m430/430\u001b[0m \u001b[32m━━━━━━━━━━━━━━━━━━━━\u001b[0m\u001b[37m\u001b[0m \u001b[1m0s\u001b[0m 1s/step - accuracy: 0.9661 - loss: 0.0912\n",
      "Epoch 24: loss improved from 0.10059 to 0.09314, saving model to model.keras\n",
      "\u001b[1m430/430\u001b[0m \u001b[32m━━━━━━━━━━━━━━━━━━━━\u001b[0m\u001b[37m\u001b[0m \u001b[1m567s\u001b[0m 1s/step - accuracy: 0.9661 - loss: 0.0912 - learning_rate: 1.0000e-04\n",
      "Epoch 25/30\n",
      "\u001b[1m430/430\u001b[0m \u001b[32m━━━━━━━━━━━━━━━━━━━━\u001b[0m\u001b[37m\u001b[0m \u001b[1m0s\u001b[0m 1s/step - accuracy: 0.9663 - loss: 0.0929\n",
      "Epoch 25: loss did not improve from 0.09314\n",
      "\u001b[1m430/430\u001b[0m \u001b[32m━━━━━━━━━━━━━━━━━━━━\u001b[0m\u001b[37m\u001b[0m \u001b[1m578s\u001b[0m 1s/step - accuracy: 0.9663 - loss: 0.0929 - learning_rate: 1.0000e-04\n",
      "Epoch 26/30\n",
      "\u001b[1m430/430\u001b[0m \u001b[32m━━━━━━━━━━━━━━━━━━━━\u001b[0m\u001b[37m\u001b[0m \u001b[1m0s\u001b[0m 1s/step - accuracy: 0.9674 - loss: 0.0884\n",
      "Epoch 26: loss improved from 0.09314 to 0.09017, saving model to model.keras\n",
      "\u001b[1m430/430\u001b[0m \u001b[32m━━━━━━━━━━━━━━━━━━━━\u001b[0m\u001b[37m\u001b[0m \u001b[1m582s\u001b[0m 1s/step - accuracy: 0.9674 - loss: 0.0884 - learning_rate: 1.0000e-04\n",
      "Epoch 27/30\n",
      "\u001b[1m430/430\u001b[0m \u001b[32m━━━━━━━━━━━━━━━━━━━━\u001b[0m\u001b[37m\u001b[0m \u001b[1m0s\u001b[0m 1s/step - accuracy: 0.9695 - loss: 0.0834\n",
      "Epoch 27: loss improved from 0.09017 to 0.08865, saving model to model.keras\n",
      "\u001b[1m430/430\u001b[0m \u001b[32m━━━━━━━━━━━━━━━━━━━━\u001b[0m\u001b[37m\u001b[0m \u001b[1m562s\u001b[0m 1s/step - accuracy: 0.9695 - loss: 0.0834 - learning_rate: 1.0000e-04\n",
      "Epoch 28/30\n",
      "\u001b[1m430/430\u001b[0m \u001b[32m━━━━━━━━━━━━━━━━━━━━\u001b[0m\u001b[37m\u001b[0m \u001b[1m0s\u001b[0m 1s/step - accuracy: 0.9690 - loss: 0.0818\n",
      "Epoch 28: loss improved from 0.08865 to 0.08367, saving model to model.keras\n",
      "\u001b[1m430/430\u001b[0m \u001b[32m━━━━━━━━━━━━━━━━━━━━\u001b[0m\u001b[37m\u001b[0m \u001b[1m565s\u001b[0m 1s/step - accuracy: 0.9690 - loss: 0.0818 - learning_rate: 1.0000e-04\n",
      "Epoch 29/30\n",
      "\u001b[1m430/430\u001b[0m \u001b[32m━━━━━━━━━━━━━━━━━━━━\u001b[0m\u001b[37m\u001b[0m \u001b[1m0s\u001b[0m 1s/step - accuracy: 0.9702 - loss: 0.0806\n",
      "Epoch 29: loss improved from 0.08367 to 0.08239, saving model to model.keras\n",
      "\u001b[1m430/430\u001b[0m \u001b[32m━━━━━━━━━━━━━━━━━━━━\u001b[0m\u001b[37m\u001b[0m \u001b[1m570s\u001b[0m 1s/step - accuracy: 0.9702 - loss: 0.0806 - learning_rate: 1.0000e-04\n",
      "Epoch 30/30\n",
      "\u001b[1m430/430\u001b[0m \u001b[32m━━━━━━━━━━━━━━━━━━━━\u001b[0m\u001b[37m\u001b[0m \u001b[1m0s\u001b[0m 1s/step - accuracy: 0.9739 - loss: 0.0755\n",
      "Epoch 30: loss improved from 0.08239 to 0.07882, saving model to model.keras\n",
      "\u001b[1m430/430\u001b[0m \u001b[32m━━━━━━━━━━━━━━━━━━━━\u001b[0m\u001b[37m\u001b[0m \u001b[1m558s\u001b[0m 1s/step - accuracy: 0.9739 - loss: 0.0755 - learning_rate: 1.0000e-04\n",
      "Restoring model weights from the end of the best epoch: 30.\n"
     ]
    }
   ],
   "source": [
    "history = model.fit(\n",
    "    train_generator,\n",
    "    epochs=epochs,\n",
    "    validation_data=None,\n",
    "    callbacks=callbacks,\n",
    "    class_weight=class_weights_dict \n",
    ")"
   ]
  },
  {
   "cell_type": "code",
   "execution_count": 20,
   "id": "1a9d15b8",
   "metadata": {
    "execution": {
     "iopub.execute_input": "2025-01-10T17:16:39.873752Z",
     "iopub.status.busy": "2025-01-10T17:16:39.873195Z",
     "iopub.status.idle": "2025-01-10T17:16:40.399164Z",
     "shell.execute_reply": "2025-01-10T17:16:40.398305Z"
    },
    "papermill": {
     "duration": 1.144013,
     "end_time": "2025-01-10T17:16:40.400472",
     "exception": false,
     "start_time": "2025-01-10T17:16:39.256459",
     "status": "completed"
    },
    "tags": []
   },
   "outputs": [
    {
     "data": {
      "image/png": "[encoded data removed]",
      "text/plain": [
       "<Figure size 1200x600 with 1 Axes>"
      ]
     },
     "metadata": {},
     "output_type": "display_data"
    },
    {
     "data": {
      "image/png": "[encoded data removed]",
      "text/plain": [
       "<Figure size 1200x600 with 1 Axes>"
      ]
     },
     "metadata": {},
     "output_type": "display_data"
    }
   ],
   "source": [
    "import matplotlib.pyplot as plt\n",
    "\n",
    "# Lấy giá trị loss và accuracy từ history\n",
    "train_loss = history.history['loss']\n",
    "train_accuracy = history.history['accuracy']\n",
    "\n",
    "# Vẽ biểu đồ loss\n",
    "plt.figure(figsize=(12, 6))\n",
    "plt.plot(train_loss, label='Train Loss', color='blue')\n",
    "plt.title('Loss During Training')\n",
    "plt.xlabel('Epochs')\n",
    "plt.ylabel('Loss')\n",
    "plt.legend()\n",
    "plt.grid()\n",
    "plt.show()\n",
    "\n",
    "# Vẽ biểu đồ accuracy\n",
    "plt.figure(figsize=(12, 6))\n",
    "plt.plot(train_accuracy, label='Train Accuracy', color='green')\n",
    "plt.title('Accuracy During Training')\n",
    "plt.xlabel('Epochs')\n",
    "plt.ylabel('Accuracy')\n",
    "plt.legend()\n",
    "plt.grid()\n",
    "plt.show()\n"
   ]
  },
  {
   "cell_type": "code",
   "execution_count": 21,
   "id": "6f340b37",
   "metadata": {
    "execution": {
     "iopub.execute_input": "2025-01-10T17:16:41.703275Z",
     "iopub.status.busy": "2025-01-10T17:16:41.702716Z",
     "iopub.status.idle": "2025-01-10T17:18:09.971050Z",
     "shell.execute_reply": "2025-01-10T17:18:09.970266Z"
    },
    "papermill": {
     "duration": 88.878761,
     "end_time": "2025-01-10T17:18:09.972268",
     "exception": false,
     "start_time": "2025-01-10T17:16:41.093507",
     "status": "completed"
    },
    "tags": []
   },
   "outputs": [
    {
     "name": "stdout",
     "output_type": "stream",
     "text": [
      "\u001b[1m109/109\u001b[0m \u001b[32m━━━━━━━━━━━━━━━━━━━━\u001b[0m\u001b[37m\u001b[0m \u001b[1m87s\u001b[0m 766ms/step - accuracy: 0.6236 - loss: 1.5588\n",
      "Test Accuracy: 0.623634\n"
     ]
    }
   ],
   "source": [
    "## TESTING\n",
    "\n",
    "loss, accuracy = model.evaluate(test_generator, steps=len(test_generator))\n",
    "print(f\"Test Accuracy: {accuracy:.6f}\")"
   ]
  },
  {
   "cell_type": "code",
   "execution_count": 22,
   "id": "406585c5",
   "metadata": {
    "execution": {
     "iopub.execute_input": "2025-01-10T17:18:11.194376Z",
     "iopub.status.busy": "2025-01-10T17:18:11.193841Z",
     "iopub.status.idle": "2025-01-10T17:18:11.642417Z",
     "shell.execute_reply": "2025-01-10T17:18:11.641676Z"
    },
    "papermill": {
     "duration": 1.060256,
     "end_time": "2025-01-10T17:18:11.643848",
     "exception": false,
     "start_time": "2025-01-10T17:18:10.583592",
     "status": "completed"
    },
    "tags": []
   },
   "outputs": [],
   "source": [
    "# Lưu mô hình vào một tệp\n",
    "model.save('MobileNetV3Large_v1.h5')"
   ]
  }
 ],
 "metadata": {
  "kaggle": {
   "accelerator": "none",
   "dataSources": [
    {
     "datasetId": 6456424,
     "sourceId": 10417621,
     "sourceType": "datasetVersion"
    },
    {
     "datasetId": 6456501,
     "sourceId": 10419115,
     "sourceType": "datasetVersion"
    }
   ],
   "dockerImageVersionId": 30823,
   "isGpuEnabled": false,
   "isInternetEnabled": true,
   "language": "python",
   "sourceType": "notebook"
  },
  "kernelspec": {
   "display_name": "Python 3",
   "language": "python",
   "name": "python3"
  },
  "language_info": {
   "codemirror_mode": {
    "name": "ipython",
    "version": 3
   },
   "file_extension": ".py",
   "mimetype": "text/x-python",
   "name": "python",
   "nbconvert_exporter": "python",
   "pygments_lexer": "ipython3",
   "version": "3.10.12"
  },
  "papermill": {
   "default_parameters": {},
   "duration": 17749.930422,
   "end_time": "2025-01-10T17:18:15.685517",
   "environment_variables": {},
   "exception": null,
   "input_path": "__notebook__.ipynb",
   "output_path": "__notebook__.ipynb",
   "parameters": {},
   "start_time": "2025-01-10T12:22:25.755095",
   "version": "2.6.0"
  }
 },
 "nbformat": 4,
 "nbformat_minor": 5
}
