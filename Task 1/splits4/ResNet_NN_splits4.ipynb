{
 "cells": [
  {
   "cell_type": "code",
   "execution_count": 1,
   "id": "21c7226c",
   "metadata": {
    "execution": {
     "iopub.execute_input": "2025-01-13T18:07:11.513738Z",
     "iopub.status.busy": "2025-01-13T18:07:11.513324Z",
     "iopub.status.idle": "2025-01-13T18:07:20.117570Z",
     "shell.execute_reply": "2025-01-13T18:07:20.116844Z"
    },
    "papermill": {
     "duration": 8.611504,
     "end_time": "2025-01-13T18:07:20.119135",
     "exception": false,
     "start_time": "2025-01-13T18:07:11.507631",
     "status": "completed"
    },
    "tags": []
   },
   "outputs": [],
   "source": [
    "import os\n",
    "import pandas as pd\n",
    "import multiprocessing\n",
    "from PIL import Image, UnidentifiedImageError\n",
    "from sklearn.model_selection import train_test_split\n",
    "from tensorflow.keras.preprocessing.image import ImageDataGenerator\n",
    "from keras.optimizers import Adam\n",
    "import tensorflow as tf\n",
    "from tensorflow.keras.applications import ResNet50\n",
    "from tensorflow.keras import layers, models, optimizers, callbacks\n",
    "import numpy as np\n",
    "import hashlib\n",
    "import matplotlib.pyplot as plt\n"
   ]
  },
  {
   "cell_type": "markdown",
   "id": "719696ca",
   "metadata": {
    "papermill": {
     "duration": 0.003874,
     "end_time": "2025-01-13T18:07:20.127488",
     "exception": false,
     "start_time": "2025-01-13T18:07:20.123614",
     "status": "completed"
    },
    "tags": []
   },
   "source": [
    "# Data Loading"
   ]
  },
  {
   "cell_type": "code",
   "execution_count": 2,
   "id": "720087ee",
   "metadata": {
    "execution": {
     "iopub.execute_input": "2025-01-13T18:07:20.136117Z",
     "iopub.status.busy": "2025-01-13T18:07:20.135612Z",
     "iopub.status.idle": "2025-01-13T18:07:20.139286Z",
     "shell.execute_reply": "2025-01-13T18:07:20.138477Z"
    },
    "papermill": {
     "duration": 0.009446,
     "end_time": "2025-01-13T18:07:20.140686",
     "exception": false,
     "start_time": "2025-01-13T18:07:20.131240",
     "status": "completed"
    },
    "tags": []
   },
   "outputs": [],
   "source": [
    "SPLITS_ID = 4\n",
    "BATCH_SIZE = 64\n",
    "WIDTH = 224\n",
    "HEIGHT = 224\n",
    "SEED = 4"
   ]
  },
  {
   "cell_type": "code",
   "execution_count": 3,
   "id": "872979c8",
   "metadata": {
    "execution": {
     "iopub.execute_input": "2025-01-13T18:07:20.149376Z",
     "iopub.status.busy": "2025-01-13T18:07:20.149149Z",
     "iopub.status.idle": "2025-01-13T18:07:20.152120Z",
     "shell.execute_reply": "2025-01-13T18:07:20.151481Z"
    },
    "papermill": {
     "duration": 0.008506,
     "end_time": "2025-01-13T18:07:20.153244",
     "exception": false,
     "start_time": "2025-01-13T18:07:20.144738",
     "status": "completed"
    },
    "tags": []
   },
   "outputs": [],
   "source": [
    "DATASET_PATH = '/kaggle/input/data-car-public/Public'\n",
    "SPLITS_PATH = '/kaggle/input/cardataset-splits/cardataset_splits'"
   ]
  },
  {
   "cell_type": "code",
   "execution_count": 4,
   "id": "4f1de900",
   "metadata": {
    "execution": {
     "iopub.execute_input": "2025-01-13T18:07:20.161717Z",
     "iopub.status.busy": "2025-01-13T18:07:20.161505Z",
     "iopub.status.idle": "2025-01-13T18:07:20.283486Z",
     "shell.execute_reply": "2025-01-13T18:07:20.282774Z"
    },
    "papermill": {
     "duration": 0.127753,
     "end_time": "2025-01-13T18:07:20.284965",
     "exception": false,
     "start_time": "2025-01-13T18:07:20.157212",
     "status": "completed"
    },
    "tags": []
   },
   "outputs": [],
   "source": [
    "train_csv = os.path.join(SPLITS_PATH, f\"CarDataset-Splits-{SPLITS_ID}-Train.csv\")\n",
    "test_csv = os.path.join(SPLITS_PATH, f\"CarDataset-Splits-{SPLITS_ID}-Test.csv\")\n",
    "\n",
    "train_df = pd.read_csv(train_csv)\n",
    "test_df = pd.read_csv(test_csv)\n",
    "\n",
    "\n",
    "train_df[\"ImageFullPath\"] = train_df[\"ImageFullPath\"].apply(lambda x: os.path.join(DATASET_PATH, x))\n",
    "test_df[\"ImageFullPath\"] = test_df[\"ImageFullPath\"].apply(lambda x: os.path.join(DATASET_PATH, x))\n",
    "\n",
    "train_df[\"CategoryID\"] = train_df[\"CategoryID\"].astype(str)\n",
    "test_df[\"CategoryID\"] = test_df[\"CategoryID\"].astype(str)"
   ]
  },
  {
   "cell_type": "code",
   "execution_count": 5,
   "id": "b3659166",
   "metadata": {
    "execution": {
     "iopub.execute_input": "2025-01-13T18:07:20.293737Z",
     "iopub.status.busy": "2025-01-13T18:07:20.293501Z",
     "iopub.status.idle": "2025-01-13T18:07:20.305381Z",
     "shell.execute_reply": "2025-01-13T18:07:20.304620Z"
    },
    "papermill": {
     "duration": 0.017634,
     "end_time": "2025-01-13T18:07:20.306795",
     "exception": false,
     "start_time": "2025-01-13T18:07:20.289161",
     "status": "completed"
    },
    "tags": []
   },
   "outputs": [
    {
     "data": {
      "text/html": [
       "<div>\n",
       "<style scoped>\n",
       "    .dataframe tbody tr th:only-of-type {\n",
       "        vertical-align: middle;\n",
       "    }\n",
       "\n",
       "    .dataframe tbody tr th {\n",
       "        vertical-align: top;\n",
       "    }\n",
       "\n",
       "    .dataframe thead th {\n",
       "        text-align: right;\n",
       "    }\n",
       "</style>\n",
       "<table border=\"1\" class=\"dataframe\">\n",
       "  <thead>\n",
       "    <tr style=\"text-align: right;\">\n",
       "      <th></th>\n",
       "      <th>ImageFullPath</th>\n",
       "      <th>CategoryID</th>\n",
       "    </tr>\n",
       "  </thead>\n",
       "  <tbody>\n",
       "    <tr>\n",
       "      <th>0</th>\n",
       "      <td>/kaggle/input/data-car-public/Public/Mazda/225...</td>\n",
       "      <td>4</td>\n",
       "    </tr>\n",
       "    <tr>\n",
       "      <th>1</th>\n",
       "      <td>/kaggle/input/data-car-public/Public/Mazda/225...</td>\n",
       "      <td>4</td>\n",
       "    </tr>\n",
       "    <tr>\n",
       "      <th>2</th>\n",
       "      <td>/kaggle/input/data-car-public/Public/Mazda/225...</td>\n",
       "      <td>4</td>\n",
       "    </tr>\n",
       "    <tr>\n",
       "      <th>3</th>\n",
       "      <td>/kaggle/input/data-car-public/Public/Mazda/225...</td>\n",
       "      <td>4</td>\n",
       "    </tr>\n",
       "    <tr>\n",
       "      <th>4</th>\n",
       "      <td>/kaggle/input/data-car-public/Public/Mazda/225...</td>\n",
       "      <td>4</td>\n",
       "    </tr>\n",
       "    <tr>\n",
       "      <th>...</th>\n",
       "      <td>...</td>\n",
       "      <td>...</td>\n",
       "    </tr>\n",
       "    <tr>\n",
       "      <th>27858</th>\n",
       "      <td>/kaggle/input/data-car-public/Public/Honda/225...</td>\n",
       "      <td>1</td>\n",
       "    </tr>\n",
       "    <tr>\n",
       "      <th>27859</th>\n",
       "      <td>/kaggle/input/data-car-public/Public/Honda/225...</td>\n",
       "      <td>1</td>\n",
       "    </tr>\n",
       "    <tr>\n",
       "      <th>27860</th>\n",
       "      <td>/kaggle/input/data-car-public/Public/Honda/225...</td>\n",
       "      <td>1</td>\n",
       "    </tr>\n",
       "    <tr>\n",
       "      <th>27861</th>\n",
       "      <td>/kaggle/input/data-car-public/Public/Honda/225...</td>\n",
       "      <td>1</td>\n",
       "    </tr>\n",
       "    <tr>\n",
       "      <th>27862</th>\n",
       "      <td>/kaggle/input/data-car-public/Public/Honda/225...</td>\n",
       "      <td>1</td>\n",
       "    </tr>\n",
       "  </tbody>\n",
       "</table>\n",
       "<p>27863 rows × 2 columns</p>\n",
       "</div>"
      ],
      "text/plain": [
       "                                           ImageFullPath CategoryID\n",
       "0      /kaggle/input/data-car-public/Public/Mazda/225...          4\n",
       "1      /kaggle/input/data-car-public/Public/Mazda/225...          4\n",
       "2      /kaggle/input/data-car-public/Public/Mazda/225...          4\n",
       "3      /kaggle/input/data-car-public/Public/Mazda/225...          4\n",
       "4      /kaggle/input/data-car-public/Public/Mazda/225...          4\n",
       "...                                                  ...        ...\n",
       "27858  /kaggle/input/data-car-public/Public/Honda/225...          1\n",
       "27859  /kaggle/input/data-car-public/Public/Honda/225...          1\n",
       "27860  /kaggle/input/data-car-public/Public/Honda/225...          1\n",
       "27861  /kaggle/input/data-car-public/Public/Honda/225...          1\n",
       "27862  /kaggle/input/data-car-public/Public/Honda/225...          1\n",
       "\n",
       "[27863 rows x 2 columns]"
      ]
     },
     "execution_count": 5,
     "metadata": {},
     "output_type": "execute_result"
    }
   ],
   "source": [
    "train_df"
   ]
  },
  {
   "cell_type": "code",
   "execution_count": 6,
   "id": "6a1a7932",
   "metadata": {
    "execution": {
     "iopub.execute_input": "2025-01-13T18:07:20.315611Z",
     "iopub.status.busy": "2025-01-13T18:07:20.315354Z",
     "iopub.status.idle": "2025-01-13T18:07:20.323542Z",
     "shell.execute_reply": "2025-01-13T18:07:20.322682Z"
    },
    "papermill": {
     "duration": 0.013979,
     "end_time": "2025-01-13T18:07:20.324901",
     "exception": false,
     "start_time": "2025-01-13T18:07:20.310922",
     "status": "completed"
    },
    "tags": []
   },
   "outputs": [
    {
     "data": {
      "text/html": [
       "<div>\n",
       "<style scoped>\n",
       "    .dataframe tbody tr th:only-of-type {\n",
       "        vertical-align: middle;\n",
       "    }\n",
       "\n",
       "    .dataframe tbody tr th {\n",
       "        vertical-align: top;\n",
       "    }\n",
       "\n",
       "    .dataframe thead th {\n",
       "        text-align: right;\n",
       "    }\n",
       "</style>\n",
       "<table border=\"1\" class=\"dataframe\">\n",
       "  <thead>\n",
       "    <tr style=\"text-align: right;\">\n",
       "      <th></th>\n",
       "      <th>ImageFullPath</th>\n",
       "      <th>CategoryID</th>\n",
       "    </tr>\n",
       "  </thead>\n",
       "  <tbody>\n",
       "    <tr>\n",
       "      <th>0</th>\n",
       "      <td>/kaggle/input/data-car-public/Public/Mazda/225...</td>\n",
       "      <td>4</td>\n",
       "    </tr>\n",
       "    <tr>\n",
       "      <th>1</th>\n",
       "      <td>/kaggle/input/data-car-public/Public/Mazda/225...</td>\n",
       "      <td>4</td>\n",
       "    </tr>\n",
       "    <tr>\n",
       "      <th>2</th>\n",
       "      <td>/kaggle/input/data-car-public/Public/Mazda/225...</td>\n",
       "      <td>4</td>\n",
       "    </tr>\n",
       "    <tr>\n",
       "      <th>3</th>\n",
       "      <td>/kaggle/input/data-car-public/Public/Mazda/225...</td>\n",
       "      <td>4</td>\n",
       "    </tr>\n",
       "    <tr>\n",
       "      <th>4</th>\n",
       "      <td>/kaggle/input/data-car-public/Public/Mazda/225...</td>\n",
       "      <td>4</td>\n",
       "    </tr>\n",
       "    <tr>\n",
       "      <th>...</th>\n",
       "      <td>...</td>\n",
       "      <td>...</td>\n",
       "    </tr>\n",
       "    <tr>\n",
       "      <th>6961</th>\n",
       "      <td>/kaggle/input/data-car-public/Public/Honda/225...</td>\n",
       "      <td>1</td>\n",
       "    </tr>\n",
       "    <tr>\n",
       "      <th>6962</th>\n",
       "      <td>/kaggle/input/data-car-public/Public/Honda/225...</td>\n",
       "      <td>1</td>\n",
       "    </tr>\n",
       "    <tr>\n",
       "      <th>6963</th>\n",
       "      <td>/kaggle/input/data-car-public/Public/Honda/225...</td>\n",
       "      <td>1</td>\n",
       "    </tr>\n",
       "    <tr>\n",
       "      <th>6964</th>\n",
       "      <td>/kaggle/input/data-car-public/Public/Honda/225...</td>\n",
       "      <td>1</td>\n",
       "    </tr>\n",
       "    <tr>\n",
       "      <th>6965</th>\n",
       "      <td>/kaggle/input/data-car-public/Public/Honda/225...</td>\n",
       "      <td>1</td>\n",
       "    </tr>\n",
       "  </tbody>\n",
       "</table>\n",
       "<p>6966 rows × 2 columns</p>\n",
       "</div>"
      ],
      "text/plain": [
       "                                          ImageFullPath CategoryID\n",
       "0     /kaggle/input/data-car-public/Public/Mazda/225...          4\n",
       "1     /kaggle/input/data-car-public/Public/Mazda/225...          4\n",
       "2     /kaggle/input/data-car-public/Public/Mazda/225...          4\n",
       "3     /kaggle/input/data-car-public/Public/Mazda/225...          4\n",
       "4     /kaggle/input/data-car-public/Public/Mazda/225...          4\n",
       "...                                                 ...        ...\n",
       "6961  /kaggle/input/data-car-public/Public/Honda/225...          1\n",
       "6962  /kaggle/input/data-car-public/Public/Honda/225...          1\n",
       "6963  /kaggle/input/data-car-public/Public/Honda/225...          1\n",
       "6964  /kaggle/input/data-car-public/Public/Honda/225...          1\n",
       "6965  /kaggle/input/data-car-public/Public/Honda/225...          1\n",
       "\n",
       "[6966 rows x 2 columns]"
      ]
     },
     "execution_count": 6,
     "metadata": {},
     "output_type": "execute_result"
    }
   ],
   "source": [
    "test_df"
   ]
  },
  {
   "cell_type": "markdown",
   "id": "36e9683f",
   "metadata": {
    "papermill": {
     "duration": 0.003985,
     "end_time": "2025-01-13T18:07:20.333665",
     "exception": false,
     "start_time": "2025-01-13T18:07:20.329680",
     "status": "completed"
    },
    "tags": []
   },
   "source": [
    "# Preprocessing"
   ]
  },
  {
   "cell_type": "code",
   "execution_count": 7,
   "id": "3e8912a3",
   "metadata": {
    "execution": {
     "iopub.execute_input": "2025-01-13T18:07:20.342475Z",
     "iopub.status.busy": "2025-01-13T18:07:20.342227Z",
     "iopub.status.idle": "2025-01-13T18:07:20.394083Z",
     "shell.execute_reply": "2025-01-13T18:07:20.393437Z"
    },
    "papermill": {
     "duration": 0.057631,
     "end_time": "2025-01-13T18:07:20.395355",
     "exception": false,
     "start_time": "2025-01-13T18:07:20.337724",
     "status": "completed"
    },
    "tags": []
   },
   "outputs": [],
   "source": [
    "# Đọc danh sách ảnh trùng lặp\n",
    "duplicate = pd.read_csv('/kaggle/input/car-duplicateimages/DuplicateImages.csv')\n",
    "duplicate['Image2'] = duplicate['Image2'].apply(lambda x: os.path.join(DATASET_PATH, x))\n",
    "\n",
    "# Chỉ lấy những ảnh có Similarity > 0.95\n",
    "high_similarity_duplicates = duplicate[duplicate['Similarity'] > 0.95]\n",
    "\n",
    "# Lấy danh sách đường dẫn ảnh cần loại bỏ\n",
    "duplicate_paths = high_similarity_duplicates['Image2'].unique().tolist()\n",
    "\n",
    "# Loại bỏ các ảnh trùng lặp khỏi train_df\n",
    "train_df = train_df[~train_df['ImageFullPath'].isin(duplicate_paths)]"
   ]
  },
  {
   "cell_type": "code",
   "execution_count": 8,
   "id": "f37b75dd",
   "metadata": {
    "execution": {
     "iopub.execute_input": "2025-01-13T18:07:20.404661Z",
     "iopub.status.busy": "2025-01-13T18:07:20.404393Z",
     "iopub.status.idle": "2025-01-13T18:11:29.954567Z",
     "shell.execute_reply": "2025-01-13T18:11:29.953463Z"
    },
    "papermill": {
     "duration": 249.556495,
     "end_time": "2025-01-13T18:11:29.956250",
     "exception": false,
     "start_time": "2025-01-13T18:07:20.399755",
     "status": "completed"
    },
    "tags": []
   },
   "outputs": [
    {
     "name": "stdout",
     "output_type": "stream",
     "text": [
      "Warning: File not found - /kaggle/input/data-car-public/Public/Mazda/22520779-22521587.Mazda.143 (1).jpg\n",
      "Warning: File not found - /kaggle/input/data-car-public/Public/Mazda/22520779-22521587.Mazda.146 (1).jpg\n",
      "Warning: File not found - /kaggle/input/data-car-public/Public/Mazda/22520779-22521587.Mazda.148 (1).jpg\n",
      "Warning: File not found - /kaggle/input/data-car-public/Public/Mazda/22520779-22521587.Mazda.145 (1).jpg\n",
      "Warning: File not found - /kaggle/input/data-car-public/Public/Mazda/22520779-22521587.Mazda.147 (1).jpg\n",
      "Warning: File not found - /kaggle/input/data-car-public/Public/Mazda/22520779-22521587.Mazda.149 (1).jpg\n",
      "Warning: File not found - /kaggle/input/data-car-public/Public/Mazda/22520779-22521587.Mazda.144 (1).jpg\n",
      "Warning: File not found - /kaggle/input/data-car-public/Public/Mitsubishi/22521586-22521559.Mitsubishi.155 (1).jpg\n",
      "Warning: File not found - /kaggle/input/data-car-public/Public/Mitsubishi/22521586-22521559.Mitsubishi.156 (1).jpg\n",
      "Warning: File not found - /kaggle/input/data-car-public/Public/Mitsubishi/22521586-22521559.Mitsubishi.157 (1).jpg\n",
      "Warning: File not found - /kaggle/input/data-car-public/Public/Mitsubishi/22521586-22521559.Mitsubishi.159 (1).jpg\n",
      "Warning: File not found - /kaggle/input/data-car-public/Public/Mitsubishi/22521586-22521559.Mitsubishi.160 (1).jpg\n",
      "Warning: File not found - /kaggle/input/data-car-public/Public/Mitsubishi/22521586-22521559.Mitsubishi.161 (1).jpg\n",
      "Warning: File not found - /kaggle/input/data-car-public/Public/Mitsubishi/22521586-22521559.Mitsubishi.162 (1).jpg\n",
      "Warning: File not found - /kaggle/input/data-car-public/Public/Mitsubishi/22521586-22521559.Mitsubishi.164 (1).jpg\n",
      "Warning: File not found - /kaggle/input/data-car-public/Public/Mitsubishi/22521586-22521559.Mitsubishi.165 (1).jpg\n",
      "Warning: File not found - /kaggle/input/data-car-public/Public/Mitsubishi/22521586-22521559.Mitsubishi.166 (1).jpg\n",
      "Warning: File not found - /kaggle/input/data-car-public/Public/Mitsubishi/22521586-22521559.Mitsubishi.167 (1).jpg\n",
      "Warning: File not found - /kaggle/input/data-car-public/Public/Mitsubishi/22521586-22521559.Mitsubishi.169 (1).jpg\n",
      "Warning: File not found - /kaggle/input/data-car-public/Public/Mitsubishi/22521586-22521559.Mitsubishi.170 (1).jpg\n",
      "Warning: File not found - /kaggle/input/data-car-public/Public/Mitsubishi/22521586-22521559.Mitsubishi.171 (1).jpg\n",
      "Warning: File not found - /kaggle/input/data-car-public/Public/Mitsubishi/22521586-22521559.Mitsubishi.172 (1).jpg\n",
      "Warning: File not found - /kaggle/input/data-car-public/Public/Mitsubishi/22521586-22521559.Mitsubishi.173 (1).jpg\n",
      "Warning: File not found - /kaggle/input/data-car-public/Public/Mitsubishi/22521586-22521559.Mitsubishi.174 (1).jpg\n",
      "Warning: File not found - /kaggle/input/data-car-public/Public/Mitsubishi/22521586-22521559.Mitsubishi.175 (1).jpg\n",
      "Warning: File not found - /kaggle/input/data-car-public/Public/Mitsubishi/22521586-22521559.Mitsubishi.176 (1).jpg\n",
      "Warning: File not found - /kaggle/input/data-car-public/Public/Mitsubishi/22521586-22521559.Mitsubishi.177 (1).jpg\n",
      "Warning: File not found - /kaggle/input/data-car-public/Public/Mitsubishi/22521586-22521559.Mitsubishi.179 (1).jpg\n",
      "Warning: File not found - /kaggle/input/data-car-public/Public/Hyundai/22520779-22521587.Hyundai.346 (1).jpg\n",
      "Warning: File not found - /kaggle/input/data-car-public/Public/Hyundai/22520779-22521587.Hyundai.350 (1).jpg\n",
      "Warning: File not found - /kaggle/input/data-car-public/Public/KIA/22520477-22520490.KIA.2 (1).jpg\n",
      "Warning: File not found - /kaggle/input/data-car-public/Public/KIA/22520477-22520490.KIA.0 (1).jpg\n",
      "Warning: File not found - /kaggle/input/data-car-public/Public/KIA/22520477-22520490.KIA.1 (1).jpg\n",
      "Warning: File not found - /kaggle/input/data-car-public/Public/Honda/22521492-22521599.Honda.9 (1).jpg\n",
      "Valid images: 26033\n",
      "Invalid images: 10\n",
      "Warning: File not found - /kaggle/input/data-car-public/Public/Mitsubishi/22521586-22521559.Mitsubishi.158 (1).jpg\n",
      "Warning: File not found - /kaggle/input/data-car-public/Public/Mitsubishi/22521586-22521559.Mitsubishi.163 (1).jpg\n",
      "Warning: File not found - /kaggle/input/data-car-public/Public/Mitsubishi/22521586-22521559.Mitsubishi.168 (1).jpg\n",
      "Warning: File not found - /kaggle/input/data-car-public/Public/Mitsubishi/22521586-22521559.Mitsubishi.178 (1).jpg\n",
      "Warning: File not found - /kaggle/input/data-car-public/Public/Mitsubishi/22521586-22521559.Mitsubishi.180 (1).jpg\n",
      "Warning: File not found - /kaggle/input/data-car-public/Public/Honda/22521492-22521599.Honda.3 (1).jpg\n",
      "Valid images: 6954\n",
      "Invalid images: 6\n"
     ]
    }
   ],
   "source": [
    "def check_image(df, column=\"ImageFullPath\"):\n",
    "    valid_images = []\n",
    "    invalid_images = []\n",
    "    for path in df[column]:\n",
    "        if not os.path.exists(path):\n",
    "            print(f\"Warning: File not found - {path}\")\n",
    "            continue\n",
    "        try:\n",
    "            with Image.open(path) as img:\n",
    "                img.verify()  # Xác minh file là ảnh hợp lệ\n",
    "                valid_images.append(path)\n",
    "        except (UnidentifiedImageError, FileNotFoundError, IOError):\n",
    "            invalid_images.append(path)\n",
    "    print(f\"Valid images: {len(valid_images)}\")\n",
    "    print(f\"Invalid images: {len(invalid_images)}\")\n",
    "    return valid_images\n",
    "            \n",
    "# Kiểm tra dữ liệu train và test\n",
    "train_valid_paths = check_image(train_df)\n",
    "test_valid_paths = check_image(test_df)\n",
    "\n",
    "# Lọc chỉ giữ lại các ảnh hợp lệ\n",
    "train_df = train_df[train_df['ImageFullPath'].isin(train_valid_paths)]\n",
    "test_df = test_df[test_df['ImageFullPath'].isin(test_valid_paths)]"
   ]
  },
  {
   "cell_type": "code",
   "execution_count": 9,
   "id": "a44e6903",
   "metadata": {
    "execution": {
     "iopub.execute_input": "2025-01-13T18:11:29.968756Z",
     "iopub.status.busy": "2025-01-13T18:11:29.968386Z",
     "iopub.status.idle": "2025-01-13T18:11:29.977351Z",
     "shell.execute_reply": "2025-01-13T18:11:29.976516Z"
    },
    "papermill": {
     "duration": 0.016703,
     "end_time": "2025-01-13T18:11:29.978732",
     "exception": false,
     "start_time": "2025-01-13T18:11:29.962029",
     "status": "completed"
    },
    "tags": []
   },
   "outputs": [
    {
     "data": {
      "text/html": [
       "<div>\n",
       "<style scoped>\n",
       "    .dataframe tbody tr th:only-of-type {\n",
       "        vertical-align: middle;\n",
       "    }\n",
       "\n",
       "    .dataframe tbody tr th {\n",
       "        vertical-align: top;\n",
       "    }\n",
       "\n",
       "    .dataframe thead th {\n",
       "        text-align: right;\n",
       "    }\n",
       "</style>\n",
       "<table border=\"1\" class=\"dataframe\">\n",
       "  <thead>\n",
       "    <tr style=\"text-align: right;\">\n",
       "      <th></th>\n",
       "      <th>ImageFullPath</th>\n",
       "      <th>CategoryID</th>\n",
       "    </tr>\n",
       "  </thead>\n",
       "  <tbody>\n",
       "    <tr>\n",
       "      <th>0</th>\n",
       "      <td>/kaggle/input/data-car-public/Public/Mazda/225...</td>\n",
       "      <td>4</td>\n",
       "    </tr>\n",
       "    <tr>\n",
       "      <th>1</th>\n",
       "      <td>/kaggle/input/data-car-public/Public/Mazda/225...</td>\n",
       "      <td>4</td>\n",
       "    </tr>\n",
       "    <tr>\n",
       "      <th>2</th>\n",
       "      <td>/kaggle/input/data-car-public/Public/Mazda/225...</td>\n",
       "      <td>4</td>\n",
       "    </tr>\n",
       "    <tr>\n",
       "      <th>3</th>\n",
       "      <td>/kaggle/input/data-car-public/Public/Mazda/225...</td>\n",
       "      <td>4</td>\n",
       "    </tr>\n",
       "    <tr>\n",
       "      <th>4</th>\n",
       "      <td>/kaggle/input/data-car-public/Public/Mazda/225...</td>\n",
       "      <td>4</td>\n",
       "    </tr>\n",
       "    <tr>\n",
       "      <th>...</th>\n",
       "      <td>...</td>\n",
       "      <td>...</td>\n",
       "    </tr>\n",
       "    <tr>\n",
       "      <th>27858</th>\n",
       "      <td>/kaggle/input/data-car-public/Public/Honda/225...</td>\n",
       "      <td>1</td>\n",
       "    </tr>\n",
       "    <tr>\n",
       "      <th>27859</th>\n",
       "      <td>/kaggle/input/data-car-public/Public/Honda/225...</td>\n",
       "      <td>1</td>\n",
       "    </tr>\n",
       "    <tr>\n",
       "      <th>27860</th>\n",
       "      <td>/kaggle/input/data-car-public/Public/Honda/225...</td>\n",
       "      <td>1</td>\n",
       "    </tr>\n",
       "    <tr>\n",
       "      <th>27861</th>\n",
       "      <td>/kaggle/input/data-car-public/Public/Honda/225...</td>\n",
       "      <td>1</td>\n",
       "    </tr>\n",
       "    <tr>\n",
       "      <th>27862</th>\n",
       "      <td>/kaggle/input/data-car-public/Public/Honda/225...</td>\n",
       "      <td>1</td>\n",
       "    </tr>\n",
       "  </tbody>\n",
       "</table>\n",
       "<p>26033 rows × 2 columns</p>\n",
       "</div>"
      ],
      "text/plain": [
       "                                           ImageFullPath CategoryID\n",
       "0      /kaggle/input/data-car-public/Public/Mazda/225...          4\n",
       "1      /kaggle/input/data-car-public/Public/Mazda/225...          4\n",
       "2      /kaggle/input/data-car-public/Public/Mazda/225...          4\n",
       "3      /kaggle/input/data-car-public/Public/Mazda/225...          4\n",
       "4      /kaggle/input/data-car-public/Public/Mazda/225...          4\n",
       "...                                                  ...        ...\n",
       "27858  /kaggle/input/data-car-public/Public/Honda/225...          1\n",
       "27859  /kaggle/input/data-car-public/Public/Honda/225...          1\n",
       "27860  /kaggle/input/data-car-public/Public/Honda/225...          1\n",
       "27861  /kaggle/input/data-car-public/Public/Honda/225...          1\n",
       "27862  /kaggle/input/data-car-public/Public/Honda/225...          1\n",
       "\n",
       "[26033 rows x 2 columns]"
      ]
     },
     "execution_count": 9,
     "metadata": {},
     "output_type": "execute_result"
    }
   ],
   "source": [
    "train_df"
   ]
  },
  {
   "cell_type": "code",
   "execution_count": 10,
   "id": "cd0ef433",
   "metadata": {
    "execution": {
     "iopub.execute_input": "2025-01-13T18:11:29.990921Z",
     "iopub.status.busy": "2025-01-13T18:11:29.990682Z",
     "iopub.status.idle": "2025-01-13T18:11:44.627231Z",
     "shell.execute_reply": "2025-01-13T18:11:44.626147Z"
    },
    "papermill": {
     "duration": 14.644129,
     "end_time": "2025-01-13T18:11:44.628913",
     "exception": false,
     "start_time": "2025-01-13T18:11:29.984784",
     "status": "completed"
    },
    "tags": []
   },
   "outputs": [
    {
     "name": "stdout",
     "output_type": "stream",
     "text": [
      "Found 20826 validated image filenames belonging to 9 classes.\n",
      "Found 5207 validated image filenames belonging to 9 classes.\n",
      "Found 6954 validated image filenames belonging to 9 classes.\n"
     ]
    }
   ],
   "source": [
    "from sklearn.model_selection import train_test_split\n",
    "from tensorflow.keras.preprocessing.image import ImageDataGenerator\n",
    "from tensorflow.keras.applications.resnet50 import preprocess_input\n",
    "\n",
    "# Chia dữ liệu theo tỷ lệ lớp\n",
    "train_data, val_data = train_test_split(\n",
    "    train_df,\n",
    "    test_size=0.2,\n",
    "    stratify=train_df['CategoryID'],  # Đảm bảo phân phối lớp đồng đều\n",
    "    random_state=SEED\n",
    ")\n",
    "\n",
    "# Khởi tạo ImageDataGenerator\n",
    "train_data_generator = ImageDataGenerator(\n",
    "    preprocessing_function=preprocess_input,\n",
    "    # rescale=1/255,\n",
    "    rotation_range=10,          # Xoay ngẫu nhiên\n",
    "    width_shift_range=0.1,      # Dịch chuyển ngang\n",
    "    height_shift_range=0.1,     # Dịch chuyển dọc\n",
    "    shear_range=0.1,            # Biến dạng hình học\n",
    "    zoom_range=0.2,             # Phóng to / thu nhỏ\n",
    "    horizontal_flip=True,       # Lật ngang\n",
    "    fill_mode='nearest'         # Điền các pixel trống bằng giá trị pixel gần nhất\n",
    ")\n",
    "\n",
    "test_data_generator = ImageDataGenerator(\n",
    "    preprocessing_function=preprocess_input\n",
    ")\n",
    "\n",
    "# Cấu hình chung\n",
    "dataframe_config = {\n",
    "    'x_col': 'ImageFullPath',\n",
    "    'y_col': 'CategoryID',\n",
    "    'target_size': (HEIGHT, WIDTH),\n",
    "    'batch_size': BATCH_SIZE,\n",
    "    'class_mode': 'categorical',\n",
    "    'shuffle': True,\n",
    "    'seed': SEED,\n",
    "    'color_mode': 'rgb',\n",
    "}\n",
    "\n",
    "# Flow từ DataFrame\n",
    "train_generator = train_data_generator.flow_from_dataframe(train_data, **dataframe_config)\n",
    "val_generator = train_data_generator.flow_from_dataframe(val_data, **dataframe_config)\n",
    "test_generator = test_data_generator.flow_from_dataframe(test_df, **dataframe_config)\n"
   ]
  },
  {
   "cell_type": "code",
   "execution_count": 11,
   "id": "341e0cc8",
   "metadata": {
    "execution": {
     "iopub.execute_input": "2025-01-13T18:11:44.641620Z",
     "iopub.status.busy": "2025-01-13T18:11:44.641317Z",
     "iopub.status.idle": "2025-01-13T18:11:44.653264Z",
     "shell.execute_reply": "2025-01-13T18:11:44.652010Z"
    },
    "papermill": {
     "duration": 0.019559,
     "end_time": "2025-01-13T18:11:44.654627",
     "exception": false,
     "start_time": "2025-01-13T18:11:44.635068",
     "status": "completed"
    },
    "tags": []
   },
   "outputs": [
    {
     "name": "stdout",
     "output_type": "stream",
     "text": [
      "Data Distribution in Train Generator:\n",
      "  0: 2511\n",
      "  1: 1814\n",
      "  2: 1982\n",
      "  3: 1873\n",
      "  4: 2018\n",
      "  5: 1810\n",
      "  6: 4039\n",
      "  7: 3499\n",
      "  8: 1280\n",
      "\n",
      "\n",
      "Data Distribution in Validation Generator:\n",
      "  0: 628\n",
      "  1: 453\n",
      "  2: 495\n",
      "  3: 468\n",
      "  4: 505\n",
      "  5: 453\n",
      "  6: 1010\n",
      "  7: 875\n",
      "  8: 320\n",
      "\n",
      "\n",
      "Data Distribution in Test Generator:\n",
      "  0: 788\n",
      "  1: 603\n",
      "  2: 653\n",
      "  3: 673\n",
      "  4: 665\n",
      "  5: 596\n",
      "  6: 1334\n",
      "  7: 1183\n",
      "  8: 459\n",
      "\n",
      "\n"
     ]
    }
   ],
   "source": [
    "import numpy as np\n",
    "\n",
    "def check_data_distribution(generator, name):\n",
    "    # Truy cập các nhãn được gán trong generator\n",
    "    labels = generator.classes  # Danh sách chỉ số lớp cho mỗi mẫu\n",
    "    unique, counts = np.unique(labels, return_counts=True)  # Đếm số lượng mẫu mỗi lớp\n",
    "    \n",
    "    # Truy cập tên lớp\n",
    "    class_names = list(generator.class_indices.keys())  # Danh sách tên các lớp\n",
    "    distribution = dict(zip(class_names, counts))  # Ghép tên lớp và số lượng mẫu\n",
    "    \n",
    "    print(f\"Data Distribution in {name}:\")\n",
    "    for cls, count in distribution.items():\n",
    "        print(f\"  {cls}: {count}\")\n",
    "    print(\"\\n\")\n",
    "    return distribution\n",
    "\n",
    "# Kiểm tra phân phối trên từng generator\n",
    "train_distribution = check_data_distribution(train_generator, \"Train Generator\")\n",
    "val_distribution = check_data_distribution(val_generator, \"Validation Generator\")\n",
    "test_distribution = check_data_distribution(test_generator, \"Test Generator\")\n"
   ]
  },
  {
   "cell_type": "code",
   "execution_count": 12,
   "id": "3e4002a2",
   "metadata": {
    "execution": {
     "iopub.execute_input": "2025-01-13T18:11:44.665777Z",
     "iopub.status.busy": "2025-01-13T18:11:44.665558Z",
     "iopub.status.idle": "2025-01-13T18:11:45.602924Z",
     "shell.execute_reply": "2025-01-13T18:11:45.602005Z"
    },
    "papermill": {
     "duration": 0.944538,
     "end_time": "2025-01-13T18:11:45.604332",
     "exception": false,
     "start_time": "2025-01-13T18:11:44.659794",
     "status": "completed"
    },
    "tags": []
   },
   "outputs": [
    {
     "data": {
      "image/png": "[encoded data removed]",
      "text/plain": [
       "<Figure size 1200x600 with 1 Axes>"
      ]
     },
     "metadata": {},
     "output_type": "display_data"
    },
    {
     "data": {
      "image/png": "[encoded data removed]",
      "text/plain": [
       "<Figure size 1200x600 with 1 Axes>"
      ]
     },
     "metadata": {},
     "output_type": "display_data"
    },
    {
     "data": {
      "image/png": "[encoded data removed]",
      "text/plain": [
       "<Figure size 1200x600 with 1 Axes>"
      ]
     },
     "metadata": {},
     "output_type": "display_data"
    }
   ],
   "source": [
    "import matplotlib.pyplot as plt\n",
    "\n",
    "def plot_distribution(distribution, title):\n",
    "    classes = list(distribution.keys())\n",
    "    counts = list(distribution.values())\n",
    "    \n",
    "    plt.figure(figsize=(12, 6))\n",
    "    plt.bar(classes, counts, color='skyblue')\n",
    "    plt.title(title)\n",
    "    plt.xlabel(\"Classes\")\n",
    "    plt.ylabel(\"Number of Samples\")\n",
    "    plt.xticks(rotation=45)\n",
    "    plt.show()\n",
    "\n",
    "# Vẽ biểu đồ phân phối\n",
    "plot_distribution(train_distribution, \"Train Data Distribution\")\n",
    "plot_distribution(val_distribution, \"Validation Data Distribution\")\n",
    "plot_distribution(test_distribution, \"Test Data Distribution\")\n"
   ]
  },
  {
   "cell_type": "code",
   "execution_count": 13,
   "id": "cf42ea8d",
   "metadata": {
    "execution": {
     "iopub.execute_input": "2025-01-13T18:11:45.619716Z",
     "iopub.status.busy": "2025-01-13T18:11:45.619475Z",
     "iopub.status.idle": "2025-01-13T18:11:48.171466Z",
     "shell.execute_reply": "2025-01-13T18:11:48.170755Z"
    },
    "papermill": {
     "duration": 2.561151,
     "end_time": "2025-01-13T18:11:48.172991",
     "exception": false,
     "start_time": "2025-01-13T18:11:45.611840",
     "status": "completed"
    },
    "tags": []
   },
   "outputs": [
    {
     "name": "stdout",
     "output_type": "stream",
     "text": [
      "Downloading data from https://storage.googleapis.com/tensorflow/keras-applications/resnet/resnet50_weights_tf_dim_ordering_tf_kernels_notop.h5\n",
      "\u001b[1m94765736/94765736\u001b[0m \u001b[32m━━━━━━━━━━━━━━━━━━━━\u001b[0m\u001b[37m\u001b[0m \u001b[1m0s\u001b[0m 0us/step\n"
     ]
    }
   ],
   "source": [
    "base_model = ResNet50(\n",
    "    include_top=False,  \n",
    "    weights='imagenet', \n",
    "    input_shape=(224, 224, 3) \n",
    ")\n",
    "\n",
    "model = models.Sequential()\n",
    "model.add(base_model)\n",
    "model.add(layers.GlobalAveragePooling2D())\n",
    "model.add(layers.Dense(1024, activation='relu'))\n",
    "model.add(layers.Dropout(0.5))\n",
    "model.add(layers.Dense(512, activation='relu'))\n",
    "model.add(layers.Dense(256, activation='relu'))\n",
    "model.add(layers.Dense(128, activation='relu'))\n",
    "model.add(layers.Dense(9, activation='softmax'))  "
   ]
  },
  {
   "cell_type": "markdown",
   "id": "efba1217",
   "metadata": {
    "papermill": {
     "duration": 0.007003,
     "end_time": "2025-01-13T18:11:48.187489",
     "exception": false,
     "start_time": "2025-01-13T18:11:48.180486",
     "status": "completed"
    },
    "tags": []
   },
   "source": [
    "# Training"
   ]
  },
  {
   "cell_type": "code",
   "execution_count": 14,
   "id": "9e508ae8",
   "metadata": {
    "execution": {
     "iopub.execute_input": "2025-01-13T18:11:48.202290Z",
     "iopub.status.busy": "2025-01-13T18:11:48.202050Z",
     "iopub.status.idle": "2025-01-13T18:11:48.208470Z",
     "shell.execute_reply": "2025-01-13T18:11:48.207663Z"
    },
    "papermill": {
     "duration": 0.01539,
     "end_time": "2025-01-13T18:11:48.209818",
     "exception": false,
     "start_time": "2025-01-13T18:11:48.194428",
     "status": "completed"
    },
    "tags": []
   },
   "outputs": [],
   "source": [
    "from tensorflow.keras.callbacks import ModelCheckpoint, EarlyStopping, ReduceLROnPlateau, TensorBoard, LearningRateScheduler\n",
    "\n",
    "# Callbacks\n",
    "checkpoint = ModelCheckpoint(\"model.keras\", monitor=\"val_loss\", save_best_only=True, verbose=1)\n",
    "early_stopping = EarlyStopping(monitor=\"val_loss\", patience=3, verbose=1, restore_best_weights=True)\n",
    "reduce_lr = ReduceLROnPlateau(\n",
    "    monitor='val_loss',\n",
    "    factor=0.5,\n",
    "    patience=2,\n",
    "    verbose=1,\n",
    "    min_lr=1e-6\n",
    ")\n",
    "\n",
    "callbacks = [checkpoint,reduce_lr,early_stopping]"
   ]
  },
  {
   "cell_type": "code",
   "execution_count": 15,
   "id": "6d29500c",
   "metadata": {
    "execution": {
     "iopub.execute_input": "2025-01-13T18:11:48.225896Z",
     "iopub.status.busy": "2025-01-13T18:11:48.225617Z",
     "iopub.status.idle": "2025-01-13T18:11:48.228819Z",
     "shell.execute_reply": "2025-01-13T18:11:48.228041Z"
    },
    "papermill": {
     "duration": 0.012746,
     "end_time": "2025-01-13T18:11:48.230121",
     "exception": false,
     "start_time": "2025-01-13T18:11:48.217375",
     "status": "completed"
    },
    "tags": []
   },
   "outputs": [],
   "source": [
    "learning_rate = 0.0001\n",
    "epochs = 30"
   ]
  },
  {
   "cell_type": "code",
   "execution_count": 16,
   "id": "53aebcb1",
   "metadata": {
    "execution": {
     "iopub.execute_input": "2025-01-13T18:11:48.245209Z",
     "iopub.status.busy": "2025-01-13T18:11:48.244980Z",
     "iopub.status.idle": "2025-01-13T18:11:48.257527Z",
     "shell.execute_reply": "2025-01-13T18:11:48.256728Z"
    },
    "papermill": {
     "duration": 0.021279,
     "end_time": "2025-01-13T18:11:48.258705",
     "exception": false,
     "start_time": "2025-01-13T18:11:48.237426",
     "status": "completed"
    },
    "tags": []
   },
   "outputs": [],
   "source": [
    "model.compile(\n",
    "    optimizer=Adam(learning_rate=learning_rate),\n",
    "    loss='categorical_crossentropy',\n",
    "    metrics=['accuracy']\n",
    ")"
   ]
  },
  {
   "cell_type": "code",
   "execution_count": 17,
   "id": "9f1aa74b",
   "metadata": {
    "execution": {
     "iopub.execute_input": "2025-01-13T18:11:48.273462Z",
     "iopub.status.busy": "2025-01-13T18:11:48.273203Z",
     "iopub.status.idle": "2025-01-13T18:11:48.298229Z",
     "shell.execute_reply": "2025-01-13T18:11:48.297378Z"
    },
    "papermill": {
     "duration": 0.033803,
     "end_time": "2025-01-13T18:11:48.299462",
     "exception": false,
     "start_time": "2025-01-13T18:11:48.265659",
     "status": "completed"
    },
    "tags": []
   },
   "outputs": [],
   "source": [
    "from sklearn.utils.class_weight import compute_class_weight\n",
    "\n",
    "class_weights = compute_class_weight(\n",
    "    class_weight='balanced',\n",
    "    classes=np.unique(train_df['CategoryID']),\n",
    "    y=train_df['CategoryID']\n",
    ")\n",
    "\n",
    "class_weights_dict = dict(enumerate(class_weights))"
   ]
  },
  {
   "cell_type": "code",
   "execution_count": 18,
   "id": "eb91ecb6",
   "metadata": {
    "execution": {
     "iopub.execute_input": "2025-01-13T18:11:48.314226Z",
     "iopub.status.busy": "2025-01-13T18:11:48.313995Z",
     "iopub.status.idle": "2025-01-13T20:13:41.821351Z",
     "shell.execute_reply": "2025-01-13T20:13:41.820303Z"
    },
    "papermill": {
     "duration": 7313.54294,
     "end_time": "2025-01-13T20:13:41.849508",
     "exception": false,
     "start_time": "2025-01-13T18:11:48.306568",
     "status": "completed"
    },
    "tags": []
   },
   "outputs": [
    {
     "name": "stdout",
     "output_type": "stream",
     "text": [
      "Epoch 1/30\n"
     ]
    },
    {
     "name": "stderr",
     "output_type": "stream",
     "text": [
      "/usr/local/lib/python3.10/dist-packages/keras/src/trainers/data_adapters/py_dataset_adapter.py:121: UserWarning: Your `PyDataset` class should call `super().__init__(**kwargs)` in its constructor. `**kwargs` can include `workers`, `use_multiprocessing`, `max_queue_size`. Do not pass these arguments to `fit()`, as they will be ignored.\n",
      "  self._warn_if_super_not_called()\n"
     ]
    },
    {
     "name": "stdout",
     "output_type": "stream",
     "text": [
      "\u001b[1m 11/326\u001b[0m \u001b[37m━━━━━━━━━━━━━━━━━━━━\u001b[0m \u001b[1m6:47\u001b[0m 1s/step - accuracy: 0.0869 - loss: 2.3525"
     ]
    },
    {
     "name": "stderr",
     "output_type": "stream",
     "text": [
      "/usr/local/lib/python3.10/dist-packages/PIL/Image.py:1056: UserWarning: Palette images with Transparency expressed in bytes should be converted to RGBA images\n",
      "  warnings.warn(\n"
     ]
    },
    {
     "name": "stdout",
     "output_type": "stream",
     "text": [
      "\u001b[1m326/326\u001b[0m \u001b[32m━━━━━━━━━━━━━━━━━━━━\u001b[0m\u001b[37m\u001b[0m \u001b[1m0s\u001b[0m 1s/step - accuracy: 0.2892 - loss: 1.9331\n",
      "Epoch 1: val_loss improved from inf to 1.42236, saving model to model.keras\n",
      "\u001b[1m326/326\u001b[0m \u001b[32m━━━━━━━━━━━━━━━━━━━━\u001b[0m\u001b[37m\u001b[0m \u001b[1m653s\u001b[0m 2s/step - accuracy: 0.2896 - loss: 1.9322 - val_accuracy: 0.5256 - val_loss: 1.4224 - learning_rate: 1.0000e-04\n",
      "Epoch 2/30\n",
      "\u001b[1m326/326\u001b[0m \u001b[32m━━━━━━━━━━━━━━━━━━━━\u001b[0m\u001b[37m\u001b[0m \u001b[1m0s\u001b[0m 1s/step - accuracy: 0.6383 - loss: 1.0501\n",
      "Epoch 2: val_loss improved from 1.42236 to 1.11001, saving model to model.keras\n",
      "\u001b[1m326/326\u001b[0m \u001b[32m━━━━━━━━━━━━━━━━━━━━\u001b[0m\u001b[37m\u001b[0m \u001b[1m563s\u001b[0m 2s/step - accuracy: 0.6384 - loss: 1.0499 - val_accuracy: 0.6270 - val_loss: 1.1100 - learning_rate: 1.0000e-04\n",
      "Epoch 3/30\n",
      "\u001b[1m326/326\u001b[0m \u001b[32m━━━━━━━━━━━━━━━━━━━━\u001b[0m\u001b[37m\u001b[0m \u001b[1m0s\u001b[0m 1s/step - accuracy: 0.7394 - loss: 0.7648\n",
      "Epoch 3: val_loss improved from 1.11001 to 0.91682, saving model to model.keras\n",
      "\u001b[1m326/326\u001b[0m \u001b[32m━━━━━━━━━━━━━━━━━━━━\u001b[0m\u001b[37m\u001b[0m \u001b[1m552s\u001b[0m 2s/step - accuracy: 0.7394 - loss: 0.7647 - val_accuracy: 0.6998 - val_loss: 0.9168 - learning_rate: 1.0000e-04\n",
      "Epoch 4/30\n",
      "\u001b[1m326/326\u001b[0m \u001b[32m━━━━━━━━━━━━━━━━━━━━\u001b[0m\u001b[37m\u001b[0m \u001b[1m0s\u001b[0m 1s/step - accuracy: 0.7885 - loss: 0.6122\n",
      "Epoch 4: val_loss did not improve from 0.91682\n",
      "\u001b[1m326/326\u001b[0m \u001b[32m━━━━━━━━━━━━━━━━━━━━\u001b[0m\u001b[37m\u001b[0m \u001b[1m558s\u001b[0m 2s/step - accuracy: 0.7885 - loss: 0.6121 - val_accuracy: 0.7085 - val_loss: 0.9721 - learning_rate: 1.0000e-04\n",
      "Epoch 5/30\n",
      "\u001b[1m326/326\u001b[0m \u001b[32m━━━━━━━━━━━━━━━━━━━━\u001b[0m\u001b[37m\u001b[0m \u001b[1m0s\u001b[0m 1s/step - accuracy: 0.8260 - loss: 0.5086\n",
      "Epoch 5: val_loss improved from 0.91682 to 0.79156, saving model to model.keras\n",
      "\u001b[1m326/326\u001b[0m \u001b[32m━━━━━━━━━━━━━━━━━━━━\u001b[0m\u001b[37m\u001b[0m \u001b[1m547s\u001b[0m 2s/step - accuracy: 0.8260 - loss: 0.5086 - val_accuracy: 0.7411 - val_loss: 0.7916 - learning_rate: 1.0000e-04\n",
      "Epoch 6/30\n",
      "\u001b[1m326/326\u001b[0m \u001b[32m━━━━━━━━━━━━━━━━━━━━\u001b[0m\u001b[37m\u001b[0m \u001b[1m0s\u001b[0m 1s/step - accuracy: 0.8590 - loss: 0.4077\n",
      "Epoch 6: val_loss improved from 0.79156 to 0.73905, saving model to model.keras\n",
      "\u001b[1m326/326\u001b[0m \u001b[32m━━━━━━━━━━━━━━━━━━━━\u001b[0m\u001b[37m\u001b[0m \u001b[1m547s\u001b[0m 2s/step - accuracy: 0.8590 - loss: 0.4077 - val_accuracy: 0.7655 - val_loss: 0.7391 - learning_rate: 1.0000e-04\n",
      "Epoch 7/30\n",
      "\u001b[1m326/326\u001b[0m \u001b[32m━━━━━━━━━━━━━━━━━━━━\u001b[0m\u001b[37m\u001b[0m \u001b[1m0s\u001b[0m 1s/step - accuracy: 0.8755 - loss: 0.3593\n",
      "Epoch 7: val_loss improved from 0.73905 to 0.72633, saving model to model.keras\n",
      "\u001b[1m326/326\u001b[0m \u001b[32m━━━━━━━━━━━━━━━━━━━━\u001b[0m\u001b[37m\u001b[0m \u001b[1m547s\u001b[0m 2s/step - accuracy: 0.8755 - loss: 0.3593 - val_accuracy: 0.7761 - val_loss: 0.7263 - learning_rate: 1.0000e-04\n",
      "Epoch 8/30\n",
      "\u001b[1m326/326\u001b[0m \u001b[32m━━━━━━━━━━━━━━━━━━━━\u001b[0m\u001b[37m\u001b[0m \u001b[1m0s\u001b[0m 1s/step - accuracy: 0.8871 - loss: 0.3218\n",
      "Epoch 8: val_loss did not improve from 0.72633\n",
      "\u001b[1m326/326\u001b[0m \u001b[32m━━━━━━━━━━━━━━━━━━━━\u001b[0m\u001b[37m\u001b[0m \u001b[1m549s\u001b[0m 2s/step - accuracy: 0.8871 - loss: 0.3219 - val_accuracy: 0.7423 - val_loss: 0.8816 - learning_rate: 1.0000e-04\n",
      "Epoch 9/30\n",
      "\u001b[1m326/326\u001b[0m \u001b[32m━━━━━━━━━━━━━━━━━━━━\u001b[0m\u001b[37m\u001b[0m \u001b[1m0s\u001b[0m 1s/step - accuracy: 0.8998 - loss: 0.2881\n",
      "Epoch 9: val_loss did not improve from 0.72633\n",
      "\n",
      "Epoch 9: ReduceLROnPlateau reducing learning rate to 4.999999873689376e-05.\n",
      "\u001b[1m326/326\u001b[0m \u001b[32m━━━━━━━━━━━━━━━━━━━━\u001b[0m\u001b[37m\u001b[0m \u001b[1m548s\u001b[0m 2s/step - accuracy: 0.8998 - loss: 0.2881 - val_accuracy: 0.7709 - val_loss: 0.7856 - learning_rate: 1.0000e-04\n",
      "Epoch 10/30\n",
      "\u001b[1m326/326\u001b[0m \u001b[32m━━━━━━━━━━━━━━━━━━━━\u001b[0m\u001b[37m\u001b[0m \u001b[1m0s\u001b[0m 1s/step - accuracy: 0.9330 - loss: 0.1930\n",
      "Epoch 10: val_loss improved from 0.72633 to 0.64490, saving model to model.keras\n",
      "\u001b[1m326/326\u001b[0m \u001b[32m━━━━━━━━━━━━━━━━━━━━\u001b[0m\u001b[37m\u001b[0m \u001b[1m568s\u001b[0m 2s/step - accuracy: 0.9330 - loss: 0.1930 - val_accuracy: 0.8208 - val_loss: 0.6449 - learning_rate: 5.0000e-05\n",
      "Epoch 11/30\n",
      "\u001b[1m326/326\u001b[0m \u001b[32m━━━━━━━━━━━━━━━━━━━━\u001b[0m\u001b[37m\u001b[0m \u001b[1m0s\u001b[0m 1s/step - accuracy: 0.9515 - loss: 0.1324\n",
      "Epoch 11: val_loss did not improve from 0.64490\n",
      "\u001b[1m326/326\u001b[0m \u001b[32m━━━━━━━━━━━━━━━━━━━━\u001b[0m\u001b[37m\u001b[0m \u001b[1m556s\u001b[0m 2s/step - accuracy: 0.9515 - loss: 0.1324 - val_accuracy: 0.8206 - val_loss: 0.6540 - learning_rate: 5.0000e-05\n",
      "Epoch 12/30\n",
      "\u001b[1m326/326\u001b[0m \u001b[32m━━━━━━━━━━━━━━━━━━━━\u001b[0m\u001b[37m\u001b[0m \u001b[1m0s\u001b[0m 1s/step - accuracy: 0.9589 - loss: 0.1118\n",
      "Epoch 12: val_loss did not improve from 0.64490\n",
      "\n",
      "Epoch 12: ReduceLROnPlateau reducing learning rate to 2.499999936844688e-05.\n",
      "\u001b[1m326/326\u001b[0m \u001b[32m━━━━━━━━━━━━━━━━━━━━\u001b[0m\u001b[37m\u001b[0m \u001b[1m554s\u001b[0m 2s/step - accuracy: 0.9588 - loss: 0.1118 - val_accuracy: 0.8162 - val_loss: 0.7148 - learning_rate: 5.0000e-05\n",
      "Epoch 13/30\n",
      "\u001b[1m326/326\u001b[0m \u001b[32m━━━━━━━━━━━━━━━━━━━━\u001b[0m\u001b[37m\u001b[0m \u001b[1m0s\u001b[0m 1s/step - accuracy: 0.9699 - loss: 0.0832\n",
      "Epoch 13: val_loss did not improve from 0.64490\n",
      "\u001b[1m326/326\u001b[0m \u001b[32m━━━━━━━━━━━━━━━━━━━━\u001b[0m\u001b[37m\u001b[0m \u001b[1m569s\u001b[0m 2s/step - accuracy: 0.9699 - loss: 0.0832 - val_accuracy: 0.8325 - val_loss: 0.6745 - learning_rate: 2.5000e-05\n",
      "Epoch 13: early stopping\n",
      "Restoring model weights from the end of the best epoch: 10.\n"
     ]
    }
   ],
   "source": [
    "history = model.fit(\n",
    "    train_generator,\n",
    "    epochs=epochs,\n",
    "    validation_data=val_generator,\n",
    "    callbacks=callbacks,\n",
    "    class_weight=class_weights_dict\n",
    ")"
   ]
  },
  {
   "cell_type": "markdown",
   "id": "03987ef0",
   "metadata": {
    "papermill": {
     "duration": 0.205735,
     "end_time": "2025-01-13T20:13:42.261582",
     "exception": false,
     "start_time": "2025-01-13T20:13:42.055847",
     "status": "completed"
    },
    "tags": []
   },
   "source": [
    "# Testing"
   ]
  },
  {
   "cell_type": "code",
   "execution_count": 19,
   "id": "d743ecf0",
   "metadata": {
    "execution": {
     "iopub.execute_input": "2025-01-13T20:13:42.680559Z",
     "iopub.status.busy": "2025-01-13T20:13:42.680202Z",
     "iopub.status.idle": "2025-01-13T20:15:24.067977Z",
     "shell.execute_reply": "2025-01-13T20:15:24.067141Z"
    },
    "papermill": {
     "duration": 101.600229,
     "end_time": "2025-01-13T20:15:24.069390",
     "exception": false,
     "start_time": "2025-01-13T20:13:42.469161",
     "status": "completed"
    },
    "tags": []
   },
   "outputs": [
    {
     "name": "stdout",
     "output_type": "stream",
     "text": [
      "\u001b[1m109/109\u001b[0m \u001b[32m━━━━━━━━━━━━━━━━━━━━\u001b[0m\u001b[37m\u001b[0m \u001b[1m100s\u001b[0m 916ms/step - accuracy: 0.8058 - loss: 0.7416\n",
      "Test Accuracy: 0.8074489235877991\n"
     ]
    }
   ],
   "source": [
    "loss, accuracy = model.evaluate(test_generator, steps=len(test_generator))\n",
    "print(f\"Test Accuracy: {accuracy}\")"
   ]
  }
 ],
 "metadata": {
  "kaggle": {
   "accelerator": "nvidiaTeslaT4",
   "dataSources": [
    {
     "datasetId": 6456424,
     "sourceId": 10417621,
     "sourceType": "datasetVersion"
    },
    {
     "datasetId": 6456529,
     "sourceId": 10417775,
     "sourceType": "datasetVersion"
    },
    {
     "datasetId": 6461064,
     "sourceId": 10460360,
     "sourceType": "datasetVersion"
    }
   ],
   "dockerImageVersionId": 30822,
   "isGpuEnabled": true,
   "isInternetEnabled": true,
   "language": "python",
   "sourceType": "notebook"
  },
  "kernelspec": {
   "display_name": "Python 3",
   "language": "python",
   "name": "python3"
  },
  "language_info": {
   "codemirror_mode": {
    "name": "ipython",
    "version": 3
   },
   "file_extension": ".py",
   "mimetype": "text/x-python",
   "name": "python",
   "nbconvert_exporter": "python",
   "pygments_lexer": "ipython3",
   "version": "3.10.12"
  },
  "papermill": {
   "default_parameters": {},
   "duration": 7699.384371,
   "end_time": "2025-01-13T20:15:28.722487",
   "environment_variables": {},
   "exception": true,
   "input_path": "__notebook__.ipynb",
   "output_path": "__notebook__.ipynb",
   "parameters": {},
   "start_time": "2025-01-13T18:07:09.338116",
   "version": "2.6.0"
  }
 },
 "nbformat": 4,
 "nbformat_minor": 5
}
