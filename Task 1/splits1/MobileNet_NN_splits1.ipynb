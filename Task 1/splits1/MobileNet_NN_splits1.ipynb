{
 "cells": [
  {
   "cell_type": "code",
   "execution_count": 1,
   "id": "70b7ecea",
   "metadata": {
    "execution": {
     "iopub.execute_input": "2025-01-16T17:16:58.435085Z",
     "iopub.status.busy": "2025-01-16T17:16:58.434737Z",
     "iopub.status.idle": "2025-01-16T17:17:08.669723Z",
     "shell.execute_reply": "2025-01-16T17:17:08.668852Z"
    },
    "papermill": {
     "duration": 10.243693,
     "end_time": "2025-01-16T17:17:08.671366",
     "exception": false,
     "start_time": "2025-01-16T17:16:58.427673",
     "status": "completed"
    },
    "tags": []
   },
   "outputs": [],
   "source": [
    "import os\n",
    "import pandas as pd\n",
    "import multiprocessing\n",
    "from PIL import Image, UnidentifiedImageError\n",
    "from sklearn.model_selection import train_test_split\n",
    "from tensorflow.keras.preprocessing.image import ImageDataGenerator\n",
    "from keras.optimizers import Adam\n",
    "import tensorflow as tf\n",
    "from tensorflow.keras.applications import ResNet50, MobileNet\n",
    "from tensorflow.keras import layers, models, optimizers, callbacks\n",
    "import numpy as np\n",
    "import hashlib\n",
    "import matplotlib.pyplot as plt\n"
   ]
  },
  {
   "cell_type": "markdown",
   "id": "6e838225",
   "metadata": {
    "papermill": {
     "duration": 0.004966,
     "end_time": "2025-01-16T17:17:08.681927",
     "exception": false,
     "start_time": "2025-01-16T17:17:08.676961",
     "status": "completed"
    },
    "tags": []
   },
   "source": [
    "# Data Loading"
   ]
  },
  {
   "cell_type": "code",
   "execution_count": 2,
   "id": "d1a59c42",
   "metadata": {
    "execution": {
     "iopub.execute_input": "2025-01-16T17:17:08.693309Z",
     "iopub.status.busy": "2025-01-16T17:17:08.692734Z",
     "iopub.status.idle": "2025-01-16T17:17:08.697251Z",
     "shell.execute_reply": "2025-01-16T17:17:08.696116Z"
    },
    "papermill": {
     "duration": 0.011947,
     "end_time": "2025-01-16T17:17:08.698847",
     "exception": false,
     "start_time": "2025-01-16T17:17:08.686900",
     "status": "completed"
    },
    "tags": []
   },
   "outputs": [],
   "source": [
    "SPLITS_ID = 1\n",
    "BATCH_SIZE = 64\n",
    "WIDTH = 224\n",
    "HEIGHT = 224\n",
    "SEED = 4"
   ]
  },
  {
   "cell_type": "code",
   "execution_count": 3,
   "id": "7b056682",
   "metadata": {
    "execution": {
     "iopub.execute_input": "2025-01-16T17:17:08.709874Z",
     "iopub.status.busy": "2025-01-16T17:17:08.709529Z",
     "iopub.status.idle": "2025-01-16T17:17:08.713535Z",
     "shell.execute_reply": "2025-01-16T17:17:08.712672Z"
    },
    "papermill": {
     "duration": 0.011224,
     "end_time": "2025-01-16T17:17:08.715010",
     "exception": false,
     "start_time": "2025-01-16T17:17:08.703786",
     "status": "completed"
    },
    "tags": []
   },
   "outputs": [],
   "source": [
    "DATASET_PATH = '/kaggle/input/data-car-public/Public'\n",
    "SPLITS_PATH = '/kaggle/input/cardataset-splits/cardataset_splits'"
   ]
  },
  {
   "cell_type": "code",
   "execution_count": 4,
   "id": "f0fe69e6",
   "metadata": {
    "execution": {
     "iopub.execute_input": "2025-01-16T17:17:08.726498Z",
     "iopub.status.busy": "2025-01-16T17:17:08.726153Z",
     "iopub.status.idle": "2025-01-16T17:17:08.859744Z",
     "shell.execute_reply": "2025-01-16T17:17:08.858688Z"
    },
    "papermill": {
     "duration": 0.141316,
     "end_time": "2025-01-16T17:17:08.861641",
     "exception": false,
     "start_time": "2025-01-16T17:17:08.720325",
     "status": "completed"
    },
    "tags": []
   },
   "outputs": [],
   "source": [
    "train_csv = os.path.join(SPLITS_PATH, f\"CarDataset-Splits-{SPLITS_ID}-Train.csv\")\n",
    "test_csv = os.path.join(SPLITS_PATH, f\"CarDataset-Splits-{SPLITS_ID}-Test.csv\")\n",
    "\n",
    "train_df = pd.read_csv(train_csv)\n",
    "test_df = pd.read_csv(test_csv)\n",
    "\n",
    "\n",
    "train_df[\"ImageFullPath\"] = train_df[\"ImageFullPath\"].apply(lambda x: os.path.join(DATASET_PATH, x))\n",
    "test_df[\"ImageFullPath\"] = test_df[\"ImageFullPath\"].apply(lambda x: os.path.join(DATASET_PATH, x))\n",
    "\n",
    "train_df[\"CategoryID\"] = train_df[\"CategoryID\"].astype(str)\n",
    "test_df[\"CategoryID\"] = test_df[\"CategoryID\"].astype(str)"
   ]
  },
  {
   "cell_type": "code",
   "execution_count": 5,
   "id": "4e581e21",
   "metadata": {
    "execution": {
     "iopub.execute_input": "2025-01-16T17:17:08.872949Z",
     "iopub.status.busy": "2025-01-16T17:17:08.872566Z",
     "iopub.status.idle": "2025-01-16T17:17:08.886326Z",
     "shell.execute_reply": "2025-01-16T17:17:08.885379Z"
    },
    "papermill": {
     "duration": 0.021021,
     "end_time": "2025-01-16T17:17:08.887904",
     "exception": false,
     "start_time": "2025-01-16T17:17:08.866883",
     "status": "completed"
    },
    "tags": []
   },
   "outputs": [
    {
     "data": {
      "text/html": [
       "<div>\n",
       "<style scoped>\n",
       "    .dataframe tbody tr th:only-of-type {\n",
       "        vertical-align: middle;\n",
       "    }\n",
       "\n",
       "    .dataframe tbody tr th {\n",
       "        vertical-align: top;\n",
       "    }\n",
       "\n",
       "    .dataframe thead th {\n",
       "        text-align: right;\n",
       "    }\n",
       "</style>\n",
       "<table border=\"1\" class=\"dataframe\">\n",
       "  <thead>\n",
       "    <tr style=\"text-align: right;\">\n",
       "      <th></th>\n",
       "      <th>ImageFullPath</th>\n",
       "      <th>CategoryID</th>\n",
       "    </tr>\n",
       "  </thead>\n",
       "  <tbody>\n",
       "    <tr>\n",
       "      <th>0</th>\n",
       "      <td>/kaggle/input/data-car-public/Public/Mazda/225...</td>\n",
       "      <td>4</td>\n",
       "    </tr>\n",
       "    <tr>\n",
       "      <th>1</th>\n",
       "      <td>/kaggle/input/data-car-public/Public/Mazda/225...</td>\n",
       "      <td>4</td>\n",
       "    </tr>\n",
       "    <tr>\n",
       "      <th>2</th>\n",
       "      <td>/kaggle/input/data-car-public/Public/Mazda/225...</td>\n",
       "      <td>4</td>\n",
       "    </tr>\n",
       "    <tr>\n",
       "      <th>3</th>\n",
       "      <td>/kaggle/input/data-car-public/Public/Mazda/225...</td>\n",
       "      <td>4</td>\n",
       "    </tr>\n",
       "    <tr>\n",
       "      <th>4</th>\n",
       "      <td>/kaggle/input/data-car-public/Public/Mazda/225...</td>\n",
       "      <td>4</td>\n",
       "    </tr>\n",
       "    <tr>\n",
       "      <th>...</th>\n",
       "      <td>...</td>\n",
       "      <td>...</td>\n",
       "    </tr>\n",
       "    <tr>\n",
       "      <th>27858</th>\n",
       "      <td>/kaggle/input/data-car-public/Public/Honda/225...</td>\n",
       "      <td>1</td>\n",
       "    </tr>\n",
       "    <tr>\n",
       "      <th>27859</th>\n",
       "      <td>/kaggle/input/data-car-public/Public/Honda/225...</td>\n",
       "      <td>1</td>\n",
       "    </tr>\n",
       "    <tr>\n",
       "      <th>27860</th>\n",
       "      <td>/kaggle/input/data-car-public/Public/Honda/225...</td>\n",
       "      <td>1</td>\n",
       "    </tr>\n",
       "    <tr>\n",
       "      <th>27861</th>\n",
       "      <td>/kaggle/input/data-car-public/Public/Honda/225...</td>\n",
       "      <td>1</td>\n",
       "    </tr>\n",
       "    <tr>\n",
       "      <th>27862</th>\n",
       "      <td>/kaggle/input/data-car-public/Public/Honda/225...</td>\n",
       "      <td>1</td>\n",
       "    </tr>\n",
       "  </tbody>\n",
       "</table>\n",
       "<p>27863 rows × 2 columns</p>\n",
       "</div>"
      ],
      "text/plain": [
       "                                           ImageFullPath CategoryID\n",
       "0      /kaggle/input/data-car-public/Public/Mazda/225...          4\n",
       "1      /kaggle/input/data-car-public/Public/Mazda/225...          4\n",
       "2      /kaggle/input/data-car-public/Public/Mazda/225...          4\n",
       "3      /kaggle/input/data-car-public/Public/Mazda/225...          4\n",
       "4      /kaggle/input/data-car-public/Public/Mazda/225...          4\n",
       "...                                                  ...        ...\n",
       "27858  /kaggle/input/data-car-public/Public/Honda/225...          1\n",
       "27859  /kaggle/input/data-car-public/Public/Honda/225...          1\n",
       "27860  /kaggle/input/data-car-public/Public/Honda/225...          1\n",
       "27861  /kaggle/input/data-car-public/Public/Honda/225...          1\n",
       "27862  /kaggle/input/data-car-public/Public/Honda/225...          1\n",
       "\n",
       "[27863 rows x 2 columns]"
      ]
     },
     "execution_count": 5,
     "metadata": {},
     "output_type": "execute_result"
    }
   ],
   "source": [
    "train_df"
   ]
  },
  {
   "cell_type": "code",
   "execution_count": 6,
   "id": "71911f3e",
   "metadata": {
    "execution": {
     "iopub.execute_input": "2025-01-16T17:17:08.899968Z",
     "iopub.status.busy": "2025-01-16T17:17:08.899642Z",
     "iopub.status.idle": "2025-01-16T17:17:08.910346Z",
     "shell.execute_reply": "2025-01-16T17:17:08.909364Z"
    },
    "papermill": {
     "duration": 0.018276,
     "end_time": "2025-01-16T17:17:08.911851",
     "exception": false,
     "start_time": "2025-01-16T17:17:08.893575",
     "status": "completed"
    },
    "tags": []
   },
   "outputs": [
    {
     "data": {
      "text/html": [
       "<div>\n",
       "<style scoped>\n",
       "    .dataframe tbody tr th:only-of-type {\n",
       "        vertical-align: middle;\n",
       "    }\n",
       "\n",
       "    .dataframe tbody tr th {\n",
       "        vertical-align: top;\n",
       "    }\n",
       "\n",
       "    .dataframe thead th {\n",
       "        text-align: right;\n",
       "    }\n",
       "</style>\n",
       "<table border=\"1\" class=\"dataframe\">\n",
       "  <thead>\n",
       "    <tr style=\"text-align: right;\">\n",
       "      <th></th>\n",
       "      <th>ImageFullPath</th>\n",
       "      <th>CategoryID</th>\n",
       "    </tr>\n",
       "  </thead>\n",
       "  <tbody>\n",
       "    <tr>\n",
       "      <th>0</th>\n",
       "      <td>/kaggle/input/data-car-public/Public/Mazda/225...</td>\n",
       "      <td>4</td>\n",
       "    </tr>\n",
       "    <tr>\n",
       "      <th>1</th>\n",
       "      <td>/kaggle/input/data-car-public/Public/Mazda/225...</td>\n",
       "      <td>4</td>\n",
       "    </tr>\n",
       "    <tr>\n",
       "      <th>2</th>\n",
       "      <td>/kaggle/input/data-car-public/Public/Mazda/225...</td>\n",
       "      <td>4</td>\n",
       "    </tr>\n",
       "    <tr>\n",
       "      <th>3</th>\n",
       "      <td>/kaggle/input/data-car-public/Public/Mazda/225...</td>\n",
       "      <td>4</td>\n",
       "    </tr>\n",
       "    <tr>\n",
       "      <th>4</th>\n",
       "      <td>/kaggle/input/data-car-public/Public/Mazda/225...</td>\n",
       "      <td>4</td>\n",
       "    </tr>\n",
       "    <tr>\n",
       "      <th>...</th>\n",
       "      <td>...</td>\n",
       "      <td>...</td>\n",
       "    </tr>\n",
       "    <tr>\n",
       "      <th>6961</th>\n",
       "      <td>/kaggle/input/data-car-public/Public/Honda/225...</td>\n",
       "      <td>1</td>\n",
       "    </tr>\n",
       "    <tr>\n",
       "      <th>6962</th>\n",
       "      <td>/kaggle/input/data-car-public/Public/Honda/225...</td>\n",
       "      <td>1</td>\n",
       "    </tr>\n",
       "    <tr>\n",
       "      <th>6963</th>\n",
       "      <td>/kaggle/input/data-car-public/Public/Honda/225...</td>\n",
       "      <td>1</td>\n",
       "    </tr>\n",
       "    <tr>\n",
       "      <th>6964</th>\n",
       "      <td>/kaggle/input/data-car-public/Public/Honda/225...</td>\n",
       "      <td>1</td>\n",
       "    </tr>\n",
       "    <tr>\n",
       "      <th>6965</th>\n",
       "      <td>/kaggle/input/data-car-public/Public/Honda/225...</td>\n",
       "      <td>1</td>\n",
       "    </tr>\n",
       "  </tbody>\n",
       "</table>\n",
       "<p>6966 rows × 2 columns</p>\n",
       "</div>"
      ],
      "text/plain": [
       "                                          ImageFullPath CategoryID\n",
       "0     /kaggle/input/data-car-public/Public/Mazda/225...          4\n",
       "1     /kaggle/input/data-car-public/Public/Mazda/225...          4\n",
       "2     /kaggle/input/data-car-public/Public/Mazda/225...          4\n",
       "3     /kaggle/input/data-car-public/Public/Mazda/225...          4\n",
       "4     /kaggle/input/data-car-public/Public/Mazda/225...          4\n",
       "...                                                 ...        ...\n",
       "6961  /kaggle/input/data-car-public/Public/Honda/225...          1\n",
       "6962  /kaggle/input/data-car-public/Public/Honda/225...          1\n",
       "6963  /kaggle/input/data-car-public/Public/Honda/225...          1\n",
       "6964  /kaggle/input/data-car-public/Public/Honda/225...          1\n",
       "6965  /kaggle/input/data-car-public/Public/Honda/225...          1\n",
       "\n",
       "[6966 rows x 2 columns]"
      ]
     },
     "execution_count": 6,
     "metadata": {},
     "output_type": "execute_result"
    }
   ],
   "source": [
    "test_df"
   ]
  },
  {
   "cell_type": "markdown",
   "id": "8c6734b2",
   "metadata": {
    "papermill": {
     "duration": 0.005339,
     "end_time": "2025-01-16T17:17:08.922651",
     "exception": false,
     "start_time": "2025-01-16T17:17:08.917312",
     "status": "completed"
    },
    "tags": []
   },
   "source": [
    "# Preprocessing"
   ]
  },
  {
   "cell_type": "code",
   "execution_count": 7,
   "id": "1428d6f2",
   "metadata": {
    "execution": {
     "iopub.execute_input": "2025-01-16T17:17:08.934834Z",
     "iopub.status.busy": "2025-01-16T17:17:08.934456Z",
     "iopub.status.idle": "2025-01-16T17:17:08.984256Z",
     "shell.execute_reply": "2025-01-16T17:17:08.983397Z"
    },
    "papermill": {
     "duration": 0.057787,
     "end_time": "2025-01-16T17:17:08.986042",
     "exception": false,
     "start_time": "2025-01-16T17:17:08.928255",
     "status": "completed"
    },
    "tags": []
   },
   "outputs": [],
   "source": [
    "# Đọc danh sách ảnh trùng lặp\n",
    "duplicate = pd.read_csv('/kaggle/input/car-duplicateimages/DuplicateImages.csv')\n",
    "duplicate['Image2'] = duplicate['Image2'].apply(lambda x: os.path.join(DATASET_PATH, x))\n",
    "\n",
    "# Chỉ lấy những ảnh có Similarity > 0.95\n",
    "high_similarity_duplicates = duplicate[duplicate['Similarity'] > 0.95]\n",
    "\n",
    "# Lấy danh sách đường dẫn ảnh cần loại bỏ\n",
    "duplicate_paths = high_similarity_duplicates['Image2'].unique().tolist()\n",
    "\n",
    "# Loại bỏ các ảnh trùng lặp khỏi train_df\n",
    "train_df = train_df[~train_df['ImageFullPath'].isin(duplicate_paths)]"
   ]
  },
  {
   "cell_type": "code",
   "execution_count": 8,
   "id": "5b5f7b07",
   "metadata": {
    "execution": {
     "iopub.execute_input": "2025-01-16T17:17:08.998506Z",
     "iopub.status.busy": "2025-01-16T17:17:08.998067Z",
     "iopub.status.idle": "2025-01-16T17:17:09.008459Z",
     "shell.execute_reply": "2025-01-16T17:17:09.007579Z"
    },
    "papermill": {
     "duration": 0.018184,
     "end_time": "2025-01-16T17:17:09.010000",
     "exception": false,
     "start_time": "2025-01-16T17:17:08.991816",
     "status": "completed"
    },
    "tags": []
   },
   "outputs": [
    {
     "data": {
      "text/html": [
       "<div>\n",
       "<style scoped>\n",
       "    .dataframe tbody tr th:only-of-type {\n",
       "        vertical-align: middle;\n",
       "    }\n",
       "\n",
       "    .dataframe tbody tr th {\n",
       "        vertical-align: top;\n",
       "    }\n",
       "\n",
       "    .dataframe thead th {\n",
       "        text-align: right;\n",
       "    }\n",
       "</style>\n",
       "<table border=\"1\" class=\"dataframe\">\n",
       "  <thead>\n",
       "    <tr style=\"text-align: right;\">\n",
       "      <th></th>\n",
       "      <th>ImageFullPath</th>\n",
       "      <th>CategoryID</th>\n",
       "    </tr>\n",
       "  </thead>\n",
       "  <tbody>\n",
       "    <tr>\n",
       "      <th>0</th>\n",
       "      <td>/kaggle/input/data-car-public/Public/Mazda/225...</td>\n",
       "      <td>4</td>\n",
       "    </tr>\n",
       "    <tr>\n",
       "      <th>1</th>\n",
       "      <td>/kaggle/input/data-car-public/Public/Mazda/225...</td>\n",
       "      <td>4</td>\n",
       "    </tr>\n",
       "    <tr>\n",
       "      <th>2</th>\n",
       "      <td>/kaggle/input/data-car-public/Public/Mazda/225...</td>\n",
       "      <td>4</td>\n",
       "    </tr>\n",
       "    <tr>\n",
       "      <th>3</th>\n",
       "      <td>/kaggle/input/data-car-public/Public/Mazda/225...</td>\n",
       "      <td>4</td>\n",
       "    </tr>\n",
       "    <tr>\n",
       "      <th>4</th>\n",
       "      <td>/kaggle/input/data-car-public/Public/Mazda/225...</td>\n",
       "      <td>4</td>\n",
       "    </tr>\n",
       "    <tr>\n",
       "      <th>...</th>\n",
       "      <td>...</td>\n",
       "      <td>...</td>\n",
       "    </tr>\n",
       "    <tr>\n",
       "      <th>27858</th>\n",
       "      <td>/kaggle/input/data-car-public/Public/Honda/225...</td>\n",
       "      <td>1</td>\n",
       "    </tr>\n",
       "    <tr>\n",
       "      <th>27859</th>\n",
       "      <td>/kaggle/input/data-car-public/Public/Honda/225...</td>\n",
       "      <td>1</td>\n",
       "    </tr>\n",
       "    <tr>\n",
       "      <th>27860</th>\n",
       "      <td>/kaggle/input/data-car-public/Public/Honda/225...</td>\n",
       "      <td>1</td>\n",
       "    </tr>\n",
       "    <tr>\n",
       "      <th>27861</th>\n",
       "      <td>/kaggle/input/data-car-public/Public/Honda/225...</td>\n",
       "      <td>1</td>\n",
       "    </tr>\n",
       "    <tr>\n",
       "      <th>27862</th>\n",
       "      <td>/kaggle/input/data-car-public/Public/Honda/225...</td>\n",
       "      <td>1</td>\n",
       "    </tr>\n",
       "  </tbody>\n",
       "</table>\n",
       "<p>26518 rows × 2 columns</p>\n",
       "</div>"
      ],
      "text/plain": [
       "                                           ImageFullPath CategoryID\n",
       "0      /kaggle/input/data-car-public/Public/Mazda/225...          4\n",
       "1      /kaggle/input/data-car-public/Public/Mazda/225...          4\n",
       "2      /kaggle/input/data-car-public/Public/Mazda/225...          4\n",
       "3      /kaggle/input/data-car-public/Public/Mazda/225...          4\n",
       "4      /kaggle/input/data-car-public/Public/Mazda/225...          4\n",
       "...                                                  ...        ...\n",
       "27858  /kaggle/input/data-car-public/Public/Honda/225...          1\n",
       "27859  /kaggle/input/data-car-public/Public/Honda/225...          1\n",
       "27860  /kaggle/input/data-car-public/Public/Honda/225...          1\n",
       "27861  /kaggle/input/data-car-public/Public/Honda/225...          1\n",
       "27862  /kaggle/input/data-car-public/Public/Honda/225...          1\n",
       "\n",
       "[26518 rows x 2 columns]"
      ]
     },
     "execution_count": 8,
     "metadata": {},
     "output_type": "execute_result"
    }
   ],
   "source": [
    "train_df"
   ]
  },
  {
   "cell_type": "code",
   "execution_count": 9,
   "id": "43a4ad70",
   "metadata": {
    "execution": {
     "iopub.execute_input": "2025-01-16T17:17:09.022126Z",
     "iopub.status.busy": "2025-01-16T17:17:09.021832Z",
     "iopub.status.idle": "2025-01-16T17:20:05.450725Z",
     "shell.execute_reply": "2025-01-16T17:20:05.449509Z"
    },
    "papermill": {
     "duration": 176.436976,
     "end_time": "2025-01-16T17:20:05.452694",
     "exception": false,
     "start_time": "2025-01-16T17:17:09.015718",
     "status": "completed"
    },
    "tags": []
   },
   "outputs": [
    {
     "name": "stdout",
     "output_type": "stream",
     "text": [
      "Warning: File not found - /kaggle/input/data-car-public/Public/Mazda/22520779-22521587.Mazda.143 (1).jpg\n",
      "Warning: File not found - /kaggle/input/data-car-public/Public/Mazda/22520779-22521587.Mazda.146 (1).jpg\n",
      "Warning: File not found - /kaggle/input/data-car-public/Public/Mazda/22520779-22521587.Mazda.148 (1).jpg\n",
      "Warning: File not found - /kaggle/input/data-car-public/Public/Mazda/22520779-22521587.Mazda.145 (1).jpg\n",
      "Warning: File not found - /kaggle/input/data-car-public/Public/Mazda/22520779-22521587.Mazda.147 (1).jpg\n",
      "Warning: File not found - /kaggle/input/data-car-public/Public/Mazda/22520779-22521587.Mazda.149 (1).jpg\n",
      "Warning: File not found - /kaggle/input/data-car-public/Public/Mazda/22520779-22521587.Mazda.144 (1).jpg\n",
      "Warning: File not found - /kaggle/input/data-car-public/Public/Mitsubishi/22521586-22521559.Mitsubishi.156 (1).jpg\n",
      "Warning: File not found - /kaggle/input/data-car-public/Public/Mitsubishi/22521586-22521559.Mitsubishi.157 (1).jpg\n",
      "Warning: File not found - /kaggle/input/data-car-public/Public/Mitsubishi/22521586-22521559.Mitsubishi.158 (1).jpg\n",
      "Warning: File not found - /kaggle/input/data-car-public/Public/Mitsubishi/22521586-22521559.Mitsubishi.159 (1).jpg\n",
      "Warning: File not found - /kaggle/input/data-car-public/Public/Mitsubishi/22521586-22521559.Mitsubishi.160 (1).jpg\n",
      "Warning: File not found - /kaggle/input/data-car-public/Public/Mitsubishi/22521586-22521559.Mitsubishi.162 (1).jpg\n",
      "Warning: File not found - /kaggle/input/data-car-public/Public/Mitsubishi/22521586-22521559.Mitsubishi.163 (1).jpg\n",
      "Warning: File not found - /kaggle/input/data-car-public/Public/Mitsubishi/22521586-22521559.Mitsubishi.164 (1).jpg\n",
      "Warning: File not found - /kaggle/input/data-car-public/Public/Mitsubishi/22521586-22521559.Mitsubishi.166 (1).jpg\n",
      "Warning: File not found - /kaggle/input/data-car-public/Public/Mitsubishi/22521586-22521559.Mitsubishi.167 (1).jpg\n",
      "Warning: File not found - /kaggle/input/data-car-public/Public/Mitsubishi/22521586-22521559.Mitsubishi.168 (1).jpg\n",
      "Warning: File not found - /kaggle/input/data-car-public/Public/Mitsubishi/22521586-22521559.Mitsubishi.169 (1).jpg\n",
      "Warning: File not found - /kaggle/input/data-car-public/Public/Mitsubishi/22521586-22521559.Mitsubishi.170 (1).jpg\n",
      "Warning: File not found - /kaggle/input/data-car-public/Public/Mitsubishi/22521586-22521559.Mitsubishi.173 (1).jpg\n",
      "Warning: File not found - /kaggle/input/data-car-public/Public/Mitsubishi/22521586-22521559.Mitsubishi.174 (1).jpg\n",
      "Warning: File not found - /kaggle/input/data-car-public/Public/Mitsubishi/22521586-22521559.Mitsubishi.175 (1).jpg\n",
      "Warning: File not found - /kaggle/input/data-car-public/Public/Mitsubishi/22521586-22521559.Mitsubishi.176 (1).jpg\n",
      "Warning: File not found - /kaggle/input/data-car-public/Public/Mitsubishi/22521586-22521559.Mitsubishi.177 (1).jpg\n",
      "Warning: File not found - /kaggle/input/data-car-public/Public/Mitsubishi/22521586-22521559.Mitsubishi.178 (1).jpg\n",
      "Warning: File not found - /kaggle/input/data-car-public/Public/Mitsubishi/22521586-22521559.Mitsubishi.179 (1).jpg\n",
      "Warning: File not found - /kaggle/input/data-car-public/Public/Mitsubishi/22521586-22521559.Mitsubishi.180 (1).jpg\n",
      "Warning: File not found - /kaggle/input/data-car-public/Public/Hyundai/22520779-22521587.Hyundai.346 (1).jpg\n",
      "Warning: File not found - /kaggle/input/data-car-public/Public/Hyundai/22520779-22521587.Hyundai.350 (1).jpg\n",
      "Warning: File not found - /kaggle/input/data-car-public/Public/KIA/22520477-22520490.KIA.2 (1).jpg\n",
      "Warning: File not found - /kaggle/input/data-car-public/Public/KIA/22520477-22520490.KIA.1 (1).jpg\n",
      "Warning: File not found - /kaggle/input/data-car-public/Public/Honda/22521492-22521599.Honda.3 (1).jpg\n",
      "Warning: File not found - /kaggle/input/data-car-public/Public/Honda/22521492-22521599.Honda.9 (1).jpg\n",
      "Valid images: 26473\n",
      "Invalid images: 11\n",
      "Warning: File not found - /kaggle/input/data-car-public/Public/Mitsubishi/22521586-22521559.Mitsubishi.155 (1).jpg\n",
      "Warning: File not found - /kaggle/input/data-car-public/Public/Mitsubishi/22521586-22521559.Mitsubishi.161 (1).jpg\n",
      "Warning: File not found - /kaggle/input/data-car-public/Public/Mitsubishi/22521586-22521559.Mitsubishi.165 (1).jpg\n",
      "Warning: File not found - /kaggle/input/data-car-public/Public/Mitsubishi/22521586-22521559.Mitsubishi.171 (1).jpg\n",
      "Warning: File not found - /kaggle/input/data-car-public/Public/Mitsubishi/22521586-22521559.Mitsubishi.172 (1).jpg\n",
      "Warning: File not found - /kaggle/input/data-car-public/Public/KIA/22520477-22520490.KIA.0 (1).jpg\n",
      "Valid images: 6955\n",
      "Invalid images: 5\n"
     ]
    }
   ],
   "source": [
    "def check_image(df, column=\"ImageFullPath\"):\n",
    "    valid_images = []\n",
    "    invalid_images = []\n",
    "    for path in df[column]:\n",
    "        if not os.path.exists(path):\n",
    "            print(f\"Warning: File not found - {path}\")\n",
    "            continue\n",
    "        try:\n",
    "            with Image.open(path) as img:\n",
    "                img.verify()  # Xác minh file là ảnh hợp lệ\n",
    "                valid_images.append(path)\n",
    "        except (UnidentifiedImageError, FileNotFoundError, IOError):\n",
    "            invalid_images.append(path)\n",
    "    print(f\"Valid images: {len(valid_images)}\")\n",
    "    print(f\"Invalid images: {len(invalid_images)}\")\n",
    "    return valid_images\n",
    "            \n",
    "# Kiểm tra dữ liệu train và test\n",
    "train_valid_paths = check_image(train_df)\n",
    "test_valid_paths = check_image(test_df)\n",
    "\n",
    "# Lọc chỉ giữ lại các ảnh hợp lệ\n",
    "train_df = train_df[train_df['ImageFullPath'].isin(train_valid_paths)]\n",
    "test_df = test_df[test_df['ImageFullPath'].isin(test_valid_paths)]"
   ]
  },
  {
   "cell_type": "code",
   "execution_count": 10,
   "id": "09785ee6",
   "metadata": {
    "execution": {
     "iopub.execute_input": "2025-01-16T17:20:05.476214Z",
     "iopub.status.busy": "2025-01-16T17:20:05.475854Z",
     "iopub.status.idle": "2025-01-16T17:20:05.486801Z",
     "shell.execute_reply": "2025-01-16T17:20:05.485672Z"
    },
    "papermill": {
     "duration": 0.023711,
     "end_time": "2025-01-16T17:20:05.488704",
     "exception": false,
     "start_time": "2025-01-16T17:20:05.464993",
     "status": "completed"
    },
    "tags": []
   },
   "outputs": [
    {
     "data": {
      "text/html": [
       "<div>\n",
       "<style scoped>\n",
       "    .dataframe tbody tr th:only-of-type {\n",
       "        vertical-align: middle;\n",
       "    }\n",
       "\n",
       "    .dataframe tbody tr th {\n",
       "        vertical-align: top;\n",
       "    }\n",
       "\n",
       "    .dataframe thead th {\n",
       "        text-align: right;\n",
       "    }\n",
       "</style>\n",
       "<table border=\"1\" class=\"dataframe\">\n",
       "  <thead>\n",
       "    <tr style=\"text-align: right;\">\n",
       "      <th></th>\n",
       "      <th>ImageFullPath</th>\n",
       "      <th>CategoryID</th>\n",
       "    </tr>\n",
       "  </thead>\n",
       "  <tbody>\n",
       "    <tr>\n",
       "      <th>0</th>\n",
       "      <td>/kaggle/input/data-car-public/Public/Mazda/225...</td>\n",
       "      <td>4</td>\n",
       "    </tr>\n",
       "    <tr>\n",
       "      <th>1</th>\n",
       "      <td>/kaggle/input/data-car-public/Public/Mazda/225...</td>\n",
       "      <td>4</td>\n",
       "    </tr>\n",
       "    <tr>\n",
       "      <th>2</th>\n",
       "      <td>/kaggle/input/data-car-public/Public/Mazda/225...</td>\n",
       "      <td>4</td>\n",
       "    </tr>\n",
       "    <tr>\n",
       "      <th>3</th>\n",
       "      <td>/kaggle/input/data-car-public/Public/Mazda/225...</td>\n",
       "      <td>4</td>\n",
       "    </tr>\n",
       "    <tr>\n",
       "      <th>4</th>\n",
       "      <td>/kaggle/input/data-car-public/Public/Mazda/225...</td>\n",
       "      <td>4</td>\n",
       "    </tr>\n",
       "    <tr>\n",
       "      <th>...</th>\n",
       "      <td>...</td>\n",
       "      <td>...</td>\n",
       "    </tr>\n",
       "    <tr>\n",
       "      <th>27858</th>\n",
       "      <td>/kaggle/input/data-car-public/Public/Honda/225...</td>\n",
       "      <td>1</td>\n",
       "    </tr>\n",
       "    <tr>\n",
       "      <th>27859</th>\n",
       "      <td>/kaggle/input/data-car-public/Public/Honda/225...</td>\n",
       "      <td>1</td>\n",
       "    </tr>\n",
       "    <tr>\n",
       "      <th>27860</th>\n",
       "      <td>/kaggle/input/data-car-public/Public/Honda/225...</td>\n",
       "      <td>1</td>\n",
       "    </tr>\n",
       "    <tr>\n",
       "      <th>27861</th>\n",
       "      <td>/kaggle/input/data-car-public/Public/Honda/225...</td>\n",
       "      <td>1</td>\n",
       "    </tr>\n",
       "    <tr>\n",
       "      <th>27862</th>\n",
       "      <td>/kaggle/input/data-car-public/Public/Honda/225...</td>\n",
       "      <td>1</td>\n",
       "    </tr>\n",
       "  </tbody>\n",
       "</table>\n",
       "<p>26473 rows × 2 columns</p>\n",
       "</div>"
      ],
      "text/plain": [
       "                                           ImageFullPath CategoryID\n",
       "0      /kaggle/input/data-car-public/Public/Mazda/225...          4\n",
       "1      /kaggle/input/data-car-public/Public/Mazda/225...          4\n",
       "2      /kaggle/input/data-car-public/Public/Mazda/225...          4\n",
       "3      /kaggle/input/data-car-public/Public/Mazda/225...          4\n",
       "4      /kaggle/input/data-car-public/Public/Mazda/225...          4\n",
       "...                                                  ...        ...\n",
       "27858  /kaggle/input/data-car-public/Public/Honda/225...          1\n",
       "27859  /kaggle/input/data-car-public/Public/Honda/225...          1\n",
       "27860  /kaggle/input/data-car-public/Public/Honda/225...          1\n",
       "27861  /kaggle/input/data-car-public/Public/Honda/225...          1\n",
       "27862  /kaggle/input/data-car-public/Public/Honda/225...          1\n",
       "\n",
       "[26473 rows x 2 columns]"
      ]
     },
     "execution_count": 10,
     "metadata": {},
     "output_type": "execute_result"
    }
   ],
   "source": [
    "train_df"
   ]
  },
  {
   "cell_type": "code",
   "execution_count": 11,
   "id": "58b8b4a3",
   "metadata": {
    "execution": {
     "iopub.execute_input": "2025-01-16T17:20:05.510117Z",
     "iopub.status.busy": "2025-01-16T17:20:05.509768Z",
     "iopub.status.idle": "2025-01-16T17:20:05.520731Z",
     "shell.execute_reply": "2025-01-16T17:20:05.519620Z"
    },
    "papermill": {
     "duration": 0.021236,
     "end_time": "2025-01-16T17:20:05.522374",
     "exception": false,
     "start_time": "2025-01-16T17:20:05.501138",
     "status": "completed"
    },
    "tags": []
   },
   "outputs": [
    {
     "data": {
      "text/html": [
       "<div>\n",
       "<style scoped>\n",
       "    .dataframe tbody tr th:only-of-type {\n",
       "        vertical-align: middle;\n",
       "    }\n",
       "\n",
       "    .dataframe tbody tr th {\n",
       "        vertical-align: top;\n",
       "    }\n",
       "\n",
       "    .dataframe thead th {\n",
       "        text-align: right;\n",
       "    }\n",
       "</style>\n",
       "<table border=\"1\" class=\"dataframe\">\n",
       "  <thead>\n",
       "    <tr style=\"text-align: right;\">\n",
       "      <th></th>\n",
       "      <th>ImageFullPath</th>\n",
       "      <th>CategoryID</th>\n",
       "    </tr>\n",
       "  </thead>\n",
       "  <tbody>\n",
       "    <tr>\n",
       "      <th>0</th>\n",
       "      <td>/kaggle/input/data-car-public/Public/Mazda/225...</td>\n",
       "      <td>4</td>\n",
       "    </tr>\n",
       "    <tr>\n",
       "      <th>1</th>\n",
       "      <td>/kaggle/input/data-car-public/Public/Mazda/225...</td>\n",
       "      <td>4</td>\n",
       "    </tr>\n",
       "    <tr>\n",
       "      <th>2</th>\n",
       "      <td>/kaggle/input/data-car-public/Public/Mazda/225...</td>\n",
       "      <td>4</td>\n",
       "    </tr>\n",
       "    <tr>\n",
       "      <th>3</th>\n",
       "      <td>/kaggle/input/data-car-public/Public/Mazda/225...</td>\n",
       "      <td>4</td>\n",
       "    </tr>\n",
       "    <tr>\n",
       "      <th>4</th>\n",
       "      <td>/kaggle/input/data-car-public/Public/Mazda/225...</td>\n",
       "      <td>4</td>\n",
       "    </tr>\n",
       "    <tr>\n",
       "      <th>...</th>\n",
       "      <td>...</td>\n",
       "      <td>...</td>\n",
       "    </tr>\n",
       "    <tr>\n",
       "      <th>6961</th>\n",
       "      <td>/kaggle/input/data-car-public/Public/Honda/225...</td>\n",
       "      <td>1</td>\n",
       "    </tr>\n",
       "    <tr>\n",
       "      <th>6962</th>\n",
       "      <td>/kaggle/input/data-car-public/Public/Honda/225...</td>\n",
       "      <td>1</td>\n",
       "    </tr>\n",
       "    <tr>\n",
       "      <th>6963</th>\n",
       "      <td>/kaggle/input/data-car-public/Public/Honda/225...</td>\n",
       "      <td>1</td>\n",
       "    </tr>\n",
       "    <tr>\n",
       "      <th>6964</th>\n",
       "      <td>/kaggle/input/data-car-public/Public/Honda/225...</td>\n",
       "      <td>1</td>\n",
       "    </tr>\n",
       "    <tr>\n",
       "      <th>6965</th>\n",
       "      <td>/kaggle/input/data-car-public/Public/Honda/225...</td>\n",
       "      <td>1</td>\n",
       "    </tr>\n",
       "  </tbody>\n",
       "</table>\n",
       "<p>6955 rows × 2 columns</p>\n",
       "</div>"
      ],
      "text/plain": [
       "                                          ImageFullPath CategoryID\n",
       "0     /kaggle/input/data-car-public/Public/Mazda/225...          4\n",
       "1     /kaggle/input/data-car-public/Public/Mazda/225...          4\n",
       "2     /kaggle/input/data-car-public/Public/Mazda/225...          4\n",
       "3     /kaggle/input/data-car-public/Public/Mazda/225...          4\n",
       "4     /kaggle/input/data-car-public/Public/Mazda/225...          4\n",
       "...                                                 ...        ...\n",
       "6961  /kaggle/input/data-car-public/Public/Honda/225...          1\n",
       "6962  /kaggle/input/data-car-public/Public/Honda/225...          1\n",
       "6963  /kaggle/input/data-car-public/Public/Honda/225...          1\n",
       "6964  /kaggle/input/data-car-public/Public/Honda/225...          1\n",
       "6965  /kaggle/input/data-car-public/Public/Honda/225...          1\n",
       "\n",
       "[6955 rows x 2 columns]"
      ]
     },
     "execution_count": 11,
     "metadata": {},
     "output_type": "execute_result"
    }
   ],
   "source": [
    "test_df"
   ]
  },
  {
   "cell_type": "code",
   "execution_count": 12,
   "id": "1cac21b5",
   "metadata": {
    "execution": {
     "iopub.execute_input": "2025-01-16T17:20:05.538420Z",
     "iopub.status.busy": "2025-01-16T17:20:05.537947Z",
     "iopub.status.idle": "2025-01-16T17:20:21.453448Z",
     "shell.execute_reply": "2025-01-16T17:20:21.452448Z"
    },
    "papermill": {
     "duration": 15.925286,
     "end_time": "2025-01-16T17:20:21.455297",
     "exception": false,
     "start_time": "2025-01-16T17:20:05.530011",
     "status": "completed"
    },
    "tags": []
   },
   "outputs": [
    {
     "name": "stdout",
     "output_type": "stream",
     "text": [
      "Found 21178 validated image filenames belonging to 9 classes.\n",
      "Found 5295 validated image filenames belonging to 9 classes.\n",
      "Found 6955 validated image filenames belonging to 9 classes.\n"
     ]
    }
   ],
   "source": [
    "from sklearn.model_selection import train_test_split\n",
    "from tensorflow.keras.preprocessing.image import ImageDataGenerator\n",
    "# from tensorflow.keras.applications.resnet50 import preprocess_input\n",
    "from tensorflow.keras.applications.mobilenet import preprocess_input\n",
    "\n",
    "# Chia dữ liệu theo tỷ lệ lớp\n",
    "train_data, val_data = train_test_split(\n",
    "    train_df,\n",
    "    test_size=0.2,\n",
    "    stratify=train_df['CategoryID'],  # Đảm bảo phân phối lớp đồng đều\n",
    "    random_state=SEED\n",
    ")\n",
    "\n",
    "# Khởi tạo ImageDataGenerator\n",
    "train_data_generator = ImageDataGenerator(\n",
    "    preprocessing_function=preprocess_input,\n",
    "    rotation_range=10,          # Xoay ngẫu nhiên\n",
    "    width_shift_range=0.1,      # Dịch chuyển ngang\n",
    "    height_shift_range=0.1,     # Dịch chuyển dọc\n",
    "    shear_range=0.1,            # Biến dạng hình học\n",
    "    zoom_range=0.2,             # Phóng to / thu nhỏ\n",
    "    horizontal_flip=True,       # Lật ngang\n",
    "    fill_mode='nearest'         # Điền các pixel trống bằng giá trị pixel gần nhất\n",
    ")\n",
    "\n",
    "test_data_generator = ImageDataGenerator(\n",
    "    preprocessing_function=preprocess_input\n",
    ")\n",
    "\n",
    "# Cấu hình chung\n",
    "dataframe_config = {\n",
    "    'x_col': 'ImageFullPath',\n",
    "    'y_col': 'CategoryID',\n",
    "    'target_size': (HEIGHT, WIDTH),\n",
    "    'batch_size': BATCH_SIZE,\n",
    "    'class_mode': 'categorical',\n",
    "    'shuffle': True,\n",
    "    'seed': SEED,\n",
    "    'color_mode': 'rgb',\n",
    "}\n",
    "\n",
    "# Flow từ DataFrame\n",
    "train_generator = train_data_generator.flow_from_dataframe(train_data, **dataframe_config)\n",
    "val_generator = train_data_generator.flow_from_dataframe(val_data, **dataframe_config)\n",
    "test_generator = test_data_generator.flow_from_dataframe(test_df, **dataframe_config)\n"
   ]
  },
  {
   "cell_type": "code",
   "execution_count": 13,
   "id": "eeeddcc2",
   "metadata": {
    "execution": {
     "iopub.execute_input": "2025-01-16T17:20:21.470979Z",
     "iopub.status.busy": "2025-01-16T17:20:21.470616Z",
     "iopub.status.idle": "2025-01-16T17:20:21.484412Z",
     "shell.execute_reply": "2025-01-16T17:20:21.483192Z"
    },
    "papermill": {
     "duration": 0.023485,
     "end_time": "2025-01-16T17:20:21.486237",
     "exception": false,
     "start_time": "2025-01-16T17:20:21.462752",
     "status": "completed"
    },
    "tags": []
   },
   "outputs": [
    {
     "name": "stdout",
     "output_type": "stream",
     "text": [
      "Data Distribution in Train Generator:\n",
      "  0: 2513\n",
      "  1: 1841\n",
      "  2: 2006\n",
      "  3: 1946\n",
      "  4: 2036\n",
      "  5: 1838\n",
      "  6: 4097\n",
      "  7: 3577\n",
      "  8: 1324\n",
      "\n",
      "\n",
      "Data Distribution in Validation Generator:\n",
      "  0: 628\n",
      "  1: 460\n",
      "  2: 502\n",
      "  3: 486\n",
      "  4: 509\n",
      "  5: 460\n",
      "  6: 1025\n",
      "  7: 894\n",
      "  8: 331\n",
      "\n",
      "\n",
      "Data Distribution in Test Generator:\n",
      "  0: 788\n",
      "  1: 604\n",
      "  2: 652\n",
      "  3: 673\n",
      "  4: 666\n",
      "  5: 596\n",
      "  6: 1333\n",
      "  7: 1184\n",
      "  8: 459\n",
      "\n",
      "\n"
     ]
    }
   ],
   "source": [
    "import numpy as np\n",
    "\n",
    "def check_data_distribution(generator, name):\n",
    "    # Truy cập các nhãn được gán trong generator\n",
    "    labels = generator.classes  # Danh sách chỉ số lớp cho mỗi mẫu\n",
    "    unique, counts = np.unique(labels, return_counts=True)  # Đếm số lượng mẫu mỗi lớp\n",
    "    \n",
    "    # Truy cập tên lớp\n",
    "    class_names = list(generator.class_indices.keys())  # Danh sách tên các lớp\n",
    "    distribution = dict(zip(class_names, counts))  # Ghép tên lớp và số lượng mẫu\n",
    "    \n",
    "    print(f\"Data Distribution in {name}:\")\n",
    "    for cls, count in distribution.items():\n",
    "        print(f\"  {cls}: {count}\")\n",
    "    print(\"\\n\")\n",
    "    return distribution\n",
    "\n",
    "# Kiểm tra phân phối trên từng generator\n",
    "train_distribution = check_data_distribution(train_generator, \"Train Generator\")\n",
    "val_distribution = check_data_distribution(val_generator, \"Validation Generator\")\n",
    "test_distribution = check_data_distribution(test_generator, \"Test Generator\")\n"
   ]
  },
  {
   "cell_type": "code",
   "execution_count": 14,
   "id": "f948167d",
   "metadata": {
    "execution": {
     "iopub.execute_input": "2025-01-16T17:20:21.502692Z",
     "iopub.status.busy": "2025-01-16T17:20:21.502334Z",
     "iopub.status.idle": "2025-01-16T17:20:22.539238Z",
     "shell.execute_reply": "2025-01-16T17:20:22.538055Z"
    },
    "papermill": {
     "duration": 1.046584,
     "end_time": "2025-01-16T17:20:22.540901",
     "exception": false,
     "start_time": "2025-01-16T17:20:21.494317",
     "status": "completed"
    },
    "tags": []
   },
   "outputs": [
    {
     "data": {
      "image/png": "[encoded data removed]",
      "text/plain": [
       "<Figure size 1200x600 with 1 Axes>"
      ]
     },
     "metadata": {},
     "output_type": "display_data"
    },
    {
     "data": {
      "image/png": "[encoded data removed]",
      "text/plain": [
       "<Figure size 1200x600 with 1 Axes>"
      ]
     },
     "metadata": {},
     "output_type": "display_data"
    },
    {
     "data": {
      "image/png": "[encoded data removed]",
      "text/plain": [
       "<Figure size 1200x600 with 1 Axes>"
      ]
     },
     "metadata": {},
     "output_type": "display_data"
    }
   ],
   "source": [
    "import matplotlib.pyplot as plt\n",
    "\n",
    "def plot_distribution(distribution, title):\n",
    "    classes = list(distribution.keys())\n",
    "    counts = list(distribution.values())\n",
    "    \n",
    "    plt.figure(figsize=(12, 6))\n",
    "    plt.bar(classes, counts, color='skyblue')\n",
    "    plt.title(title)\n",
    "    plt.xlabel(\"Classes\")\n",
    "    plt.ylabel(\"Number of Samples\")\n",
    "    plt.xticks(rotation=45)\n",
    "    plt.show()\n",
    "\n",
    "# Vẽ biểu đồ phân phối\n",
    "plot_distribution(train_distribution, \"Train Data Distribution\")\n",
    "plot_distribution(val_distribution, \"Validation Data Distribution\")\n",
    "plot_distribution(test_distribution, \"Test Data Distribution\")\n"
   ]
  },
  {
   "cell_type": "code",
   "execution_count": 15,
   "id": "e30a9256",
   "metadata": {
    "execution": {
     "iopub.execute_input": "2025-01-16T17:20:22.559972Z",
     "iopub.status.busy": "2025-01-16T17:20:22.559637Z",
     "iopub.status.idle": "2025-01-16T17:20:24.040299Z",
     "shell.execute_reply": "2025-01-16T17:20:24.039235Z"
    },
    "papermill": {
     "duration": 1.492209,
     "end_time": "2025-01-16T17:20:24.042212",
     "exception": false,
     "start_time": "2025-01-16T17:20:22.550003",
     "status": "completed"
    },
    "tags": []
   },
   "outputs": [
    {
     "name": "stdout",
     "output_type": "stream",
     "text": [
      "Downloading data from https://storage.googleapis.com/tensorflow/keras-applications/mobilenet/mobilenet_1_0_224_tf_no_top.h5\n",
      "\u001b[1m17225924/17225924\u001b[0m \u001b[32m━━━━━━━━━━━━━━━━━━━━\u001b[0m\u001b[37m\u001b[0m \u001b[1m0s\u001b[0m 0us/step\n"
     ]
    }
   ],
   "source": [
    "base_model = MobileNet(\n",
    "    include_top=False,  \n",
    "    weights='imagenet', \n",
    "    input_shape=(HEIGHT, WIDTH, 3)\n",
    ")\n",
    "\n",
    "model = models.Sequential()\n",
    "model.add(base_model)\n",
    "model.add(layers.GlobalAveragePooling2D())\n",
    "model.add(layers.Dense(1024, activation='relu'))\n",
    "model.add(layers.Dropout(0.5))\n",
    "model.add(layers.Dense(512, activation='relu'))\n",
    "model.add(layers.Dense(256, activation='relu'))\n",
    "model.add(layers.Dense(128, activation='relu'))\n",
    "model.add(layers.Dense(9, activation='softmax'))  "
   ]
  },
  {
   "cell_type": "markdown",
   "id": "ccb999e2",
   "metadata": {
    "papermill": {
     "duration": 0.008814,
     "end_time": "2025-01-16T17:20:24.060426",
     "exception": false,
     "start_time": "2025-01-16T17:20:24.051612",
     "status": "completed"
    },
    "tags": []
   },
   "source": [
    "# Training"
   ]
  },
  {
   "cell_type": "code",
   "execution_count": 16,
   "id": "3169b312",
   "metadata": {
    "execution": {
     "iopub.execute_input": "2025-01-16T17:20:24.079911Z",
     "iopub.status.busy": "2025-01-16T17:20:24.079558Z",
     "iopub.status.idle": "2025-01-16T17:20:24.086896Z",
     "shell.execute_reply": "2025-01-16T17:20:24.085876Z"
    },
    "papermill": {
     "duration": 0.019314,
     "end_time": "2025-01-16T17:20:24.088662",
     "exception": false,
     "start_time": "2025-01-16T17:20:24.069348",
     "status": "completed"
    },
    "tags": []
   },
   "outputs": [],
   "source": [
    "from tensorflow.keras.callbacks import ModelCheckpoint, EarlyStopping, ReduceLROnPlateau, TensorBoard, LearningRateScheduler\n",
    "\n",
    "# Callbacks\n",
    "checkpoint = ModelCheckpoint(\"model.keras\", monitor=\"val_loss\", save_best_only=True, verbose=1)\n",
    "early_stopping = EarlyStopping(monitor=\"val_loss\", patience=3, verbose=1, restore_best_weights=True)\n",
    "reduce_lr = ReduceLROnPlateau(\n",
    "    monitor='val_loss',\n",
    "    factor=0.5,\n",
    "    patience=2,\n",
    "    verbose=1,\n",
    "    min_lr=1e-6\n",
    ")\n",
    "\n",
    "callbacks = [checkpoint,reduce_lr,early_stopping]"
   ]
  },
  {
   "cell_type": "code",
   "execution_count": 17,
   "id": "786282f6",
   "metadata": {
    "execution": {
     "iopub.execute_input": "2025-01-16T17:20:24.107612Z",
     "iopub.status.busy": "2025-01-16T17:20:24.107232Z",
     "iopub.status.idle": "2025-01-16T17:20:24.111035Z",
     "shell.execute_reply": "2025-01-16T17:20:24.110125Z"
    },
    "papermill": {
     "duration": 0.01451,
     "end_time": "2025-01-16T17:20:24.112378",
     "exception": false,
     "start_time": "2025-01-16T17:20:24.097868",
     "status": "completed"
    },
    "tags": []
   },
   "outputs": [],
   "source": [
    "learning_rate = 0.0001\n",
    "epochs = 30"
   ]
  },
  {
   "cell_type": "code",
   "execution_count": 18,
   "id": "762c6692",
   "metadata": {
    "execution": {
     "iopub.execute_input": "2025-01-16T17:20:24.131726Z",
     "iopub.status.busy": "2025-01-16T17:20:24.131352Z",
     "iopub.status.idle": "2025-01-16T17:20:24.145691Z",
     "shell.execute_reply": "2025-01-16T17:20:24.144939Z"
    },
    "papermill": {
     "duration": 0.025804,
     "end_time": "2025-01-16T17:20:24.147270",
     "exception": false,
     "start_time": "2025-01-16T17:20:24.121466",
     "status": "completed"
    },
    "tags": []
   },
   "outputs": [],
   "source": [
    "model.compile(\n",
    "    optimizer=Adam(learning_rate=learning_rate),\n",
    "    loss='categorical_crossentropy',\n",
    "    metrics=['accuracy']\n",
    ")"
   ]
  },
  {
   "cell_type": "code",
   "execution_count": 19,
   "id": "ba0aa603",
   "metadata": {
    "execution": {
     "iopub.execute_input": "2025-01-16T17:20:24.165850Z",
     "iopub.status.busy": "2025-01-16T17:20:24.165521Z",
     "iopub.status.idle": "2025-01-16T17:20:24.195840Z",
     "shell.execute_reply": "2025-01-16T17:20:24.194721Z"
    },
    "papermill": {
     "duration": 0.04126,
     "end_time": "2025-01-16T17:20:24.197412",
     "exception": false,
     "start_time": "2025-01-16T17:20:24.156152",
     "status": "completed"
    },
    "tags": []
   },
   "outputs": [],
   "source": [
    "from sklearn.utils.class_weight import compute_class_weight\n",
    "\n",
    "class_weights = compute_class_weight(\n",
    "    class_weight='balanced',\n",
    "    classes=np.unique(train_df['CategoryID']),\n",
    "    y=train_df['CategoryID']\n",
    ")\n",
    "\n",
    "class_weights_dict = dict(enumerate(class_weights))"
   ]
  },
  {
   "cell_type": "code",
   "execution_count": 20,
   "id": "6c37a7dd",
   "metadata": {
    "execution": {
     "iopub.execute_input": "2025-01-16T17:20:24.216860Z",
     "iopub.status.busy": "2025-01-16T17:20:24.216525Z",
     "iopub.status.idle": "2025-01-16T20:27:21.632011Z",
     "shell.execute_reply": "2025-01-16T20:27:21.630947Z"
    },
    "papermill": {
     "duration": 11217.673025,
     "end_time": "2025-01-16T20:27:21.879875",
     "exception": false,
     "start_time": "2025-01-16T17:20:24.206850",
     "status": "completed"
    },
    "tags": []
   },
   "outputs": [
    {
     "name": "stdout",
     "output_type": "stream",
     "text": [
      "Epoch 1/30\n"
     ]
    },
    {
     "name": "stderr",
     "output_type": "stream",
     "text": [
      "/usr/local/lib/python3.10/dist-packages/keras/src/trainers/data_adapters/py_dataset_adapter.py:121: UserWarning: Your `PyDataset` class should call `super().__init__(**kwargs)` in its constructor. `**kwargs` can include `workers`, `use_multiprocessing`, `max_queue_size`. Do not pass these arguments to `fit()`, as they will be ignored.\n",
      "  self._warn_if_super_not_called()\n",
      "/usr/local/lib/python3.10/dist-packages/PIL/Image.py:1056: UserWarning: Palette images with Transparency expressed in bytes should be converted to RGBA images\n",
      "  warnings.warn(\n"
     ]
    },
    {
     "name": "stdout",
     "output_type": "stream",
     "text": [
      "\u001b[1m331/331\u001b[0m \u001b[32m━━━━━━━━━━━━━━━━━━━━\u001b[0m\u001b[37m\u001b[0m \u001b[1m0s\u001b[0m 2s/step - accuracy: 0.2460 - loss: 2.0485\n",
      "Epoch 1: val_loss improved from inf to 1.47137, saving model to model.keras\n",
      "\u001b[1m331/331\u001b[0m \u001b[32m━━━━━━━━━━━━━━━━━━━━\u001b[0m\u001b[37m\u001b[0m \u001b[1m720s\u001b[0m 2s/step - accuracy: 0.2463 - loss: 2.0479 - val_accuracy: 0.4958 - val_loss: 1.4714 - learning_rate: 1.0000e-04\n",
      "Epoch 2/30\n",
      "\u001b[1m331/331\u001b[0m \u001b[32m━━━━━━━━━━━━━━━━━━━━\u001b[0m\u001b[37m\u001b[0m \u001b[1m0s\u001b[0m 2s/step - accuracy: 0.5405 - loss: 1.3088\n",
      "Epoch 2: val_loss improved from 1.47137 to 1.06692, saving model to model.keras\n",
      "\u001b[1m331/331\u001b[0m \u001b[32m━━━━━━━━━━━━━━━━━━━━\u001b[0m\u001b[37m\u001b[0m \u001b[1m652s\u001b[0m 2s/step - accuracy: 0.5406 - loss: 1.3085 - val_accuracy: 0.6366 - val_loss: 1.0669 - learning_rate: 1.0000e-04\n",
      "Epoch 3/30\n",
      "\u001b[1m331/331\u001b[0m \u001b[32m━━━━━━━━━━━━━━━━━━━━\u001b[0m\u001b[37m\u001b[0m \u001b[1m0s\u001b[0m 1s/step - accuracy: 0.6697 - loss: 0.9343\n",
      "Epoch 3: val_loss improved from 1.06692 to 0.95925, saving model to model.keras\n",
      "\u001b[1m331/331\u001b[0m \u001b[32m━━━━━━━━━━━━━━━━━━━━\u001b[0m\u001b[37m\u001b[0m \u001b[1m637s\u001b[0m 2s/step - accuracy: 0.6697 - loss: 0.9342 - val_accuracy: 0.6686 - val_loss: 0.9592 - learning_rate: 1.0000e-04\n",
      "Epoch 4/30\n",
      "\u001b[1m331/331\u001b[0m \u001b[32m━━━━━━━━━━━━━━━━━━━━\u001b[0m\u001b[37m\u001b[0m \u001b[1m0s\u001b[0m 1s/step - accuracy: 0.7377 - loss: 0.7382\n",
      "Epoch 4: val_loss improved from 0.95925 to 0.85209, saving model to model.keras\n",
      "\u001b[1m331/331\u001b[0m \u001b[32m━━━━━━━━━━━━━━━━━━━━\u001b[0m\u001b[37m\u001b[0m \u001b[1m642s\u001b[0m 2s/step - accuracy: 0.7377 - loss: 0.7382 - val_accuracy: 0.7211 - val_loss: 0.8521 - learning_rate: 1.0000e-04\n",
      "Epoch 5/30\n",
      "\u001b[1m331/331\u001b[0m \u001b[32m━━━━━━━━━━━━━━━━━━━━\u001b[0m\u001b[37m\u001b[0m \u001b[1m0s\u001b[0m 2s/step - accuracy: 0.7869 - loss: 0.6103\n",
      "Epoch 5: val_loss improved from 0.85209 to 0.78508, saving model to model.keras\n",
      "\u001b[1m331/331\u001b[0m \u001b[32m━━━━━━━━━━━━━━━━━━━━\u001b[0m\u001b[37m\u001b[0m \u001b[1m646s\u001b[0m 2s/step - accuracy: 0.7869 - loss: 0.6103 - val_accuracy: 0.7428 - val_loss: 0.7851 - learning_rate: 1.0000e-04\n",
      "Epoch 6/30\n",
      "\u001b[1m331/331\u001b[0m \u001b[32m━━━━━━━━━━━━━━━━━━━━\u001b[0m\u001b[37m\u001b[0m \u001b[1m0s\u001b[0m 1s/step - accuracy: 0.8165 - loss: 0.5151\n",
      "Epoch 6: val_loss did not improve from 0.78508\n",
      "\u001b[1m331/331\u001b[0m \u001b[32m━━━━━━━━━━━━━━━━━━━━\u001b[0m\u001b[37m\u001b[0m \u001b[1m614s\u001b[0m 2s/step - accuracy: 0.8165 - loss: 0.5151 - val_accuracy: 0.7027 - val_loss: 0.9759 - learning_rate: 1.0000e-04\n",
      "Epoch 7/30\n",
      "\u001b[1m331/331\u001b[0m \u001b[32m━━━━━━━━━━━━━━━━━━━━\u001b[0m\u001b[37m\u001b[0m \u001b[1m0s\u001b[0m 1s/step - accuracy: 0.8389 - loss: 0.4535\n",
      "Epoch 7: val_loss did not improve from 0.78508\n",
      "\n",
      "Epoch 7: ReduceLROnPlateau reducing learning rate to 4.999999873689376e-05.\n",
      "\u001b[1m331/331\u001b[0m \u001b[32m━━━━━━━━━━━━━━━━━━━━\u001b[0m\u001b[37m\u001b[0m \u001b[1m608s\u001b[0m 2s/step - accuracy: 0.8389 - loss: 0.4535 - val_accuracy: 0.7371 - val_loss: 0.8828 - learning_rate: 1.0000e-04\n",
      "Epoch 8/30\n",
      "\u001b[1m331/331\u001b[0m \u001b[32m━━━━━━━━━━━━━━━━━━━━\u001b[0m\u001b[37m\u001b[0m \u001b[1m0s\u001b[0m 1s/step - accuracy: 0.8697 - loss: 0.3537\n",
      "Epoch 8: val_loss improved from 0.78508 to 0.70559, saving model to model.keras\n",
      "\u001b[1m331/331\u001b[0m \u001b[32m━━━━━━━━━━━━━━━━━━━━\u001b[0m\u001b[37m\u001b[0m \u001b[1m597s\u001b[0m 2s/step - accuracy: 0.8697 - loss: 0.3537 - val_accuracy: 0.7800 - val_loss: 0.7056 - learning_rate: 5.0000e-05\n",
      "Epoch 9/30\n",
      "\u001b[1m331/331\u001b[0m \u001b[32m━━━━━━━━━━━━━━━━━━━━\u001b[0m\u001b[37m\u001b[0m \u001b[1m0s\u001b[0m 1s/step - accuracy: 0.8852 - loss: 0.3134\n",
      "Epoch 9: val_loss improved from 0.70559 to 0.69489, saving model to model.keras\n",
      "\u001b[1m331/331\u001b[0m \u001b[32m━━━━━━━━━━━━━━━━━━━━\u001b[0m\u001b[37m\u001b[0m \u001b[1m611s\u001b[0m 2s/step - accuracy: 0.8852 - loss: 0.3134 - val_accuracy: 0.7866 - val_loss: 0.6949 - learning_rate: 5.0000e-05\n",
      "Epoch 10/30\n",
      "\u001b[1m331/331\u001b[0m \u001b[32m━━━━━━━━━━━━━━━━━━━━\u001b[0m\u001b[37m\u001b[0m \u001b[1m0s\u001b[0m 1s/step - accuracy: 0.8984 - loss: 0.2720\n",
      "Epoch 10: val_loss did not improve from 0.69489\n",
      "\u001b[1m331/331\u001b[0m \u001b[32m━━━━━━━━━━━━━━━━━━━━\u001b[0m\u001b[37m\u001b[0m \u001b[1m612s\u001b[0m 2s/step - accuracy: 0.8984 - loss: 0.2720 - val_accuracy: 0.7839 - val_loss: 0.7202 - learning_rate: 5.0000e-05\n",
      "Epoch 11/30\n",
      "\u001b[1m331/331\u001b[0m \u001b[32m━━━━━━━━━━━━━━━━━━━━\u001b[0m\u001b[37m\u001b[0m \u001b[1m0s\u001b[0m 1s/step - accuracy: 0.9016 - loss: 0.2598\n",
      "Epoch 11: val_loss did not improve from 0.69489\n",
      "\n",
      "Epoch 11: ReduceLROnPlateau reducing learning rate to 2.499999936844688e-05.\n",
      "\u001b[1m331/331\u001b[0m \u001b[32m━━━━━━━━━━━━━━━━━━━━\u001b[0m\u001b[37m\u001b[0m \u001b[1m603s\u001b[0m 2s/step - accuracy: 0.9016 - loss: 0.2598 - val_accuracy: 0.7987 - val_loss: 0.7015 - learning_rate: 5.0000e-05\n",
      "Epoch 12/30\n",
      "\u001b[1m331/331\u001b[0m \u001b[32m━━━━━━━━━━━━━━━━━━━━\u001b[0m\u001b[37m\u001b[0m \u001b[1m0s\u001b[0m 1s/step - accuracy: 0.9188 - loss: 0.2153\n",
      "Epoch 12: val_loss improved from 0.69489 to 0.66688, saving model to model.keras\n",
      "\u001b[1m331/331\u001b[0m \u001b[32m━━━━━━━━━━━━━━━━━━━━\u001b[0m\u001b[37m\u001b[0m \u001b[1m600s\u001b[0m 2s/step - accuracy: 0.9188 - loss: 0.2153 - val_accuracy: 0.8043 - val_loss: 0.6669 - learning_rate: 2.5000e-05\n",
      "Epoch 13/30\n",
      "\u001b[1m331/331\u001b[0m \u001b[32m━━━━━━━━━━━━━━━━━━━━\u001b[0m\u001b[37m\u001b[0m \u001b[1m0s\u001b[0m 1s/step - accuracy: 0.9240 - loss: 0.2059\n",
      "Epoch 13: val_loss improved from 0.66688 to 0.65828, saving model to model.keras\n",
      "\u001b[1m331/331\u001b[0m \u001b[32m━━━━━━━━━━━━━━━━━━━━\u001b[0m\u001b[37m\u001b[0m \u001b[1m597s\u001b[0m 2s/step - accuracy: 0.9240 - loss: 0.2059 - val_accuracy: 0.8164 - val_loss: 0.6583 - learning_rate: 2.5000e-05\n",
      "Epoch 14/30\n",
      "\u001b[1m331/331\u001b[0m \u001b[32m━━━━━━━━━━━━━━━━━━━━\u001b[0m\u001b[37m\u001b[0m \u001b[1m0s\u001b[0m 1s/step - accuracy: 0.9331 - loss: 0.1836\n",
      "Epoch 14: val_loss did not improve from 0.65828\n",
      "\u001b[1m331/331\u001b[0m \u001b[32m━━━━━━━━━━━━━━━━━━━━\u001b[0m\u001b[37m\u001b[0m \u001b[1m603s\u001b[0m 2s/step - accuracy: 0.9331 - loss: 0.1836 - val_accuracy: 0.8115 - val_loss: 0.6903 - learning_rate: 2.5000e-05\n",
      "Epoch 15/30\n",
      "\u001b[1m331/331\u001b[0m \u001b[32m━━━━━━━━━━━━━━━━━━━━\u001b[0m\u001b[37m\u001b[0m \u001b[1m0s\u001b[0m 1s/step - accuracy: 0.9342 - loss: 0.1654\n",
      "Epoch 15: val_loss improved from 0.65828 to 0.64352, saving model to model.keras\n",
      "\u001b[1m331/331\u001b[0m \u001b[32m━━━━━━━━━━━━━━━━━━━━\u001b[0m\u001b[37m\u001b[0m \u001b[1m593s\u001b[0m 2s/step - accuracy: 0.9342 - loss: 0.1655 - val_accuracy: 0.8162 - val_loss: 0.6435 - learning_rate: 2.5000e-05\n",
      "Epoch 16/30\n",
      "\u001b[1m331/331\u001b[0m \u001b[32m━━━━━━━━━━━━━━━━━━━━\u001b[0m\u001b[37m\u001b[0m \u001b[1m0s\u001b[0m 1s/step - accuracy: 0.9396 - loss: 0.1605\n",
      "Epoch 16: val_loss did not improve from 0.64352\n",
      "\u001b[1m331/331\u001b[0m \u001b[32m━━━━━━━━━━━━━━━━━━━━\u001b[0m\u001b[37m\u001b[0m \u001b[1m622s\u001b[0m 2s/step - accuracy: 0.9396 - loss: 0.1605 - val_accuracy: 0.8055 - val_loss: 0.7189 - learning_rate: 2.5000e-05\n",
      "Epoch 17/30\n",
      "\u001b[1m331/331\u001b[0m \u001b[32m━━━━━━━━━━━━━━━━━━━━\u001b[0m\u001b[37m\u001b[0m \u001b[1m0s\u001b[0m 1s/step - accuracy: 0.9422 - loss: 0.1469\n",
      "Epoch 17: val_loss did not improve from 0.64352\n",
      "\n",
      "Epoch 17: ReduceLROnPlateau reducing learning rate to 1.249999968422344e-05.\n",
      "\u001b[1m331/331\u001b[0m \u001b[32m━━━━━━━━━━━━━━━━━━━━\u001b[0m\u001b[37m\u001b[0m \u001b[1m623s\u001b[0m 2s/step - accuracy: 0.9422 - loss: 0.1469 - val_accuracy: 0.8006 - val_loss: 0.7260 - learning_rate: 2.5000e-05\n",
      "Epoch 18/30\n",
      "\u001b[1m331/331\u001b[0m \u001b[32m━━━━━━━━━━━━━━━━━━━━\u001b[0m\u001b[37m\u001b[0m \u001b[1m0s\u001b[0m 1s/step - accuracy: 0.9465 - loss: 0.1419\n",
      "Epoch 18: val_loss did not improve from 0.64352\n",
      "\u001b[1m331/331\u001b[0m \u001b[32m━━━━━━━━━━━━━━━━━━━━\u001b[0m\u001b[37m\u001b[0m \u001b[1m635s\u001b[0m 2s/step - accuracy: 0.9465 - loss: 0.1419 - val_accuracy: 0.8134 - val_loss: 0.6943 - learning_rate: 1.2500e-05\n",
      "Epoch 18: early stopping\n",
      "Restoring model weights from the end of the best epoch: 15.\n"
     ]
    }
   ],
   "source": [
    "history = model.fit(\n",
    "    train_generator,\n",
    "    epochs=epochs,\n",
    "    validation_data=val_generator,\n",
    "    callbacks=callbacks,\n",
    "    class_weight=class_weights_dict\n",
    ")"
   ]
  },
  {
   "cell_type": "markdown",
   "id": "cb5da4bb",
   "metadata": {
    "papermill": {
     "duration": 0.329766,
     "end_time": "2025-01-16T20:27:22.575200",
     "exception": false,
     "start_time": "2025-01-16T20:27:22.245434",
     "status": "completed"
    },
    "tags": []
   },
   "source": [
    "# Testing"
   ]
  },
  {
   "cell_type": "code",
   "execution_count": 21,
   "id": "d1fc6395",
   "metadata": {
    "execution": {
     "iopub.execute_input": "2025-01-16T20:27:23.337195Z",
     "iopub.status.busy": "2025-01-16T20:27:23.336834Z",
     "iopub.status.idle": "2025-01-16T20:29:16.905764Z",
     "shell.execute_reply": "2025-01-16T20:29:16.904891Z"
    },
    "papermill": {
     "duration": 113.996237,
     "end_time": "2025-01-16T20:29:16.907153",
     "exception": false,
     "start_time": "2025-01-16T20:27:22.910916",
     "status": "completed"
    },
    "tags": []
   },
   "outputs": [
    {
     "name": "stdout",
     "output_type": "stream",
     "text": [
      "\u001b[1m109/109\u001b[0m \u001b[32m━━━━━━━━━━━━━━━━━━━━\u001b[0m\u001b[37m\u001b[0m \u001b[1m112s\u001b[0m 1s/step - accuracy: 0.8295 - loss: 0.6520\n",
      "Test Accuracy: 0.8228612542152405\n"
     ]
    }
   ],
   "source": [
    "loss, accuracy = model.evaluate(test_generator, steps=len(test_generator))\n",
    "print(f\"Test Accuracy: {accuracy}\")"
   ]
  },
  {
   "cell_type": "code",
   "execution_count": 22,
   "id": "8494f028",
   "metadata": {
    "execution": {
     "iopub.execute_input": "2025-01-16T20:29:17.554814Z",
     "iopub.status.busy": "2025-01-16T20:29:17.554431Z",
     "iopub.status.idle": "2025-01-16T20:29:18.003230Z",
     "shell.execute_reply": "2025-01-16T20:29:18.002274Z"
    },
    "papermill": {
     "duration": 0.777877,
     "end_time": "2025-01-16T20:29:18.004823",
     "exception": false,
     "start_time": "2025-01-16T20:29:17.226946",
     "status": "completed"
    },
    "tags": []
   },
   "outputs": [
    {
     "data": {
      "image/png": "[encoded data removed]",
      "text/plain": [
       "<Figure size 640x480 with 1 Axes>"
      ]
     },
     "metadata": {},
     "output_type": "display_data"
    },
    {
     "data": {
      "image/png": "[encoded data removed]",
      "text/plain": [
       "<Figure size 640x480 with 1 Axes>"
      ]
     },
     "metadata": {},
     "output_type": "display_data"
    }
   ],
   "source": [
    "import matplotlib.pyplot as plt\n",
    "\n",
    "# Lấy giá trị loss và accuracy từ history\n",
    "train_loss = history.history['loss']\n",
    "val_loss = history.history['val_loss']\n",
    "train_accuracy = history.history['accuracy']\n",
    "val_accuracy = history.history['val_accuracy']\n",
    "\n",
    "# Vẽ biểu đồ loss\n",
    "# plt.figure(figsize=(12, 6))\n",
    "plt.plot(train_loss, label='Train Loss', color='blue')\n",
    "plt.plot(val_loss, label='Validation Loss', color='orange')\n",
    "plt.title('Loss During Training')\n",
    "plt.xlabel('Epochs')\n",
    "plt.ylabel('Loss')\n",
    "plt.legend()\n",
    "plt.show()\n",
    "\n",
    "# Vẽ biểu đồ accuracy\n",
    "# plt.figure(figsize=(12, 6))\n",
    "plt.plot(train_accuracy, label='Train Accuracy', color='green')\n",
    "plt.plot(val_accuracy, label='Validation Accuracy', color='red')\n",
    "plt.title('Accuracy During Training')\n",
    "plt.xlabel('Epochs')\n",
    "plt.ylabel('Accuracy')\n",
    "plt.legend()\n",
    "plt.show()"
   ]
  }
 ],
 "metadata": {
  "kaggle": {
   "accelerator": "gpu",
   "dataSources": [
    {
     "datasetId": 6456424,
     "sourceId": 10417621,
     "sourceType": "datasetVersion"
    },
    {
     "datasetId": 6456529,
     "sourceId": 10417775,
     "sourceType": "datasetVersion"
    },
    {
     "datasetId": 6461064,
     "sourceId": 10460360,
     "sourceType": "datasetVersion"
    }
   ],
   "dockerImageVersionId": 30823,
   "isGpuEnabled": true,
   "isInternetEnabled": true,
   "language": "python",
   "sourceType": "notebook"
  },
  "kernelspec": {
   "display_name": "Python 3",
   "language": "python",
   "name": "python3"
  },
  "language_info": {
   "codemirror_mode": {
    "name": "ipython",
    "version": 3
   },
   "file_extension": ".py",
   "mimetype": "text/x-python",
   "name": "python",
   "nbconvert_exporter": "python",
   "pygments_lexer": "ipython3",
   "version": "3.10.12"
  },
  "papermill": {
   "default_parameters": {},
   "duration": 11546.141487,
   "end_time": "2025-01-16T20:29:21.944257",
   "environment_variables": {},
   "exception": null,
   "input_path": "__notebook__.ipynb",
   "output_path": "__notebook__.ipynb",
   "parameters": {},
   "start_time": "2025-01-16T17:16:55.802770",
   "version": "2.6.0"
  }
 },
 "nbformat": 4,
 "nbformat_minor": 5
}
