{
  "cells": [
    {
      "cell_type": "code",
      "execution_count": null,
      "metadata": {
        "execution": {
          "iopub.execute_input": "2025-01-10T23:03:34.888189Z",
          "iopub.status.busy": "2025-01-10T23:03:34.887724Z",
          "iopub.status.idle": "2025-01-10T23:03:43.411792Z",
          "shell.execute_reply": "2025-01-10T23:03:43.411152Z",
          "shell.execute_reply.started": "2025-01-10T23:03:34.888154Z"
        },
        "id": "x_A-wuIffQMN",
        "trusted": true
      },
      "outputs": [],
      "source": [
        "import os\n",
        "import pandas as pd\n",
        "import multiprocessing\n",
        "from PIL import Image\n",
        "from sklearn.model_selection import train_test_split\n",
        "from tensorflow.keras.preprocessing.image import ImageDataGenerator\n",
        "from keras.optimizers import Adam\n",
        "import tensorflow as tf\n",
        "from tensorflow.keras.applications import ResNet50\n",
        "from tensorflow.keras import layers, models, optimizers, callbacks\n",
        "import numpy as np\n",
        "import hashlib\n",
        "import matplotlib.pyplot as plt\n"
      ]
    },
    {
      "cell_type": "markdown",
      "metadata": {
        "id": "KeBA_E8hfQMP"
      },
      "source": [
        "# Data Loading"
      ]
    },
    {
      "cell_type": "code",
      "execution_count": null,
      "metadata": {
        "execution": {
          "iopub.execute_input": "2025-01-10T23:03:43.413003Z",
          "iopub.status.busy": "2025-01-10T23:03:43.412538Z",
          "iopub.status.idle": "2025-01-10T23:03:43.417018Z",
          "shell.execute_reply": "2025-01-10T23:03:43.415956Z",
          "shell.execute_reply.started": "2025-01-10T23:03:43.412979Z"
        },
        "id": "QBmQT2Q-fQMR",
        "trusted": true
      },
      "outputs": [],
      "source": [
        "SPLITS_ID = 1\n",
        "BATCH_SIZE = 64\n",
        "WIDTH = 224\n",
        "HEIGHT = 224\n",
        "SEED = 4"
      ]
    },
    {
      "cell_type": "code",
      "execution_count": null,
      "metadata": {
        "execution": {
          "iopub.execute_input": "2025-01-10T23:03:43.418120Z",
          "iopub.status.busy": "2025-01-10T23:03:43.417818Z",
          "iopub.status.idle": "2025-01-10T23:03:43.437555Z",
          "shell.execute_reply": "2025-01-10T23:03:43.436839Z",
          "shell.execute_reply.started": "2025-01-10T23:03:43.418089Z"
        },
        "id": "gDCDVLJ2fQMS",
        "trusted": true
      },
      "outputs": [],
      "source": [
        "DATASET_PATH = '/kaggle/input/data-car-public/Public'\n",
        "SPLITS_PATH = '/kaggle/input/cardataset-splits/cardataset_splits'"
      ]
    },
    {
      "cell_type": "code",
      "execution_count": null,
      "metadata": {
        "execution": {
          "iopub.execute_input": "2025-01-10T23:03:43.438696Z",
          "iopub.status.busy": "2025-01-10T23:03:43.438421Z",
          "iopub.status.idle": "2025-01-10T23:03:43.575382Z",
          "shell.execute_reply": "2025-01-10T23:03:43.574711Z",
          "shell.execute_reply.started": "2025-01-10T23:03:43.438669Z"
        },
        "id": "MmSftpqvfQMU",
        "trusted": true
      },
      "outputs": [],
      "source": [
        "train_csv = os.path.join(SPLITS_PATH, f\"CarDataset-Splits-{SPLITS_ID}-Train.csv\")\n",
        "test_csv = os.path.join(SPLITS_PATH, f\"CarDataset-Splits-{SPLITS_ID}-Test.csv\")\n",
        "\n",
        "train_df = pd.read_csv(train_csv)\n",
        "test_df = pd.read_csv(test_csv)\n",
        "\n",
        "\n",
        "train_df[\"ImageFullPath\"] = train_df[\"ImageFullPath\"].apply(lambda x: os.path.join(DATASET_PATH, x))\n",
        "test_df[\"ImageFullPath\"] = test_df[\"ImageFullPath\"].apply(lambda x: os.path.join(DATASET_PATH, x))\n",
        "\n",
        "train_df[\"CategoryID\"] = train_df[\"CategoryID\"].astype(str)\n",
        "test_df[\"CategoryID\"] = test_df[\"CategoryID\"].astype(str)"
      ]
    },
    {
      "cell_type": "markdown",
      "metadata": {
        "id": "E679jAKlfQMU"
      },
      "source": [
        "# Preprocessing"
      ]
    },
    {
      "cell_type": "code",
      "execution_count": null,
      "metadata": {
        "execution": {
          "iopub.execute_input": "2025-01-10T23:03:43.576202Z",
          "iopub.status.busy": "2025-01-10T23:03:43.576016Z",
          "iopub.status.idle": "2025-01-10T23:04:49.907210Z",
          "shell.execute_reply": "2025-01-10T23:04:49.906342Z",
          "shell.execute_reply.started": "2025-01-10T23:03:43.576185Z"
        },
        "id": "nOlH_QyLfQMV",
        "outputId": "7836e324-970d-4ee3-d645-0c3afc999141",
        "trusted": true
      },
      "outputs": [
        {
          "name": "stdout",
          "output_type": "stream",
          "text": [
            "Missing 34 images:\n",
            "['/kaggle/input/data-car-public/Public/Mazda/22520779-22521587.Mazda.143 (1).jpg', '/kaggle/input/data-car-public/Public/Mazda/22520779-22521587.Mazda.146 (1).jpg', '/kaggle/input/data-car-public/Public/Mazda/22520779-22521587.Mazda.148 (1).jpg', '/kaggle/input/data-car-public/Public/Mazda/22520779-22521587.Mazda.145 (1).jpg', '/kaggle/input/data-car-public/Public/Mazda/22520779-22521587.Mazda.147 (1).jpg', '/kaggle/input/data-car-public/Public/Mazda/22520779-22521587.Mazda.149 (1).jpg', '/kaggle/input/data-car-public/Public/Mazda/22520779-22521587.Mazda.144 (1).jpg', '/kaggle/input/data-car-public/Public/Mitsubishi/22521586-22521559.Mitsubishi.156 (1).jpg', '/kaggle/input/data-car-public/Public/Mitsubishi/22521586-22521559.Mitsubishi.157 (1).jpg', '/kaggle/input/data-car-public/Public/Mitsubishi/22521586-22521559.Mitsubishi.158 (1).jpg', '/kaggle/input/data-car-public/Public/Mitsubishi/22521586-22521559.Mitsubishi.159 (1).jpg', '/kaggle/input/data-car-public/Public/Mitsubishi/22521586-22521559.Mitsubishi.160 (1).jpg', '/kaggle/input/data-car-public/Public/Mitsubishi/22521586-22521559.Mitsubishi.162 (1).jpg', '/kaggle/input/data-car-public/Public/Mitsubishi/22521586-22521559.Mitsubishi.163 (1).jpg', '/kaggle/input/data-car-public/Public/Mitsubishi/22521586-22521559.Mitsubishi.164 (1).jpg', '/kaggle/input/data-car-public/Public/Mitsubishi/22521586-22521559.Mitsubishi.166 (1).jpg', '/kaggle/input/data-car-public/Public/Mitsubishi/22521586-22521559.Mitsubishi.167 (1).jpg', '/kaggle/input/data-car-public/Public/Mitsubishi/22521586-22521559.Mitsubishi.168 (1).jpg', '/kaggle/input/data-car-public/Public/Mitsubishi/22521586-22521559.Mitsubishi.169 (1).jpg', '/kaggle/input/data-car-public/Public/Mitsubishi/22521586-22521559.Mitsubishi.170 (1).jpg', '/kaggle/input/data-car-public/Public/Mitsubishi/22521586-22521559.Mitsubishi.173 (1).jpg', '/kaggle/input/data-car-public/Public/Mitsubishi/22521586-22521559.Mitsubishi.174 (1).jpg', '/kaggle/input/data-car-public/Public/Mitsubishi/22521586-22521559.Mitsubishi.175 (1).jpg', '/kaggle/input/data-car-public/Public/Mitsubishi/22521586-22521559.Mitsubishi.176 (1).jpg', '/kaggle/input/data-car-public/Public/Mitsubishi/22521586-22521559.Mitsubishi.177 (1).jpg', '/kaggle/input/data-car-public/Public/Mitsubishi/22521586-22521559.Mitsubishi.178 (1).jpg', '/kaggle/input/data-car-public/Public/Mitsubishi/22521586-22521559.Mitsubishi.179 (1).jpg', '/kaggle/input/data-car-public/Public/Mitsubishi/22521586-22521559.Mitsubishi.180 (1).jpg', '/kaggle/input/data-car-public/Public/Hyundai/22520779-22521587.Hyundai.346 (1).jpg', '/kaggle/input/data-car-public/Public/Hyundai/22520779-22521587.Hyundai.350 (1).jpg', '/kaggle/input/data-car-public/Public/KIA/22520477-22520490.KIA.2 (1).jpg', '/kaggle/input/data-car-public/Public/KIA/22520477-22520490.KIA.1 (1).jpg', '/kaggle/input/data-car-public/Public/Honda/22521492-22521599.Honda.3 (1).jpg', '/kaggle/input/data-car-public/Public/Honda/22521492-22521599.Honda.9 (1).jpg']\n",
            "Missing 6 images:\n",
            "['/kaggle/input/data-car-public/Public/Mitsubishi/22521586-22521559.Mitsubishi.155 (1).jpg', '/kaggle/input/data-car-public/Public/Mitsubishi/22521586-22521559.Mitsubishi.161 (1).jpg', '/kaggle/input/data-car-public/Public/Mitsubishi/22521586-22521559.Mitsubishi.165 (1).jpg', '/kaggle/input/data-car-public/Public/Mitsubishi/22521586-22521559.Mitsubishi.171 (1).jpg', '/kaggle/input/data-car-public/Public/Mitsubishi/22521586-22521559.Mitsubishi.172 (1).jpg', '/kaggle/input/data-car-public/Public/KIA/22520477-22520490.KIA.0 (1).jpg']\n"
          ]
        }
      ],
      "source": [
        "# Kiểm tra xem các đường dẫn ảnh có tồn tại không\n",
        "def check_image_paths(df):\n",
        "    \"\"\"Kiểm tra xem các đường dẫn ảnh có tồn tại không.\"\"\"\n",
        "    df['Exists'] = df['ImageFullPath'].apply(lambda x: os.path.exists(os.path.join(DATASET_PATH, x)))\n",
        "    missing_images = df[~df['Exists']]\n",
        "    if not missing_images.empty:\n",
        "        print(f\"Missing {len(missing_images)} images:\")\n",
        "        print(missing_images['ImageFullPath'].tolist())\n",
        "    else:\n",
        "        print(\"All images are available.\")\n",
        "    return df[df['Exists']]\n",
        "\n",
        "train_df = check_image_paths(train_df)\n",
        "test_df = check_image_paths(test_df)"
      ]
    },
    {
      "cell_type": "code",
      "execution_count": null,
      "metadata": {
        "execution": {
          "iopub.execute_input": "2025-01-10T23:04:49.911062Z",
          "iopub.status.busy": "2025-01-10T23:04:49.910694Z",
          "iopub.status.idle": "2025-01-10T23:04:49.921329Z",
          "shell.execute_reply": "2025-01-10T23:04:49.920364Z",
          "shell.execute_reply.started": "2025-01-10T23:04:49.911015Z"
        },
        "id": "OwJTFVhTfQMV",
        "trusted": true
      },
      "outputs": [],
      "source": [
        "train_df.drop(columns=['Exists'], inplace=True)\n",
        "test_df.drop(columns=['Exists'], inplace=True)"
      ]
    },
    {
      "cell_type": "code",
      "execution_count": null,
      "metadata": {
        "execution": {
          "iopub.execute_input": "2025-01-10T23:04:53.991475Z",
          "iopub.status.busy": "2025-01-10T23:04:53.991123Z",
          "iopub.status.idle": "2025-01-10T23:04:54.035043Z",
          "shell.execute_reply": "2025-01-10T23:04:54.034395Z",
          "shell.execute_reply.started": "2025-01-10T23:04:53.991445Z"
        },
        "id": "CvWmwKPAfQMW",
        "trusted": true
      },
      "outputs": [],
      "source": [
        "# Xóa các ảnh trùng lặp trong tập train - lấy kết quả từ clustering\n",
        "duplicate = pd.read_csv('/kaggle/input/car-duplicateimages/DuplicateImages-Splits-1.csv')\n",
        "duplicate['Image2'] = duplicate['Image2'].apply(lambda x: os.path.join(DATASET_PATH, x))\n",
        "\n",
        "duplicate_paths = duplicate.iloc[:, 1].unique().tolist()"
      ]
    },
    {
      "cell_type": "code",
      "execution_count": null,
      "metadata": {
        "execution": {
          "iopub.execute_input": "2025-01-10T23:04:58.897775Z",
          "iopub.status.busy": "2025-01-10T23:04:58.897490Z",
          "iopub.status.idle": "2025-01-10T23:04:58.918658Z",
          "shell.execute_reply": "2025-01-10T23:04:58.917966Z",
          "shell.execute_reply.started": "2025-01-10T23:04:58.897751Z"
        },
        "id": "DDBXOj9lfQMW",
        "outputId": "1508c36c-4df2-426e-89a0-8032859f1c7d",
        "trusted": true
      },
      "outputs": [
        {
          "data": {
            "text/html": [
              "<div>\n",
              "<style scoped>\n",
              "    .dataframe tbody tr th:only-of-type {\n",
              "        vertical-align: middle;\n",
              "    }\n",
              "\n",
              "    .dataframe tbody tr th {\n",
              "        vertical-align: top;\n",
              "    }\n",
              "\n",
              "    .dataframe thead th {\n",
              "        text-align: right;\n",
              "    }\n",
              "</style>\n",
              "<table border=\"1\" class=\"dataframe\">\n",
              "  <thead>\n",
              "    <tr style=\"text-align: right;\">\n",
              "      <th></th>\n",
              "      <th>ImageFullPath</th>\n",
              "      <th>CategoryID</th>\n",
              "    </tr>\n",
              "  </thead>\n",
              "  <tbody>\n",
              "    <tr>\n",
              "      <th>0</th>\n",
              "      <td>/kaggle/input/data-car-public/Public/Mazda/225...</td>\n",
              "      <td>4</td>\n",
              "    </tr>\n",
              "    <tr>\n",
              "      <th>1</th>\n",
              "      <td>/kaggle/input/data-car-public/Public/Mazda/225...</td>\n",
              "      <td>4</td>\n",
              "    </tr>\n",
              "    <tr>\n",
              "      <th>2</th>\n",
              "      <td>/kaggle/input/data-car-public/Public/Mazda/225...</td>\n",
              "      <td>4</td>\n",
              "    </tr>\n",
              "    <tr>\n",
              "      <th>3</th>\n",
              "      <td>/kaggle/input/data-car-public/Public/Mazda/225...</td>\n",
              "      <td>4</td>\n",
              "    </tr>\n",
              "    <tr>\n",
              "      <th>4</th>\n",
              "      <td>/kaggle/input/data-car-public/Public/Mazda/225...</td>\n",
              "      <td>4</td>\n",
              "    </tr>\n",
              "    <tr>\n",
              "      <th>...</th>\n",
              "      <td>...</td>\n",
              "      <td>...</td>\n",
              "    </tr>\n",
              "    <tr>\n",
              "      <th>27854</th>\n",
              "      <td>/kaggle/input/data-car-public/Public/Honda/225...</td>\n",
              "      <td>1</td>\n",
              "    </tr>\n",
              "    <tr>\n",
              "      <th>27855</th>\n",
              "      <td>/kaggle/input/data-car-public/Public/Honda/225...</td>\n",
              "      <td>1</td>\n",
              "    </tr>\n",
              "    <tr>\n",
              "      <th>27857</th>\n",
              "      <td>/kaggle/input/data-car-public/Public/Honda/225...</td>\n",
              "      <td>1</td>\n",
              "    </tr>\n",
              "    <tr>\n",
              "      <th>27859</th>\n",
              "      <td>/kaggle/input/data-car-public/Public/Honda/225...</td>\n",
              "      <td>1</td>\n",
              "    </tr>\n",
              "    <tr>\n",
              "      <th>27860</th>\n",
              "      <td>/kaggle/input/data-car-public/Public/Honda/225...</td>\n",
              "      <td>1</td>\n",
              "    </tr>\n",
              "  </tbody>\n",
              "</table>\n",
              "<p>24901 rows × 2 columns</p>\n",
              "</div>"
            ],
            "text/plain": [
              "                                           ImageFullPath CategoryID\n",
              "0      /kaggle/input/data-car-public/Public/Mazda/225...          4\n",
              "1      /kaggle/input/data-car-public/Public/Mazda/225...          4\n",
              "2      /kaggle/input/data-car-public/Public/Mazda/225...          4\n",
              "3      /kaggle/input/data-car-public/Public/Mazda/225...          4\n",
              "4      /kaggle/input/data-car-public/Public/Mazda/225...          4\n",
              "...                                                  ...        ...\n",
              "27854  /kaggle/input/data-car-public/Public/Honda/225...          1\n",
              "27855  /kaggle/input/data-car-public/Public/Honda/225...          1\n",
              "27857  /kaggle/input/data-car-public/Public/Honda/225...          1\n",
              "27859  /kaggle/input/data-car-public/Public/Honda/225...          1\n",
              "27860  /kaggle/input/data-car-public/Public/Honda/225...          1\n",
              "\n",
              "[24901 rows x 2 columns]"
            ]
          },
          "execution_count": 8,
          "metadata": {},
          "output_type": "execute_result"
        }
      ],
      "source": [
        "train_df = train_df[~train_df['ImageFullPath'].isin(duplicate_paths)]\n",
        "train_df"
      ]
    },
    {
      "cell_type": "code",
      "execution_count": null,
      "metadata": {
        "execution": {
          "iopub.execute_input": "2025-01-10T23:05:03.180443Z",
          "iopub.status.busy": "2025-01-10T23:05:03.180152Z",
          "iopub.status.idle": "2025-01-10T23:05:17.615525Z",
          "shell.execute_reply": "2025-01-10T23:05:17.614820Z",
          "shell.execute_reply.started": "2025-01-10T23:05:03.180420Z"
        },
        "id": "KM0WDSIrfQMW",
        "outputId": "cd89a266-c0ef-4a6c-e333-fdd8e8e1ad02",
        "trusted": true
      },
      "outputs": [
        {
          "name": "stdout",
          "output_type": "stream",
          "text": [
            "Found 19920 validated image filenames belonging to 9 classes.\n",
            "Found 4981 validated image filenames belonging to 9 classes.\n",
            "Found 6960 validated image filenames belonging to 9 classes.\n"
          ]
        }
      ],
      "source": [
        "from sklearn.model_selection import train_test_split\n",
        "from tensorflow.keras.preprocessing.image import ImageDataGenerator\n",
        "\n",
        "# Chia dữ liệu theo tỷ lệ lớp\n",
        "train_data, val_data = train_test_split(\n",
        "    train_df,\n",
        "    test_size=0.2,\n",
        "    stratify=train_df['CategoryID'],  # Đảm bảo phân phối lớp đồng đều\n",
        "    random_state=SEED\n",
        ")\n",
        "\n",
        "# Khởi tạo ImageDataGenerator\n",
        "train_data_generator = ImageDataGenerator(\n",
        "    rescale=1/255,\n",
        "    rotation_range=10,          # Xoay ngẫu nhiên\n",
        "    width_shift_range=0.1,      # Dịch chuyển ngang\n",
        "    height_shift_range=0.1,     # Dịch chuyển dọc\n",
        "    shear_range=0.1,            # Biến dạng hình học\n",
        "    zoom_range=0.2,             # Phóng to / thu nhỏ\n",
        "    horizontal_flip=True,       # Lật ngang\n",
        "    fill_mode='nearest'         # Điền các pixel trống bằng giá trị pixel gần nhất\n",
        ")\n",
        "\n",
        "test_data_generator = ImageDataGenerator(\n",
        "    rescale=1/255\n",
        ")\n",
        "\n",
        "# Cấu hình chung\n",
        "dataframe_config = {\n",
        "    'x_col': 'ImageFullPath',\n",
        "    'y_col': 'CategoryID',\n",
        "    'target_size': (HEIGHT, WIDTH),\n",
        "    'batch_size': BATCH_SIZE,\n",
        "    'class_mode': 'categorical',\n",
        "    'shuffle': True,\n",
        "    'seed': SEED,\n",
        "    'color_mode': 'rgb',\n",
        "}\n",
        "\n",
        "# Flow từ DataFrame\n",
        "train_generator = train_data_generator.flow_from_dataframe(train_data, **dataframe_config)\n",
        "val_generator = train_data_generator.flow_from_dataframe(val_data, **dataframe_config)\n",
        "test_generator = test_data_generator.flow_from_dataframe(test_df, **dataframe_config)\n"
      ]
    },
    {
      "cell_type": "code",
      "execution_count": null,
      "metadata": {
        "execution": {
          "iopub.execute_input": "2025-01-10T23:05:25.855586Z",
          "iopub.status.busy": "2025-01-10T23:05:25.855223Z",
          "iopub.status.idle": "2025-01-10T23:05:25.868870Z",
          "shell.execute_reply": "2025-01-10T23:05:25.868163Z",
          "shell.execute_reply.started": "2025-01-10T23:05:25.855546Z"
        },
        "id": "94AfexAzfQMX",
        "outputId": "324e48d8-4905-4f82-e098-8b0ffa6aa056",
        "trusted": true
      },
      "outputs": [
        {
          "name": "stdout",
          "output_type": "stream",
          "text": [
            "Data Distribution in Train Generator:\n",
            "  0: 2479\n",
            "  1: 1703\n",
            "  2: 1928\n",
            "  3: 1649\n",
            "  4: 1969\n",
            "  5: 1770\n",
            "  6: 3900\n",
            "  7: 3356\n",
            "  8: 1166\n",
            "\n",
            "\n",
            "Data Distribution in Validation Generator:\n",
            "  0: 620\n",
            "  1: 426\n",
            "  2: 482\n",
            "  3: 412\n",
            "  4: 492\n",
            "  5: 443\n",
            "  6: 975\n",
            "  7: 839\n",
            "  8: 292\n",
            "\n",
            "\n",
            "Data Distribution in Test Generator:\n",
            "  0: 791\n",
            "  1: 605\n",
            "  2: 652\n",
            "  3: 673\n",
            "  4: 666\n",
            "  5: 597\n",
            "  6: 1333\n",
            "  7: 1184\n",
            "  8: 459\n",
            "\n",
            "\n"
          ]
        }
      ],
      "source": [
        "import numpy as np\n",
        "\n",
        "def check_data_distribution(generator, name):\n",
        "    # Truy cập các nhãn được gán trong generator\n",
        "    labels = generator.classes  # Danh sách chỉ số lớp cho mỗi mẫu\n",
        "    unique, counts = np.unique(labels, return_counts=True)  # Đếm số lượng mẫu mỗi lớp\n",
        "\n",
        "    # Truy cập tên lớp\n",
        "    class_names = list(generator.class_indices.keys())  # Danh sách tên các lớp\n",
        "    distribution = dict(zip(class_names, counts))  # Ghép tên lớp và số lượng mẫu\n",
        "\n",
        "    print(f\"Data Distribution in {name}:\")\n",
        "    for cls, count in distribution.items():\n",
        "        print(f\"  {cls}: {count}\")\n",
        "    print(\"\\n\")\n",
        "    return distribution\n",
        "\n",
        "# Kiểm tra phân phối trên từng generator\n",
        "train_distribution = check_data_distribution(train_generator, \"Train Generator\")\n",
        "val_distribution = check_data_distribution(val_generator, \"Validation Generator\")\n",
        "test_distribution = check_data_distribution(test_generator, \"Test Generator\")\n"
      ]
    },
    {
      "cell_type": "code",
      "execution_count": null,
      "metadata": {
        "execution": {
          "iopub.execute_input": "2025-01-10T23:05:36.765577Z",
          "iopub.status.busy": "2025-01-10T23:05:36.765266Z",
          "iopub.status.idle": "2025-01-10T23:05:37.723374Z",
          "shell.execute_reply": "2025-01-10T23:05:37.722353Z",
          "shell.execute_reply.started": "2025-01-10T23:05:36.765550Z"
        },
        "id": "ZvDPd124fQMX",
        "outputId": "0b27a7b4-eabd-4700-8d6e-508508fe8934",
        "trusted": true
      },
      "outputs": [
        {
          "data": {
            "image/png": "[encoded data removed]",
            "text/plain": [
              "<Figure size 1200x600 with 1 Axes>"
            ]
          },
          "metadata": {},
          "output_type": "display_data"
        },
        {
          "data": {
            "image/png": "[encoded data removed]",
            "text/plain": [
              "<Figure size 1200x600 with 1 Axes>"
            ]
          },
          "metadata": {},
          "output_type": "display_data"
        },
        {
          "data": {
            "image/png": "[encoded data removed]",
            "text/plain": [
              "<Figure size 1200x600 with 1 Axes>"
            ]
          },
          "metadata": {},
          "output_type": "display_data"
        }
      ],
      "source": [
        "import matplotlib.pyplot as plt\n",
        "\n",
        "# Vẽ biểu đồ phân phối quan sát các lớp trong tập dữ liệu\n",
        "def plot_distribution(distribution, title):\n",
        "    classes = list(distribution.keys())\n",
        "    counts = list(distribution.values())\n",
        "\n",
        "    plt.figure(figsize=(12, 6))\n",
        "    plt.bar(classes, counts, color='skyblue')\n",
        "    plt.title(title)\n",
        "    plt.xlabel(\"Classes\")\n",
        "    plt.ylabel(\"Number of Samples\")\n",
        "    plt.xticks(rotation=45)\n",
        "    plt.show()\n",
        "\n",
        "# Vẽ biểu đồ phân phối\n",
        "plot_distribution(train_distribution, \"Train Data Distribution\")\n",
        "plot_distribution(val_distribution, \"Validation Data Distribution\")\n",
        "plot_distribution(test_distribution, \"Test Data Distribution\")\n"
      ]
    },
    {
      "cell_type": "markdown",
      "metadata": {},
      "source": [
        "# Build Model\n",
        "#### 1. Base model (ResNet50):\n",
        "\n",
        "* Mô hình: ResNet50 là một mô hình CNN sâu được thiết kế với kiến trúc residual (hàm dư) để tránh vấn đề gradient biến mất khi huấn luyện mạng sâu.\n",
        "* `include_top=False`: Chỉ lấy phần trích xuất đặc trưng (feature extractor) của ResNet50, bỏ đi các lớp Fully Connected phía trên để thêm các lớp tùy chỉnh.\n",
        "* `weights='imagenet'`: Sử dụng trọng số được tiền huấn luyện trên tập ImageNet để tận dụng các đặc trưng học được từ hàng triệu hình ảnh.\n",
        "* `input_shape=(224, 224, 3)`: Đầu vào là ảnh RGB kích thước 224x224, phù hợp với chuẩn của ResNet50.\n",
        "\n",
        "#### 2. Các lớp của mô hình tùy chỉnh:\n",
        "\n",
        "* `GlobalAveragePooling2D()`: Tổng hợp các đặc trưng không gian thành vector duy nhất, giảm số lượng tham số, hạn chế hiện tượng overfitting.\n",
        "* `Dense(1024, activation='relu')`: Lớp Fully Connected với 1024 nút và hàm kích hoạt ReLU\n",
        "* `Dropout(0.5)`: Giảm overfitting bằng cách \"tắt ngẫu nhiên\" 50% các nút trong quá trình huấn luyện.\n",
        "* Các lớp Dense tiếp theo: `Dense(512, activation='relu')`, `Dense(256, activation='relu')`, `Dense(128, activation='relu')`: Giảm dần số lượng nút trong từng lớp để trích xuất đặc trưng hiệu quả hơn\n",
        "* `Dense(9, activation='softmax')`: Lớp đầu ra với 9 nút (số lớp phân loại trong bài toán), sử dụng hàm Softmax để tính xác suất cho từng lớp."
      ]
    },
    {
      "cell_type": "code",
      "execution_count": null,
      "metadata": {
        "execution": {
          "iopub.execute_input": "2025-01-10T15:51:37.201245Z",
          "iopub.status.busy": "2025-01-10T15:51:37.200920Z",
          "iopub.status.idle": "2025-01-10T15:51:40.814341Z",
          "shell.execute_reply": "2025-01-10T15:51:40.813534Z",
          "shell.execute_reply.started": "2025-01-10T15:51:37.201217Z"
        },
        "id": "iNxx4FxFfQMX",
        "outputId": "f676946a-b954-444a-c86c-d18083fdb871",
        "trusted": true
      },
      "outputs": [
        {
          "name": "stdout",
          "output_type": "stream",
          "text": [
            "Downloading data from https://storage.googleapis.com/tensorflow/keras-applications/resnet/resnet50_weights_tf_dim_ordering_tf_kernels_notop.h5\n",
            "\u001b[1m94765736/94765736\u001b[0m \u001b[32m━━━━━━━━━━━━━━━━━━━━\u001b[0m\u001b[37m\u001b[0m \u001b[1m1s\u001b[0m 0us/step\n"
          ]
        }
      ],
      "source": [
        "base_model = ResNet50(\n",
        "    include_top=False,\n",
        "    weights='imagenet',\n",
        "    input_shape=(224, 224, 3)\n",
        ")\n",
        "\n",
        "model = models.Sequential()\n",
        "model.add(base_model)\n",
        "model.add(layers.GlobalAveragePooling2D())\n",
        "model.add(layers.Dense(1024, activation='relu'))\n",
        "model.add(layers.Dropout(0.5))\n",
        "model.add(layers.Dense(512, activation='relu'))\n",
        "model.add(layers.Dense(256, activation='relu'))\n",
        "model.add(layers.Dense(128, activation='relu'))\n",
        "model.add(layers.Dense(9, activation='softmax'))"
      ]
    },
    {
      "cell_type": "markdown",
      "metadata": {
        "id": "wFx8_NOofQMX"
      },
      "source": [
        "# Training"
      ]
    },
    {
      "cell_type": "code",
      "execution_count": null,
      "metadata": {
        "execution": {
          "iopub.execute_input": "2025-01-10T15:51:43.016924Z",
          "iopub.status.busy": "2025-01-10T15:51:43.016562Z",
          "iopub.status.idle": "2025-01-10T15:51:43.034540Z",
          "shell.execute_reply": "2025-01-10T15:51:43.033731Z",
          "shell.execute_reply.started": "2025-01-10T15:51:43.016896Z"
        },
        "id": "0b6pQr-OfQMX",
        "trusted": true
      },
      "outputs": [],
      "source": [
        "from tensorflow.keras.callbacks import ModelCheckpoint, EarlyStopping, ReduceLROnPlateau, TensorBoard, LearningRateScheduler\n",
        "\n",
        "# Callbacks\n",
        "\n",
        "# Lưu mô hình khi đạt giá trị val_loss nhỏ nhất, tránh ghi đè các phiên bản tốt hơn trước đó.\n",
        "checkpoint = ModelCheckpoint(\"model.keras\", monitor=\"val_loss\", save_best_only=True, verbose=1)\n",
        "\n",
        "# Dừng huấn luyện nếu val_loss không cải thiện sau 3 epoch\n",
        "early_stopping = EarlyStopping(monitor=\"val_loss\", patience=3, verbose=1, restore_best_weights=True)\n",
        "\n",
        "# Giảm learning_rate nếu val_loss không cải thiện trong 2 epoch liên tiếp\n",
        "reduce_lr = ReduceLROnPlateau(\n",
        "    monitor='val_loss',\n",
        "    factor=0.5,\n",
        "    patience=2,\n",
        "    verbose=1,\n",
        "    min_lr=1e-6\n",
        ")\n",
        "\n",
        "callbacks = [checkpoint,reduce_lr,early_stopping]"
      ]
    },
    {
      "cell_type": "code",
      "execution_count": null,
      "metadata": {
        "execution": {
          "iopub.execute_input": "2025-01-10T15:51:47.415155Z",
          "iopub.status.busy": "2025-01-10T15:51:47.414829Z",
          "iopub.status.idle": "2025-01-10T15:51:47.418731Z",
          "shell.execute_reply": "2025-01-10T15:51:47.417962Z",
          "shell.execute_reply.started": "2025-01-10T15:51:47.415130Z"
        },
        "id": "LAUcn-OOfQMY",
        "trusted": true
      },
      "outputs": [],
      "source": [
        "learning_rate = 0.0001\n",
        "epochs = 30"
      ]
    },
    {
      "cell_type": "code",
      "execution_count": null,
      "metadata": {
        "execution": {
          "iopub.execute_input": "2025-01-10T15:51:50.182731Z",
          "iopub.status.busy": "2025-01-10T15:51:50.182377Z",
          "iopub.status.idle": "2025-01-10T15:51:50.198283Z",
          "shell.execute_reply": "2025-01-10T15:51:50.197459Z",
          "shell.execute_reply.started": "2025-01-10T15:51:50.182701Z"
        },
        "id": "FfW3kjKXfQMY",
        "trusted": true
      },
      "outputs": [],
      "source": [
        "model.compile(\n",
        "    optimizer=Adam(learning_rate=learning_rate),\n",
        "    loss='categorical_crossentropy',\n",
        "    metrics=['accuracy']\n",
        ")"
      ]
    },
    {
      "cell_type": "code",
      "execution_count": null,
      "metadata": {
        "execution": {
          "iopub.execute_input": "2025-01-10T15:51:53.350490Z",
          "iopub.status.busy": "2025-01-10T15:51:53.350156Z",
          "iopub.status.idle": "2025-01-10T15:51:53.380708Z",
          "shell.execute_reply": "2025-01-10T15:51:53.379747Z",
          "shell.execute_reply.started": "2025-01-10T15:51:53.350464Z"
        },
        "id": "g-afAMLvfQMY",
        "trusted": true
      },
      "outputs": [],
      "source": [
        "# Xử lý dữ liệu mất cân bằng, cải thiện hiệu năng trên các lớp nhỏ.\n",
        "# Sử dụng `compute_class_weight` để tính trọng số cân bằng, giúp mô hình tập trung hơn vào các lớp ít mẫu.\n",
        "from sklearn.utils.class_weight import compute_class_weight\n",
        "\n",
        "class_weights = compute_class_weight(\n",
        "    class_weight='balanced',\n",
        "    classes=np.unique(train_df['CategoryID']),\n",
        "    y=train_df['CategoryID']\n",
        ")\n",
        "\n",
        "class_weights_dict = dict(enumerate(class_weights))"
      ]
    },
    {
      "cell_type": "code",
      "execution_count": null,
      "metadata": {
        "id": "IF8Q7SfdfQMY",
        "outputId": "36e1592e-13d0-4e8c-88bc-e5a633c6794c"
      },
      "outputs": [
        {
          "name": "stdout",
          "output_type": "stream",
          "text": [
            "Epoch 1/30\n"
          ]
        },
        {
          "name": "stderr",
          "output_type": "stream",
          "text": [
            "/usr/local/lib/python3.10/dist-packages/keras/src/trainers/data_adapters/py_dataset_adapter.py:121: UserWarning: Your `PyDataset` class should call `super().__init__(**kwargs)` in its constructor. `**kwargs` can include `workers`, `use_multiprocessing`, `max_queue_size`. Do not pass these arguments to `fit()`, as they will be ignored.\n",
            "  self._warn_if_super_not_called()\n",
            "/usr/local/lib/python3.10/dist-packages/PIL/Image.py:1056: UserWarning: Palette images with Transparency expressed in bytes should be converted to RGBA images\n",
            "  warnings.warn(\n"
          ]
        },
        {
          "name": "stdout",
          "output_type": "stream",
          "text": [
            "\u001b[1m348/348\u001b[0m \u001b[32m━━━━━━━━━━━━━━━━━━━━\u001b[0m\u001b[37m\u001b[0m \u001b[1m0s\u001b[0m 1s/step - accuracy: 0.2809 - loss: 1.9388\n",
            "Epoch 1: val_loss improved from inf to 2.27200, saving model to model.keras\n",
            "\u001b[1m348/348\u001b[0m \u001b[32m━━━━━━━━━━━━━━━━━━━━\u001b[0m\u001b[37m\u001b[0m \u001b[1m685s\u001b[0m 2s/step - accuracy: 0.2813 - loss: 1.9379 - val_accuracy: 0.0929 - val_loss: 2.2720 - learning_rate: 1.0000e-04\n",
            "Epoch 2/30\n",
            "\u001b[1m348/348\u001b[0m \u001b[32m━━━━━━━━━━━━━━━━━━━━\u001b[0m\u001b[37m\u001b[0m \u001b[1m0s\u001b[0m 1s/step - accuracy: 0.6443 - loss: 1.0378\n",
            "Epoch 2: val_loss improved from 2.27200 to 1.93790, saving model to model.keras\n",
            "\u001b[1m348/348\u001b[0m \u001b[32m━━━━━━━━━━━━━━━━━━━━\u001b[0m\u001b[37m\u001b[0m \u001b[1m575s\u001b[0m 2s/step - accuracy: 0.6443 - loss: 1.0377 - val_accuracy: 0.2973 - val_loss: 1.9379 - learning_rate: 1.0000e-04\n",
            "Epoch 3/30\n",
            "\u001b[1m348/348\u001b[0m \u001b[32m━━━━━━━━━━━━━━━━━━━━\u001b[0m\u001b[37m\u001b[0m \u001b[1m0s\u001b[0m 1s/step - accuracy: 0.7521 - loss: 0.7395\n",
            "Epoch 3: val_loss improved from 1.93790 to 0.97681, saving model to model.keras\n",
            "\u001b[1m348/348\u001b[0m \u001b[32m━━━━━━━━━━━━━━━━━━━━\u001b[0m\u001b[37m\u001b[0m \u001b[1m572s\u001b[0m 2s/step - accuracy: 0.7521 - loss: 0.7395 - val_accuracy: 0.6848 - val_loss: 0.9768 - learning_rate: 1.0000e-04\n",
            "Epoch 4/30\n",
            "\u001b[1m348/348\u001b[0m \u001b[32m━━━━━━━━━━━━━━━━━━━━\u001b[0m\u001b[37m\u001b[0m \u001b[1m0s\u001b[0m 1s/step - accuracy: 0.8015 - loss: 0.5883\n",
            "Epoch 4: val_loss improved from 0.97681 to 0.86280, saving model to model.keras\n",
            "\u001b[1m348/348\u001b[0m \u001b[32m━━━━━━━━━━━━━━━━━━━━\u001b[0m\u001b[37m\u001b[0m \u001b[1m569s\u001b[0m 2s/step - accuracy: 0.8015 - loss: 0.5883 - val_accuracy: 0.7302 - val_loss: 0.8628 - learning_rate: 1.0000e-04\n",
            "Epoch 5/30\n",
            "\u001b[1m348/348\u001b[0m \u001b[32m━━━━━━━━━━━━━━━━━━━━\u001b[0m\u001b[37m\u001b[0m \u001b[1m0s\u001b[0m 1s/step - accuracy: 0.8392 - loss: 0.4712\n",
            "Epoch 5: val_loss improved from 0.86280 to 0.78151, saving model to model.keras\n",
            "\u001b[1m348/348\u001b[0m \u001b[32m━━━━━━━━━━━━━━━━━━━━\u001b[0m\u001b[37m\u001b[0m \u001b[1m575s\u001b[0m 2s/step - accuracy: 0.8391 - loss: 0.4712 - val_accuracy: 0.7531 - val_loss: 0.7815 - learning_rate: 1.0000e-04\n",
            "Epoch 6/30\n",
            "\u001b[1m348/348\u001b[0m \u001b[32m━━━━━━━━━━━━━━━━━━━━\u001b[0m\u001b[37m\u001b[0m \u001b[1m0s\u001b[0m 1s/step - accuracy: 0.8604 - loss: 0.4136\n",
            "Epoch 6: val_loss did not improve from 0.78151\n",
            "\u001b[1m348/348\u001b[0m \u001b[32m━━━━━━━━━━━━━━━━━━━━\u001b[0m\u001b[37m\u001b[0m \u001b[1m567s\u001b[0m 2s/step - accuracy: 0.8604 - loss: 0.4136 - val_accuracy: 0.7425 - val_loss: 0.8550 - learning_rate: 1.0000e-04\n",
            "Epoch 7/30\n",
            "\u001b[1m348/348\u001b[0m \u001b[32m━━━━━━━━━━━━━━━━━━━━\u001b[0m\u001b[37m\u001b[0m \u001b[1m0s\u001b[0m 1s/step - accuracy: 0.8752 - loss: 0.3595\n",
            "Epoch 7: val_loss did not improve from 0.78151\n",
            "\n",
            "Epoch 7: ReduceLROnPlateau reducing learning rate to 4.999999873689376e-05.\n",
            "\u001b[1m348/348\u001b[0m \u001b[32m━━━━━━━━━━━━━━━━━━━━\u001b[0m\u001b[37m\u001b[0m \u001b[1m565s\u001b[0m 2s/step - accuracy: 0.8752 - loss: 0.3595 - val_accuracy: 0.7550 - val_loss: 0.8129 - learning_rate: 1.0000e-04\n",
            "Epoch 8/30\n",
            "\u001b[1m348/348\u001b[0m \u001b[32m━━━━━━━━━━━━━━━━━━━━\u001b[0m\u001b[37m\u001b[0m \u001b[1m0s\u001b[0m 1s/step - accuracy: 0.9149 - loss: 0.2467\n",
            "Epoch 8: val_loss improved from 0.78151 to 0.64596, saving model to model.keras\n",
            "\u001b[1m348/348\u001b[0m \u001b[32m━━━━━━━━━━━━━━━━━━━━\u001b[0m\u001b[37m\u001b[0m \u001b[1m564s\u001b[0m 2s/step - accuracy: 0.9149 - loss: 0.2466 - val_accuracy: 0.8136 - val_loss: 0.6460 - learning_rate: 5.0000e-05\n",
            "Epoch 9/30\n",
            "\u001b[1m348/348\u001b[0m \u001b[32m━━━━━━━━━━━━━━━━━━━━\u001b[0m\u001b[37m\u001b[0m \u001b[1m0s\u001b[0m 1s/step - accuracy: 0.9370 - loss: 0.1708\n",
            "Epoch 9: val_loss improved from 0.64596 to 0.63477, saving model to model.keras\n",
            "\u001b[1m348/348\u001b[0m \u001b[32m━━━━━━━━━━━━━━━━━━━━\u001b[0m\u001b[37m\u001b[0m \u001b[1m569s\u001b[0m 2s/step - accuracy: 0.9369 - loss: 0.1708 - val_accuracy: 0.8197 - val_loss: 0.6348 - learning_rate: 5.0000e-05\n",
            "Epoch 10/30\n",
            "\u001b[1m348/348\u001b[0m \u001b[32m━━━━━━━━━━━━━━━━━━━━\u001b[0m\u001b[37m\u001b[0m \u001b[1m0s\u001b[0m 1s/step - accuracy: 0.9489 - loss: 0.1448\n",
            "Epoch 10: val_loss did not improve from 0.63477\n",
            "\u001b[1m348/348\u001b[0m \u001b[32m━━━━━━━━━━━━━━━━━━━━\u001b[0m\u001b[37m\u001b[0m \u001b[1m564s\u001b[0m 2s/step - accuracy: 0.9489 - loss: 0.1449 - val_accuracy: 0.8032 - val_loss: 0.7400 - learning_rate: 5.0000e-05\n",
            "Epoch 11/30\n",
            "\u001b[1m348/348\u001b[0m \u001b[32m━━━━━━━━━━━━━━━━━━━━\u001b[0m\u001b[37m\u001b[0m \u001b[1m0s\u001b[0m 1s/step - accuracy: 0.9477 - loss: 0.1455\n",
            "Epoch 11: val_loss did not improve from 0.63477\n",
            "\n",
            "Epoch 11: ReduceLROnPlateau reducing learning rate to 2.499999936844688e-05.\n",
            "\u001b[1m348/348\u001b[0m \u001b[32m━━━━━━━━━━━━━━━━━━━━\u001b[0m\u001b[37m\u001b[0m \u001b[1m565s\u001b[0m 2s/step - accuracy: 0.9477 - loss: 0.1455 - val_accuracy: 0.8075 - val_loss: 0.7454 - learning_rate: 5.0000e-05\n",
            "Epoch 12/30\n",
            "\u001b[1m348/348\u001b[0m \u001b[32m━━━━━━━━━━━━━━━━━━━━\u001b[0m\u001b[37m\u001b[0m \u001b[1m0s\u001b[0m 1s/step - accuracy: 0.9623 - loss: 0.1055\n",
            "Epoch 12: val_loss improved from 0.63477 to 0.62753, saving model to model.keras\n",
            "\u001b[1m348/348\u001b[0m \u001b[32m━━━━━━━━━━━━━━━━━━━━\u001b[0m\u001b[37m\u001b[0m \u001b[1m566s\u001b[0m 2s/step - accuracy: 0.9623 - loss: 0.1055 - val_accuracy: 0.8341 - val_loss: 0.6275 - learning_rate: 2.5000e-05\n",
            "Epoch 13/30\n",
            "\u001b[1m348/348\u001b[0m \u001b[32m━━━━━━━━━━━━━━━━━━━━\u001b[0m\u001b[37m\u001b[0m \u001b[1m0s\u001b[0m 1s/step - accuracy: 0.9740 - loss: 0.0728\n",
            "Epoch 13: val_loss did not improve from 0.62753\n",
            "\u001b[1m348/348\u001b[0m \u001b[32m━━━━━━━━━━━━━━━━━━━━\u001b[0m\u001b[37m\u001b[0m \u001b[1m561s\u001b[0m 2s/step - accuracy: 0.9740 - loss: 0.0728 - val_accuracy: 0.8445 - val_loss: 0.6301 - learning_rate: 2.5000e-05\n",
            "Epoch 14/30\n",
            "\u001b[1m348/348\u001b[0m \u001b[32m━━━━━━━━━━━━━━━━━━━━\u001b[0m\u001b[37m\u001b[0m \u001b[1m0s\u001b[0m 1s/step - accuracy: 0.9764 - loss: 0.0658\n",
            "Epoch 14: val_loss did not improve from 0.62753\n",
            "\n",
            "Epoch 14: ReduceLROnPlateau reducing learning rate to 1.249999968422344e-05.\n",
            "\u001b[1m348/348\u001b[0m \u001b[32m━━━━━━━━━━━━━━━━━━━━\u001b[0m\u001b[37m\u001b[0m \u001b[1m563s\u001b[0m 2s/step - accuracy: 0.9764 - loss: 0.0658 - val_accuracy: 0.8480 - val_loss: 0.6515 - learning_rate: 2.5000e-05\n",
            "Epoch 15/30\n",
            "\u001b[1m348/348\u001b[0m \u001b[32m━━━━━━━━━━━━━━━━━━━━\u001b[0m\u001b[37m\u001b[0m \u001b[1m0s\u001b[0m 1s/step - accuracy: 0.9791 - loss: 0.0580\n",
            "Epoch 15: val_loss did not improve from 0.62753\n",
            "\u001b[1m348/348\u001b[0m \u001b[32m━━━━━━━━━━━━━━━━━━━━\u001b[0m\u001b[37m\u001b[0m \u001b[1m566s\u001b[0m 2s/step - accuracy: 0.9791 - loss: 0.0580 - val_accuracy: 0.8557 - val_loss: 0.6384 - learning_rate: 1.2500e-05\n",
            "Epoch 15: early stopping\n",
            "Restoring model weights from the end of the best epoch: 12.\n"
          ]
        }
      ],
      "source": [
        "history = model.fit(\n",
        "    train_generator,\n",
        "    epochs=epochs,\n",
        "    validation_data=val_generator,\n",
        "    callbacks=callbacks,\n",
        "    class_weight=class_weights_dict\n",
        ")"
      ]
    },
    {
      "cell_type": "markdown",
      "metadata": {
        "id": "BYLNmvVhfQMY"
      },
      "source": [
        "# Testing"
      ]
    },
    {
      "cell_type": "code",
      "execution_count": null,
      "metadata": {
        "id": "T3pRE5Z6fQMY",
        "outputId": "17f0f8c7-99ac-41d3-d368-b5b24b0a1946"
      },
      "outputs": [
        {
          "name": "stdout",
          "output_type": "stream",
          "text": [
            "\u001b[1m109/109\u001b[0m \u001b[32m━━━━━━━━━━━━━━━━━━━━\u001b[0m\u001b[37m\u001b[0m \u001b[1m92s\u001b[0m 848ms/step - accuracy: 0.8203 - loss: 0.6965\n",
            "Test Accuracy: 0.83\n"
          ]
        }
      ],
      "source": [
        "loss, accuracy = model.evaluate(test_generator, steps=len(test_generator))\n",
        "print(f\"Test Accuracy: {accuracy:.2f}\")"
      ]
    },
    {
      "cell_type": "code",
      "execution_count": null,
      "metadata": {
        "execution": {
          "iopub.execute_input": "2025-01-10T11:29:35.099502Z",
          "iopub.status.busy": "2025-01-10T11:29:35.099123Z",
          "iopub.status.idle": "2025-01-10T11:29:35.894090Z",
          "shell.execute_reply": "2025-01-10T11:29:35.893083Z",
          "shell.execute_reply.started": "2025-01-10T11:29:35.099468Z"
        },
        "id": "ya_pmuuKfQMY",
        "trusted": true
      },
      "outputs": [],
      "source": [
        "# save model\n",
        "model.save('model_resnet50_mlp_split1_v5.h5')"
      ]
    },
    {
      "cell_type": "code",
      "execution_count": null,
      "metadata": {
        "id": "urgSmv0mfQMY",
        "outputId": "ed84d83d-8aee-43b7-9d73-9de0cb912acb"
      },
      "outputs": [
        {
          "data": {
            "image/png": "[encoded data removed]",
            "text/plain": [
              "<Figure size 640x480 with 1 Axes>"
            ]
          },
          "metadata": {},
          "output_type": "display_data"
        },
        {
          "data": {
            "image/png": "[encoded data removed]",
            "text/plain": [
              "<Figure size 640x480 with 1 Axes>"
            ]
          },
          "metadata": {},
          "output_type": "display_data"
        }
      ],
      "source": [
        "import matplotlib.pyplot as plt\n",
        "\n",
        "# Lấy giá trị loss và accuracy từ history\n",
        "train_loss = history.history['loss']\n",
        "val_loss = history.history['val_loss']\n",
        "train_accuracy = history.history['accuracy']\n",
        "val_accuracy = history.history['val_accuracy']\n",
        "\n",
        "# Vẽ biểu đồ loss\n",
        "# plt.figure(figsize=(12, 6))\n",
        "plt.plot(train_loss, label='Train Loss', color='blue')\n",
        "plt.plot(val_loss, label='Validation Loss', color='orange')\n",
        "plt.title('Loss During Training')\n",
        "plt.xlabel('Epochs')\n",
        "plt.ylabel('Loss')\n",
        "plt.legend()\n",
        "plt.show()\n",
        "\n",
        "# Vẽ biểu đồ accuracy\n",
        "# plt.figure(figsize=(12, 6))\n",
        "plt.plot(train_accuracy, label='Train Accuracy', color='green')\n",
        "plt.plot(val_accuracy, label='Validation Accuracy', color='red')\n",
        "plt.title('Accuracy During Training')\n",
        "plt.xlabel('Epochs')\n",
        "plt.ylabel('Accuracy')\n",
        "plt.legend()\n",
        "plt.show()"
      ]
    }
  ],
  "metadata": {
    "colab": {
      "provenance": []
    },
    "kaggle": {
      "accelerator": "nvidiaTeslaT4",
      "dataSources": [
        {
          "datasetId": 6456424,
          "sourceId": 10417621,
          "sourceType": "datasetVersion"
        },
        {
          "datasetId": 6456529,
          "sourceId": 10417775,
          "sourceType": "datasetVersion"
        },
        {
          "datasetId": 6461064,
          "sourceId": 10424331,
          "sourceType": "datasetVersion"
        }
      ],
      "dockerImageVersionId": 30822,
      "isGpuEnabled": true,
      "isInternetEnabled": true,
      "language": "python",
      "sourceType": "notebook"
    },
    "kernelspec": {
      "display_name": "Python 3",
      "language": "python",
      "name": "python3"
    },
    "language_info": {
      "codemirror_mode": {
        "name": "ipython",
        "version": 3
      },
      "file_extension": ".py",
      "mimetype": "text/x-python",
      "name": "python",
      "nbconvert_exporter": "python",
      "pygments_lexer": "ipython3",
      "version": "3.10.12"
    }
  },
  "nbformat": 4,
  "nbformat_minor": 0
}
