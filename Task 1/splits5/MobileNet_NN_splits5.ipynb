{
 "cells": [
  {
   "cell_type": "code",
   "execution_count": 1,
   "id": "f34ffe61",
   "metadata": {
    "execution": {
     "iopub.execute_input": "2025-01-19T15:16:09.850215Z",
     "iopub.status.busy": "2025-01-19T15:16:09.849901Z",
     "iopub.status.idle": "2025-01-19T15:16:18.270918Z",
     "shell.execute_reply": "2025-01-19T15:16:18.270186Z"
    },
    "papermill": {
     "duration": 8.429072,
     "end_time": "2025-01-19T15:16:18.272390",
     "exception": false,
     "start_time": "2025-01-19T15:16:09.843318",
     "status": "completed"
    },
    "tags": []
   },
   "outputs": [],
   "source": [
    "import os\n",
    "import pandas as pd\n",
    "import multiprocessing\n",
    "from PIL import Image, UnidentifiedImageError\n",
    "from sklearn.model_selection import train_test_split\n",
    "from tensorflow.keras.preprocessing.image import ImageDataGenerator\n",
    "from keras.optimizers import Adam\n",
    "import tensorflow as tf\n",
    "from tensorflow.keras.applications import ResNet50, MobileNet\n",
    "from tensorflow.keras import layers, models, optimizers, callbacks\n",
    "import numpy as np\n",
    "import hashlib\n",
    "import matplotlib.pyplot as plt\n"
   ]
  },
  {
   "cell_type": "markdown",
   "id": "b2384786",
   "metadata": {
    "papermill": {
     "duration": 0.004073,
     "end_time": "2025-01-19T15:16:18.281248",
     "exception": false,
     "start_time": "2025-01-19T15:16:18.277175",
     "status": "completed"
    },
    "tags": []
   },
   "source": [
    "# Data Loading"
   ]
  },
  {
   "cell_type": "code",
   "execution_count": 2,
   "id": "39e61783",
   "metadata": {
    "execution": {
     "iopub.execute_input": "2025-01-19T15:16:18.290528Z",
     "iopub.status.busy": "2025-01-19T15:16:18.290076Z",
     "iopub.status.idle": "2025-01-19T15:16:18.293377Z",
     "shell.execute_reply": "2025-01-19T15:16:18.292764Z"
    },
    "papermill": {
     "duration": 0.009112,
     "end_time": "2025-01-19T15:16:18.294559",
     "exception": false,
     "start_time": "2025-01-19T15:16:18.285447",
     "status": "completed"
    },
    "tags": []
   },
   "outputs": [],
   "source": [
    "SPLITS_ID = 5\n",
    "BATCH_SIZE = 64\n",
    "WIDTH = 224\n",
    "HEIGHT = 224\n",
    "SEED = 4"
   ]
  },
  {
   "cell_type": "code",
   "execution_count": 3,
   "id": "f4121a8a",
   "metadata": {
    "execution": {
     "iopub.execute_input": "2025-01-19T15:16:18.303511Z",
     "iopub.status.busy": "2025-01-19T15:16:18.303295Z",
     "iopub.status.idle": "2025-01-19T15:16:18.306218Z",
     "shell.execute_reply": "2025-01-19T15:16:18.305595Z"
    },
    "papermill": {
     "duration": 0.008651,
     "end_time": "2025-01-19T15:16:18.307385",
     "exception": false,
     "start_time": "2025-01-19T15:16:18.298734",
     "status": "completed"
    },
    "tags": []
   },
   "outputs": [],
   "source": [
    "DATASET_PATH = '/kaggle/input/data-car-public/Public'\n",
    "SPLITS_PATH = '/kaggle/input/cardataset-splits/cardataset_splits'"
   ]
  },
  {
   "cell_type": "code",
   "execution_count": 4,
   "id": "ba541ce3",
   "metadata": {
    "execution": {
     "iopub.execute_input": "2025-01-19T15:16:18.316418Z",
     "iopub.status.busy": "2025-01-19T15:16:18.316200Z",
     "iopub.status.idle": "2025-01-19T15:16:18.443472Z",
     "shell.execute_reply": "2025-01-19T15:16:18.442541Z"
    },
    "papermill": {
     "duration": 0.133651,
     "end_time": "2025-01-19T15:16:18.445134",
     "exception": false,
     "start_time": "2025-01-19T15:16:18.311483",
     "status": "completed"
    },
    "tags": []
   },
   "outputs": [],
   "source": [
    "train_csv = os.path.join(SPLITS_PATH, f\"CarDataset-Splits-{SPLITS_ID}-Train.csv\")\n",
    "test_csv = os.path.join(SPLITS_PATH, f\"CarDataset-Splits-{SPLITS_ID}-Test.csv\")\n",
    "\n",
    "train_df = pd.read_csv(train_csv)\n",
    "test_df = pd.read_csv(test_csv)\n",
    "\n",
    "\n",
    "train_df[\"ImageFullPath\"] = train_df[\"ImageFullPath\"].apply(lambda x: os.path.join(DATASET_PATH, x))\n",
    "test_df[\"ImageFullPath\"] = test_df[\"ImageFullPath\"].apply(lambda x: os.path.join(DATASET_PATH, x))\n",
    "\n",
    "train_df[\"CategoryID\"] = train_df[\"CategoryID\"].astype(str)\n",
    "test_df[\"CategoryID\"] = test_df[\"CategoryID\"].astype(str)"
   ]
  },
  {
   "cell_type": "code",
   "execution_count": 5,
   "id": "b21edc4b",
   "metadata": {
    "execution": {
     "iopub.execute_input": "2025-01-19T15:16:18.454794Z",
     "iopub.status.busy": "2025-01-19T15:16:18.454528Z",
     "iopub.status.idle": "2025-01-19T15:16:18.466524Z",
     "shell.execute_reply": "2025-01-19T15:16:18.465796Z"
    },
    "papermill": {
     "duration": 0.018016,
     "end_time": "2025-01-19T15:16:18.467644",
     "exception": false,
     "start_time": "2025-01-19T15:16:18.449628",
     "status": "completed"
    },
    "tags": []
   },
   "outputs": [
    {
     "data": {
      "text/html": [
       "<div>\n",
       "<style scoped>\n",
       "    .dataframe tbody tr th:only-of-type {\n",
       "        vertical-align: middle;\n",
       "    }\n",
       "\n",
       "    .dataframe tbody tr th {\n",
       "        vertical-align: top;\n",
       "    }\n",
       "\n",
       "    .dataframe thead th {\n",
       "        text-align: right;\n",
       "    }\n",
       "</style>\n",
       "<table border=\"1\" class=\"dataframe\">\n",
       "  <thead>\n",
       "    <tr style=\"text-align: right;\">\n",
       "      <th></th>\n",
       "      <th>ImageFullPath</th>\n",
       "      <th>CategoryID</th>\n",
       "    </tr>\n",
       "  </thead>\n",
       "  <tbody>\n",
       "    <tr>\n",
       "      <th>0</th>\n",
       "      <td>/kaggle/input/data-car-public/Public/Mazda/225...</td>\n",
       "      <td>4</td>\n",
       "    </tr>\n",
       "    <tr>\n",
       "      <th>1</th>\n",
       "      <td>/kaggle/input/data-car-public/Public/Mazda/225...</td>\n",
       "      <td>4</td>\n",
       "    </tr>\n",
       "    <tr>\n",
       "      <th>2</th>\n",
       "      <td>/kaggle/input/data-car-public/Public/Mazda/225...</td>\n",
       "      <td>4</td>\n",
       "    </tr>\n",
       "    <tr>\n",
       "      <th>3</th>\n",
       "      <td>/kaggle/input/data-car-public/Public/Mazda/225...</td>\n",
       "      <td>4</td>\n",
       "    </tr>\n",
       "    <tr>\n",
       "      <th>4</th>\n",
       "      <td>/kaggle/input/data-car-public/Public/Mazda/225...</td>\n",
       "      <td>4</td>\n",
       "    </tr>\n",
       "    <tr>\n",
       "      <th>...</th>\n",
       "      <td>...</td>\n",
       "      <td>...</td>\n",
       "    </tr>\n",
       "    <tr>\n",
       "      <th>27859</th>\n",
       "      <td>/kaggle/input/data-car-public/Public/Honda/225...</td>\n",
       "      <td>1</td>\n",
       "    </tr>\n",
       "    <tr>\n",
       "      <th>27860</th>\n",
       "      <td>/kaggle/input/data-car-public/Public/Honda/225...</td>\n",
       "      <td>1</td>\n",
       "    </tr>\n",
       "    <tr>\n",
       "      <th>27861</th>\n",
       "      <td>/kaggle/input/data-car-public/Public/Honda/225...</td>\n",
       "      <td>1</td>\n",
       "    </tr>\n",
       "    <tr>\n",
       "      <th>27862</th>\n",
       "      <td>/kaggle/input/data-car-public/Public/Honda/225...</td>\n",
       "      <td>1</td>\n",
       "    </tr>\n",
       "    <tr>\n",
       "      <th>27863</th>\n",
       "      <td>/kaggle/input/data-car-public/Public/Honda/225...</td>\n",
       "      <td>1</td>\n",
       "    </tr>\n",
       "  </tbody>\n",
       "</table>\n",
       "<p>27864 rows × 2 columns</p>\n",
       "</div>"
      ],
      "text/plain": [
       "                                           ImageFullPath CategoryID\n",
       "0      /kaggle/input/data-car-public/Public/Mazda/225...          4\n",
       "1      /kaggle/input/data-car-public/Public/Mazda/225...          4\n",
       "2      /kaggle/input/data-car-public/Public/Mazda/225...          4\n",
       "3      /kaggle/input/data-car-public/Public/Mazda/225...          4\n",
       "4      /kaggle/input/data-car-public/Public/Mazda/225...          4\n",
       "...                                                  ...        ...\n",
       "27859  /kaggle/input/data-car-public/Public/Honda/225...          1\n",
       "27860  /kaggle/input/data-car-public/Public/Honda/225...          1\n",
       "27861  /kaggle/input/data-car-public/Public/Honda/225...          1\n",
       "27862  /kaggle/input/data-car-public/Public/Honda/225...          1\n",
       "27863  /kaggle/input/data-car-public/Public/Honda/225...          1\n",
       "\n",
       "[27864 rows x 2 columns]"
      ]
     },
     "execution_count": 5,
     "metadata": {},
     "output_type": "execute_result"
    }
   ],
   "source": [
    "train_df"
   ]
  },
  {
   "cell_type": "code",
   "execution_count": 6,
   "id": "40ea9b67",
   "metadata": {
    "execution": {
     "iopub.execute_input": "2025-01-19T15:16:18.477404Z",
     "iopub.status.busy": "2025-01-19T15:16:18.477172Z",
     "iopub.status.idle": "2025-01-19T15:16:18.485155Z",
     "shell.execute_reply": "2025-01-19T15:16:18.484460Z"
    },
    "papermill": {
     "duration": 0.014024,
     "end_time": "2025-01-19T15:16:18.486318",
     "exception": false,
     "start_time": "2025-01-19T15:16:18.472294",
     "status": "completed"
    },
    "tags": []
   },
   "outputs": [
    {
     "data": {
      "text/html": [
       "<div>\n",
       "<style scoped>\n",
       "    .dataframe tbody tr th:only-of-type {\n",
       "        vertical-align: middle;\n",
       "    }\n",
       "\n",
       "    .dataframe tbody tr th {\n",
       "        vertical-align: top;\n",
       "    }\n",
       "\n",
       "    .dataframe thead th {\n",
       "        text-align: right;\n",
       "    }\n",
       "</style>\n",
       "<table border=\"1\" class=\"dataframe\">\n",
       "  <thead>\n",
       "    <tr style=\"text-align: right;\">\n",
       "      <th></th>\n",
       "      <th>ImageFullPath</th>\n",
       "      <th>CategoryID</th>\n",
       "    </tr>\n",
       "  </thead>\n",
       "  <tbody>\n",
       "    <tr>\n",
       "      <th>0</th>\n",
       "      <td>/kaggle/input/data-car-public/Public/Mazda/225...</td>\n",
       "      <td>4</td>\n",
       "    </tr>\n",
       "    <tr>\n",
       "      <th>1</th>\n",
       "      <td>/kaggle/input/data-car-public/Public/Mazda/225...</td>\n",
       "      <td>4</td>\n",
       "    </tr>\n",
       "    <tr>\n",
       "      <th>2</th>\n",
       "      <td>/kaggle/input/data-car-public/Public/Mazda/225...</td>\n",
       "      <td>4</td>\n",
       "    </tr>\n",
       "    <tr>\n",
       "      <th>3</th>\n",
       "      <td>/kaggle/input/data-car-public/Public/Mazda/225...</td>\n",
       "      <td>4</td>\n",
       "    </tr>\n",
       "    <tr>\n",
       "      <th>4</th>\n",
       "      <td>/kaggle/input/data-car-public/Public/Mazda/225...</td>\n",
       "      <td>4</td>\n",
       "    </tr>\n",
       "    <tr>\n",
       "      <th>...</th>\n",
       "      <td>...</td>\n",
       "      <td>...</td>\n",
       "    </tr>\n",
       "    <tr>\n",
       "      <th>6960</th>\n",
       "      <td>/kaggle/input/data-car-public/Public/Honda/225...</td>\n",
       "      <td>1</td>\n",
       "    </tr>\n",
       "    <tr>\n",
       "      <th>6961</th>\n",
       "      <td>/kaggle/input/data-car-public/Public/Honda/225...</td>\n",
       "      <td>1</td>\n",
       "    </tr>\n",
       "    <tr>\n",
       "      <th>6962</th>\n",
       "      <td>/kaggle/input/data-car-public/Public/Honda/225...</td>\n",
       "      <td>1</td>\n",
       "    </tr>\n",
       "    <tr>\n",
       "      <th>6963</th>\n",
       "      <td>/kaggle/input/data-car-public/Public/Honda/225...</td>\n",
       "      <td>1</td>\n",
       "    </tr>\n",
       "    <tr>\n",
       "      <th>6964</th>\n",
       "      <td>/kaggle/input/data-car-public/Public/Honda/225...</td>\n",
       "      <td>1</td>\n",
       "    </tr>\n",
       "  </tbody>\n",
       "</table>\n",
       "<p>6965 rows × 2 columns</p>\n",
       "</div>"
      ],
      "text/plain": [
       "                                          ImageFullPath CategoryID\n",
       "0     /kaggle/input/data-car-public/Public/Mazda/225...          4\n",
       "1     /kaggle/input/data-car-public/Public/Mazda/225...          4\n",
       "2     /kaggle/input/data-car-public/Public/Mazda/225...          4\n",
       "3     /kaggle/input/data-car-public/Public/Mazda/225...          4\n",
       "4     /kaggle/input/data-car-public/Public/Mazda/225...          4\n",
       "...                                                 ...        ...\n",
       "6960  /kaggle/input/data-car-public/Public/Honda/225...          1\n",
       "6961  /kaggle/input/data-car-public/Public/Honda/225...          1\n",
       "6962  /kaggle/input/data-car-public/Public/Honda/225...          1\n",
       "6963  /kaggle/input/data-car-public/Public/Honda/225...          1\n",
       "6964  /kaggle/input/data-car-public/Public/Honda/225...          1\n",
       "\n",
       "[6965 rows x 2 columns]"
      ]
     },
     "execution_count": 6,
     "metadata": {},
     "output_type": "execute_result"
    }
   ],
   "source": [
    "test_df"
   ]
  },
  {
   "cell_type": "markdown",
   "id": "21f0a6b2",
   "metadata": {
    "papermill": {
     "duration": 0.004397,
     "end_time": "2025-01-19T15:16:18.495369",
     "exception": false,
     "start_time": "2025-01-19T15:16:18.490972",
     "status": "completed"
    },
    "tags": []
   },
   "source": [
    "# Preprocessing"
   ]
  },
  {
   "cell_type": "code",
   "execution_count": 7,
   "id": "d4af25be",
   "metadata": {
    "execution": {
     "iopub.execute_input": "2025-01-19T15:16:18.505288Z",
     "iopub.status.busy": "2025-01-19T15:16:18.505045Z",
     "iopub.status.idle": "2025-01-19T15:16:18.553353Z",
     "shell.execute_reply": "2025-01-19T15:16:18.552628Z"
    },
    "papermill": {
     "duration": 0.054897,
     "end_time": "2025-01-19T15:16:18.554892",
     "exception": false,
     "start_time": "2025-01-19T15:16:18.499995",
     "status": "completed"
    },
    "tags": []
   },
   "outputs": [],
   "source": [
    "# Đọc danh sách ảnh trùng lặp\n",
    "duplicate = pd.read_csv('/kaggle/input/car-duplicateimages/DuplicateImages.csv')\n",
    "duplicate['Image2'] = duplicate['Image2'].apply(lambda x: os.path.join(DATASET_PATH, x))\n",
    "\n",
    "# Chỉ lấy những ảnh có Similarity > 0.95\n",
    "high_similarity_duplicates = duplicate[duplicate['Similarity'] > 0.95]\n",
    "\n",
    "# Lấy danh sách đường dẫn ảnh cần loại bỏ\n",
    "duplicate_paths = high_similarity_duplicates['Image2'].unique().tolist()\n",
    "\n",
    "# Loại bỏ các ảnh trùng lặp khỏi train_df\n",
    "train_df = train_df[~train_df['ImageFullPath'].isin(duplicate_paths)]"
   ]
  },
  {
   "cell_type": "code",
   "execution_count": 8,
   "id": "18ca1cfa",
   "metadata": {
    "execution": {
     "iopub.execute_input": "2025-01-19T15:16:18.565117Z",
     "iopub.status.busy": "2025-01-19T15:16:18.564895Z",
     "iopub.status.idle": "2025-01-19T15:16:18.572419Z",
     "shell.execute_reply": "2025-01-19T15:16:18.571754Z"
    },
    "papermill": {
     "duration": 0.013771,
     "end_time": "2025-01-19T15:16:18.573615",
     "exception": false,
     "start_time": "2025-01-19T15:16:18.559844",
     "status": "completed"
    },
    "tags": []
   },
   "outputs": [
    {
     "data": {
      "text/html": [
       "<div>\n",
       "<style scoped>\n",
       "    .dataframe tbody tr th:only-of-type {\n",
       "        vertical-align: middle;\n",
       "    }\n",
       "\n",
       "    .dataframe tbody tr th {\n",
       "        vertical-align: top;\n",
       "    }\n",
       "\n",
       "    .dataframe thead th {\n",
       "        text-align: right;\n",
       "    }\n",
       "</style>\n",
       "<table border=\"1\" class=\"dataframe\">\n",
       "  <thead>\n",
       "    <tr style=\"text-align: right;\">\n",
       "      <th></th>\n",
       "      <th>ImageFullPath</th>\n",
       "      <th>CategoryID</th>\n",
       "    </tr>\n",
       "  </thead>\n",
       "  <tbody>\n",
       "    <tr>\n",
       "      <th>0</th>\n",
       "      <td>/kaggle/input/data-car-public/Public/Mazda/225...</td>\n",
       "      <td>4</td>\n",
       "    </tr>\n",
       "    <tr>\n",
       "      <th>1</th>\n",
       "      <td>/kaggle/input/data-car-public/Public/Mazda/225...</td>\n",
       "      <td>4</td>\n",
       "    </tr>\n",
       "    <tr>\n",
       "      <th>2</th>\n",
       "      <td>/kaggle/input/data-car-public/Public/Mazda/225...</td>\n",
       "      <td>4</td>\n",
       "    </tr>\n",
       "    <tr>\n",
       "      <th>3</th>\n",
       "      <td>/kaggle/input/data-car-public/Public/Mazda/225...</td>\n",
       "      <td>4</td>\n",
       "    </tr>\n",
       "    <tr>\n",
       "      <th>4</th>\n",
       "      <td>/kaggle/input/data-car-public/Public/Mazda/225...</td>\n",
       "      <td>4</td>\n",
       "    </tr>\n",
       "    <tr>\n",
       "      <th>...</th>\n",
       "      <td>...</td>\n",
       "      <td>...</td>\n",
       "    </tr>\n",
       "    <tr>\n",
       "      <th>27859</th>\n",
       "      <td>/kaggle/input/data-car-public/Public/Honda/225...</td>\n",
       "      <td>1</td>\n",
       "    </tr>\n",
       "    <tr>\n",
       "      <th>27860</th>\n",
       "      <td>/kaggle/input/data-car-public/Public/Honda/225...</td>\n",
       "      <td>1</td>\n",
       "    </tr>\n",
       "    <tr>\n",
       "      <th>27861</th>\n",
       "      <td>/kaggle/input/data-car-public/Public/Honda/225...</td>\n",
       "      <td>1</td>\n",
       "    </tr>\n",
       "    <tr>\n",
       "      <th>27862</th>\n",
       "      <td>/kaggle/input/data-car-public/Public/Honda/225...</td>\n",
       "      <td>1</td>\n",
       "    </tr>\n",
       "    <tr>\n",
       "      <th>27863</th>\n",
       "      <td>/kaggle/input/data-car-public/Public/Honda/225...</td>\n",
       "      <td>1</td>\n",
       "    </tr>\n",
       "  </tbody>\n",
       "</table>\n",
       "<p>26488 rows × 2 columns</p>\n",
       "</div>"
      ],
      "text/plain": [
       "                                           ImageFullPath CategoryID\n",
       "0      /kaggle/input/data-car-public/Public/Mazda/225...          4\n",
       "1      /kaggle/input/data-car-public/Public/Mazda/225...          4\n",
       "2      /kaggle/input/data-car-public/Public/Mazda/225...          4\n",
       "3      /kaggle/input/data-car-public/Public/Mazda/225...          4\n",
       "4      /kaggle/input/data-car-public/Public/Mazda/225...          4\n",
       "...                                                  ...        ...\n",
       "27859  /kaggle/input/data-car-public/Public/Honda/225...          1\n",
       "27860  /kaggle/input/data-car-public/Public/Honda/225...          1\n",
       "27861  /kaggle/input/data-car-public/Public/Honda/225...          1\n",
       "27862  /kaggle/input/data-car-public/Public/Honda/225...          1\n",
       "27863  /kaggle/input/data-car-public/Public/Honda/225...          1\n",
       "\n",
       "[26488 rows x 2 columns]"
      ]
     },
     "execution_count": 8,
     "metadata": {},
     "output_type": "execute_result"
    }
   ],
   "source": [
    "train_df"
   ]
  },
  {
   "cell_type": "code",
   "execution_count": 9,
   "id": "598725d5",
   "metadata": {
    "execution": {
     "iopub.execute_input": "2025-01-19T15:16:18.583405Z",
     "iopub.status.busy": "2025-01-19T15:16:18.583199Z",
     "iopub.status.idle": "2025-01-19T15:20:20.751009Z",
     "shell.execute_reply": "2025-01-19T15:20:20.750032Z"
    },
    "papermill": {
     "duration": 242.174276,
     "end_time": "2025-01-19T15:20:20.752505",
     "exception": false,
     "start_time": "2025-01-19T15:16:18.578229",
     "status": "completed"
    },
    "tags": []
   },
   "outputs": [
    {
     "name": "stdout",
     "output_type": "stream",
     "text": [
      "Warning: File not found - /kaggle/input/data-car-public/Public/Mazda/22520779-22521587.Mazda.143 (1).jpg\n",
      "Warning: File not found - /kaggle/input/data-car-public/Public/Mazda/22520779-22521587.Mazda.146 (1).jpg\n",
      "Warning: File not found - /kaggle/input/data-car-public/Public/Mazda/22520779-22521587.Mazda.145 (1).jpg\n",
      "Warning: File not found - /kaggle/input/data-car-public/Public/Mitsubishi/22521586-22521559.Mitsubishi.155 (1).jpg\n",
      "Warning: File not found - /kaggle/input/data-car-public/Public/Mitsubishi/22521586-22521559.Mitsubishi.156 (1).jpg\n",
      "Warning: File not found - /kaggle/input/data-car-public/Public/Mitsubishi/22521586-22521559.Mitsubishi.157 (1).jpg\n",
      "Warning: File not found - /kaggle/input/data-car-public/Public/Mitsubishi/22521586-22521559.Mitsubishi.158 (1).jpg\n",
      "Warning: File not found - /kaggle/input/data-car-public/Public/Mitsubishi/22521586-22521559.Mitsubishi.160 (1).jpg\n",
      "Warning: File not found - /kaggle/input/data-car-public/Public/Mitsubishi/22521586-22521559.Mitsubishi.161 (1).jpg\n",
      "Warning: File not found - /kaggle/input/data-car-public/Public/Mitsubishi/22521586-22521559.Mitsubishi.163 (1).jpg\n",
      "Warning: File not found - /kaggle/input/data-car-public/Public/Mitsubishi/22521586-22521559.Mitsubishi.164 (1).jpg\n",
      "Warning: File not found - /kaggle/input/data-car-public/Public/Mitsubishi/22521586-22521559.Mitsubishi.165 (1).jpg\n",
      "Warning: File not found - /kaggle/input/data-car-public/Public/Mitsubishi/22521586-22521559.Mitsubishi.166 (1).jpg\n",
      "Warning: File not found - /kaggle/input/data-car-public/Public/Mitsubishi/22521586-22521559.Mitsubishi.168 (1).jpg\n",
      "Warning: File not found - /kaggle/input/data-car-public/Public/Mitsubishi/22521586-22521559.Mitsubishi.169 (1).jpg\n",
      "Warning: File not found - /kaggle/input/data-car-public/Public/Mitsubishi/22521586-22521559.Mitsubishi.170 (1).jpg\n",
      "Warning: File not found - /kaggle/input/data-car-public/Public/Mitsubishi/22521586-22521559.Mitsubishi.171 (1).jpg\n",
      "Warning: File not found - /kaggle/input/data-car-public/Public/Mitsubishi/22521586-22521559.Mitsubishi.172 (1).jpg\n",
      "Warning: File not found - /kaggle/input/data-car-public/Public/Mitsubishi/22521586-22521559.Mitsubishi.173 (1).jpg\n",
      "Warning: File not found - /kaggle/input/data-car-public/Public/Mitsubishi/22521586-22521559.Mitsubishi.174 (1).jpg\n",
      "Warning: File not found - /kaggle/input/data-car-public/Public/Mitsubishi/22521586-22521559.Mitsubishi.175 (1).jpg\n",
      "Warning: File not found - /kaggle/input/data-car-public/Public/Mitsubishi/22521586-22521559.Mitsubishi.178 (1).jpg\n",
      "Warning: File not found - /kaggle/input/data-car-public/Public/Mitsubishi/22521586-22521559.Mitsubishi.180 (1).jpg\n",
      "Warning: File not found - /kaggle/input/data-car-public/Public/Hyundai/22520779-22521587.Hyundai.346 (1).jpg\n",
      "Warning: File not found - /kaggle/input/data-car-public/Public/Hyundai/22520779-22521587.Hyundai.350 (1).jpg\n",
      "Warning: File not found - /kaggle/input/data-car-public/Public/KIA/22520477-22520490.KIA.0 (1).jpg\n",
      "Warning: File not found - /kaggle/input/data-car-public/Public/Honda/22521492-22521599.Honda.3 (1).jpg\n",
      "Warning: File not found - /kaggle/input/data-car-public/Public/Honda/22521492-22521599.Honda.9 (1).jpg\n",
      "Valid images: 26447\n",
      "Invalid images: 13\n",
      "Warning: File not found - /kaggle/input/data-car-public/Public/Mazda/22520779-22521587.Mazda.148 (1).jpg\n",
      "Warning: File not found - /kaggle/input/data-car-public/Public/Mazda/22520779-22521587.Mazda.147 (1).jpg\n",
      "Warning: File not found - /kaggle/input/data-car-public/Public/Mazda/22520779-22521587.Mazda.149 (1).jpg\n",
      "Warning: File not found - /kaggle/input/data-car-public/Public/Mazda/22520779-22521587.Mazda.144 (1).jpg\n",
      "Warning: File not found - /kaggle/input/data-car-public/Public/Mitsubishi/22521586-22521559.Mitsubishi.159 (1).jpg\n",
      "Warning: File not found - /kaggle/input/data-car-public/Public/Mitsubishi/22521586-22521559.Mitsubishi.162 (1).jpg\n",
      "Warning: File not found - /kaggle/input/data-car-public/Public/Mitsubishi/22521586-22521559.Mitsubishi.167 (1).jpg\n",
      "Warning: File not found - /kaggle/input/data-car-public/Public/Mitsubishi/22521586-22521559.Mitsubishi.176 (1).jpg\n",
      "Warning: File not found - /kaggle/input/data-car-public/Public/Mitsubishi/22521586-22521559.Mitsubishi.177 (1).jpg\n",
      "Warning: File not found - /kaggle/input/data-car-public/Public/Mitsubishi/22521586-22521559.Mitsubishi.179 (1).jpg\n",
      "Warning: File not found - /kaggle/input/data-car-public/Public/KIA/22520477-22520490.KIA.2 (1).jpg\n",
      "Warning: File not found - /kaggle/input/data-car-public/Public/KIA/22520477-22520490.KIA.1 (1).jpg\n",
      "Valid images: 6950\n",
      "Invalid images: 3\n"
     ]
    }
   ],
   "source": [
    "def check_image(df, column=\"ImageFullPath\"):\n",
    "    valid_images = []\n",
    "    invalid_images = []\n",
    "    for path in df[column]:\n",
    "        if not os.path.exists(path):\n",
    "            print(f\"Warning: File not found - {path}\")\n",
    "            continue\n",
    "        try:\n",
    "            with Image.open(path) as img:\n",
    "                img.verify()  # Xác minh file là ảnh hợp lệ\n",
    "                valid_images.append(path)\n",
    "        except (UnidentifiedImageError, FileNotFoundError, IOError):\n",
    "            invalid_images.append(path)\n",
    "    print(f\"Valid images: {len(valid_images)}\")\n",
    "    print(f\"Invalid images: {len(invalid_images)}\")\n",
    "    return valid_images\n",
    "            \n",
    "# Kiểm tra dữ liệu train và test\n",
    "train_valid_paths = check_image(train_df)\n",
    "test_valid_paths = check_image(test_df)\n",
    "\n",
    "# Lọc chỉ giữ lại các ảnh hợp lệ\n",
    "train_df = train_df[train_df['ImageFullPath'].isin(train_valid_paths)]\n",
    "test_df = test_df[test_df['ImageFullPath'].isin(test_valid_paths)]"
   ]
  },
  {
   "cell_type": "code",
   "execution_count": 10,
   "id": "fe0d7872",
   "metadata": {
    "execution": {
     "iopub.execute_input": "2025-01-19T15:20:20.764186Z",
     "iopub.status.busy": "2025-01-19T15:20:20.763928Z",
     "iopub.status.idle": "2025-01-19T15:20:20.772232Z",
     "shell.execute_reply": "2025-01-19T15:20:20.771414Z"
    },
    "papermill": {
     "duration": 0.015444,
     "end_time": "2025-01-19T15:20:20.773575",
     "exception": false,
     "start_time": "2025-01-19T15:20:20.758131",
     "status": "completed"
    },
    "tags": []
   },
   "outputs": [
    {
     "data": {
      "text/html": [
       "<div>\n",
       "<style scoped>\n",
       "    .dataframe tbody tr th:only-of-type {\n",
       "        vertical-align: middle;\n",
       "    }\n",
       "\n",
       "    .dataframe tbody tr th {\n",
       "        vertical-align: top;\n",
       "    }\n",
       "\n",
       "    .dataframe thead th {\n",
       "        text-align: right;\n",
       "    }\n",
       "</style>\n",
       "<table border=\"1\" class=\"dataframe\">\n",
       "  <thead>\n",
       "    <tr style=\"text-align: right;\">\n",
       "      <th></th>\n",
       "      <th>ImageFullPath</th>\n",
       "      <th>CategoryID</th>\n",
       "    </tr>\n",
       "  </thead>\n",
       "  <tbody>\n",
       "    <tr>\n",
       "      <th>0</th>\n",
       "      <td>/kaggle/input/data-car-public/Public/Mazda/225...</td>\n",
       "      <td>4</td>\n",
       "    </tr>\n",
       "    <tr>\n",
       "      <th>1</th>\n",
       "      <td>/kaggle/input/data-car-public/Public/Mazda/225...</td>\n",
       "      <td>4</td>\n",
       "    </tr>\n",
       "    <tr>\n",
       "      <th>2</th>\n",
       "      <td>/kaggle/input/data-car-public/Public/Mazda/225...</td>\n",
       "      <td>4</td>\n",
       "    </tr>\n",
       "    <tr>\n",
       "      <th>3</th>\n",
       "      <td>/kaggle/input/data-car-public/Public/Mazda/225...</td>\n",
       "      <td>4</td>\n",
       "    </tr>\n",
       "    <tr>\n",
       "      <th>4</th>\n",
       "      <td>/kaggle/input/data-car-public/Public/Mazda/225...</td>\n",
       "      <td>4</td>\n",
       "    </tr>\n",
       "    <tr>\n",
       "      <th>...</th>\n",
       "      <td>...</td>\n",
       "      <td>...</td>\n",
       "    </tr>\n",
       "    <tr>\n",
       "      <th>27859</th>\n",
       "      <td>/kaggle/input/data-car-public/Public/Honda/225...</td>\n",
       "      <td>1</td>\n",
       "    </tr>\n",
       "    <tr>\n",
       "      <th>27860</th>\n",
       "      <td>/kaggle/input/data-car-public/Public/Honda/225...</td>\n",
       "      <td>1</td>\n",
       "    </tr>\n",
       "    <tr>\n",
       "      <th>27861</th>\n",
       "      <td>/kaggle/input/data-car-public/Public/Honda/225...</td>\n",
       "      <td>1</td>\n",
       "    </tr>\n",
       "    <tr>\n",
       "      <th>27862</th>\n",
       "      <td>/kaggle/input/data-car-public/Public/Honda/225...</td>\n",
       "      <td>1</td>\n",
       "    </tr>\n",
       "    <tr>\n",
       "      <th>27863</th>\n",
       "      <td>/kaggle/input/data-car-public/Public/Honda/225...</td>\n",
       "      <td>1</td>\n",
       "    </tr>\n",
       "  </tbody>\n",
       "</table>\n",
       "<p>26447 rows × 2 columns</p>\n",
       "</div>"
      ],
      "text/plain": [
       "                                           ImageFullPath CategoryID\n",
       "0      /kaggle/input/data-car-public/Public/Mazda/225...          4\n",
       "1      /kaggle/input/data-car-public/Public/Mazda/225...          4\n",
       "2      /kaggle/input/data-car-public/Public/Mazda/225...          4\n",
       "3      /kaggle/input/data-car-public/Public/Mazda/225...          4\n",
       "4      /kaggle/input/data-car-public/Public/Mazda/225...          4\n",
       "...                                                  ...        ...\n",
       "27859  /kaggle/input/data-car-public/Public/Honda/225...          1\n",
       "27860  /kaggle/input/data-car-public/Public/Honda/225...          1\n",
       "27861  /kaggle/input/data-car-public/Public/Honda/225...          1\n",
       "27862  /kaggle/input/data-car-public/Public/Honda/225...          1\n",
       "27863  /kaggle/input/data-car-public/Public/Honda/225...          1\n",
       "\n",
       "[26447 rows x 2 columns]"
      ]
     },
     "execution_count": 10,
     "metadata": {},
     "output_type": "execute_result"
    }
   ],
   "source": [
    "train_df"
   ]
  },
  {
   "cell_type": "code",
   "execution_count": 11,
   "id": "88464ac7",
   "metadata": {
    "execution": {
     "iopub.execute_input": "2025-01-19T15:20:20.785195Z",
     "iopub.status.busy": "2025-01-19T15:20:20.784962Z",
     "iopub.status.idle": "2025-01-19T15:20:20.792473Z",
     "shell.execute_reply": "2025-01-19T15:20:20.791710Z"
    },
    "papermill": {
     "duration": 0.014495,
     "end_time": "2025-01-19T15:20:20.793686",
     "exception": false,
     "start_time": "2025-01-19T15:20:20.779191",
     "status": "completed"
    },
    "tags": []
   },
   "outputs": [
    {
     "data": {
      "text/html": [
       "<div>\n",
       "<style scoped>\n",
       "    .dataframe tbody tr th:only-of-type {\n",
       "        vertical-align: middle;\n",
       "    }\n",
       "\n",
       "    .dataframe tbody tr th {\n",
       "        vertical-align: top;\n",
       "    }\n",
       "\n",
       "    .dataframe thead th {\n",
       "        text-align: right;\n",
       "    }\n",
       "</style>\n",
       "<table border=\"1\" class=\"dataframe\">\n",
       "  <thead>\n",
       "    <tr style=\"text-align: right;\">\n",
       "      <th></th>\n",
       "      <th>ImageFullPath</th>\n",
       "      <th>CategoryID</th>\n",
       "    </tr>\n",
       "  </thead>\n",
       "  <tbody>\n",
       "    <tr>\n",
       "      <th>0</th>\n",
       "      <td>/kaggle/input/data-car-public/Public/Mazda/225...</td>\n",
       "      <td>4</td>\n",
       "    </tr>\n",
       "    <tr>\n",
       "      <th>1</th>\n",
       "      <td>/kaggle/input/data-car-public/Public/Mazda/225...</td>\n",
       "      <td>4</td>\n",
       "    </tr>\n",
       "    <tr>\n",
       "      <th>2</th>\n",
       "      <td>/kaggle/input/data-car-public/Public/Mazda/225...</td>\n",
       "      <td>4</td>\n",
       "    </tr>\n",
       "    <tr>\n",
       "      <th>3</th>\n",
       "      <td>/kaggle/input/data-car-public/Public/Mazda/225...</td>\n",
       "      <td>4</td>\n",
       "    </tr>\n",
       "    <tr>\n",
       "      <th>4</th>\n",
       "      <td>/kaggle/input/data-car-public/Public/Mazda/225...</td>\n",
       "      <td>4</td>\n",
       "    </tr>\n",
       "    <tr>\n",
       "      <th>...</th>\n",
       "      <td>...</td>\n",
       "      <td>...</td>\n",
       "    </tr>\n",
       "    <tr>\n",
       "      <th>6960</th>\n",
       "      <td>/kaggle/input/data-car-public/Public/Honda/225...</td>\n",
       "      <td>1</td>\n",
       "    </tr>\n",
       "    <tr>\n",
       "      <th>6961</th>\n",
       "      <td>/kaggle/input/data-car-public/Public/Honda/225...</td>\n",
       "      <td>1</td>\n",
       "    </tr>\n",
       "    <tr>\n",
       "      <th>6962</th>\n",
       "      <td>/kaggle/input/data-car-public/Public/Honda/225...</td>\n",
       "      <td>1</td>\n",
       "    </tr>\n",
       "    <tr>\n",
       "      <th>6963</th>\n",
       "      <td>/kaggle/input/data-car-public/Public/Honda/225...</td>\n",
       "      <td>1</td>\n",
       "    </tr>\n",
       "    <tr>\n",
       "      <th>6964</th>\n",
       "      <td>/kaggle/input/data-car-public/Public/Honda/225...</td>\n",
       "      <td>1</td>\n",
       "    </tr>\n",
       "  </tbody>\n",
       "</table>\n",
       "<p>6950 rows × 2 columns</p>\n",
       "</div>"
      ],
      "text/plain": [
       "                                          ImageFullPath CategoryID\n",
       "0     /kaggle/input/data-car-public/Public/Mazda/225...          4\n",
       "1     /kaggle/input/data-car-public/Public/Mazda/225...          4\n",
       "2     /kaggle/input/data-car-public/Public/Mazda/225...          4\n",
       "3     /kaggle/input/data-car-public/Public/Mazda/225...          4\n",
       "4     /kaggle/input/data-car-public/Public/Mazda/225...          4\n",
       "...                                                 ...        ...\n",
       "6960  /kaggle/input/data-car-public/Public/Honda/225...          1\n",
       "6961  /kaggle/input/data-car-public/Public/Honda/225...          1\n",
       "6962  /kaggle/input/data-car-public/Public/Honda/225...          1\n",
       "6963  /kaggle/input/data-car-public/Public/Honda/225...          1\n",
       "6964  /kaggle/input/data-car-public/Public/Honda/225...          1\n",
       "\n",
       "[6950 rows x 2 columns]"
      ]
     },
     "execution_count": 11,
     "metadata": {},
     "output_type": "execute_result"
    }
   ],
   "source": [
    "test_df"
   ]
  },
  {
   "cell_type": "code",
   "execution_count": 12,
   "id": "a73e2c81",
   "metadata": {
    "execution": {
     "iopub.execute_input": "2025-01-19T15:20:20.805341Z",
     "iopub.status.busy": "2025-01-19T15:20:20.805138Z",
     "iopub.status.idle": "2025-01-19T15:20:55.256706Z",
     "shell.execute_reply": "2025-01-19T15:20:55.255929Z"
    },
    "papermill": {
     "duration": 34.464807,
     "end_time": "2025-01-19T15:20:55.263963",
     "exception": false,
     "start_time": "2025-01-19T15:20:20.799156",
     "status": "completed"
    },
    "tags": []
   },
   "outputs": [
    {
     "name": "stdout",
     "output_type": "stream",
     "text": [
      "Found 21157 validated image filenames belonging to 9 classes.\n",
      "Found 5290 validated image filenames belonging to 9 classes.\n",
      "Found 6950 validated image filenames belonging to 9 classes.\n"
     ]
    }
   ],
   "source": [
    "from sklearn.model_selection import train_test_split\n",
    "from tensorflow.keras.preprocessing.image import ImageDataGenerator\n",
    "# from tensorflow.keras.applications.resnet50 import preprocess_input\n",
    "from tensorflow.keras.applications.mobilenet import preprocess_input\n",
    "\n",
    "# Chia dữ liệu theo tỷ lệ lớp\n",
    "train_data, val_data = train_test_split(\n",
    "    train_df,\n",
    "    test_size=0.2,\n",
    "    stratify=train_df['CategoryID'],  # Đảm bảo phân phối lớp đồng đều\n",
    "    random_state=SEED\n",
    ")\n",
    "\n",
    "# Khởi tạo ImageDataGenerator\n",
    "train_data_generator = ImageDataGenerator(\n",
    "    preprocessing_function=preprocess_input,\n",
    "    rotation_range=10,          # Xoay ngẫu nhiên\n",
    "    width_shift_range=0.1,      # Dịch chuyển ngang\n",
    "    height_shift_range=0.1,     # Dịch chuyển dọc\n",
    "    shear_range=0.1,            # Biến dạng hình học\n",
    "    zoom_range=0.2,             # Phóng to / thu nhỏ\n",
    "    horizontal_flip=True,       # Lật ngang\n",
    "    fill_mode='nearest'         # Điền các pixel trống bằng giá trị pixel gần nhất\n",
    ")\n",
    "\n",
    "test_data_generator = ImageDataGenerator(\n",
    "    preprocessing_function=preprocess_input\n",
    ")\n",
    "\n",
    "# Cấu hình chung\n",
    "dataframe_config = {\n",
    "    'x_col': 'ImageFullPath',\n",
    "    'y_col': 'CategoryID',\n",
    "    'target_size': (HEIGHT, WIDTH),\n",
    "    'batch_size': BATCH_SIZE,\n",
    "    'class_mode': 'categorical',\n",
    "    'shuffle': True,\n",
    "    'seed': SEED,\n",
    "    'color_mode': 'rgb',\n",
    "}\n",
    "\n",
    "# Flow từ DataFrame\n",
    "train_generator = train_data_generator.flow_from_dataframe(train_data, **dataframe_config)\n",
    "val_generator = train_data_generator.flow_from_dataframe(val_data, **dataframe_config)\n",
    "test_generator = test_data_generator.flow_from_dataframe(test_df, **dataframe_config)\n"
   ]
  },
  {
   "cell_type": "code",
   "execution_count": 13,
   "id": "f3d2f11d",
   "metadata": {
    "execution": {
     "iopub.execute_input": "2025-01-19T15:20:55.276016Z",
     "iopub.status.busy": "2025-01-19T15:20:55.275745Z",
     "iopub.status.idle": "2025-01-19T15:20:55.287209Z",
     "shell.execute_reply": "2025-01-19T15:20:55.286394Z"
    },
    "papermill": {
     "duration": 0.018762,
     "end_time": "2025-01-19T15:20:55.288344",
     "exception": false,
     "start_time": "2025-01-19T15:20:55.269582",
     "status": "completed"
    },
    "tags": []
   },
   "outputs": [
    {
     "name": "stdout",
     "output_type": "stream",
     "text": [
      "Data Distribution in Train Generator:\n",
      "  0: 2513\n",
      "  1: 1833\n",
      "  2: 2008\n",
      "  3: 1945\n",
      "  4: 2048\n",
      "  5: 1837\n",
      "  6: 4093\n",
      "  7: 3559\n",
      "  8: 1321\n",
      "\n",
      "\n",
      "Data Distribution in Validation Generator:\n",
      "  0: 629\n",
      "  1: 459\n",
      "  2: 502\n",
      "  3: 486\n",
      "  4: 512\n",
      "  5: 459\n",
      "  6: 1023\n",
      "  7: 890\n",
      "  8: 330\n",
      "\n",
      "\n",
      "Data Distribution in Test Generator:\n",
      "  0: 788\n",
      "  1: 605\n",
      "  2: 652\n",
      "  3: 672\n",
      "  4: 661\n",
      "  5: 596\n",
      "  6: 1334\n",
      "  7: 1183\n",
      "  8: 459\n",
      "\n",
      "\n"
     ]
    }
   ],
   "source": [
    "import numpy as np\n",
    "\n",
    "def check_data_distribution(generator, name):\n",
    "    # Truy cập các nhãn được gán trong generator\n",
    "    labels = generator.classes  # Danh sách chỉ số lớp cho mỗi mẫu\n",
    "    unique, counts = np.unique(labels, return_counts=True)  # Đếm số lượng mẫu mỗi lớp\n",
    "    \n",
    "    # Truy cập tên lớp\n",
    "    class_names = list(generator.class_indices.keys())  # Danh sách tên các lớp\n",
    "    distribution = dict(zip(class_names, counts))  # Ghép tên lớp và số lượng mẫu\n",
    "    \n",
    "    print(f\"Data Distribution in {name}:\")\n",
    "    for cls, count in distribution.items():\n",
    "        print(f\"  {cls}: {count}\")\n",
    "    print(\"\\n\")\n",
    "    return distribution\n",
    "\n",
    "# Kiểm tra phân phối trên từng generator\n",
    "train_distribution = check_data_distribution(train_generator, \"Train Generator\")\n",
    "val_distribution = check_data_distribution(val_generator, \"Validation Generator\")\n",
    "test_distribution = check_data_distribution(test_generator, \"Test Generator\")\n"
   ]
  },
  {
   "cell_type": "code",
   "execution_count": 14,
   "id": "04903932",
   "metadata": {
    "execution": {
     "iopub.execute_input": "2025-01-19T15:20:55.300449Z",
     "iopub.status.busy": "2025-01-19T15:20:55.300244Z",
     "iopub.status.idle": "2025-01-19T15:20:56.214725Z",
     "shell.execute_reply": "2025-01-19T15:20:56.213946Z"
    },
    "papermill": {
     "duration": 0.922267,
     "end_time": "2025-01-19T15:20:56.216248",
     "exception": false,
     "start_time": "2025-01-19T15:20:55.293981",
     "status": "completed"
    },
    "tags": []
   },
   "outputs": [
    {
     "data": {
      "image/png": "[encoded data removed]",
      "text/plain": [
       "<Figure size 1200x600 with 1 Axes>"
      ]
     },
     "metadata": {},
     "output_type": "display_data"
    },
    {
     "data": {
      "image/png": "[encoded data removed]",
      "text/plain": [
       "<Figure size 1200x600 with 1 Axes>"
      ]
     },
     "metadata": {},
     "output_type": "display_data"
    },
    {
     "data": {
      "image/png": "[encoded data removed]",
      "text/plain": [
       "<Figure size 1200x600 with 1 Axes>"
      ]
     },
     "metadata": {},
     "output_type": "display_data"
    }
   ],
   "source": [
    "import matplotlib.pyplot as plt\n",
    "\n",
    "def plot_distribution(distribution, title):\n",
    "    classes = list(distribution.keys())\n",
    "    counts = list(distribution.values())\n",
    "    \n",
    "    plt.figure(figsize=(12, 6))\n",
    "    plt.bar(classes, counts, color='skyblue')\n",
    "    plt.title(title)\n",
    "    plt.xlabel(\"Classes\")\n",
    "    plt.ylabel(\"Number of Samples\")\n",
    "    plt.xticks(rotation=45)\n",
    "    plt.show()\n",
    "\n",
    "# Vẽ biểu đồ phân phối\n",
    "plot_distribution(train_distribution, \"Train Data Distribution\")\n",
    "plot_distribution(val_distribution, \"Validation Data Distribution\")\n",
    "plot_distribution(test_distribution, \"Test Data Distribution\")\n"
   ]
  },
  {
   "cell_type": "code",
   "execution_count": 15,
   "id": "625826fb",
   "metadata": {
    "execution": {
     "iopub.execute_input": "2025-01-19T15:20:56.233981Z",
     "iopub.status.busy": "2025-01-19T15:20:56.233657Z",
     "iopub.status.idle": "2025-01-19T15:20:59.115627Z",
     "shell.execute_reply": "2025-01-19T15:20:59.114943Z"
    },
    "papermill": {
     "duration": 2.891792,
     "end_time": "2025-01-19T15:20:59.117219",
     "exception": false,
     "start_time": "2025-01-19T15:20:56.225427",
     "status": "completed"
    },
    "tags": []
   },
   "outputs": [
    {
     "name": "stdout",
     "output_type": "stream",
     "text": [
      "Downloading data from https://storage.googleapis.com/tensorflow/keras-applications/mobilenet/mobilenet_1_0_224_tf_no_top.h5\n",
      "\u001b[1m17225924/17225924\u001b[0m \u001b[32m━━━━━━━━━━━━━━━━━━━━\u001b[0m\u001b[37m\u001b[0m \u001b[1m2s\u001b[0m 0us/step\n"
     ]
    }
   ],
   "source": [
    "base_model = MobileNet(\n",
    "    include_top=False,  \n",
    "    weights='imagenet', \n",
    "    input_shape=(HEIGHT, WIDTH, 3)\n",
    ")\n",
    "\n",
    "model = models.Sequential()\n",
    "model.add(base_model)\n",
    "model.add(layers.GlobalAveragePooling2D())\n",
    "model.add(layers.Dense(1024, activation='relu'))\n",
    "model.add(layers.Dropout(0.5))\n",
    "model.add(layers.Dense(512, activation='relu'))\n",
    "model.add(layers.Dense(256, activation='relu'))\n",
    "model.add(layers.Dense(128, activation='relu'))\n",
    "model.add(layers.Dense(9, activation='softmax'))  "
   ]
  },
  {
   "cell_type": "markdown",
   "id": "9e00ba20",
   "metadata": {
    "papermill": {
     "duration": 0.00803,
     "end_time": "2025-01-19T15:20:59.134287",
     "exception": false,
     "start_time": "2025-01-19T15:20:59.126257",
     "status": "completed"
    },
    "tags": []
   },
   "source": [
    "# Training"
   ]
  },
  {
   "cell_type": "code",
   "execution_count": 16,
   "id": "92296464",
   "metadata": {
    "execution": {
     "iopub.execute_input": "2025-01-19T15:20:59.151494Z",
     "iopub.status.busy": "2025-01-19T15:20:59.151258Z",
     "iopub.status.idle": "2025-01-19T15:20:59.157237Z",
     "shell.execute_reply": "2025-01-19T15:20:59.156607Z"
    },
    "papermill": {
     "duration": 0.016101,
     "end_time": "2025-01-19T15:20:59.158456",
     "exception": false,
     "start_time": "2025-01-19T15:20:59.142355",
     "status": "completed"
    },
    "tags": []
   },
   "outputs": [],
   "source": [
    "from tensorflow.keras.callbacks import ModelCheckpoint, EarlyStopping, ReduceLROnPlateau, TensorBoard, LearningRateScheduler\n",
    "\n",
    "# Callbacks\n",
    "checkpoint = ModelCheckpoint(\"model.keras\", monitor=\"val_loss\", save_best_only=True, verbose=1)\n",
    "early_stopping = EarlyStopping(monitor=\"val_loss\", patience=3, verbose=1, restore_best_weights=True)\n",
    "reduce_lr = ReduceLROnPlateau(\n",
    "    monitor='val_loss',\n",
    "    factor=0.5,\n",
    "    patience=2,\n",
    "    verbose=1,\n",
    "    min_lr=1e-6\n",
    ")\n",
    "\n",
    "callbacks = [checkpoint,reduce_lr,early_stopping]"
   ]
  },
  {
   "cell_type": "code",
   "execution_count": 17,
   "id": "506a98d5",
   "metadata": {
    "execution": {
     "iopub.execute_input": "2025-01-19T15:20:59.176122Z",
     "iopub.status.busy": "2025-01-19T15:20:59.175917Z",
     "iopub.status.idle": "2025-01-19T15:20:59.178949Z",
     "shell.execute_reply": "2025-01-19T15:20:59.178286Z"
    },
    "papermill": {
     "duration": 0.013328,
     "end_time": "2025-01-19T15:20:59.180135",
     "exception": false,
     "start_time": "2025-01-19T15:20:59.166807",
     "status": "completed"
    },
    "tags": []
   },
   "outputs": [],
   "source": [
    "learning_rate = 0.0001\n",
    "epochs = 30"
   ]
  },
  {
   "cell_type": "code",
   "execution_count": 18,
   "id": "5bb1df27",
   "metadata": {
    "execution": {
     "iopub.execute_input": "2025-01-19T15:20:59.197820Z",
     "iopub.status.busy": "2025-01-19T15:20:59.197622Z",
     "iopub.status.idle": "2025-01-19T15:20:59.208646Z",
     "shell.execute_reply": "2025-01-19T15:20:59.208070Z"
    },
    "papermill": {
     "duration": 0.021052,
     "end_time": "2025-01-19T15:20:59.209938",
     "exception": false,
     "start_time": "2025-01-19T15:20:59.188886",
     "status": "completed"
    },
    "tags": []
   },
   "outputs": [],
   "source": [
    "model.compile(\n",
    "    optimizer=Adam(learning_rate=learning_rate),\n",
    "    loss='categorical_crossentropy',\n",
    "    metrics=['accuracy']\n",
    ")"
   ]
  },
  {
   "cell_type": "code",
   "execution_count": 19,
   "id": "21b12abe",
   "metadata": {
    "execution": {
     "iopub.execute_input": "2025-01-19T15:20:59.228220Z",
     "iopub.status.busy": "2025-01-19T15:20:59.228019Z",
     "iopub.status.idle": "2025-01-19T15:20:59.253204Z",
     "shell.execute_reply": "2025-01-19T15:20:59.252390Z"
    },
    "papermill": {
     "duration": 0.036151,
     "end_time": "2025-01-19T15:20:59.254397",
     "exception": false,
     "start_time": "2025-01-19T15:20:59.218246",
     "status": "completed"
    },
    "tags": []
   },
   "outputs": [],
   "source": [
    "from sklearn.utils.class_weight import compute_class_weight\n",
    "\n",
    "class_weights = compute_class_weight(\n",
    "    class_weight='balanced',\n",
    "    classes=np.unique(train_df['CategoryID']),\n",
    "    y=train_df['CategoryID']\n",
    ")\n",
    "\n",
    "class_weights_dict = dict(enumerate(class_weights))"
   ]
  },
  {
   "cell_type": "code",
   "execution_count": 20,
   "id": "bc3ea0ba",
   "metadata": {
    "execution": {
     "iopub.execute_input": "2025-01-19T15:20:59.272437Z",
     "iopub.status.busy": "2025-01-19T15:20:59.272184Z",
     "iopub.status.idle": "2025-01-19T17:40:45.034331Z",
     "shell.execute_reply": "2025-01-19T17:40:45.033351Z"
    },
    "papermill": {
     "duration": 8385.941783,
     "end_time": "2025-01-19T17:40:45.204617",
     "exception": false,
     "start_time": "2025-01-19T15:20:59.262834",
     "status": "completed"
    },
    "tags": []
   },
   "outputs": [
    {
     "name": "stderr",
     "output_type": "stream",
     "text": [
      "/usr/local/lib/python3.10/dist-packages/PIL/Image.py:1056: UserWarning: Palette images with Transparency expressed in bytes should be converted to RGBA images\n",
      "  warnings.warn(\n"
     ]
    },
    {
     "name": "stdout",
     "output_type": "stream",
     "text": [
      "Epoch 1/30\n"
     ]
    },
    {
     "name": "stderr",
     "output_type": "stream",
     "text": [
      "/usr/local/lib/python3.10/dist-packages/keras/src/trainers/data_adapters/py_dataset_adapter.py:121: UserWarning: Your `PyDataset` class should call `super().__init__(**kwargs)` in its constructor. `**kwargs` can include `workers`, `use_multiprocessing`, `max_queue_size`. Do not pass these arguments to `fit()`, as they will be ignored.\n",
      "  self._warn_if_super_not_called()\n"
     ]
    },
    {
     "name": "stdout",
     "output_type": "stream",
     "text": [
      "\u001b[1m331/331\u001b[0m \u001b[32m━━━━━━━━━━━━━━━━━━━━\u001b[0m\u001b[37m\u001b[0m \u001b[1m0s\u001b[0m 1s/step - accuracy: 0.2479 - loss: 2.0524\n",
      "Epoch 1: val_loss improved from inf to 1.46860, saving model to model.keras\n",
      "\u001b[1m331/331\u001b[0m \u001b[32m━━━━━━━━━━━━━━━━━━━━\u001b[0m\u001b[37m\u001b[0m \u001b[1m598s\u001b[0m 2s/step - accuracy: 0.2482 - loss: 2.0518 - val_accuracy: 0.4817 - val_loss: 1.4686 - learning_rate: 1.0000e-04\n",
      "Epoch 2/30\n",
      "\u001b[1m331/331\u001b[0m \u001b[32m━━━━━━━━━━━━━━━━━━━━\u001b[0m\u001b[37m\u001b[0m \u001b[1m0s\u001b[0m 1s/step - accuracy: 0.5371 - loss: 1.3159\n",
      "Epoch 2: val_loss improved from 1.46860 to 1.08335, saving model to model.keras\n",
      "\u001b[1m331/331\u001b[0m \u001b[32m━━━━━━━━━━━━━━━━━━━━\u001b[0m\u001b[37m\u001b[0m \u001b[1m556s\u001b[0m 2s/step - accuracy: 0.5372 - loss: 1.3156 - val_accuracy: 0.6250 - val_loss: 1.0833 - learning_rate: 1.0000e-04\n",
      "Epoch 3/30\n",
      "\u001b[1m331/331\u001b[0m \u001b[32m━━━━━━━━━━━━━━━━━━━━\u001b[0m\u001b[37m\u001b[0m \u001b[1m0s\u001b[0m 1s/step - accuracy: 0.6654 - loss: 0.9510\n",
      "Epoch 3: val_loss improved from 1.08335 to 0.92982, saving model to model.keras\n",
      "\u001b[1m331/331\u001b[0m \u001b[32m━━━━━━━━━━━━━━━━━━━━\u001b[0m\u001b[37m\u001b[0m \u001b[1m546s\u001b[0m 2s/step - accuracy: 0.6654 - loss: 0.9509 - val_accuracy: 0.6860 - val_loss: 0.9298 - learning_rate: 1.0000e-04\n",
      "Epoch 4/30\n",
      "\u001b[1m331/331\u001b[0m \u001b[32m━━━━━━━━━━━━━━━━━━━━\u001b[0m\u001b[37m\u001b[0m \u001b[1m0s\u001b[0m 1s/step - accuracy: 0.7322 - loss: 0.7589\n",
      "Epoch 4: val_loss improved from 0.92982 to 0.88193, saving model to model.keras\n",
      "\u001b[1m331/331\u001b[0m \u001b[32m━━━━━━━━━━━━━━━━━━━━\u001b[0m\u001b[37m\u001b[0m \u001b[1m549s\u001b[0m 2s/step - accuracy: 0.7322 - loss: 0.7588 - val_accuracy: 0.7023 - val_loss: 0.8819 - learning_rate: 1.0000e-04\n",
      "Epoch 5/30\n",
      "\u001b[1m331/331\u001b[0m \u001b[32m━━━━━━━━━━━━━━━━━━━━\u001b[0m\u001b[37m\u001b[0m \u001b[1m0s\u001b[0m 1s/step - accuracy: 0.7777 - loss: 0.6212\n",
      "Epoch 5: val_loss improved from 0.88193 to 0.83987, saving model to model.keras\n",
      "\u001b[1m331/331\u001b[0m \u001b[32m━━━━━━━━━━━━━━━━━━━━\u001b[0m\u001b[37m\u001b[0m \u001b[1m549s\u001b[0m 2s/step - accuracy: 0.7777 - loss: 0.6212 - val_accuracy: 0.7263 - val_loss: 0.8399 - learning_rate: 1.0000e-04\n",
      "Epoch 6/30\n",
      "\u001b[1m331/331\u001b[0m \u001b[32m━━━━━━━━━━━━━━━━━━━━\u001b[0m\u001b[37m\u001b[0m \u001b[1m0s\u001b[0m 1s/step - accuracy: 0.8164 - loss: 0.5172\n",
      "Epoch 6: val_loss improved from 0.83987 to 0.78642, saving model to model.keras\n",
      "\u001b[1m331/331\u001b[0m \u001b[32m━━━━━━━━━━━━━━━━━━━━\u001b[0m\u001b[37m\u001b[0m \u001b[1m558s\u001b[0m 2s/step - accuracy: 0.8164 - loss: 0.5173 - val_accuracy: 0.7395 - val_loss: 0.7864 - learning_rate: 1.0000e-04\n",
      "Epoch 7/30\n",
      "\u001b[1m331/331\u001b[0m \u001b[32m━━━━━━━━━━━━━━━━━━━━\u001b[0m\u001b[37m\u001b[0m \u001b[1m0s\u001b[0m 1s/step - accuracy: 0.8318 - loss: 0.4655\n",
      "Epoch 7: val_loss improved from 0.78642 to 0.75849, saving model to model.keras\n",
      "\u001b[1m331/331\u001b[0m \u001b[32m━━━━━━━━━━━━━━━━━━━━\u001b[0m\u001b[37m\u001b[0m \u001b[1m559s\u001b[0m 2s/step - accuracy: 0.8318 - loss: 0.4655 - val_accuracy: 0.7616 - val_loss: 0.7585 - learning_rate: 1.0000e-04\n",
      "Epoch 8/30\n",
      "\u001b[1m331/331\u001b[0m \u001b[32m━━━━━━━━━━━━━━━━━━━━\u001b[0m\u001b[37m\u001b[0m \u001b[1m0s\u001b[0m 1s/step - accuracy: 0.8573 - loss: 0.4039\n",
      "Epoch 8: val_loss did not improve from 0.75849\n",
      "\u001b[1m331/331\u001b[0m \u001b[32m━━━━━━━━━━━━━━━━━━━━\u001b[0m\u001b[37m\u001b[0m \u001b[1m549s\u001b[0m 2s/step - accuracy: 0.8572 - loss: 0.4039 - val_accuracy: 0.7463 - val_loss: 0.8342 - learning_rate: 1.0000e-04\n",
      "Epoch 9/30\n",
      "\u001b[1m331/331\u001b[0m \u001b[32m━━━━━━━━━━━━━━━━━━━━\u001b[0m\u001b[37m\u001b[0m \u001b[1m0s\u001b[0m 1s/step - accuracy: 0.8784 - loss: 0.3373\n",
      "Epoch 9: val_loss did not improve from 0.75849\n",
      "\n",
      "Epoch 9: ReduceLROnPlateau reducing learning rate to 4.999999873689376e-05.\n",
      "\u001b[1m331/331\u001b[0m \u001b[32m━━━━━━━━━━━━━━━━━━━━\u001b[0m\u001b[37m\u001b[0m \u001b[1m559s\u001b[0m 2s/step - accuracy: 0.8784 - loss: 0.3373 - val_accuracy: 0.7554 - val_loss: 0.7922 - learning_rate: 1.0000e-04\n",
      "Epoch 10/30\n",
      "\u001b[1m331/331\u001b[0m \u001b[32m━━━━━━━━━━━━━━━━━━━━\u001b[0m\u001b[37m\u001b[0m \u001b[1m0s\u001b[0m 1s/step - accuracy: 0.9009 - loss: 0.2722\n",
      "Epoch 10: val_loss improved from 0.75849 to 0.72250, saving model to model.keras\n",
      "\u001b[1m331/331\u001b[0m \u001b[32m━━━━━━━━━━━━━━━━━━━━\u001b[0m\u001b[37m\u001b[0m \u001b[1m553s\u001b[0m 2s/step - accuracy: 0.9009 - loss: 0.2722 - val_accuracy: 0.7892 - val_loss: 0.7225 - learning_rate: 5.0000e-05\n",
      "Epoch 11/30\n",
      "\u001b[1m331/331\u001b[0m \u001b[32m━━━━━━━━━━━━━━━━━━━━\u001b[0m\u001b[37m\u001b[0m \u001b[1m0s\u001b[0m 1s/step - accuracy: 0.9112 - loss: 0.2374\n",
      "Epoch 11: val_loss improved from 0.72250 to 0.71730, saving model to model.keras\n",
      "\u001b[1m331/331\u001b[0m \u001b[32m━━━━━━━━━━━━━━━━━━━━\u001b[0m\u001b[37m\u001b[0m \u001b[1m555s\u001b[0m 2s/step - accuracy: 0.9112 - loss: 0.2374 - val_accuracy: 0.8040 - val_loss: 0.7173 - learning_rate: 5.0000e-05\n",
      "Epoch 12/30\n",
      "\u001b[1m331/331\u001b[0m \u001b[32m━━━━━━━━━━━━━━━━━━━━\u001b[0m\u001b[37m\u001b[0m \u001b[1m0s\u001b[0m 1s/step - accuracy: 0.9189 - loss: 0.2103\n",
      "Epoch 12: val_loss improved from 0.71730 to 0.70184, saving model to model.keras\n",
      "\u001b[1m331/331\u001b[0m \u001b[32m━━━━━━━━━━━━━━━━━━━━\u001b[0m\u001b[37m\u001b[0m \u001b[1m557s\u001b[0m 2s/step - accuracy: 0.9189 - loss: 0.2104 - val_accuracy: 0.7957 - val_loss: 0.7018 - learning_rate: 5.0000e-05\n",
      "Epoch 13/30\n",
      "\u001b[1m331/331\u001b[0m \u001b[32m━━━━━━━━━━━━━━━━━━━━\u001b[0m\u001b[37m\u001b[0m \u001b[1m0s\u001b[0m 1s/step - accuracy: 0.9311 - loss: 0.1876\n",
      "Epoch 13: val_loss did not improve from 0.70184\n",
      "\u001b[1m331/331\u001b[0m \u001b[32m━━━━━━━━━━━━━━━━━━━━\u001b[0m\u001b[37m\u001b[0m \u001b[1m571s\u001b[0m 2s/step - accuracy: 0.9311 - loss: 0.1875 - val_accuracy: 0.7949 - val_loss: 0.7345 - learning_rate: 5.0000e-05\n",
      "Epoch 14/30\n",
      "\u001b[1m331/331\u001b[0m \u001b[32m━━━━━━━━━━━━━━━━━━━━\u001b[0m\u001b[37m\u001b[0m \u001b[1m0s\u001b[0m 1s/step - accuracy: 0.9341 - loss: 0.1761\n",
      "Epoch 14: val_loss did not improve from 0.70184\n",
      "\n",
      "Epoch 14: ReduceLROnPlateau reducing learning rate to 2.499999936844688e-05.\n",
      "\u001b[1m331/331\u001b[0m \u001b[32m━━━━━━━━━━━━━━━━━━━━\u001b[0m\u001b[37m\u001b[0m \u001b[1m560s\u001b[0m 2s/step - accuracy: 0.9341 - loss: 0.1761 - val_accuracy: 0.7974 - val_loss: 0.7371 - learning_rate: 5.0000e-05\n",
      "Epoch 15/30\n",
      "\u001b[1m331/331\u001b[0m \u001b[32m━━━━━━━━━━━━━━━━━━━━\u001b[0m\u001b[37m\u001b[0m \u001b[1m0s\u001b[0m 1s/step - accuracy: 0.9414 - loss: 0.1573\n",
      "Epoch 15: val_loss did not improve from 0.70184\n",
      "\u001b[1m331/331\u001b[0m \u001b[32m━━━━━━━━━━━━━━━━━━━━\u001b[0m\u001b[37m\u001b[0m \u001b[1m563s\u001b[0m 2s/step - accuracy: 0.9414 - loss: 0.1572 - val_accuracy: 0.8053 - val_loss: 0.7315 - learning_rate: 2.5000e-05\n",
      "Epoch 15: early stopping\n",
      "Restoring model weights from the end of the best epoch: 12.\n"
     ]
    }
   ],
   "source": [
    "history = model.fit(\n",
    "    train_generator,\n",
    "    epochs=epochs,\n",
    "    validation_data=val_generator,\n",
    "    callbacks=callbacks,\n",
    "    class_weight=class_weights_dict\n",
    ")"
   ]
  },
  {
   "cell_type": "markdown",
   "id": "9d8091b8",
   "metadata": {
    "papermill": {
     "duration": 0.237455,
     "end_time": "2025-01-19T17:40:45.683127",
     "exception": false,
     "start_time": "2025-01-19T17:40:45.445672",
     "status": "completed"
    },
    "tags": []
   },
   "source": [
    "# Testing"
   ]
  },
  {
   "cell_type": "code",
   "execution_count": 21,
   "id": "32b89f16",
   "metadata": {
    "execution": {
     "iopub.execute_input": "2025-01-19T17:40:46.212490Z",
     "iopub.status.busy": "2025-01-19T17:40:46.212160Z",
     "iopub.status.idle": "2025-01-19T17:42:26.014234Z",
     "shell.execute_reply": "2025-01-19T17:42:26.013444Z"
    },
    "papermill": {
     "duration": 100.100258,
     "end_time": "2025-01-19T17:42:26.015540",
     "exception": false,
     "start_time": "2025-01-19T17:40:45.915282",
     "status": "completed"
    },
    "tags": []
   },
   "outputs": [
    {
     "name": "stdout",
     "output_type": "stream",
     "text": [
      "\u001b[1m109/109\u001b[0m \u001b[32m━━━━━━━━━━━━━━━━━━━━\u001b[0m\u001b[37m\u001b[0m \u001b[1m98s\u001b[0m 901ms/step - accuracy: 0.8074 - loss: 0.6837\n",
      "Test Accuracy: 0.8165467381477356\n"
     ]
    }
   ],
   "source": [
    "loss, accuracy = model.evaluate(test_generator, steps=len(test_generator))\n",
    "print(f\"Test Accuracy: {accuracy}\")"
   ]
  },
  {
   "cell_type": "code",
   "execution_count": 22,
   "id": "2a8afb36",
   "metadata": {
    "execution": {
     "iopub.execute_input": "2025-01-19T17:42:26.502357Z",
     "iopub.status.busy": "2025-01-19T17:42:26.501903Z",
     "iopub.status.idle": "2025-01-19T17:42:27.013876Z",
     "shell.execute_reply": "2025-01-19T17:42:27.013083Z"
    },
    "papermill": {
     "duration": 0.75377,
     "end_time": "2025-01-19T17:42:27.015344",
     "exception": false,
     "start_time": "2025-01-19T17:42:26.261574",
     "status": "completed"
    },
    "tags": []
   },
   "outputs": [
    {
     "data": {
      "image/png": "[encoded data removed]",
      "text/plain": [
       "<Figure size 640x480 with 1 Axes>"
      ]
     },
     "metadata": {},
     "output_type": "display_data"
    },
    {
     "data": {
      "image/png": "[encoded data removed]",
      "text/plain": [
       "<Figure size 640x480 with 1 Axes>"
      ]
     },
     "metadata": {},
     "output_type": "display_data"
    }
   ],
   "source": [
    "import matplotlib.pyplot as plt\n",
    "\n",
    "# Lấy giá trị loss và accuracy từ history\n",
    "train_loss = history.history['loss']\n",
    "val_loss = history.history['val_loss']\n",
    "train_accuracy = history.history['accuracy']\n",
    "val_accuracy = history.history['val_accuracy']\n",
    "\n",
    "# Vẽ biểu đồ loss\n",
    "# plt.figure(figsize=(12, 6))\n",
    "plt.plot(train_loss, label='Train Loss', color='blue')\n",
    "plt.plot(val_loss, label='Validation Loss', color='orange')\n",
    "plt.title('Loss During Training')\n",
    "plt.xlabel('Epochs')\n",
    "plt.ylabel('Loss')\n",
    "plt.legend()\n",
    "plt.show()\n",
    "\n",
    "# Vẽ biểu đồ accuracy\n",
    "# plt.figure(figsize=(12, 6))\n",
    "plt.plot(train_accuracy, label='Train Accuracy', color='green')\n",
    "plt.plot(val_accuracy, label='Validation Accuracy', color='red')\n",
    "plt.title('Accuracy During Training')\n",
    "plt.xlabel('Epochs')\n",
    "plt.ylabel('Accuracy')\n",
    "plt.legend()\n",
    "plt.show()"
   ]
  }
 ],
 "metadata": {
  "kaggle": {
   "accelerator": "gpu",
   "dataSources": [
    {
     "datasetId": 6456424,
     "sourceId": 10417621,
     "sourceType": "datasetVersion"
    },
    {
     "datasetId": 6456529,
     "sourceId": 10417775,
     "sourceType": "datasetVersion"
    },
    {
     "datasetId": 6461064,
     "sourceId": 10460360,
     "sourceType": "datasetVersion"
    }
   ],
   "dockerImageVersionId": 30823,
   "isGpuEnabled": true,
   "isInternetEnabled": true,
   "language": "python",
   "sourceType": "notebook"
  },
  "kernelspec": {
   "display_name": "Python 3",
   "language": "python",
   "name": "python3"
  },
  "language_info": {
   "codemirror_mode": {
    "name": "ipython",
    "version": 3
   },
   "file_extension": ".py",
   "mimetype": "text/x-python",
   "name": "python",
   "nbconvert_exporter": "python",
   "pygments_lexer": "ipython3",
   "version": "3.10.12"
  },
  "papermill": {
   "default_parameters": {},
   "duration": 8782.789677,
   "end_time": "2025-01-19T17:42:30.509637",
   "environment_variables": {},
   "exception": null,
   "input_path": "__notebook__.ipynb",
   "output_path": "__notebook__.ipynb",
   "parameters": {},
   "start_time": "2025-01-19T15:16:07.719960",
   "version": "2.6.0"
  }
 },
 "nbformat": 4,
 "nbformat_minor": 5
}
