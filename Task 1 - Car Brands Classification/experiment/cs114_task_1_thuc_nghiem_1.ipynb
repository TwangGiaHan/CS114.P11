{
  "cells": [
    {
      "cell_type": "code",
      "execution_count": null,
      "id": "563e529d",
      "metadata": {
        "execution": {
          "iopub.execute_input": "2025-01-20T16:58:30.541484Z",
          "iopub.status.busy": "2025-01-20T16:58:30.541188Z",
          "iopub.status.idle": "2025-01-20T16:58:39.620592Z",
          "shell.execute_reply": "2025-01-20T16:58:39.619674Z"
        },
        "id": "563e529d",
        "papermill": {
          "duration": 9.087021,
          "end_time": "2025-01-20T16:58:39.622339",
          "exception": false,
          "start_time": "2025-01-20T16:58:30.535318",
          "status": "completed"
        },
        "tags": []
      },
      "outputs": [],
      "source": [
        "import os\n",
        "import pandas as pd\n",
        "import multiprocessing\n",
        "from PIL import Image, UnidentifiedImageError\n",
        "from sklearn.model_selection import train_test_split\n",
        "from tensorflow.keras.preprocessing.image import ImageDataGenerator\n",
        "from keras.optimizers import Adam\n",
        "import tensorflow as tf\n",
        "from tensorflow.keras.applications import ResNet50\n",
        "from tensorflow.keras import layers, models, optimizers, callbacks\n",
        "import numpy as np\n",
        "import hashlib\n",
        "import matplotlib.pyplot as plt\n"
      ]
    },
    {
      "cell_type": "markdown",
      "id": "7b40ab68",
      "metadata": {
        "id": "7b40ab68",
        "papermill": {
          "duration": 0.004103,
          "end_time": "2025-01-20T16:58:39.631261",
          "exception": false,
          "start_time": "2025-01-20T16:58:39.627158",
          "status": "completed"
        },
        "tags": []
      },
      "source": [
        "# Data Loading"
      ]
    },
    {
      "cell_type": "code",
      "execution_count": null,
      "id": "377ea5f9",
      "metadata": {
        "execution": {
          "iopub.execute_input": "2025-01-20T16:58:39.640764Z",
          "iopub.status.busy": "2025-01-20T16:58:39.640308Z",
          "iopub.status.idle": "2025-01-20T16:58:39.643976Z",
          "shell.execute_reply": "2025-01-20T16:58:39.643210Z"
        },
        "id": "377ea5f9",
        "papermill": {
          "duration": 0.009956,
          "end_time": "2025-01-20T16:58:39.645454",
          "exception": false,
          "start_time": "2025-01-20T16:58:39.635498",
          "status": "completed"
        },
        "tags": []
      },
      "outputs": [],
      "source": [
        "SPLITS_ID = 1\n",
        "BATCH_SIZE = 64\n",
        "WIDTH = 224\n",
        "HEIGHT = 224\n",
        "SEED = 4"
      ]
    },
    {
      "cell_type": "code",
      "execution_count": null,
      "id": "b0f68aed",
      "metadata": {
        "execution": {
          "iopub.execute_input": "2025-01-20T16:58:39.659371Z",
          "iopub.status.busy": "2025-01-20T16:58:39.659029Z",
          "iopub.status.idle": "2025-01-20T16:58:39.662653Z",
          "shell.execute_reply": "2025-01-20T16:58:39.661867Z"
        },
        "id": "b0f68aed",
        "papermill": {
          "duration": 0.011089,
          "end_time": "2025-01-20T16:58:39.663859",
          "exception": false,
          "start_time": "2025-01-20T16:58:39.652770",
          "status": "completed"
        },
        "tags": []
      },
      "outputs": [],
      "source": [
        "DATASET_PATH = '/kaggle/input/data-car-public/Public'\n",
        "SPLITS_PATH = '/kaggle/input/cardataset-splits/cardataset_splits'"
      ]
    },
    {
      "cell_type": "code",
      "execution_count": null,
      "id": "b924cc98",
      "metadata": {
        "execution": {
          "iopub.execute_input": "2025-01-20T16:58:39.672971Z",
          "iopub.status.busy": "2025-01-20T16:58:39.672695Z",
          "iopub.status.idle": "2025-01-20T16:58:39.822190Z",
          "shell.execute_reply": "2025-01-20T16:58:39.821224Z"
        },
        "id": "b924cc98",
        "papermill": {
          "duration": 0.15589,
          "end_time": "2025-01-20T16:58:39.823873",
          "exception": false,
          "start_time": "2025-01-20T16:58:39.667983",
          "status": "completed"
        },
        "tags": []
      },
      "outputs": [],
      "source": [
        "train_csv = os.path.join(SPLITS_PATH, f\"CarDataset-Splits-{SPLITS_ID}-Train.csv\")\n",
        "test_csv = os.path.join(SPLITS_PATH, f\"CarDataset-Splits-{SPLITS_ID}-Test.csv\")\n",
        "\n",
        "train_df = pd.read_csv(train_csv)\n",
        "test_df = pd.read_csv(test_csv)\n",
        "\n",
        "\n",
        "train_df[\"ImageFullPath\"] = train_df[\"ImageFullPath\"].apply(lambda x: os.path.join(DATASET_PATH, x))\n",
        "test_df[\"ImageFullPath\"] = test_df[\"ImageFullPath\"].apply(lambda x: os.path.join(DATASET_PATH, x))\n",
        "\n",
        "train_df[\"CategoryID\"] = train_df[\"CategoryID\"].astype(str)\n",
        "test_df[\"CategoryID\"] = test_df[\"CategoryID\"].astype(str)"
      ]
    },
    {
      "cell_type": "code",
      "execution_count": null,
      "id": "584fca63",
      "metadata": {
        "execution": {
          "iopub.execute_input": "2025-01-20T16:58:39.835611Z",
          "iopub.status.busy": "2025-01-20T16:58:39.835267Z",
          "iopub.status.idle": "2025-01-20T16:58:39.850294Z",
          "shell.execute_reply": "2025-01-20T16:58:39.849453Z"
        },
        "id": "584fca63",
        "outputId": "334ef6b7-d37f-42d7-90f3-6f86a600f494",
        "papermill": {
          "duration": 0.021499,
          "end_time": "2025-01-20T16:58:39.851708",
          "exception": false,
          "start_time": "2025-01-20T16:58:39.830209",
          "status": "completed"
        },
        "tags": []
      },
      "outputs": [
        {
          "data": {
            "text/html": [
              "<div>\n",
              "<style scoped>\n",
              "    .dataframe tbody tr th:only-of-type {\n",
              "        vertical-align: middle;\n",
              "    }\n",
              "\n",
              "    .dataframe tbody tr th {\n",
              "        vertical-align: top;\n",
              "    }\n",
              "\n",
              "    .dataframe thead th {\n",
              "        text-align: right;\n",
              "    }\n",
              "</style>\n",
              "<table border=\"1\" class=\"dataframe\">\n",
              "  <thead>\n",
              "    <tr style=\"text-align: right;\">\n",
              "      <th></th>\n",
              "      <th>ImageFullPath</th>\n",
              "      <th>CategoryID</th>\n",
              "    </tr>\n",
              "  </thead>\n",
              "  <tbody>\n",
              "    <tr>\n",
              "      <th>0</th>\n",
              "      <td>/kaggle/input/data-car-public/Public/Mazda/225...</td>\n",
              "      <td>4</td>\n",
              "    </tr>\n",
              "    <tr>\n",
              "      <th>1</th>\n",
              "      <td>/kaggle/input/data-car-public/Public/Mazda/225...</td>\n",
              "      <td>4</td>\n",
              "    </tr>\n",
              "    <tr>\n",
              "      <th>2</th>\n",
              "      <td>/kaggle/input/data-car-public/Public/Mazda/225...</td>\n",
              "      <td>4</td>\n",
              "    </tr>\n",
              "    <tr>\n",
              "      <th>3</th>\n",
              "      <td>/kaggle/input/data-car-public/Public/Mazda/225...</td>\n",
              "      <td>4</td>\n",
              "    </tr>\n",
              "    <tr>\n",
              "      <th>4</th>\n",
              "      <td>/kaggle/input/data-car-public/Public/Mazda/225...</td>\n",
              "      <td>4</td>\n",
              "    </tr>\n",
              "    <tr>\n",
              "      <th>...</th>\n",
              "      <td>...</td>\n",
              "      <td>...</td>\n",
              "    </tr>\n",
              "    <tr>\n",
              "      <th>27858</th>\n",
              "      <td>/kaggle/input/data-car-public/Public/Honda/225...</td>\n",
              "      <td>1</td>\n",
              "    </tr>\n",
              "    <tr>\n",
              "      <th>27859</th>\n",
              "      <td>/kaggle/input/data-car-public/Public/Honda/225...</td>\n",
              "      <td>1</td>\n",
              "    </tr>\n",
              "    <tr>\n",
              "      <th>27860</th>\n",
              "      <td>/kaggle/input/data-car-public/Public/Honda/225...</td>\n",
              "      <td>1</td>\n",
              "    </tr>\n",
              "    <tr>\n",
              "      <th>27861</th>\n",
              "      <td>/kaggle/input/data-car-public/Public/Honda/225...</td>\n",
              "      <td>1</td>\n",
              "    </tr>\n",
              "    <tr>\n",
              "      <th>27862</th>\n",
              "      <td>/kaggle/input/data-car-public/Public/Honda/225...</td>\n",
              "      <td>1</td>\n",
              "    </tr>\n",
              "  </tbody>\n",
              "</table>\n",
              "<p>27863 rows × 2 columns</p>\n",
              "</div>"
            ],
            "text/plain": [
              "                                           ImageFullPath CategoryID\n",
              "0      /kaggle/input/data-car-public/Public/Mazda/225...          4\n",
              "1      /kaggle/input/data-car-public/Public/Mazda/225...          4\n",
              "2      /kaggle/input/data-car-public/Public/Mazda/225...          4\n",
              "3      /kaggle/input/data-car-public/Public/Mazda/225...          4\n",
              "4      /kaggle/input/data-car-public/Public/Mazda/225...          4\n",
              "...                                                  ...        ...\n",
              "27858  /kaggle/input/data-car-public/Public/Honda/225...          1\n",
              "27859  /kaggle/input/data-car-public/Public/Honda/225...          1\n",
              "27860  /kaggle/input/data-car-public/Public/Honda/225...          1\n",
              "27861  /kaggle/input/data-car-public/Public/Honda/225...          1\n",
              "27862  /kaggle/input/data-car-public/Public/Honda/225...          1\n",
              "\n",
              "[27863 rows x 2 columns]"
            ]
          },
          "execution_count": 5,
          "metadata": {},
          "output_type": "execute_result"
        }
      ],
      "source": [
        "train_df"
      ]
    },
    {
      "cell_type": "code",
      "execution_count": null,
      "id": "8e408b0d",
      "metadata": {
        "execution": {
          "iopub.execute_input": "2025-01-20T16:58:39.861486Z",
          "iopub.status.busy": "2025-01-20T16:58:39.861244Z",
          "iopub.status.idle": "2025-01-20T16:58:39.869487Z",
          "shell.execute_reply": "2025-01-20T16:58:39.868502Z"
        },
        "id": "8e408b0d",
        "outputId": "ae61b7eb-3f6f-41fa-d217-31e6bb3ea1ca",
        "papermill": {
          "duration": 0.014842,
          "end_time": "2025-01-20T16:58:39.871078",
          "exception": false,
          "start_time": "2025-01-20T16:58:39.856236",
          "status": "completed"
        },
        "tags": []
      },
      "outputs": [
        {
          "data": {
            "text/html": [
              "<div>\n",
              "<style scoped>\n",
              "    .dataframe tbody tr th:only-of-type {\n",
              "        vertical-align: middle;\n",
              "    }\n",
              "\n",
              "    .dataframe tbody tr th {\n",
              "        vertical-align: top;\n",
              "    }\n",
              "\n",
              "    .dataframe thead th {\n",
              "        text-align: right;\n",
              "    }\n",
              "</style>\n",
              "<table border=\"1\" class=\"dataframe\">\n",
              "  <thead>\n",
              "    <tr style=\"text-align: right;\">\n",
              "      <th></th>\n",
              "      <th>ImageFullPath</th>\n",
              "      <th>CategoryID</th>\n",
              "    </tr>\n",
              "  </thead>\n",
              "  <tbody>\n",
              "    <tr>\n",
              "      <th>0</th>\n",
              "      <td>/kaggle/input/data-car-public/Public/Mazda/225...</td>\n",
              "      <td>4</td>\n",
              "    </tr>\n",
              "    <tr>\n",
              "      <th>1</th>\n",
              "      <td>/kaggle/input/data-car-public/Public/Mazda/225...</td>\n",
              "      <td>4</td>\n",
              "    </tr>\n",
              "    <tr>\n",
              "      <th>2</th>\n",
              "      <td>/kaggle/input/data-car-public/Public/Mazda/225...</td>\n",
              "      <td>4</td>\n",
              "    </tr>\n",
              "    <tr>\n",
              "      <th>3</th>\n",
              "      <td>/kaggle/input/data-car-public/Public/Mazda/225...</td>\n",
              "      <td>4</td>\n",
              "    </tr>\n",
              "    <tr>\n",
              "      <th>4</th>\n",
              "      <td>/kaggle/input/data-car-public/Public/Mazda/225...</td>\n",
              "      <td>4</td>\n",
              "    </tr>\n",
              "    <tr>\n",
              "      <th>...</th>\n",
              "      <td>...</td>\n",
              "      <td>...</td>\n",
              "    </tr>\n",
              "    <tr>\n",
              "      <th>6961</th>\n",
              "      <td>/kaggle/input/data-car-public/Public/Honda/225...</td>\n",
              "      <td>1</td>\n",
              "    </tr>\n",
              "    <tr>\n",
              "      <th>6962</th>\n",
              "      <td>/kaggle/input/data-car-public/Public/Honda/225...</td>\n",
              "      <td>1</td>\n",
              "    </tr>\n",
              "    <tr>\n",
              "      <th>6963</th>\n",
              "      <td>/kaggle/input/data-car-public/Public/Honda/225...</td>\n",
              "      <td>1</td>\n",
              "    </tr>\n",
              "    <tr>\n",
              "      <th>6964</th>\n",
              "      <td>/kaggle/input/data-car-public/Public/Honda/225...</td>\n",
              "      <td>1</td>\n",
              "    </tr>\n",
              "    <tr>\n",
              "      <th>6965</th>\n",
              "      <td>/kaggle/input/data-car-public/Public/Honda/225...</td>\n",
              "      <td>1</td>\n",
              "    </tr>\n",
              "  </tbody>\n",
              "</table>\n",
              "<p>6966 rows × 2 columns</p>\n",
              "</div>"
            ],
            "text/plain": [
              "                                          ImageFullPath CategoryID\n",
              "0     /kaggle/input/data-car-public/Public/Mazda/225...          4\n",
              "1     /kaggle/input/data-car-public/Public/Mazda/225...          4\n",
              "2     /kaggle/input/data-car-public/Public/Mazda/225...          4\n",
              "3     /kaggle/input/data-car-public/Public/Mazda/225...          4\n",
              "4     /kaggle/input/data-car-public/Public/Mazda/225...          4\n",
              "...                                                 ...        ...\n",
              "6961  /kaggle/input/data-car-public/Public/Honda/225...          1\n",
              "6962  /kaggle/input/data-car-public/Public/Honda/225...          1\n",
              "6963  /kaggle/input/data-car-public/Public/Honda/225...          1\n",
              "6964  /kaggle/input/data-car-public/Public/Honda/225...          1\n",
              "6965  /kaggle/input/data-car-public/Public/Honda/225...          1\n",
              "\n",
              "[6966 rows x 2 columns]"
            ]
          },
          "execution_count": 6,
          "metadata": {},
          "output_type": "execute_result"
        }
      ],
      "source": [
        "test_df"
      ]
    },
    {
      "cell_type": "markdown",
      "id": "7ad48e3c",
      "metadata": {
        "id": "7ad48e3c",
        "papermill": {
          "duration": 0.009031,
          "end_time": "2025-01-20T16:58:39.889260",
          "exception": false,
          "start_time": "2025-01-20T16:58:39.880229",
          "status": "completed"
        },
        "tags": []
      },
      "source": [
        "# Preprocessing"
      ]
    },
    {
      "cell_type": "code",
      "execution_count": null,
      "id": "fb930834",
      "metadata": {
        "execution": {
          "iopub.execute_input": "2025-01-20T16:58:39.906892Z",
          "iopub.status.busy": "2025-01-20T16:58:39.906524Z",
          "iopub.status.idle": "2025-01-20T16:58:39.960542Z",
          "shell.execute_reply": "2025-01-20T16:58:39.959612Z"
        },
        "id": "fb930834",
        "papermill": {
          "duration": 0.063577,
          "end_time": "2025-01-20T16:58:39.962073",
          "exception": false,
          "start_time": "2025-01-20T16:58:39.898496",
          "status": "completed"
        },
        "tags": []
      },
      "outputs": [],
      "source": [
        "# Đọc danh sách ảnh trùng lặp\n",
        "duplicate = pd.read_csv('/kaggle/input/car-duplicateimages/DuplicateImages.csv')\n",
        "duplicate['Image2'] = duplicate['Image2'].apply(lambda x: os.path.join(DATASET_PATH, x))\n",
        "\n",
        "# Chỉ lấy những ảnh có Similarity > 0.95\n",
        "high_similarity_duplicates = duplicate[duplicate['Similarity'] > 0.95]\n",
        "\n",
        "# Lấy danh sách đường dẫn ảnh cần loại bỏ\n",
        "duplicate_paths = high_similarity_duplicates['Image2'].unique().tolist()\n",
        "\n",
        "# Loại bỏ các ảnh trùng lặp khỏi train_df\n",
        "train_df = train_df[~train_df['ImageFullPath'].isin(duplicate_paths)]"
      ]
    },
    {
      "cell_type": "code",
      "execution_count": null,
      "id": "43e99c71",
      "metadata": {
        "execution": {
          "iopub.execute_input": "2025-01-20T16:58:39.972738Z",
          "iopub.status.busy": "2025-01-20T16:58:39.972422Z",
          "iopub.status.idle": "2025-01-20T16:58:39.982913Z",
          "shell.execute_reply": "2025-01-20T16:58:39.982162Z"
        },
        "id": "43e99c71",
        "outputId": "b0f2afc2-6eda-40e0-bb9e-28c7e5d5744f",
        "papermill": {
          "duration": 0.017221,
          "end_time": "2025-01-20T16:58:39.984283",
          "exception": false,
          "start_time": "2025-01-20T16:58:39.967062",
          "status": "completed"
        },
        "tags": []
      },
      "outputs": [
        {
          "data": {
            "text/html": [
              "<div>\n",
              "<style scoped>\n",
              "    .dataframe tbody tr th:only-of-type {\n",
              "        vertical-align: middle;\n",
              "    }\n",
              "\n",
              "    .dataframe tbody tr th {\n",
              "        vertical-align: top;\n",
              "    }\n",
              "\n",
              "    .dataframe thead th {\n",
              "        text-align: right;\n",
              "    }\n",
              "</style>\n",
              "<table border=\"1\" class=\"dataframe\">\n",
              "  <thead>\n",
              "    <tr style=\"text-align: right;\">\n",
              "      <th></th>\n",
              "      <th>ImageFullPath</th>\n",
              "      <th>CategoryID</th>\n",
              "    </tr>\n",
              "  </thead>\n",
              "  <tbody>\n",
              "    <tr>\n",
              "      <th>0</th>\n",
              "      <td>/kaggle/input/data-car-public/Public/Mazda/225...</td>\n",
              "      <td>4</td>\n",
              "    </tr>\n",
              "    <tr>\n",
              "      <th>1</th>\n",
              "      <td>/kaggle/input/data-car-public/Public/Mazda/225...</td>\n",
              "      <td>4</td>\n",
              "    </tr>\n",
              "    <tr>\n",
              "      <th>2</th>\n",
              "      <td>/kaggle/input/data-car-public/Public/Mazda/225...</td>\n",
              "      <td>4</td>\n",
              "    </tr>\n",
              "    <tr>\n",
              "      <th>3</th>\n",
              "      <td>/kaggle/input/data-car-public/Public/Mazda/225...</td>\n",
              "      <td>4</td>\n",
              "    </tr>\n",
              "    <tr>\n",
              "      <th>4</th>\n",
              "      <td>/kaggle/input/data-car-public/Public/Mazda/225...</td>\n",
              "      <td>4</td>\n",
              "    </tr>\n",
              "    <tr>\n",
              "      <th>...</th>\n",
              "      <td>...</td>\n",
              "      <td>...</td>\n",
              "    </tr>\n",
              "    <tr>\n",
              "      <th>27858</th>\n",
              "      <td>/kaggle/input/data-car-public/Public/Honda/225...</td>\n",
              "      <td>1</td>\n",
              "    </tr>\n",
              "    <tr>\n",
              "      <th>27859</th>\n",
              "      <td>/kaggle/input/data-car-public/Public/Honda/225...</td>\n",
              "      <td>1</td>\n",
              "    </tr>\n",
              "    <tr>\n",
              "      <th>27860</th>\n",
              "      <td>/kaggle/input/data-car-public/Public/Honda/225...</td>\n",
              "      <td>1</td>\n",
              "    </tr>\n",
              "    <tr>\n",
              "      <th>27861</th>\n",
              "      <td>/kaggle/input/data-car-public/Public/Honda/225...</td>\n",
              "      <td>1</td>\n",
              "    </tr>\n",
              "    <tr>\n",
              "      <th>27862</th>\n",
              "      <td>/kaggle/input/data-car-public/Public/Honda/225...</td>\n",
              "      <td>1</td>\n",
              "    </tr>\n",
              "  </tbody>\n",
              "</table>\n",
              "<p>26518 rows × 2 columns</p>\n",
              "</div>"
            ],
            "text/plain": [
              "                                           ImageFullPath CategoryID\n",
              "0      /kaggle/input/data-car-public/Public/Mazda/225...          4\n",
              "1      /kaggle/input/data-car-public/Public/Mazda/225...          4\n",
              "2      /kaggle/input/data-car-public/Public/Mazda/225...          4\n",
              "3      /kaggle/input/data-car-public/Public/Mazda/225...          4\n",
              "4      /kaggle/input/data-car-public/Public/Mazda/225...          4\n",
              "...                                                  ...        ...\n",
              "27858  /kaggle/input/data-car-public/Public/Honda/225...          1\n",
              "27859  /kaggle/input/data-car-public/Public/Honda/225...          1\n",
              "27860  /kaggle/input/data-car-public/Public/Honda/225...          1\n",
              "27861  /kaggle/input/data-car-public/Public/Honda/225...          1\n",
              "27862  /kaggle/input/data-car-public/Public/Honda/225...          1\n",
              "\n",
              "[26518 rows x 2 columns]"
            ]
          },
          "execution_count": 8,
          "metadata": {},
          "output_type": "execute_result"
        }
      ],
      "source": [
        "train_df"
      ]
    },
    {
      "cell_type": "code",
      "execution_count": null,
      "id": "4eb507b7",
      "metadata": {
        "execution": {
          "iopub.execute_input": "2025-01-20T16:58:39.995099Z",
          "iopub.status.busy": "2025-01-20T16:58:39.994779Z",
          "iopub.status.idle": "2025-01-20T17:04:46.914688Z",
          "shell.execute_reply": "2025-01-20T17:04:46.913740Z"
        },
        "id": "4eb507b7",
        "outputId": "01a058c6-56da-4d7a-c732-a0d3192d23a4",
        "papermill": {
          "duration": 366.926783,
          "end_time": "2025-01-20T17:04:46.915990",
          "exception": false,
          "start_time": "2025-01-20T16:58:39.989207",
          "status": "completed"
        },
        "tags": []
      },
      "outputs": [
        {
          "name": "stdout",
          "output_type": "stream",
          "text": [
            "Warning: File not found - /kaggle/input/data-car-public/Public/Mazda/22520779-22521587.Mazda.143 (1).jpg\n",
            "Warning: File not found - /kaggle/input/data-car-public/Public/Mazda/22520779-22521587.Mazda.146 (1).jpg\n",
            "Warning: File not found - /kaggle/input/data-car-public/Public/Mazda/22520779-22521587.Mazda.148 (1).jpg\n",
            "Warning: File not found - /kaggle/input/data-car-public/Public/Mazda/22520779-22521587.Mazda.145 (1).jpg\n",
            "Warning: File not found - /kaggle/input/data-car-public/Public/Mazda/22520779-22521587.Mazda.147 (1).jpg\n",
            "Warning: File not found - /kaggle/input/data-car-public/Public/Mazda/22520779-22521587.Mazda.149 (1).jpg\n",
            "Warning: File not found - /kaggle/input/data-car-public/Public/Mazda/22520779-22521587.Mazda.144 (1).jpg\n",
            "Warning: File not found - /kaggle/input/data-car-public/Public/Mitsubishi/22521586-22521559.Mitsubishi.156 (1).jpg\n",
            "Warning: File not found - /kaggle/input/data-car-public/Public/Mitsubishi/22521586-22521559.Mitsubishi.157 (1).jpg\n",
            "Warning: File not found - /kaggle/input/data-car-public/Public/Mitsubishi/22521586-22521559.Mitsubishi.158 (1).jpg\n",
            "Warning: File not found - /kaggle/input/data-car-public/Public/Mitsubishi/22521586-22521559.Mitsubishi.159 (1).jpg\n",
            "Warning: File not found - /kaggle/input/data-car-public/Public/Mitsubishi/22521586-22521559.Mitsubishi.160 (1).jpg\n",
            "Warning: File not found - /kaggle/input/data-car-public/Public/Mitsubishi/22521586-22521559.Mitsubishi.162 (1).jpg\n",
            "Warning: File not found - /kaggle/input/data-car-public/Public/Mitsubishi/22521586-22521559.Mitsubishi.163 (1).jpg\n",
            "Warning: File not found - /kaggle/input/data-car-public/Public/Mitsubishi/22521586-22521559.Mitsubishi.164 (1).jpg\n",
            "Warning: File not found - /kaggle/input/data-car-public/Public/Mitsubishi/22521586-22521559.Mitsubishi.166 (1).jpg\n",
            "Warning: File not found - /kaggle/input/data-car-public/Public/Mitsubishi/22521586-22521559.Mitsubishi.167 (1).jpg\n",
            "Warning: File not found - /kaggle/input/data-car-public/Public/Mitsubishi/22521586-22521559.Mitsubishi.168 (1).jpg\n",
            "Warning: File not found - /kaggle/input/data-car-public/Public/Mitsubishi/22521586-22521559.Mitsubishi.169 (1).jpg\n",
            "Warning: File not found - /kaggle/input/data-car-public/Public/Mitsubishi/22521586-22521559.Mitsubishi.170 (1).jpg\n",
            "Warning: File not found - /kaggle/input/data-car-public/Public/Mitsubishi/22521586-22521559.Mitsubishi.173 (1).jpg\n",
            "Warning: File not found - /kaggle/input/data-car-public/Public/Mitsubishi/22521586-22521559.Mitsubishi.174 (1).jpg\n",
            "Warning: File not found - /kaggle/input/data-car-public/Public/Mitsubishi/22521586-22521559.Mitsubishi.175 (1).jpg\n",
            "Warning: File not found - /kaggle/input/data-car-public/Public/Mitsubishi/22521586-22521559.Mitsubishi.176 (1).jpg\n",
            "Warning: File not found - /kaggle/input/data-car-public/Public/Mitsubishi/22521586-22521559.Mitsubishi.177 (1).jpg\n",
            "Warning: File not found - /kaggle/input/data-car-public/Public/Mitsubishi/22521586-22521559.Mitsubishi.178 (1).jpg\n",
            "Warning: File not found - /kaggle/input/data-car-public/Public/Mitsubishi/22521586-22521559.Mitsubishi.179 (1).jpg\n",
            "Warning: File not found - /kaggle/input/data-car-public/Public/Mitsubishi/22521586-22521559.Mitsubishi.180 (1).jpg\n",
            "Warning: File not found - /kaggle/input/data-car-public/Public/Hyundai/22520779-22521587.Hyundai.346 (1).jpg\n",
            "Warning: File not found - /kaggle/input/data-car-public/Public/Hyundai/22520779-22521587.Hyundai.350 (1).jpg\n",
            "Warning: File not found - /kaggle/input/data-car-public/Public/KIA/22520477-22520490.KIA.2 (1).jpg\n",
            "Warning: File not found - /kaggle/input/data-car-public/Public/KIA/22520477-22520490.KIA.1 (1).jpg\n",
            "Warning: File not found - /kaggle/input/data-car-public/Public/Honda/22521492-22521599.Honda.3 (1).jpg\n",
            "Warning: File not found - /kaggle/input/data-car-public/Public/Honda/22521492-22521599.Honda.9 (1).jpg\n",
            "Valid images: 26473\n",
            "Invalid images: 11\n",
            "Warning: File not found - /kaggle/input/data-car-public/Public/Mitsubishi/22521586-22521559.Mitsubishi.155 (1).jpg\n",
            "Warning: File not found - /kaggle/input/data-car-public/Public/Mitsubishi/22521586-22521559.Mitsubishi.161 (1).jpg\n",
            "Warning: File not found - /kaggle/input/data-car-public/Public/Mitsubishi/22521586-22521559.Mitsubishi.165 (1).jpg\n",
            "Warning: File not found - /kaggle/input/data-car-public/Public/Mitsubishi/22521586-22521559.Mitsubishi.171 (1).jpg\n",
            "Warning: File not found - /kaggle/input/data-car-public/Public/Mitsubishi/22521586-22521559.Mitsubishi.172 (1).jpg\n",
            "Warning: File not found - /kaggle/input/data-car-public/Public/KIA/22520477-22520490.KIA.0 (1).jpg\n",
            "Valid images: 6955\n",
            "Invalid images: 5\n"
          ]
        }
      ],
      "source": [
        "def check_image(df, column=\"ImageFullPath\"):\n",
        "    valid_images = []\n",
        "    invalid_images = []\n",
        "    for path in df[column]:\n",
        "        if not os.path.exists(path):\n",
        "            print(f\"Warning: File not found - {path}\")\n",
        "            continue\n",
        "        try:\n",
        "            with Image.open(path) as img:\n",
        "                img.verify()  # Xác minh file là ảnh hợp lệ\n",
        "                valid_images.append(path)\n",
        "        except (UnidentifiedImageError, FileNotFoundError, IOError):\n",
        "            invalid_images.append(path)\n",
        "    print(f\"Valid images: {len(valid_images)}\")\n",
        "    print(f\"Invalid images: {len(invalid_images)}\")\n",
        "    return valid_images\n",
        "\n",
        "# Kiểm tra dữ liệu train và test\n",
        "train_valid_paths = check_image(train_df)\n",
        "test_valid_paths = check_image(test_df)\n",
        "\n",
        "# Lọc chỉ giữ lại các ảnh hợp lệ\n",
        "train_df = train_df[train_df['ImageFullPath'].isin(train_valid_paths)]\n",
        "test_df = test_df[test_df['ImageFullPath'].isin(test_valid_paths)]"
      ]
    },
    {
      "cell_type": "code",
      "execution_count": null,
      "id": "6661a18b",
      "metadata": {
        "execution": {
          "iopub.execute_input": "2025-01-20T17:04:46.927925Z",
          "iopub.status.busy": "2025-01-20T17:04:46.927691Z",
          "iopub.status.idle": "2025-01-20T17:04:46.935784Z",
          "shell.execute_reply": "2025-01-20T17:04:46.935160Z"
        },
        "id": "6661a18b",
        "outputId": "a552b267-c958-46a7-870b-11edcd910dac",
        "papermill": {
          "duration": 0.015301,
          "end_time": "2025-01-20T17:04:46.937008",
          "exception": false,
          "start_time": "2025-01-20T17:04:46.921707",
          "status": "completed"
        },
        "tags": []
      },
      "outputs": [
        {
          "data": {
            "text/html": [
              "<div>\n",
              "<style scoped>\n",
              "    .dataframe tbody tr th:only-of-type {\n",
              "        vertical-align: middle;\n",
              "    }\n",
              "\n",
              "    .dataframe tbody tr th {\n",
              "        vertical-align: top;\n",
              "    }\n",
              "\n",
              "    .dataframe thead th {\n",
              "        text-align: right;\n",
              "    }\n",
              "</style>\n",
              "<table border=\"1\" class=\"dataframe\">\n",
              "  <thead>\n",
              "    <tr style=\"text-align: right;\">\n",
              "      <th></th>\n",
              "      <th>ImageFullPath</th>\n",
              "      <th>CategoryID</th>\n",
              "    </tr>\n",
              "  </thead>\n",
              "  <tbody>\n",
              "    <tr>\n",
              "      <th>0</th>\n",
              "      <td>/kaggle/input/data-car-public/Public/Mazda/225...</td>\n",
              "      <td>4</td>\n",
              "    </tr>\n",
              "    <tr>\n",
              "      <th>1</th>\n",
              "      <td>/kaggle/input/data-car-public/Public/Mazda/225...</td>\n",
              "      <td>4</td>\n",
              "    </tr>\n",
              "    <tr>\n",
              "      <th>2</th>\n",
              "      <td>/kaggle/input/data-car-public/Public/Mazda/225...</td>\n",
              "      <td>4</td>\n",
              "    </tr>\n",
              "    <tr>\n",
              "      <th>3</th>\n",
              "      <td>/kaggle/input/data-car-public/Public/Mazda/225...</td>\n",
              "      <td>4</td>\n",
              "    </tr>\n",
              "    <tr>\n",
              "      <th>4</th>\n",
              "      <td>/kaggle/input/data-car-public/Public/Mazda/225...</td>\n",
              "      <td>4</td>\n",
              "    </tr>\n",
              "    <tr>\n",
              "      <th>...</th>\n",
              "      <td>...</td>\n",
              "      <td>...</td>\n",
              "    </tr>\n",
              "    <tr>\n",
              "      <th>27858</th>\n",
              "      <td>/kaggle/input/data-car-public/Public/Honda/225...</td>\n",
              "      <td>1</td>\n",
              "    </tr>\n",
              "    <tr>\n",
              "      <th>27859</th>\n",
              "      <td>/kaggle/input/data-car-public/Public/Honda/225...</td>\n",
              "      <td>1</td>\n",
              "    </tr>\n",
              "    <tr>\n",
              "      <th>27860</th>\n",
              "      <td>/kaggle/input/data-car-public/Public/Honda/225...</td>\n",
              "      <td>1</td>\n",
              "    </tr>\n",
              "    <tr>\n",
              "      <th>27861</th>\n",
              "      <td>/kaggle/input/data-car-public/Public/Honda/225...</td>\n",
              "      <td>1</td>\n",
              "    </tr>\n",
              "    <tr>\n",
              "      <th>27862</th>\n",
              "      <td>/kaggle/input/data-car-public/Public/Honda/225...</td>\n",
              "      <td>1</td>\n",
              "    </tr>\n",
              "  </tbody>\n",
              "</table>\n",
              "<p>26473 rows × 2 columns</p>\n",
              "</div>"
            ],
            "text/plain": [
              "                                           ImageFullPath CategoryID\n",
              "0      /kaggle/input/data-car-public/Public/Mazda/225...          4\n",
              "1      /kaggle/input/data-car-public/Public/Mazda/225...          4\n",
              "2      /kaggle/input/data-car-public/Public/Mazda/225...          4\n",
              "3      /kaggle/input/data-car-public/Public/Mazda/225...          4\n",
              "4      /kaggle/input/data-car-public/Public/Mazda/225...          4\n",
              "...                                                  ...        ...\n",
              "27858  /kaggle/input/data-car-public/Public/Honda/225...          1\n",
              "27859  /kaggle/input/data-car-public/Public/Honda/225...          1\n",
              "27860  /kaggle/input/data-car-public/Public/Honda/225...          1\n",
              "27861  /kaggle/input/data-car-public/Public/Honda/225...          1\n",
              "27862  /kaggle/input/data-car-public/Public/Honda/225...          1\n",
              "\n",
              "[26473 rows x 2 columns]"
            ]
          },
          "execution_count": 10,
          "metadata": {},
          "output_type": "execute_result"
        }
      ],
      "source": [
        "train_df"
      ]
    },
    {
      "cell_type": "code",
      "execution_count": null,
      "id": "27ed5f0e",
      "metadata": {
        "execution": {
          "iopub.execute_input": "2025-01-20T17:04:46.948661Z",
          "iopub.status.busy": "2025-01-20T17:04:46.948453Z",
          "iopub.status.idle": "2025-01-20T17:04:46.955916Z",
          "shell.execute_reply": "2025-01-20T17:04:46.955188Z"
        },
        "id": "27ed5f0e",
        "outputId": "bfd73bcb-0032-4be3-b328-78e9a7201c61",
        "papermill": {
          "duration": 0.014583,
          "end_time": "2025-01-20T17:04:46.957064",
          "exception": false,
          "start_time": "2025-01-20T17:04:46.942481",
          "status": "completed"
        },
        "tags": []
      },
      "outputs": [
        {
          "data": {
            "text/html": [
              "<div>\n",
              "<style scoped>\n",
              "    .dataframe tbody tr th:only-of-type {\n",
              "        vertical-align: middle;\n",
              "    }\n",
              "\n",
              "    .dataframe tbody tr th {\n",
              "        vertical-align: top;\n",
              "    }\n",
              "\n",
              "    .dataframe thead th {\n",
              "        text-align: right;\n",
              "    }\n",
              "</style>\n",
              "<table border=\"1\" class=\"dataframe\">\n",
              "  <thead>\n",
              "    <tr style=\"text-align: right;\">\n",
              "      <th></th>\n",
              "      <th>ImageFullPath</th>\n",
              "      <th>CategoryID</th>\n",
              "    </tr>\n",
              "  </thead>\n",
              "  <tbody>\n",
              "    <tr>\n",
              "      <th>0</th>\n",
              "      <td>/kaggle/input/data-car-public/Public/Mazda/225...</td>\n",
              "      <td>4</td>\n",
              "    </tr>\n",
              "    <tr>\n",
              "      <th>1</th>\n",
              "      <td>/kaggle/input/data-car-public/Public/Mazda/225...</td>\n",
              "      <td>4</td>\n",
              "    </tr>\n",
              "    <tr>\n",
              "      <th>2</th>\n",
              "      <td>/kaggle/input/data-car-public/Public/Mazda/225...</td>\n",
              "      <td>4</td>\n",
              "    </tr>\n",
              "    <tr>\n",
              "      <th>3</th>\n",
              "      <td>/kaggle/input/data-car-public/Public/Mazda/225...</td>\n",
              "      <td>4</td>\n",
              "    </tr>\n",
              "    <tr>\n",
              "      <th>4</th>\n",
              "      <td>/kaggle/input/data-car-public/Public/Mazda/225...</td>\n",
              "      <td>4</td>\n",
              "    </tr>\n",
              "    <tr>\n",
              "      <th>...</th>\n",
              "      <td>...</td>\n",
              "      <td>...</td>\n",
              "    </tr>\n",
              "    <tr>\n",
              "      <th>6961</th>\n",
              "      <td>/kaggle/input/data-car-public/Public/Honda/225...</td>\n",
              "      <td>1</td>\n",
              "    </tr>\n",
              "    <tr>\n",
              "      <th>6962</th>\n",
              "      <td>/kaggle/input/data-car-public/Public/Honda/225...</td>\n",
              "      <td>1</td>\n",
              "    </tr>\n",
              "    <tr>\n",
              "      <th>6963</th>\n",
              "      <td>/kaggle/input/data-car-public/Public/Honda/225...</td>\n",
              "      <td>1</td>\n",
              "    </tr>\n",
              "    <tr>\n",
              "      <th>6964</th>\n",
              "      <td>/kaggle/input/data-car-public/Public/Honda/225...</td>\n",
              "      <td>1</td>\n",
              "    </tr>\n",
              "    <tr>\n",
              "      <th>6965</th>\n",
              "      <td>/kaggle/input/data-car-public/Public/Honda/225...</td>\n",
              "      <td>1</td>\n",
              "    </tr>\n",
              "  </tbody>\n",
              "</table>\n",
              "<p>6955 rows × 2 columns</p>\n",
              "</div>"
            ],
            "text/plain": [
              "                                          ImageFullPath CategoryID\n",
              "0     /kaggle/input/data-car-public/Public/Mazda/225...          4\n",
              "1     /kaggle/input/data-car-public/Public/Mazda/225...          4\n",
              "2     /kaggle/input/data-car-public/Public/Mazda/225...          4\n",
              "3     /kaggle/input/data-car-public/Public/Mazda/225...          4\n",
              "4     /kaggle/input/data-car-public/Public/Mazda/225...          4\n",
              "...                                                 ...        ...\n",
              "6961  /kaggle/input/data-car-public/Public/Honda/225...          1\n",
              "6962  /kaggle/input/data-car-public/Public/Honda/225...          1\n",
              "6963  /kaggle/input/data-car-public/Public/Honda/225...          1\n",
              "6964  /kaggle/input/data-car-public/Public/Honda/225...          1\n",
              "6965  /kaggle/input/data-car-public/Public/Honda/225...          1\n",
              "\n",
              "[6955 rows x 2 columns]"
            ]
          },
          "execution_count": 11,
          "metadata": {},
          "output_type": "execute_result"
        }
      ],
      "source": [
        "test_df"
      ]
    },
    {
      "cell_type": "code",
      "execution_count": null,
      "id": "a3de76ec",
      "metadata": {
        "execution": {
          "iopub.execute_input": "2025-01-20T17:04:46.969047Z",
          "iopub.status.busy": "2025-01-20T17:04:46.968824Z",
          "iopub.status.idle": "2025-01-20T17:05:04.177953Z",
          "shell.execute_reply": "2025-01-20T17:05:04.177038Z"
        },
        "id": "a3de76ec",
        "outputId": "450b2b48-7b68-4531-f577-25b1fd3bd091",
        "papermill": {
          "duration": 17.216851,
          "end_time": "2025-01-20T17:05:04.179612",
          "exception": false,
          "start_time": "2025-01-20T17:04:46.962761",
          "status": "completed"
        },
        "tags": []
      },
      "outputs": [
        {
          "name": "stdout",
          "output_type": "stream",
          "text": [
            "Found 21178 validated image filenames belonging to 9 classes.\n",
            "Found 5295 validated image filenames belonging to 9 classes.\n",
            "Found 6955 validated image filenames belonging to 9 classes.\n"
          ]
        }
      ],
      "source": [
        "from sklearn.model_selection import train_test_split\n",
        "from tensorflow.keras.preprocessing.image import ImageDataGenerator\n",
        "from tensorflow.keras.applications.resnet50 import preprocess_input\n",
        "\n",
        "# Chia dữ liệu theo tỷ lệ lớp\n",
        "train_data, val_data = train_test_split(\n",
        "    train_df,\n",
        "    test_size=0.2,\n",
        "    stratify=train_df['CategoryID'],  # Đảm bảo phân phối lớp đồng đều\n",
        "    random_state=SEED\n",
        ")\n",
        "\n",
        "# Khởi tạo ImageDataGenerator\n",
        "train_data_generator = ImageDataGenerator(\n",
        "    preprocessing_function=preprocess_input,\n",
        "    rotation_range=10,          # Xoay ngẫu nhiên\n",
        "    width_shift_range=0.1,      # Dịch chuyển ngang\n",
        "    height_shift_range=0.1,     # Dịch chuyển dọc\n",
        "    shear_range=0.1,            # Biến dạng hình học\n",
        "    zoom_range=0.2,             # Phóng to / thu nhỏ\n",
        "    horizontal_flip=True,       # Lật ngang\n",
        "    fill_mode='nearest'         # Điền các pixel trống bằng giá trị pixel gần nhất\n",
        ")\n",
        "\n",
        "test_data_generator = ImageDataGenerator(\n",
        "    preprocessing_function=preprocess_input\n",
        ")\n",
        "\n",
        "# Cấu hình chung\n",
        "dataframe_config = {\n",
        "    'x_col': 'ImageFullPath',\n",
        "    'y_col': 'CategoryID',\n",
        "    'target_size': (HEIGHT, WIDTH),\n",
        "    'batch_size': BATCH_SIZE,\n",
        "    'class_mode': 'categorical',\n",
        "    'shuffle': True,\n",
        "    'seed': SEED,\n",
        "    'color_mode': 'rgb',\n",
        "}\n",
        "\n",
        "# Flow từ DataFrame\n",
        "train_generator = train_data_generator.flow_from_dataframe(train_data, **dataframe_config)\n",
        "val_generator = train_data_generator.flow_from_dataframe(val_data, **dataframe_config)\n",
        "test_generator = test_data_generator.flow_from_dataframe(test_df, **dataframe_config)\n"
      ]
    },
    {
      "cell_type": "code",
      "execution_count": null,
      "id": "436d766a",
      "metadata": {
        "execution": {
          "iopub.execute_input": "2025-01-20T17:05:04.192987Z",
          "iopub.status.busy": "2025-01-20T17:05:04.192737Z",
          "iopub.status.idle": "2025-01-20T17:05:04.204379Z",
          "shell.execute_reply": "2025-01-20T17:05:04.203688Z"
        },
        "id": "436d766a",
        "outputId": "86ee6ae9-1813-4b6c-952c-c0c9d111b5dc",
        "papermill": {
          "duration": 0.019098,
          "end_time": "2025-01-20T17:05:04.205559",
          "exception": false,
          "start_time": "2025-01-20T17:05:04.186461",
          "status": "completed"
        },
        "tags": []
      },
      "outputs": [
        {
          "name": "stdout",
          "output_type": "stream",
          "text": [
            "Data Distribution in Train Generator:\n",
            "  0: 2513\n",
            "  1: 1841\n",
            "  2: 2006\n",
            "  3: 1946\n",
            "  4: 2036\n",
            "  5: 1838\n",
            "  6: 4097\n",
            "  7: 3577\n",
            "  8: 1324\n",
            "\n",
            "\n",
            "Data Distribution in Validation Generator:\n",
            "  0: 628\n",
            "  1: 460\n",
            "  2: 502\n",
            "  3: 486\n",
            "  4: 509\n",
            "  5: 460\n",
            "  6: 1025\n",
            "  7: 894\n",
            "  8: 331\n",
            "\n",
            "\n",
            "Data Distribution in Test Generator:\n",
            "  0: 788\n",
            "  1: 604\n",
            "  2: 652\n",
            "  3: 673\n",
            "  4: 666\n",
            "  5: 596\n",
            "  6: 1333\n",
            "  7: 1184\n",
            "  8: 459\n",
            "\n",
            "\n"
          ]
        }
      ],
      "source": [
        "import numpy as np\n",
        "\n",
        "def check_data_distribution(generator, name):\n",
        "    # Truy cập các nhãn được gán trong generator\n",
        "    labels = generator.classes  # Danh sách chỉ số lớp cho mỗi mẫu\n",
        "    unique, counts = np.unique(labels, return_counts=True)  # Đếm số lượng mẫu mỗi lớp\n",
        "\n",
        "    # Truy cập tên lớp\n",
        "    class_names = list(generator.class_indices.keys())  # Danh sách tên các lớp\n",
        "    distribution = dict(zip(class_names, counts))  # Ghép tên lớp và số lượng mẫu\n",
        "\n",
        "    print(f\"Data Distribution in {name}:\")\n",
        "    for cls, count in distribution.items():\n",
        "        print(f\"  {cls}: {count}\")\n",
        "    print(\"\\n\")\n",
        "    return distribution\n",
        "\n",
        "# Kiểm tra phân phối trên từng generator\n",
        "train_distribution = check_data_distribution(train_generator, \"Train Generator\")\n",
        "val_distribution = check_data_distribution(val_generator, \"Validation Generator\")\n",
        "test_distribution = check_data_distribution(test_generator, \"Test Generator\")\n"
      ]
    },
    {
      "cell_type": "code",
      "execution_count": null,
      "id": "ac903599",
      "metadata": {
        "execution": {
          "iopub.execute_input": "2025-01-20T17:05:04.217831Z",
          "iopub.status.busy": "2025-01-20T17:05:04.217627Z",
          "iopub.status.idle": "2025-01-20T17:05:05.136030Z",
          "shell.execute_reply": "2025-01-20T17:05:05.135087Z"
        },
        "id": "ac903599",
        "outputId": "d551809e-2d90-46de-ec89-df5fbdefd1ee",
        "papermill": {
          "duration": 0.926209,
          "end_time": "2025-01-20T17:05:05.137576",
          "exception": false,
          "start_time": "2025-01-20T17:05:04.211367",
          "status": "completed"
        },
        "tags": []
      },
      "outputs": [
        {
          "data": {
            "image/png": "[encoded data removed]",
            "text/plain": [
              "<Figure size 1200x600 with 1 Axes>"
            ]
          },
          "metadata": {},
          "output_type": "display_data"
        },
        {
          "data": {
            "image/png": "[encoded data removed]",
            "text/plain": [
              "<Figure size 1200x600 with 1 Axes>"
            ]
          },
          "metadata": {},
          "output_type": "display_data"
        },
        {
          "data": {
            "image/png": "[encoded data removed]",
            "text/plain": [
              "<Figure size 1200x600 with 1 Axes>"
            ]
          },
          "metadata": {},
          "output_type": "display_data"
        }
      ],
      "source": [
        "import matplotlib.pyplot as plt\n",
        "\n",
        "def plot_distribution(distribution, title):\n",
        "    classes = list(distribution.keys())\n",
        "    counts = list(distribution.values())\n",
        "\n",
        "    plt.figure(figsize=(12, 6))\n",
        "    plt.bar(classes, counts, color='skyblue')\n",
        "    plt.title(title)\n",
        "    plt.xlabel(\"Classes\")\n",
        "    plt.ylabel(\"Number of Samples\")\n",
        "    plt.xticks(rotation=45)\n",
        "    plt.show()\n",
        "\n",
        "# Vẽ biểu đồ phân phối\n",
        "plot_distribution(train_distribution, \"Train Data Distribution\")\n",
        "plot_distribution(val_distribution, \"Validation Data Distribution\")\n",
        "plot_distribution(test_distribution, \"Test Data Distribution\")\n"
      ]
    },
    {
      "cell_type": "code",
      "execution_count": null,
      "id": "fb9168a3",
      "metadata": {},
      "outputs": [
        {
          "name": "stdout",
          "output_type": "stream",
          "text": [
            "Downloading data from https://storage.googleapis.com/tensorflow/keras-applications/resnet/resnet50_weights_tf_dim_ordering_tf_kernels_notop.h5\n",
            "\u001b[1m94765736/94765736\u001b[0m \u001b[32m━━━━━━━━━━━━━━━━━━━━\u001b[0m\u001b[37m\u001b[0m \u001b[1m5s\u001b[0m 0us/step\n"
          ]
        }
      ],
      "source": [
        "base_model = ResNet50(\n",
        "    include_top=False,  \n",
        "    weights='imagenet', \n",
        "    input_shape=(224, 224, 3) \n",
        ")\n",
        "\n",
        "model = models.Sequential()\n",
        "model.add(base_model)\n",
        "model.add(layers.GlobalAveragePooling2D())\n",
        "model.add(layers.Dense(1024, activation='relu'))\n",
        "model.add(layers.Dropout(0.5))\n",
        "model.add(layers.Dense(512, activation='relu'))\n",
        "model.add(layers.Dense(256, activation='relu'))\n",
        "model.add(layers.Dense(128, activation='relu'))\n",
        "model.add(layers.Dense(9, activation='softmax'))  "
      ]
    },
    {
      "cell_type": "markdown",
      "id": "753a77ac",
      "metadata": {
        "id": "753a77ac",
        "papermill": {
          "duration": 0.007284,
          "end_time": "2025-01-20T17:05:06.479297",
          "exception": false,
          "start_time": "2025-01-20T17:05:06.472013",
          "status": "completed"
        },
        "tags": []
      },
      "source": [
        "# Training"
      ]
    },
    {
      "cell_type": "code",
      "execution_count": null,
      "id": "b02d5a6b",
      "metadata": {
        "execution": {
          "iopub.execute_input": "2025-01-20T17:05:06.494929Z",
          "iopub.status.busy": "2025-01-20T17:05:06.494652Z",
          "iopub.status.idle": "2025-01-20T17:05:06.500653Z",
          "shell.execute_reply": "2025-01-20T17:05:06.499775Z"
        },
        "id": "b02d5a6b",
        "papermill": {
          "duration": 0.015405,
          "end_time": "2025-01-20T17:05:06.502096",
          "exception": false,
          "start_time": "2025-01-20T17:05:06.486691",
          "status": "completed"
        },
        "tags": []
      },
      "outputs": [],
      "source": [
        "from tensorflow.keras.callbacks import ModelCheckpoint, EarlyStopping, ReduceLROnPlateau, TensorBoard, LearningRateScheduler\n",
        "\n",
        "# Callbacks\n",
        "checkpoint = ModelCheckpoint(\"model.keras\", monitor=\"val_loss\", save_best_only=True, verbose=1)\n",
        "\n",
        "callbacks = [checkpoint]"
      ]
    },
    {
      "cell_type": "code",
      "execution_count": null,
      "id": "2902c30b",
      "metadata": {
        "execution": {
          "iopub.execute_input": "2025-01-20T17:05:06.518654Z",
          "iopub.status.busy": "2025-01-20T17:05:06.518432Z",
          "iopub.status.idle": "2025-01-20T17:05:06.521533Z",
          "shell.execute_reply": "2025-01-20T17:05:06.520890Z"
        },
        "id": "2902c30b",
        "papermill": {
          "duration": 0.01241,
          "end_time": "2025-01-20T17:05:06.522759",
          "exception": false,
          "start_time": "2025-01-20T17:05:06.510349",
          "status": "completed"
        },
        "tags": []
      },
      "outputs": [],
      "source": [
        "learning_rate = 0.0001\n",
        "epochs = 30"
      ]
    },
    {
      "cell_type": "code",
      "execution_count": null,
      "id": "0173e1a7",
      "metadata": {
        "execution": {
          "iopub.execute_input": "2025-01-20T17:05:06.538281Z",
          "iopub.status.busy": "2025-01-20T17:05:06.538031Z",
          "iopub.status.idle": "2025-01-20T17:05:06.550637Z",
          "shell.execute_reply": "2025-01-20T17:05:06.549795Z"
        },
        "id": "0173e1a7",
        "papermill": {
          "duration": 0.021756,
          "end_time": "2025-01-20T17:05:06.551866",
          "exception": false,
          "start_time": "2025-01-20T17:05:06.530110",
          "status": "completed"
        },
        "tags": []
      },
      "outputs": [],
      "source": [
        "model.compile(\n",
        "    optimizer=Adam(learning_rate=learning_rate),\n",
        "    loss='categorical_crossentropy',\n",
        "    metrics=['accuracy']\n",
        ")"
      ]
    },
    {
      "cell_type": "code",
      "execution_count": null,
      "id": "a17f41de",
      "metadata": {
        "execution": {
          "iopub.execute_input": "2025-01-20T17:05:06.567348Z",
          "iopub.status.busy": "2025-01-20T17:05:06.567073Z",
          "iopub.status.idle": "2025-01-20T17:05:06.592703Z",
          "shell.execute_reply": "2025-01-20T17:05:06.591811Z"
        },
        "id": "a17f41de",
        "papermill": {
          "duration": 0.034579,
          "end_time": "2025-01-20T17:05:06.593865",
          "exception": false,
          "start_time": "2025-01-20T17:05:06.559286",
          "status": "completed"
        },
        "tags": []
      },
      "outputs": [],
      "source": [
        "from sklearn.utils.class_weight import compute_class_weight\n",
        "\n",
        "class_weights = compute_class_weight(\n",
        "    class_weight='balanced',\n",
        "    classes=np.unique(train_df['CategoryID']),\n",
        "    y=train_df['CategoryID']\n",
        ")\n",
        "\n",
        "class_weights_dict = dict(enumerate(class_weights))"
      ]
    },
    {
      "cell_type": "code",
      "execution_count": null,
      "id": "abed3b8c",
      "metadata": {
        "execution": {
          "iopub.execute_input": "2025-01-20T17:05:06.609715Z",
          "iopub.status.busy": "2025-01-20T17:05:06.609469Z",
          "iopub.status.idle": "2025-01-20T21:40:03.702495Z",
          "shell.execute_reply": "2025-01-20T21:40:03.701618Z"
        },
        "id": "abed3b8c",
        "outputId": "63b57563-7410-4cc3-88d6-a46d4f9df20e",
        "papermill": {
          "duration": 16497.646958,
          "end_time": "2025-01-20T21:40:04.248443",
          "exception": false,
          "start_time": "2025-01-20T17:05:06.601485",
          "status": "completed"
        },
        "tags": []
      },
      "outputs": [
        {
          "name": "stdout",
          "output_type": "stream",
          "text": [
            "Epoch 1/30\n"
          ]
        },
        {
          "name": "stderr",
          "output_type": "stream",
          "text": [
            "/usr/local/lib/python3.10/dist-packages/keras/src/trainers/data_adapters/py_dataset_adapter.py:121: UserWarning: Your `PyDataset` class should call `super().__init__(**kwargs)` in its constructor. `**kwargs` can include `workers`, `use_multiprocessing`, `max_queue_size`. Do not pass these arguments to `fit()`, as they will be ignored.\n",
            "  self._warn_if_super_not_called()\n"
          ]
        },
        {
          "name": "stdout",
          "output_type": "stream",
          "text": [
            "\u001b[1m  5/331\u001b[0m \u001b[37m━━━━━━━━━━━━━━━━━━━━\u001b[0m \u001b[1m6:07\u001b[0m 1s/step - accuracy: 0.0953 - loss: 2.3644"
          ]
        },
        {
          "name": "stderr",
          "output_type": "stream",
          "text": [
            "/usr/local/lib/python3.10/dist-packages/PIL/Image.py:1056: UserWarning: Palette images with Transparency expressed in bytes should be converted to RGBA images\n",
            "  warnings.warn(\n"
          ]
        },
        {
          "name": "stdout",
          "output_type": "stream",
          "text": [
            "\u001b[1m331/331\u001b[0m \u001b[32m━━━━━━━━━━━━━━━━━━━━\u001b[0m\u001b[37m\u001b[0m \u001b[1m0s\u001b[0m 1s/step - accuracy: 0.2216 - loss: 2.0975\n",
            "Epoch 1: val_loss improved from inf to 1.41323, saving model to model.keras\n",
            "\u001b[1m331/331\u001b[0m \u001b[32m━━━━━━━━━━━━━━━━━━━━\u001b[0m\u001b[37m\u001b[0m \u001b[1m594s\u001b[0m 2s/step - accuracy: 0.2219 - loss: 2.0969 - val_accuracy: 0.5178 - val_loss: 1.4132\n",
            "Epoch 2/30\n",
            "\u001b[1m331/331\u001b[0m \u001b[32m━━━━━━━━━━━━━━━━━━━━\u001b[0m\u001b[37m\u001b[0m \u001b[1m0s\u001b[0m 1s/step - accuracy: 0.5282 - loss: 1.3627\n",
            "Epoch 2: val_loss improved from 1.41323 to 1.21416, saving model to model.keras\n",
            "\u001b[1m331/331\u001b[0m \u001b[32m━━━━━━━━━━━━━━━━━━━━\u001b[0m\u001b[37m\u001b[0m \u001b[1m564s\u001b[0m 2s/step - accuracy: 0.5283 - loss: 1.3624 - val_accuracy: 0.5941 - val_loss: 1.2142\n",
            "Epoch 3/30\n",
            "\u001b[1m331/331\u001b[0m \u001b[32m━━━━━━━━━━━━━━━━━━━━\u001b[0m\u001b[37m\u001b[0m \u001b[1m0s\u001b[0m 1s/step - accuracy: 0.6615 - loss: 0.9619\n",
            "Epoch 3: val_loss improved from 1.21416 to 1.04420, saving model to model.keras\n",
            "\u001b[1m331/331\u001b[0m \u001b[32m━━━━━━━━━━━━━━━━━━━━\u001b[0m\u001b[37m\u001b[0m \u001b[1m540s\u001b[0m 2s/step - accuracy: 0.6616 - loss: 0.9618 - val_accuracy: 0.6510 - val_loss: 1.0442\n",
            "Epoch 4/30\n",
            "\u001b[1m331/331\u001b[0m \u001b[32m━━━━━━━━━━━━━━━━━━━━\u001b[0m\u001b[37m\u001b[0m \u001b[1m0s\u001b[0m 1s/step - accuracy: 0.7336 - loss: 0.7593\n",
            "Epoch 4: val_loss improved from 1.04420 to 0.95734, saving model to model.keras\n",
            "\u001b[1m331/331\u001b[0m \u001b[32m━━━━━━━━━━━━━━━━━━━━\u001b[0m\u001b[37m\u001b[0m \u001b[1m543s\u001b[0m 2s/step - accuracy: 0.7336 - loss: 0.7593 - val_accuracy: 0.6854 - val_loss: 0.9573\n",
            "Epoch 5/30\n",
            "\u001b[1m331/331\u001b[0m \u001b[32m━━━━━━━━━━━━━━━━━━━━\u001b[0m\u001b[37m\u001b[0m \u001b[1m0s\u001b[0m 1s/step - accuracy: 0.7797 - loss: 0.6206\n",
            "Epoch 5: val_loss improved from 0.95734 to 0.81149, saving model to model.keras\n",
            "\u001b[1m331/331\u001b[0m \u001b[32m━━━━━━━━━━━━━━━━━━━━\u001b[0m\u001b[37m\u001b[0m \u001b[1m544s\u001b[0m 2s/step - accuracy: 0.7797 - loss: 0.6206 - val_accuracy: 0.7301 - val_loss: 0.8115\n",
            "Epoch 6/30\n",
            "\u001b[1m331/331\u001b[0m \u001b[32m━━━━━━━━━━━━━━━━━━━━\u001b[0m\u001b[37m\u001b[0m \u001b[1m0s\u001b[0m 1s/step - accuracy: 0.8077 - loss: 0.5337\n",
            "Epoch 6: val_loss improved from 0.81149 to 0.77039, saving model to model.keras\n",
            "\u001b[1m331/331\u001b[0m \u001b[32m━━━━━━━━━━━━━━━━━━━━\u001b[0m\u001b[37m\u001b[0m \u001b[1m552s\u001b[0m 2s/step - accuracy: 0.8077 - loss: 0.5337 - val_accuracy: 0.7534 - val_loss: 0.7704\n",
            "Epoch 7/30\n",
            "\u001b[1m331/331\u001b[0m \u001b[32m━━━━━━━━━━━━━━━━━━━━\u001b[0m\u001b[37m\u001b[0m \u001b[1m0s\u001b[0m 1s/step - accuracy: 0.8387 - loss: 0.4531\n",
            "Epoch 7: val_loss did not improve from 0.77039\n",
            "\u001b[1m331/331\u001b[0m \u001b[32m━━━━━━━━━━━━━━━━━━━━\u001b[0m\u001b[37m\u001b[0m \u001b[1m541s\u001b[0m 2s/step - accuracy: 0.8387 - loss: 0.4532 - val_accuracy: 0.7600 - val_loss: 0.7777\n",
            "Epoch 8/30\n",
            "\u001b[1m331/331\u001b[0m \u001b[32m━━━━━━━━━━━━━━━━━━━━\u001b[0m\u001b[37m\u001b[0m \u001b[1m0s\u001b[0m 1s/step - accuracy: 0.8545 - loss: 0.4032\n",
            "Epoch 8: val_loss did not improve from 0.77039\n",
            "\u001b[1m331/331\u001b[0m \u001b[32m━━━━━━━━━━━━━━━━━━━━\u001b[0m\u001b[37m\u001b[0m \u001b[1m535s\u001b[0m 2s/step - accuracy: 0.8545 - loss: 0.4033 - val_accuracy: 0.7063 - val_loss: 0.9823\n",
            "Epoch 9/30\n",
            "\u001b[1m331/331\u001b[0m \u001b[32m━━━━━━━━━━━━━━━━━━━━\u001b[0m\u001b[37m\u001b[0m \u001b[1m0s\u001b[0m 1s/step - accuracy: 0.8761 - loss: 0.3468\n",
            "Epoch 9: val_loss improved from 0.77039 to 0.76107, saving model to model.keras\n",
            "\u001b[1m331/331\u001b[0m \u001b[32m━━━━━━━━━━━━━━━━━━━━\u001b[0m\u001b[37m\u001b[0m \u001b[1m541s\u001b[0m 2s/step - accuracy: 0.8761 - loss: 0.3468 - val_accuracy: 0.7656 - val_loss: 0.7611\n",
            "Epoch 10/30\n",
            "\u001b[1m331/331\u001b[0m \u001b[32m━━━━━━━━━━━━━━━━━━━━\u001b[0m\u001b[37m\u001b[0m \u001b[1m0s\u001b[0m 1s/step - accuracy: 0.8868 - loss: 0.3142\n",
            "Epoch 10: val_loss improved from 0.76107 to 0.74198, saving model to model.keras\n",
            "\u001b[1m331/331\u001b[0m \u001b[32m━━━━━━━━━━━━━━━━━━━━\u001b[0m\u001b[37m\u001b[0m \u001b[1m558s\u001b[0m 2s/step - accuracy: 0.8868 - loss: 0.3142 - val_accuracy: 0.7741 - val_loss: 0.7420\n",
            "Epoch 11/30\n",
            "\u001b[1m331/331\u001b[0m \u001b[32m━━━━━━━━━━━━━━━━━━━━\u001b[0m\u001b[37m\u001b[0m \u001b[1m0s\u001b[0m 1s/step - accuracy: 0.9006 - loss: 0.2701\n",
            "Epoch 11: val_loss did not improve from 0.74198\n",
            "\u001b[1m331/331\u001b[0m \u001b[32m━━━━━━━━━━━━━━━━━━━━\u001b[0m\u001b[37m\u001b[0m \u001b[1m540s\u001b[0m 2s/step - accuracy: 0.9006 - loss: 0.2701 - val_accuracy: 0.7656 - val_loss: 0.8122\n",
            "Epoch 12/30\n",
            "\u001b[1m331/331\u001b[0m \u001b[32m━━━━━━━━━━━━━━━━━━━━\u001b[0m\u001b[37m\u001b[0m \u001b[1m0s\u001b[0m 1s/step - accuracy: 0.9080 - loss: 0.2489\n",
            "Epoch 12: val_loss did not improve from 0.74198\n",
            "\u001b[1m331/331\u001b[0m \u001b[32m━━━━━━━━━━━━━━━━━━━━\u001b[0m\u001b[37m\u001b[0m \u001b[1m552s\u001b[0m 2s/step - accuracy: 0.9079 - loss: 0.2489 - val_accuracy: 0.7496 - val_loss: 0.9188\n",
            "Epoch 13/30\n",
            "\u001b[1m331/331\u001b[0m \u001b[32m━━━━━━━━━━━━━━━━━━━━\u001b[0m\u001b[37m\u001b[0m \u001b[1m0s\u001b[0m 1s/step - accuracy: 0.9102 - loss: 0.2347\n",
            "Epoch 13: val_loss did not improve from 0.74198\n",
            "\u001b[1m331/331\u001b[0m \u001b[32m━━━━━━━━━━━━━━━━━━━━\u001b[0m\u001b[37m\u001b[0m \u001b[1m551s\u001b[0m 2s/step - accuracy: 0.9102 - loss: 0.2347 - val_accuracy: 0.7821 - val_loss: 0.7764\n",
            "Epoch 14/30\n",
            "\u001b[1m331/331\u001b[0m \u001b[32m━━━━━━━━━━━━━━━━━━━━\u001b[0m\u001b[37m\u001b[0m \u001b[1m0s\u001b[0m 1s/step - accuracy: 0.9261 - loss: 0.1978\n",
            "Epoch 14: val_loss did not improve from 0.74198\n",
            "\u001b[1m331/331\u001b[0m \u001b[32m━━━━━━━━━━━━━━━━━━━━\u001b[0m\u001b[37m\u001b[0m \u001b[1m562s\u001b[0m 2s/step - accuracy: 0.9261 - loss: 0.1978 - val_accuracy: 0.7879 - val_loss: 0.7709\n",
            "Epoch 15/30\n",
            "\u001b[1m331/331\u001b[0m \u001b[32m━━━━━━━━━━━━━━━━━━━━\u001b[0m\u001b[37m\u001b[0m \u001b[1m0s\u001b[0m 1s/step - accuracy: 0.9331 - loss: 0.1813\n",
            "Epoch 15: val_loss did not improve from 0.74198\n",
            "\u001b[1m331/331\u001b[0m \u001b[32m━━━━━━━━━━━━━━━━━━━━\u001b[0m\u001b[37m\u001b[0m \u001b[1m551s\u001b[0m 2s/step - accuracy: 0.9331 - loss: 0.1813 - val_accuracy: 0.7749 - val_loss: 0.8131\n",
            "Epoch 16/30\n",
            "\u001b[1m331/331\u001b[0m \u001b[32m━━━━━━━━━━━━━━━━━━━━\u001b[0m\u001b[37m\u001b[0m \u001b[1m0s\u001b[0m 1s/step - accuracy: 0.9393 - loss: 0.1647\n",
            "Epoch 16: val_loss did not improve from 0.74198\n",
            "\u001b[1m331/331\u001b[0m \u001b[32m━━━━━━━━━━━━━━━━━━━━\u001b[0m\u001b[37m\u001b[0m \u001b[1m550s\u001b[0m 2s/step - accuracy: 0.9393 - loss: 0.1647 - val_accuracy: 0.7862 - val_loss: 0.8328\n",
            "Epoch 17/30\n",
            "\u001b[1m331/331\u001b[0m \u001b[32m━━━━━━━━━━━━━━━━━━━━\u001b[0m\u001b[37m\u001b[0m \u001b[1m0s\u001b[0m 1s/step - accuracy: 0.9410 - loss: 0.1619\n",
            "Epoch 17: val_loss did not improve from 0.74198\n",
            "\u001b[1m331/331\u001b[0m \u001b[32m━━━━━━━━━━━━━━━━━━━━\u001b[0m\u001b[37m\u001b[0m \u001b[1m539s\u001b[0m 2s/step - accuracy: 0.9410 - loss: 0.1619 - val_accuracy: 0.7685 - val_loss: 0.9050\n",
            "Epoch 18/30\n",
            "\u001b[1m331/331\u001b[0m \u001b[32m━━━━━━━━━━━━━━━━━━━━\u001b[0m\u001b[37m\u001b[0m \u001b[1m0s\u001b[0m 1s/step - accuracy: 0.9468 - loss: 0.1421\n",
            "Epoch 18: val_loss did not improve from 0.74198\n",
            "\u001b[1m331/331\u001b[0m \u001b[32m━━━━━━━━━━━━━━━━━━━━\u001b[0m\u001b[37m\u001b[0m \u001b[1m550s\u001b[0m 2s/step - accuracy: 0.9468 - loss: 0.1421 - val_accuracy: 0.7968 - val_loss: 0.8252\n",
            "Epoch 19/30\n",
            "\u001b[1m331/331\u001b[0m \u001b[32m━━━━━━━━━━━━━━━━━━━━\u001b[0m\u001b[37m\u001b[0m \u001b[1m0s\u001b[0m 1s/step - accuracy: 0.9490 - loss: 0.1339\n",
            "Epoch 19: val_loss did not improve from 0.74198\n",
            "\u001b[1m331/331\u001b[0m \u001b[32m━━━━━━━━━━━━━━━━━━━━\u001b[0m\u001b[37m\u001b[0m \u001b[1m546s\u001b[0m 2s/step - accuracy: 0.9490 - loss: 0.1339 - val_accuracy: 0.7838 - val_loss: 0.8595\n",
            "Epoch 20/30\n",
            "\u001b[1m331/331\u001b[0m \u001b[32m━━━━━━━━━━━━━━━━━━━━\u001b[0m\u001b[37m\u001b[0m \u001b[1m0s\u001b[0m 1s/step - accuracy: 0.9527 - loss: 0.1311\n",
            "Epoch 20: val_loss did not improve from 0.74198\n",
            "\u001b[1m331/331\u001b[0m \u001b[32m━━━━━━━━━━━━━━━━━━━━\u001b[0m\u001b[37m\u001b[0m \u001b[1m539s\u001b[0m 2s/step - accuracy: 0.9527 - loss: 0.1311 - val_accuracy: 0.7753 - val_loss: 0.9371\n",
            "Epoch 21/30\n",
            "\u001b[1m331/331\u001b[0m \u001b[32m━━━━━━━━━━━━━━━━━━━━\u001b[0m\u001b[37m\u001b[0m \u001b[1m0s\u001b[0m 1s/step - accuracy: 0.9523 - loss: 0.1258\n",
            "Epoch 21: val_loss did not improve from 0.74198\n",
            "\u001b[1m331/331\u001b[0m \u001b[32m━━━━━━━━━━━━━━━━━━━━\u001b[0m\u001b[37m\u001b[0m \u001b[1m550s\u001b[0m 2s/step - accuracy: 0.9523 - loss: 0.1258 - val_accuracy: 0.8008 - val_loss: 0.7944\n",
            "Epoch 22/30\n",
            "\u001b[1m331/331\u001b[0m \u001b[32m━━━━━━━━━━━━━━━━━━━━\u001b[0m\u001b[37m\u001b[0m \u001b[1m0s\u001b[0m 1s/step - accuracy: 0.9592 - loss: 0.1112\n",
            "Epoch 22: val_loss did not improve from 0.74198\n",
            "\u001b[1m331/331\u001b[0m \u001b[32m━━━━━━━━━━━━━━━━━━━━\u001b[0m\u001b[37m\u001b[0m \u001b[1m553s\u001b[0m 2s/step - accuracy: 0.9592 - loss: 0.1112 - val_accuracy: 0.7991 - val_loss: 0.8643\n",
            "Epoch 23/30\n",
            "\u001b[1m331/331\u001b[0m \u001b[32m━━━━━━━━━━━━━━━━━━━━\u001b[0m\u001b[37m\u001b[0m \u001b[1m0s\u001b[0m 1s/step - accuracy: 0.9590 - loss: 0.1046\n",
            "Epoch 23: val_loss did not improve from 0.74198\n",
            "\u001b[1m331/331\u001b[0m \u001b[32m━━━━━━━━━━━━━━━━━━━━\u001b[0m\u001b[37m\u001b[0m \u001b[1m554s\u001b[0m 2s/step - accuracy: 0.9590 - loss: 0.1046 - val_accuracy: 0.8023 - val_loss: 0.8050\n",
            "Epoch 24/30\n",
            "\u001b[1m331/331\u001b[0m \u001b[32m━━━━━━━━━━━━━━━━━━━━\u001b[0m\u001b[37m\u001b[0m \u001b[1m0s\u001b[0m 1s/step - accuracy: 0.9592 - loss: 0.1166\n",
            "Epoch 24: val_loss did not improve from 0.74198\n",
            "\u001b[1m331/331\u001b[0m \u001b[32m━━━━━━━━━━━━━━━━━━━━\u001b[0m\u001b[37m\u001b[0m \u001b[1m554s\u001b[0m 2s/step - accuracy: 0.9592 - loss: 0.1166 - val_accuracy: 0.8004 - val_loss: 0.8375\n",
            "Epoch 25/30\n",
            "\u001b[1m331/331\u001b[0m \u001b[32m━━━━━━━━━━━━━━━━━━━━\u001b[0m\u001b[37m\u001b[0m \u001b[1m0s\u001b[0m 1s/step - accuracy: 0.9601 - loss: 0.1058\n",
            "Epoch 25: val_loss did not improve from 0.74198\n",
            "\u001b[1m331/331\u001b[0m \u001b[32m━━━━━━━━━━━━━━━━━━━━\u001b[0m\u001b[37m\u001b[0m \u001b[1m548s\u001b[0m 2s/step - accuracy: 0.9601 - loss: 0.1058 - val_accuracy: 0.8187 - val_loss: 0.7722\n",
            "Epoch 26/30\n",
            "\u001b[1m331/331\u001b[0m \u001b[32m━━━━━━━━━━━━━━━━━━━━\u001b[0m\u001b[37m\u001b[0m \u001b[1m0s\u001b[0m 1s/step - accuracy: 0.9656 - loss: 0.0961\n",
            "Epoch 26: val_loss did not improve from 0.74198\n",
            "\u001b[1m331/331\u001b[0m \u001b[32m━━━━━━━━━━━━━━━━━━━━\u001b[0m\u001b[37m\u001b[0m \u001b[1m557s\u001b[0m 2s/step - accuracy: 0.9656 - loss: 0.0961 - val_accuracy: 0.7930 - val_loss: 0.8497\n",
            "Epoch 27/30\n",
            "\u001b[1m331/331\u001b[0m \u001b[32m━━━━━━━━━━━━━━━━━━━━\u001b[0m\u001b[37m\u001b[0m \u001b[1m0s\u001b[0m 1s/step - accuracy: 0.9659 - loss: 0.0930\n",
            "Epoch 27: val_loss did not improve from 0.74198\n",
            "\u001b[1m331/331\u001b[0m \u001b[32m━━━━━━━━━━━━━━━━━━━━\u001b[0m\u001b[37m\u001b[0m \u001b[1m553s\u001b[0m 2s/step - accuracy: 0.9658 - loss: 0.0930 - val_accuracy: 0.7951 - val_loss: 0.8895\n",
            "Epoch 28/30\n",
            "\u001b[1m331/331\u001b[0m \u001b[32m━━━━━━━━━━━━━━━━━━━━\u001b[0m\u001b[37m\u001b[0m \u001b[1m0s\u001b[0m 1s/step - accuracy: 0.9664 - loss: 0.0891\n",
            "Epoch 28: val_loss did not improve from 0.74198\n",
            "\u001b[1m331/331\u001b[0m \u001b[32m━━━━━━━━━━━━━━━━━━━━\u001b[0m\u001b[37m\u001b[0m \u001b[1m545s\u001b[0m 2s/step - accuracy: 0.9664 - loss: 0.0891 - val_accuracy: 0.7813 - val_loss: 1.0520\n",
            "Epoch 29/30\n",
            "\u001b[1m331/331\u001b[0m \u001b[32m━━━━━━━━━━━━━━━━━━━━\u001b[0m\u001b[37m\u001b[0m \u001b[1m0s\u001b[0m 1s/step - accuracy: 0.9662 - loss: 0.0870\n",
            "Epoch 29: val_loss did not improve from 0.74198\n",
            "\u001b[1m331/331\u001b[0m \u001b[32m━━━━━━━━━━━━━━━━━━━━\u001b[0m\u001b[37m\u001b[0m \u001b[1m539s\u001b[0m 2s/step - accuracy: 0.9662 - loss: 0.0870 - val_accuracy: 0.8023 - val_loss: 0.8331\n",
            "Epoch 30/30\n",
            "\u001b[1m331/331\u001b[0m \u001b[32m━━━━━━━━━━━━━━━━━━━━\u001b[0m\u001b[37m\u001b[0m \u001b[1m0s\u001b[0m 1s/step - accuracy: 0.9685 - loss: 0.0859\n",
            "Epoch 30: val_loss did not improve from 0.74198\n",
            "\u001b[1m331/331\u001b[0m \u001b[32m━━━━━━━━━━━━━━━━━━━━\u001b[0m\u001b[37m\u001b[0m \u001b[1m549s\u001b[0m 2s/step - accuracy: 0.9685 - loss: 0.0859 - val_accuracy: 0.7821 - val_loss: 0.9649\n"
          ]
        }
      ],
      "source": [
        "history = model.fit(\n",
        "    train_generator,\n",
        "    epochs=epochs,\n",
        "    validation_data=val_generator,\n",
        "    callbacks=callbacks,\n",
        "    class_weight=class_weights_dict\n",
        ")"
      ]
    },
    {
      "cell_type": "markdown",
      "id": "5ca589fb",
      "metadata": {
        "id": "5ca589fb",
        "papermill": {
          "duration": 0.454267,
          "end_time": "2025-01-20T21:40:05.182703",
          "exception": false,
          "start_time": "2025-01-20T21:40:04.728436",
          "status": "completed"
        },
        "tags": []
      },
      "source": [
        "# Testing"
      ]
    },
    {
      "cell_type": "code",
      "execution_count": null,
      "id": "932550a1",
      "metadata": {
        "execution": {
          "iopub.execute_input": "2025-01-20T21:40:06.202508Z",
          "iopub.status.busy": "2025-01-20T21:40:06.202083Z",
          "iopub.status.idle": "2025-01-20T21:41:40.198834Z",
          "shell.execute_reply": "2025-01-20T21:41:40.197997Z"
        },
        "id": "932550a1",
        "outputId": "e8c2c3d3-ac48-41e3-c640-63e8dc6be235",
        "papermill": {
          "duration": 95.078323,
          "end_time": "2025-01-20T21:41:40.717940",
          "exception": false,
          "start_time": "2025-01-20T21:40:05.639617",
          "status": "completed"
        },
        "tags": []
      },
      "outputs": [
        {
          "name": "stdout",
          "output_type": "stream",
          "text": [
            "\u001b[1m109/109\u001b[0m \u001b[32m━━━━━━━━━━━━━━━━━━━━\u001b[0m\u001b[37m\u001b[0m \u001b[1m92s\u001b[0m 848ms/step - accuracy: 0.7902 - loss: 0.9202\n",
            "Test Accuracy: 0.7943925261497498\n"
          ]
        }
      ],
      "source": [
        "loss, accuracy = model.evaluate(test_generator, steps=len(test_generator))\n",
        "print(f\"Test Accuracy: {accuracy}\")"
      ]
    },
    {
      "cell_type": "code",
      "execution_count": null,
      "id": "656ea4f4",
      "metadata": {
        "execution": {
          "iopub.execute_input": "2025-01-20T21:41:41.765627Z",
          "iopub.status.busy": "2025-01-20T21:41:41.765220Z",
          "iopub.status.idle": "2025-01-20T21:41:42.257708Z",
          "shell.execute_reply": "2025-01-20T21:41:42.256853Z"
        },
        "id": "656ea4f4",
        "outputId": "8ee679c7-e079-422c-df4c-e83e6d450e02",
        "papermill": {
          "duration": 0.975288,
          "end_time": "2025-01-20T21:41:42.259080",
          "exception": false,
          "start_time": "2025-01-20T21:41:41.283792",
          "status": "completed"
        },
        "tags": []
      },
      "outputs": [
        {
          "data": {
            "image/png": "[encoded data removed]",
            "text/plain": [
              "<Figure size 640x480 with 1 Axes>"
            ]
          },
          "metadata": {},
          "output_type": "display_data"
        },
        {
          "data": {
            "image/png": "[encoded data removed]",
            "text/plain": [
              "<Figure size 640x480 with 1 Axes>"
            ]
          },
          "metadata": {},
          "output_type": "display_data"
        }
      ],
      "source": [
        "import matplotlib.pyplot as plt\n",
        "\n",
        "# Lấy giá trị loss và accuracy từ history\n",
        "train_loss = history.history['loss']\n",
        "val_loss = history.history['val_loss']\n",
        "train_accuracy = history.history['accuracy']\n",
        "val_accuracy = history.history['val_accuracy']\n",
        "\n",
        "# Vẽ biểu đồ loss\n",
        "# plt.figure(figsize=(12, 6))\n",
        "plt.plot(train_loss, label='Train Loss', color='blue')\n",
        "plt.plot(val_loss, label='Validation Loss', color='orange')\n",
        "plt.title('Loss During Training')\n",
        "plt.xlabel('Epochs')\n",
        "plt.ylabel('Loss')\n",
        "plt.legend()\n",
        "plt.show()\n",
        "\n",
        "# Vẽ biểu đồ accuracy\n",
        "# plt.figure(figsize=(12, 6))\n",
        "plt.plot(train_accuracy, label='Train Accuracy', color='green')\n",
        "plt.plot(val_accuracy, label='Validation Accuracy', color='red')\n",
        "plt.title('Accuracy During Training')\n",
        "plt.xlabel('Epochs')\n",
        "plt.ylabel('Accuracy')\n",
        "plt.legend()\n",
        "plt.show()"
      ]
    }
  ],
  "metadata": {
    "colab": {
      "provenance": []
    },
    "kaggle": {
      "accelerator": "gpu",
      "dataSources": [
        {
          "datasetId": 6456424,
          "sourceId": 10417621,
          "sourceType": "datasetVersion"
        },
        {
          "datasetId": 6456529,
          "sourceId": 10417775,
          "sourceType": "datasetVersion"
        },
        {
          "datasetId": 6461064,
          "sourceId": 10460360,
          "sourceType": "datasetVersion"
        }
      ],
      "dockerImageVersionId": 30823,
      "isGpuEnabled": true,
      "isInternetEnabled": true,
      "language": "python",
      "sourceType": "notebook"
    },
    "kernelspec": {
      "display_name": "Python 3",
      "language": "python",
      "name": "python3"
    },
    "language_info": {
      "codemirror_mode": {
        "name": "ipython",
        "version": 3
      },
      "file_extension": ".py",
      "mimetype": "text/x-python",
      "name": "python",
      "nbconvert_exporter": "python",
      "pygments_lexer": "ipython3",
      "version": "3.10.12"
    },
    "papermill": {
      "default_parameters": {},
      "duration": 16997.312148,
      "end_time": "2025-01-20T21:41:45.655697",
      "environment_variables": {},
      "exception": null,
      "input_path": "__notebook__.ipynb",
      "output_path": "__notebook__.ipynb",
      "parameters": {},
      "start_time": "2025-01-20T16:58:28.343549",
      "version": "2.6.0"
    }
  },
  "nbformat": 4,
  "nbformat_minor": 5
}
