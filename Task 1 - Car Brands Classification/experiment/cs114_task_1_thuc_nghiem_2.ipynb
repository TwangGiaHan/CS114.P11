{
  "cells": [
    {
      "cell_type": "code",
      "execution_count": null,
      "id": "a7b10ecd",
      "metadata": {
        "execution": {
          "iopub.execute_input": "2025-01-20T17:08:26.393138Z",
          "iopub.status.busy": "2025-01-20T17:08:26.392773Z",
          "iopub.status.idle": "2025-01-20T17:08:36.981042Z",
          "shell.execute_reply": "2025-01-20T17:08:36.979895Z"
        },
        "id": "a7b10ecd",
        "papermill": {
          "duration": 10.597145,
          "end_time": "2025-01-20T17:08:36.982974",
          "exception": false,
          "start_time": "2025-01-20T17:08:26.385829",
          "status": "completed"
        },
        "tags": []
      },
      "outputs": [],
      "source": [
        "import os\n",
        "import pandas as pd\n",
        "import multiprocessing\n",
        "from PIL import Image, UnidentifiedImageError\n",
        "from sklearn.model_selection import train_test_split\n",
        "from tensorflow.keras.preprocessing.image import ImageDataGenerator\n",
        "from keras.optimizers import Adam\n",
        "import tensorflow as tf\n",
        "from tensorflow.keras.applications import ResNet50\n",
        "from tensorflow.keras import layers, models, optimizers, callbacks\n",
        "import numpy as np\n",
        "import hashlib\n",
        "import matplotlib.pyplot as plt\n"
      ]
    },
    {
      "cell_type": "markdown",
      "id": "9743716e",
      "metadata": {
        "id": "9743716e",
        "papermill": {
          "duration": 0.00522,
          "end_time": "2025-01-20T17:08:36.993982",
          "exception": false,
          "start_time": "2025-01-20T17:08:36.988762",
          "status": "completed"
        },
        "tags": []
      },
      "source": [
        "# Data Loading"
      ]
    },
    {
      "cell_type": "code",
      "execution_count": null,
      "id": "022ddb01",
      "metadata": {
        "execution": {
          "iopub.execute_input": "2025-01-20T17:08:37.006039Z",
          "iopub.status.busy": "2025-01-20T17:08:37.005345Z",
          "iopub.status.idle": "2025-01-20T17:08:37.010090Z",
          "shell.execute_reply": "2025-01-20T17:08:37.009078Z"
        },
        "id": "022ddb01",
        "papermill": {
          "duration": 0.012446,
          "end_time": "2025-01-20T17:08:37.011608",
          "exception": false,
          "start_time": "2025-01-20T17:08:36.999162",
          "status": "completed"
        },
        "tags": []
      },
      "outputs": [],
      "source": [
        "SPLITS_ID = 1\n",
        "BATCH_SIZE = 64\n",
        "WIDTH = 224\n",
        "HEIGHT = 224\n",
        "SEED = 4"
      ]
    },
    {
      "cell_type": "code",
      "execution_count": null,
      "id": "5aaf42eb",
      "metadata": {
        "execution": {
          "iopub.execute_input": "2025-01-20T17:08:37.023645Z",
          "iopub.status.busy": "2025-01-20T17:08:37.023287Z",
          "iopub.status.idle": "2025-01-20T17:08:37.027445Z",
          "shell.execute_reply": "2025-01-20T17:08:37.026424Z"
        },
        "id": "5aaf42eb",
        "papermill": {
          "duration": 0.011886,
          "end_time": "2025-01-20T17:08:37.029041",
          "exception": false,
          "start_time": "2025-01-20T17:08:37.017155",
          "status": "completed"
        },
        "tags": []
      },
      "outputs": [],
      "source": [
        "DATASET_PATH = '/kaggle/input/data-car-public/Public'\n",
        "SPLITS_PATH = '/kaggle/input/cardataset-splits/cardataset_splits'"
      ]
    },
    {
      "cell_type": "code",
      "execution_count": null,
      "id": "f0242d06",
      "metadata": {
        "execution": {
          "iopub.execute_input": "2025-01-20T17:08:37.041343Z",
          "iopub.status.busy": "2025-01-20T17:08:37.040920Z",
          "iopub.status.idle": "2025-01-20T17:08:37.184074Z",
          "shell.execute_reply": "2025-01-20T17:08:37.182987Z"
        },
        "id": "f0242d06",
        "papermill": {
          "duration": 0.151458,
          "end_time": "2025-01-20T17:08:37.186050",
          "exception": false,
          "start_time": "2025-01-20T17:08:37.034592",
          "status": "completed"
        },
        "tags": []
      },
      "outputs": [],
      "source": [
        "train_csv = os.path.join(SPLITS_PATH, f\"CarDataset-Splits-{SPLITS_ID}-Train.csv\")\n",
        "test_csv = os.path.join(SPLITS_PATH, f\"CarDataset-Splits-{SPLITS_ID}-Test.csv\")\n",
        "\n",
        "train_df = pd.read_csv(train_csv)\n",
        "test_df = pd.read_csv(test_csv)\n",
        "\n",
        "\n",
        "train_df[\"ImageFullPath\"] = train_df[\"ImageFullPath\"].apply(lambda x: os.path.join(DATASET_PATH, x))\n",
        "test_df[\"ImageFullPath\"] = test_df[\"ImageFullPath\"].apply(lambda x: os.path.join(DATASET_PATH, x))\n",
        "\n",
        "train_df[\"CategoryID\"] = train_df[\"CategoryID\"].astype(str)\n",
        "test_df[\"CategoryID\"] = test_df[\"CategoryID\"].astype(str)"
      ]
    },
    {
      "cell_type": "code",
      "execution_count": null,
      "id": "c91884b4",
      "metadata": {
        "execution": {
          "iopub.execute_input": "2025-01-20T17:08:37.197998Z",
          "iopub.status.busy": "2025-01-20T17:08:37.197601Z",
          "iopub.status.idle": "2025-01-20T17:08:37.212733Z",
          "shell.execute_reply": "2025-01-20T17:08:37.211625Z"
        },
        "id": "c91884b4",
        "outputId": "e5ffd1fe-a13a-47f2-b1cd-be8001021246",
        "papermill": {
          "duration": 0.02312,
          "end_time": "2025-01-20T17:08:37.214602",
          "exception": false,
          "start_time": "2025-01-20T17:08:37.191482",
          "status": "completed"
        },
        "tags": []
      },
      "outputs": [
        {
          "data": {
            "text/html": [
              "<div>\n",
              "<style scoped>\n",
              "    .dataframe tbody tr th:only-of-type {\n",
              "        vertical-align: middle;\n",
              "    }\n",
              "\n",
              "    .dataframe tbody tr th {\n",
              "        vertical-align: top;\n",
              "    }\n",
              "\n",
              "    .dataframe thead th {\n",
              "        text-align: right;\n",
              "    }\n",
              "</style>\n",
              "<table border=\"1\" class=\"dataframe\">\n",
              "  <thead>\n",
              "    <tr style=\"text-align: right;\">\n",
              "      <th></th>\n",
              "      <th>ImageFullPath</th>\n",
              "      <th>CategoryID</th>\n",
              "    </tr>\n",
              "  </thead>\n",
              "  <tbody>\n",
              "    <tr>\n",
              "      <th>0</th>\n",
              "      <td>/kaggle/input/data-car-public/Public/Mazda/225...</td>\n",
              "      <td>4</td>\n",
              "    </tr>\n",
              "    <tr>\n",
              "      <th>1</th>\n",
              "      <td>/kaggle/input/data-car-public/Public/Mazda/225...</td>\n",
              "      <td>4</td>\n",
              "    </tr>\n",
              "    <tr>\n",
              "      <th>2</th>\n",
              "      <td>/kaggle/input/data-car-public/Public/Mazda/225...</td>\n",
              "      <td>4</td>\n",
              "    </tr>\n",
              "    <tr>\n",
              "      <th>3</th>\n",
              "      <td>/kaggle/input/data-car-public/Public/Mazda/225...</td>\n",
              "      <td>4</td>\n",
              "    </tr>\n",
              "    <tr>\n",
              "      <th>4</th>\n",
              "      <td>/kaggle/input/data-car-public/Public/Mazda/225...</td>\n",
              "      <td>4</td>\n",
              "    </tr>\n",
              "    <tr>\n",
              "      <th>...</th>\n",
              "      <td>...</td>\n",
              "      <td>...</td>\n",
              "    </tr>\n",
              "    <tr>\n",
              "      <th>27858</th>\n",
              "      <td>/kaggle/input/data-car-public/Public/Honda/225...</td>\n",
              "      <td>1</td>\n",
              "    </tr>\n",
              "    <tr>\n",
              "      <th>27859</th>\n",
              "      <td>/kaggle/input/data-car-public/Public/Honda/225...</td>\n",
              "      <td>1</td>\n",
              "    </tr>\n",
              "    <tr>\n",
              "      <th>27860</th>\n",
              "      <td>/kaggle/input/data-car-public/Public/Honda/225...</td>\n",
              "      <td>1</td>\n",
              "    </tr>\n",
              "    <tr>\n",
              "      <th>27861</th>\n",
              "      <td>/kaggle/input/data-car-public/Public/Honda/225...</td>\n",
              "      <td>1</td>\n",
              "    </tr>\n",
              "    <tr>\n",
              "      <th>27862</th>\n",
              "      <td>/kaggle/input/data-car-public/Public/Honda/225...</td>\n",
              "      <td>1</td>\n",
              "    </tr>\n",
              "  </tbody>\n",
              "</table>\n",
              "<p>27863 rows × 2 columns</p>\n",
              "</div>"
            ],
            "text/plain": [
              "                                           ImageFullPath CategoryID\n",
              "0      /kaggle/input/data-car-public/Public/Mazda/225...          4\n",
              "1      /kaggle/input/data-car-public/Public/Mazda/225...          4\n",
              "2      /kaggle/input/data-car-public/Public/Mazda/225...          4\n",
              "3      /kaggle/input/data-car-public/Public/Mazda/225...          4\n",
              "4      /kaggle/input/data-car-public/Public/Mazda/225...          4\n",
              "...                                                  ...        ...\n",
              "27858  /kaggle/input/data-car-public/Public/Honda/225...          1\n",
              "27859  /kaggle/input/data-car-public/Public/Honda/225...          1\n",
              "27860  /kaggle/input/data-car-public/Public/Honda/225...          1\n",
              "27861  /kaggle/input/data-car-public/Public/Honda/225...          1\n",
              "27862  /kaggle/input/data-car-public/Public/Honda/225...          1\n",
              "\n",
              "[27863 rows x 2 columns]"
            ]
          },
          "execution_count": 5,
          "metadata": {},
          "output_type": "execute_result"
        }
      ],
      "source": [
        "train_df"
      ]
    },
    {
      "cell_type": "code",
      "execution_count": null,
      "id": "e8af93d2",
      "metadata": {
        "execution": {
          "iopub.execute_input": "2025-01-20T17:08:37.226870Z",
          "iopub.status.busy": "2025-01-20T17:08:37.226488Z",
          "iopub.status.idle": "2025-01-20T17:08:37.237052Z",
          "shell.execute_reply": "2025-01-20T17:08:37.236045Z"
        },
        "id": "e8af93d2",
        "outputId": "de48a1e4-dbc2-4f67-fd9e-71cdb30df3d3",
        "papermill": {
          "duration": 0.018549,
          "end_time": "2025-01-20T17:08:37.238704",
          "exception": false,
          "start_time": "2025-01-20T17:08:37.220155",
          "status": "completed"
        },
        "tags": []
      },
      "outputs": [
        {
          "data": {
            "text/html": [
              "<div>\n",
              "<style scoped>\n",
              "    .dataframe tbody tr th:only-of-type {\n",
              "        vertical-align: middle;\n",
              "    }\n",
              "\n",
              "    .dataframe tbody tr th {\n",
              "        vertical-align: top;\n",
              "    }\n",
              "\n",
              "    .dataframe thead th {\n",
              "        text-align: right;\n",
              "    }\n",
              "</style>\n",
              "<table border=\"1\" class=\"dataframe\">\n",
              "  <thead>\n",
              "    <tr style=\"text-align: right;\">\n",
              "      <th></th>\n",
              "      <th>ImageFullPath</th>\n",
              "      <th>CategoryID</th>\n",
              "    </tr>\n",
              "  </thead>\n",
              "  <tbody>\n",
              "    <tr>\n",
              "      <th>0</th>\n",
              "      <td>/kaggle/input/data-car-public/Public/Mazda/225...</td>\n",
              "      <td>4</td>\n",
              "    </tr>\n",
              "    <tr>\n",
              "      <th>1</th>\n",
              "      <td>/kaggle/input/data-car-public/Public/Mazda/225...</td>\n",
              "      <td>4</td>\n",
              "    </tr>\n",
              "    <tr>\n",
              "      <th>2</th>\n",
              "      <td>/kaggle/input/data-car-public/Public/Mazda/225...</td>\n",
              "      <td>4</td>\n",
              "    </tr>\n",
              "    <tr>\n",
              "      <th>3</th>\n",
              "      <td>/kaggle/input/data-car-public/Public/Mazda/225...</td>\n",
              "      <td>4</td>\n",
              "    </tr>\n",
              "    <tr>\n",
              "      <th>4</th>\n",
              "      <td>/kaggle/input/data-car-public/Public/Mazda/225...</td>\n",
              "      <td>4</td>\n",
              "    </tr>\n",
              "    <tr>\n",
              "      <th>...</th>\n",
              "      <td>...</td>\n",
              "      <td>...</td>\n",
              "    </tr>\n",
              "    <tr>\n",
              "      <th>6961</th>\n",
              "      <td>/kaggle/input/data-car-public/Public/Honda/225...</td>\n",
              "      <td>1</td>\n",
              "    </tr>\n",
              "    <tr>\n",
              "      <th>6962</th>\n",
              "      <td>/kaggle/input/data-car-public/Public/Honda/225...</td>\n",
              "      <td>1</td>\n",
              "    </tr>\n",
              "    <tr>\n",
              "      <th>6963</th>\n",
              "      <td>/kaggle/input/data-car-public/Public/Honda/225...</td>\n",
              "      <td>1</td>\n",
              "    </tr>\n",
              "    <tr>\n",
              "      <th>6964</th>\n",
              "      <td>/kaggle/input/data-car-public/Public/Honda/225...</td>\n",
              "      <td>1</td>\n",
              "    </tr>\n",
              "    <tr>\n",
              "      <th>6965</th>\n",
              "      <td>/kaggle/input/data-car-public/Public/Honda/225...</td>\n",
              "      <td>1</td>\n",
              "    </tr>\n",
              "  </tbody>\n",
              "</table>\n",
              "<p>6966 rows × 2 columns</p>\n",
              "</div>"
            ],
            "text/plain": [
              "                                          ImageFullPath CategoryID\n",
              "0     /kaggle/input/data-car-public/Public/Mazda/225...          4\n",
              "1     /kaggle/input/data-car-public/Public/Mazda/225...          4\n",
              "2     /kaggle/input/data-car-public/Public/Mazda/225...          4\n",
              "3     /kaggle/input/data-car-public/Public/Mazda/225...          4\n",
              "4     /kaggle/input/data-car-public/Public/Mazda/225...          4\n",
              "...                                                 ...        ...\n",
              "6961  /kaggle/input/data-car-public/Public/Honda/225...          1\n",
              "6962  /kaggle/input/data-car-public/Public/Honda/225...          1\n",
              "6963  /kaggle/input/data-car-public/Public/Honda/225...          1\n",
              "6964  /kaggle/input/data-car-public/Public/Honda/225...          1\n",
              "6965  /kaggle/input/data-car-public/Public/Honda/225...          1\n",
              "\n",
              "[6966 rows x 2 columns]"
            ]
          },
          "execution_count": 6,
          "metadata": {},
          "output_type": "execute_result"
        }
      ],
      "source": [
        "test_df"
      ]
    },
    {
      "cell_type": "markdown",
      "id": "0024669f",
      "metadata": {
        "id": "0024669f",
        "papermill": {
          "duration": 0.005624,
          "end_time": "2025-01-20T17:08:37.250250",
          "exception": false,
          "start_time": "2025-01-20T17:08:37.244626",
          "status": "completed"
        },
        "tags": []
      },
      "source": [
        "# Preprocessing"
      ]
    },
    {
      "cell_type": "code",
      "execution_count": null,
      "id": "0dcf350a",
      "metadata": {
        "execution": {
          "iopub.execute_input": "2025-01-20T17:08:37.262739Z",
          "iopub.status.busy": "2025-01-20T17:08:37.262370Z",
          "iopub.status.idle": "2025-01-20T17:08:37.316962Z",
          "shell.execute_reply": "2025-01-20T17:08:37.315813Z"
        },
        "id": "0dcf350a",
        "papermill": {
          "duration": 0.063361,
          "end_time": "2025-01-20T17:08:37.319327",
          "exception": false,
          "start_time": "2025-01-20T17:08:37.255966",
          "status": "completed"
        },
        "tags": []
      },
      "outputs": [],
      "source": [
        "# Đọc danh sách ảnh trùng lặp\n",
        "duplicate = pd.read_csv('/kaggle/input/car-duplicateimages/DuplicateImages.csv')\n",
        "duplicate['Image2'] = duplicate['Image2'].apply(lambda x: os.path.join(DATASET_PATH, x))\n",
        "\n",
        "# Chỉ lấy những ảnh có Similarity > 0.95\n",
        "high_similarity_duplicates = duplicate[duplicate['Similarity'] > 0.95]\n",
        "\n",
        "# Lấy danh sách đường dẫn ảnh cần loại bỏ\n",
        "duplicate_paths = high_similarity_duplicates['Image2'].unique().tolist()\n",
        "\n",
        "# Loại bỏ các ảnh trùng lặp khỏi train_df\n",
        "train_df = train_df[~train_df['ImageFullPath'].isin(duplicate_paths)]"
      ]
    },
    {
      "cell_type": "code",
      "execution_count": null,
      "id": "adb21338",
      "metadata": {
        "execution": {
          "iopub.execute_input": "2025-01-20T17:08:37.332641Z",
          "iopub.status.busy": "2025-01-20T17:08:37.332304Z",
          "iopub.status.idle": "2025-01-20T17:08:37.342985Z",
          "shell.execute_reply": "2025-01-20T17:08:37.341943Z"
        },
        "id": "adb21338",
        "outputId": "6c98f491-d6ee-4728-daf5-e04395a72b9c",
        "papermill": {
          "duration": 0.019648,
          "end_time": "2025-01-20T17:08:37.345006",
          "exception": false,
          "start_time": "2025-01-20T17:08:37.325358",
          "status": "completed"
        },
        "tags": []
      },
      "outputs": [
        {
          "data": {
            "text/html": [
              "<div>\n",
              "<style scoped>\n",
              "    .dataframe tbody tr th:only-of-type {\n",
              "        vertical-align: middle;\n",
              "    }\n",
              "\n",
              "    .dataframe tbody tr th {\n",
              "        vertical-align: top;\n",
              "    }\n",
              "\n",
              "    .dataframe thead th {\n",
              "        text-align: right;\n",
              "    }\n",
              "</style>\n",
              "<table border=\"1\" class=\"dataframe\">\n",
              "  <thead>\n",
              "    <tr style=\"text-align: right;\">\n",
              "      <th></th>\n",
              "      <th>ImageFullPath</th>\n",
              "      <th>CategoryID</th>\n",
              "    </tr>\n",
              "  </thead>\n",
              "  <tbody>\n",
              "    <tr>\n",
              "      <th>0</th>\n",
              "      <td>/kaggle/input/data-car-public/Public/Mazda/225...</td>\n",
              "      <td>4</td>\n",
              "    </tr>\n",
              "    <tr>\n",
              "      <th>1</th>\n",
              "      <td>/kaggle/input/data-car-public/Public/Mazda/225...</td>\n",
              "      <td>4</td>\n",
              "    </tr>\n",
              "    <tr>\n",
              "      <th>2</th>\n",
              "      <td>/kaggle/input/data-car-public/Public/Mazda/225...</td>\n",
              "      <td>4</td>\n",
              "    </tr>\n",
              "    <tr>\n",
              "      <th>3</th>\n",
              "      <td>/kaggle/input/data-car-public/Public/Mazda/225...</td>\n",
              "      <td>4</td>\n",
              "    </tr>\n",
              "    <tr>\n",
              "      <th>4</th>\n",
              "      <td>/kaggle/input/data-car-public/Public/Mazda/225...</td>\n",
              "      <td>4</td>\n",
              "    </tr>\n",
              "    <tr>\n",
              "      <th>...</th>\n",
              "      <td>...</td>\n",
              "      <td>...</td>\n",
              "    </tr>\n",
              "    <tr>\n",
              "      <th>27858</th>\n",
              "      <td>/kaggle/input/data-car-public/Public/Honda/225...</td>\n",
              "      <td>1</td>\n",
              "    </tr>\n",
              "    <tr>\n",
              "      <th>27859</th>\n",
              "      <td>/kaggle/input/data-car-public/Public/Honda/225...</td>\n",
              "      <td>1</td>\n",
              "    </tr>\n",
              "    <tr>\n",
              "      <th>27860</th>\n",
              "      <td>/kaggle/input/data-car-public/Public/Honda/225...</td>\n",
              "      <td>1</td>\n",
              "    </tr>\n",
              "    <tr>\n",
              "      <th>27861</th>\n",
              "      <td>/kaggle/input/data-car-public/Public/Honda/225...</td>\n",
              "      <td>1</td>\n",
              "    </tr>\n",
              "    <tr>\n",
              "      <th>27862</th>\n",
              "      <td>/kaggle/input/data-car-public/Public/Honda/225...</td>\n",
              "      <td>1</td>\n",
              "    </tr>\n",
              "  </tbody>\n",
              "</table>\n",
              "<p>26518 rows × 2 columns</p>\n",
              "</div>"
            ],
            "text/plain": [
              "                                           ImageFullPath CategoryID\n",
              "0      /kaggle/input/data-car-public/Public/Mazda/225...          4\n",
              "1      /kaggle/input/data-car-public/Public/Mazda/225...          4\n",
              "2      /kaggle/input/data-car-public/Public/Mazda/225...          4\n",
              "3      /kaggle/input/data-car-public/Public/Mazda/225...          4\n",
              "4      /kaggle/input/data-car-public/Public/Mazda/225...          4\n",
              "...                                                  ...        ...\n",
              "27858  /kaggle/input/data-car-public/Public/Honda/225...          1\n",
              "27859  /kaggle/input/data-car-public/Public/Honda/225...          1\n",
              "27860  /kaggle/input/data-car-public/Public/Honda/225...          1\n",
              "27861  /kaggle/input/data-car-public/Public/Honda/225...          1\n",
              "27862  /kaggle/input/data-car-public/Public/Honda/225...          1\n",
              "\n",
              "[26518 rows x 2 columns]"
            ]
          },
          "execution_count": 8,
          "metadata": {},
          "output_type": "execute_result"
        }
      ],
      "source": [
        "train_df"
      ]
    },
    {
      "cell_type": "code",
      "execution_count": null,
      "id": "615d2e89",
      "metadata": {
        "execution": {
          "iopub.execute_input": "2025-01-20T17:08:37.358892Z",
          "iopub.status.busy": "2025-01-20T17:08:37.358477Z",
          "iopub.status.idle": "2025-01-20T17:11:38.577029Z",
          "shell.execute_reply": "2025-01-20T17:11:38.575950Z"
        },
        "id": "615d2e89",
        "outputId": "055ac9f0-0a9e-45d8-c96c-ef0640abb0e3",
        "papermill": {
          "duration": 181.227322,
          "end_time": "2025-01-20T17:11:38.578559",
          "exception": false,
          "start_time": "2025-01-20T17:08:37.351237",
          "status": "completed"
        },
        "tags": []
      },
      "outputs": [
        {
          "name": "stdout",
          "output_type": "stream",
          "text": [
            "Warning: File not found - /kaggle/input/data-car-public/Public/Mazda/22520779-22521587.Mazda.143 (1).jpg\n",
            "Warning: File not found - /kaggle/input/data-car-public/Public/Mazda/22520779-22521587.Mazda.146 (1).jpg\n",
            "Warning: File not found - /kaggle/input/data-car-public/Public/Mazda/22520779-22521587.Mazda.148 (1).jpg\n",
            "Warning: File not found - /kaggle/input/data-car-public/Public/Mazda/22520779-22521587.Mazda.145 (1).jpg\n",
            "Warning: File not found - /kaggle/input/data-car-public/Public/Mazda/22520779-22521587.Mazda.147 (1).jpg\n",
            "Warning: File not found - /kaggle/input/data-car-public/Public/Mazda/22520779-22521587.Mazda.149 (1).jpg\n",
            "Warning: File not found - /kaggle/input/data-car-public/Public/Mazda/22520779-22521587.Mazda.144 (1).jpg\n",
            "Warning: File not found - /kaggle/input/data-car-public/Public/Mitsubishi/22521586-22521559.Mitsubishi.156 (1).jpg\n",
            "Warning: File not found - /kaggle/input/data-car-public/Public/Mitsubishi/22521586-22521559.Mitsubishi.157 (1).jpg\n",
            "Warning: File not found - /kaggle/input/data-car-public/Public/Mitsubishi/22521586-22521559.Mitsubishi.158 (1).jpg\n",
            "Warning: File not found - /kaggle/input/data-car-public/Public/Mitsubishi/22521586-22521559.Mitsubishi.159 (1).jpg\n",
            "Warning: File not found - /kaggle/input/data-car-public/Public/Mitsubishi/22521586-22521559.Mitsubishi.160 (1).jpg\n",
            "Warning: File not found - /kaggle/input/data-car-public/Public/Mitsubishi/22521586-22521559.Mitsubishi.162 (1).jpg\n",
            "Warning: File not found - /kaggle/input/data-car-public/Public/Mitsubishi/22521586-22521559.Mitsubishi.163 (1).jpg\n",
            "Warning: File not found - /kaggle/input/data-car-public/Public/Mitsubishi/22521586-22521559.Mitsubishi.164 (1).jpg\n",
            "Warning: File not found - /kaggle/input/data-car-public/Public/Mitsubishi/22521586-22521559.Mitsubishi.166 (1).jpg\n",
            "Warning: File not found - /kaggle/input/data-car-public/Public/Mitsubishi/22521586-22521559.Mitsubishi.167 (1).jpg\n",
            "Warning: File not found - /kaggle/input/data-car-public/Public/Mitsubishi/22521586-22521559.Mitsubishi.168 (1).jpg\n",
            "Warning: File not found - /kaggle/input/data-car-public/Public/Mitsubishi/22521586-22521559.Mitsubishi.169 (1).jpg\n",
            "Warning: File not found - /kaggle/input/data-car-public/Public/Mitsubishi/22521586-22521559.Mitsubishi.170 (1).jpg\n",
            "Warning: File not found - /kaggle/input/data-car-public/Public/Mitsubishi/22521586-22521559.Mitsubishi.173 (1).jpg\n",
            "Warning: File not found - /kaggle/input/data-car-public/Public/Mitsubishi/22521586-22521559.Mitsubishi.174 (1).jpg\n",
            "Warning: File not found - /kaggle/input/data-car-public/Public/Mitsubishi/22521586-22521559.Mitsubishi.175 (1).jpg\n",
            "Warning: File not found - /kaggle/input/data-car-public/Public/Mitsubishi/22521586-22521559.Mitsubishi.176 (1).jpg\n",
            "Warning: File not found - /kaggle/input/data-car-public/Public/Mitsubishi/22521586-22521559.Mitsubishi.177 (1).jpg\n",
            "Warning: File not found - /kaggle/input/data-car-public/Public/Mitsubishi/22521586-22521559.Mitsubishi.178 (1).jpg\n",
            "Warning: File not found - /kaggle/input/data-car-public/Public/Mitsubishi/22521586-22521559.Mitsubishi.179 (1).jpg\n",
            "Warning: File not found - /kaggle/input/data-car-public/Public/Mitsubishi/22521586-22521559.Mitsubishi.180 (1).jpg\n",
            "Warning: File not found - /kaggle/input/data-car-public/Public/Hyundai/22520779-22521587.Hyundai.346 (1).jpg\n",
            "Warning: File not found - /kaggle/input/data-car-public/Public/Hyundai/22520779-22521587.Hyundai.350 (1).jpg\n",
            "Warning: File not found - /kaggle/input/data-car-public/Public/KIA/22520477-22520490.KIA.2 (1).jpg\n",
            "Warning: File not found - /kaggle/input/data-car-public/Public/KIA/22520477-22520490.KIA.1 (1).jpg\n",
            "Warning: File not found - /kaggle/input/data-car-public/Public/Honda/22521492-22521599.Honda.3 (1).jpg\n",
            "Warning: File not found - /kaggle/input/data-car-public/Public/Honda/22521492-22521599.Honda.9 (1).jpg\n",
            "Valid images: 26473\n",
            "Invalid images: 11\n",
            "Warning: File not found - /kaggle/input/data-car-public/Public/Mitsubishi/22521586-22521559.Mitsubishi.155 (1).jpg\n",
            "Warning: File not found - /kaggle/input/data-car-public/Public/Mitsubishi/22521586-22521559.Mitsubishi.161 (1).jpg\n",
            "Warning: File not found - /kaggle/input/data-car-public/Public/Mitsubishi/22521586-22521559.Mitsubishi.165 (1).jpg\n",
            "Warning: File not found - /kaggle/input/data-car-public/Public/Mitsubishi/22521586-22521559.Mitsubishi.171 (1).jpg\n",
            "Warning: File not found - /kaggle/input/data-car-public/Public/Mitsubishi/22521586-22521559.Mitsubishi.172 (1).jpg\n",
            "Warning: File not found - /kaggle/input/data-car-public/Public/KIA/22520477-22520490.KIA.0 (1).jpg\n",
            "Valid images: 6955\n",
            "Invalid images: 5\n"
          ]
        }
      ],
      "source": [
        "def check_image(df, column=\"ImageFullPath\"):\n",
        "    valid_images = []\n",
        "    invalid_images = []\n",
        "    for path in df[column]:\n",
        "        if not os.path.exists(path):\n",
        "            print(f\"Warning: File not found - {path}\")\n",
        "            continue\n",
        "        try:\n",
        "            with Image.open(path) as img:\n",
        "                img.verify()  # Xác minh file là ảnh hợp lệ\n",
        "                valid_images.append(path)\n",
        "        except (UnidentifiedImageError, FileNotFoundError, IOError):\n",
        "            invalid_images.append(path)\n",
        "    print(f\"Valid images: {len(valid_images)}\")\n",
        "    print(f\"Invalid images: {len(invalid_images)}\")\n",
        "    return valid_images\n",
        "\n",
        "# Kiểm tra dữ liệu train và test\n",
        "train_valid_paths = check_image(train_df)\n",
        "test_valid_paths = check_image(test_df)\n",
        "\n",
        "# Lọc chỉ giữ lại các ảnh hợp lệ\n",
        "train_df = train_df[train_df['ImageFullPath'].isin(train_valid_paths)]\n",
        "test_df = test_df[test_df['ImageFullPath'].isin(test_valid_paths)]"
      ]
    },
    {
      "cell_type": "code",
      "execution_count": null,
      "id": "4ab786a2",
      "metadata": {
        "execution": {
          "iopub.execute_input": "2025-01-20T17:11:38.591266Z",
          "iopub.status.busy": "2025-01-20T17:11:38.591016Z",
          "iopub.status.idle": "2025-01-20T17:11:38.599684Z",
          "shell.execute_reply": "2025-01-20T17:11:38.598930Z"
        },
        "id": "4ab786a2",
        "outputId": "d536790d-9c17-4c78-dfca-5bdbcf5d8904",
        "papermill": {
          "duration": 0.016539,
          "end_time": "2025-01-20T17:11:38.601205",
          "exception": false,
          "start_time": "2025-01-20T17:11:38.584666",
          "status": "completed"
        },
        "tags": []
      },
      "outputs": [
        {
          "data": {
            "text/html": [
              "<div>\n",
              "<style scoped>\n",
              "    .dataframe tbody tr th:only-of-type {\n",
              "        vertical-align: middle;\n",
              "    }\n",
              "\n",
              "    .dataframe tbody tr th {\n",
              "        vertical-align: top;\n",
              "    }\n",
              "\n",
              "    .dataframe thead th {\n",
              "        text-align: right;\n",
              "    }\n",
              "</style>\n",
              "<table border=\"1\" class=\"dataframe\">\n",
              "  <thead>\n",
              "    <tr style=\"text-align: right;\">\n",
              "      <th></th>\n",
              "      <th>ImageFullPath</th>\n",
              "      <th>CategoryID</th>\n",
              "    </tr>\n",
              "  </thead>\n",
              "  <tbody>\n",
              "    <tr>\n",
              "      <th>0</th>\n",
              "      <td>/kaggle/input/data-car-public/Public/Mazda/225...</td>\n",
              "      <td>4</td>\n",
              "    </tr>\n",
              "    <tr>\n",
              "      <th>1</th>\n",
              "      <td>/kaggle/input/data-car-public/Public/Mazda/225...</td>\n",
              "      <td>4</td>\n",
              "    </tr>\n",
              "    <tr>\n",
              "      <th>2</th>\n",
              "      <td>/kaggle/input/data-car-public/Public/Mazda/225...</td>\n",
              "      <td>4</td>\n",
              "    </tr>\n",
              "    <tr>\n",
              "      <th>3</th>\n",
              "      <td>/kaggle/input/data-car-public/Public/Mazda/225...</td>\n",
              "      <td>4</td>\n",
              "    </tr>\n",
              "    <tr>\n",
              "      <th>4</th>\n",
              "      <td>/kaggle/input/data-car-public/Public/Mazda/225...</td>\n",
              "      <td>4</td>\n",
              "    </tr>\n",
              "    <tr>\n",
              "      <th>...</th>\n",
              "      <td>...</td>\n",
              "      <td>...</td>\n",
              "    </tr>\n",
              "    <tr>\n",
              "      <th>27858</th>\n",
              "      <td>/kaggle/input/data-car-public/Public/Honda/225...</td>\n",
              "      <td>1</td>\n",
              "    </tr>\n",
              "    <tr>\n",
              "      <th>27859</th>\n",
              "      <td>/kaggle/input/data-car-public/Public/Honda/225...</td>\n",
              "      <td>1</td>\n",
              "    </tr>\n",
              "    <tr>\n",
              "      <th>27860</th>\n",
              "      <td>/kaggle/input/data-car-public/Public/Honda/225...</td>\n",
              "      <td>1</td>\n",
              "    </tr>\n",
              "    <tr>\n",
              "      <th>27861</th>\n",
              "      <td>/kaggle/input/data-car-public/Public/Honda/225...</td>\n",
              "      <td>1</td>\n",
              "    </tr>\n",
              "    <tr>\n",
              "      <th>27862</th>\n",
              "      <td>/kaggle/input/data-car-public/Public/Honda/225...</td>\n",
              "      <td>1</td>\n",
              "    </tr>\n",
              "  </tbody>\n",
              "</table>\n",
              "<p>26473 rows × 2 columns</p>\n",
              "</div>"
            ],
            "text/plain": [
              "                                           ImageFullPath CategoryID\n",
              "0      /kaggle/input/data-car-public/Public/Mazda/225...          4\n",
              "1      /kaggle/input/data-car-public/Public/Mazda/225...          4\n",
              "2      /kaggle/input/data-car-public/Public/Mazda/225...          4\n",
              "3      /kaggle/input/data-car-public/Public/Mazda/225...          4\n",
              "4      /kaggle/input/data-car-public/Public/Mazda/225...          4\n",
              "...                                                  ...        ...\n",
              "27858  /kaggle/input/data-car-public/Public/Honda/225...          1\n",
              "27859  /kaggle/input/data-car-public/Public/Honda/225...          1\n",
              "27860  /kaggle/input/data-car-public/Public/Honda/225...          1\n",
              "27861  /kaggle/input/data-car-public/Public/Honda/225...          1\n",
              "27862  /kaggle/input/data-car-public/Public/Honda/225...          1\n",
              "\n",
              "[26473 rows x 2 columns]"
            ]
          },
          "execution_count": 10,
          "metadata": {},
          "output_type": "execute_result"
        }
      ],
      "source": [
        "train_df"
      ]
    },
    {
      "cell_type": "code",
      "execution_count": null,
      "id": "a26e08af",
      "metadata": {
        "execution": {
          "iopub.execute_input": "2025-01-20T17:11:38.613964Z",
          "iopub.status.busy": "2025-01-20T17:11:38.613700Z",
          "iopub.status.idle": "2025-01-20T17:11:38.621655Z",
          "shell.execute_reply": "2025-01-20T17:11:38.620852Z"
        },
        "id": "a26e08af",
        "outputId": "2c216e89-7575-489c-df45-3ca649fa5901",
        "papermill": {
          "duration": 0.015528,
          "end_time": "2025-01-20T17:11:38.622914",
          "exception": false,
          "start_time": "2025-01-20T17:11:38.607386",
          "status": "completed"
        },
        "tags": []
      },
      "outputs": [
        {
          "data": {
            "text/html": [
              "<div>\n",
              "<style scoped>\n",
              "    .dataframe tbody tr th:only-of-type {\n",
              "        vertical-align: middle;\n",
              "    }\n",
              "\n",
              "    .dataframe tbody tr th {\n",
              "        vertical-align: top;\n",
              "    }\n",
              "\n",
              "    .dataframe thead th {\n",
              "        text-align: right;\n",
              "    }\n",
              "</style>\n",
              "<table border=\"1\" class=\"dataframe\">\n",
              "  <thead>\n",
              "    <tr style=\"text-align: right;\">\n",
              "      <th></th>\n",
              "      <th>ImageFullPath</th>\n",
              "      <th>CategoryID</th>\n",
              "    </tr>\n",
              "  </thead>\n",
              "  <tbody>\n",
              "    <tr>\n",
              "      <th>0</th>\n",
              "      <td>/kaggle/input/data-car-public/Public/Mazda/225...</td>\n",
              "      <td>4</td>\n",
              "    </tr>\n",
              "    <tr>\n",
              "      <th>1</th>\n",
              "      <td>/kaggle/input/data-car-public/Public/Mazda/225...</td>\n",
              "      <td>4</td>\n",
              "    </tr>\n",
              "    <tr>\n",
              "      <th>2</th>\n",
              "      <td>/kaggle/input/data-car-public/Public/Mazda/225...</td>\n",
              "      <td>4</td>\n",
              "    </tr>\n",
              "    <tr>\n",
              "      <th>3</th>\n",
              "      <td>/kaggle/input/data-car-public/Public/Mazda/225...</td>\n",
              "      <td>4</td>\n",
              "    </tr>\n",
              "    <tr>\n",
              "      <th>4</th>\n",
              "      <td>/kaggle/input/data-car-public/Public/Mazda/225...</td>\n",
              "      <td>4</td>\n",
              "    </tr>\n",
              "    <tr>\n",
              "      <th>...</th>\n",
              "      <td>...</td>\n",
              "      <td>...</td>\n",
              "    </tr>\n",
              "    <tr>\n",
              "      <th>6961</th>\n",
              "      <td>/kaggle/input/data-car-public/Public/Honda/225...</td>\n",
              "      <td>1</td>\n",
              "    </tr>\n",
              "    <tr>\n",
              "      <th>6962</th>\n",
              "      <td>/kaggle/input/data-car-public/Public/Honda/225...</td>\n",
              "      <td>1</td>\n",
              "    </tr>\n",
              "    <tr>\n",
              "      <th>6963</th>\n",
              "      <td>/kaggle/input/data-car-public/Public/Honda/225...</td>\n",
              "      <td>1</td>\n",
              "    </tr>\n",
              "    <tr>\n",
              "      <th>6964</th>\n",
              "      <td>/kaggle/input/data-car-public/Public/Honda/225...</td>\n",
              "      <td>1</td>\n",
              "    </tr>\n",
              "    <tr>\n",
              "      <th>6965</th>\n",
              "      <td>/kaggle/input/data-car-public/Public/Honda/225...</td>\n",
              "      <td>1</td>\n",
              "    </tr>\n",
              "  </tbody>\n",
              "</table>\n",
              "<p>6955 rows × 2 columns</p>\n",
              "</div>"
            ],
            "text/plain": [
              "                                          ImageFullPath CategoryID\n",
              "0     /kaggle/input/data-car-public/Public/Mazda/225...          4\n",
              "1     /kaggle/input/data-car-public/Public/Mazda/225...          4\n",
              "2     /kaggle/input/data-car-public/Public/Mazda/225...          4\n",
              "3     /kaggle/input/data-car-public/Public/Mazda/225...          4\n",
              "4     /kaggle/input/data-car-public/Public/Mazda/225...          4\n",
              "...                                                 ...        ...\n",
              "6961  /kaggle/input/data-car-public/Public/Honda/225...          1\n",
              "6962  /kaggle/input/data-car-public/Public/Honda/225...          1\n",
              "6963  /kaggle/input/data-car-public/Public/Honda/225...          1\n",
              "6964  /kaggle/input/data-car-public/Public/Honda/225...          1\n",
              "6965  /kaggle/input/data-car-public/Public/Honda/225...          1\n",
              "\n",
              "[6955 rows x 2 columns]"
            ]
          },
          "execution_count": 11,
          "metadata": {},
          "output_type": "execute_result"
        }
      ],
      "source": [
        "test_df"
      ]
    },
    {
      "cell_type": "code",
      "execution_count": null,
      "id": "7bba9e91",
      "metadata": {
        "execution": {
          "iopub.execute_input": "2025-01-20T17:11:38.635522Z",
          "iopub.status.busy": "2025-01-20T17:11:38.635291Z",
          "iopub.status.idle": "2025-01-20T17:11:55.729646Z",
          "shell.execute_reply": "2025-01-20T17:11:55.728662Z"
        },
        "id": "7bba9e91",
        "outputId": "098818f6-66fc-415a-9298-7df25ca47c89",
        "papermill": {
          "duration": 17.102471,
          "end_time": "2025-01-20T17:11:55.731277",
          "exception": false,
          "start_time": "2025-01-20T17:11:38.628806",
          "status": "completed"
        },
        "tags": []
      },
      "outputs": [
        {
          "name": "stdout",
          "output_type": "stream",
          "text": [
            "Found 21178 validated image filenames belonging to 9 classes.\n",
            "Found 5295 validated image filenames belonging to 9 classes.\n",
            "Found 6955 validated image filenames belonging to 9 classes.\n"
          ]
        }
      ],
      "source": [
        "from sklearn.model_selection import train_test_split\n",
        "from tensorflow.keras.preprocessing.image import ImageDataGenerator\n",
        "from tensorflow.keras.applications.resnet50 import preprocess_input\n",
        "\n",
        "# Chia dữ liệu theo tỷ lệ lớp\n",
        "train_data, val_data = train_test_split(\n",
        "    train_df,\n",
        "    test_size=0.2,\n",
        "    stratify=train_df['CategoryID'],  # Đảm bảo phân phối lớp đồng đều\n",
        "    random_state=SEED\n",
        ")\n",
        "\n",
        "# Khởi tạo ImageDataGenerator\n",
        "train_data_generator = ImageDataGenerator(\n",
        "    preprocessing_function=preprocess_input,\n",
        "    rotation_range=10,          # Xoay ngẫu nhiên\n",
        "    width_shift_range=0.1,      # Dịch chuyển ngang\n",
        "    height_shift_range=0.1,     # Dịch chuyển dọc\n",
        "    shear_range=0.1,            # Biến dạng hình học\n",
        "    zoom_range=0.2,             # Phóng to / thu nhỏ\n",
        "    horizontal_flip=True,       # Lật ngang\n",
        "    fill_mode='nearest'         # Điền các pixel trống bằng giá trị pixel gần nhất\n",
        ")\n",
        "\n",
        "test_data_generator = ImageDataGenerator(\n",
        "    preprocessing_function=preprocess_input\n",
        ")\n",
        "\n",
        "# Cấu hình chung\n",
        "dataframe_config = {\n",
        "    'x_col': 'ImageFullPath',\n",
        "    'y_col': 'CategoryID',\n",
        "    'target_size': (HEIGHT, WIDTH),\n",
        "    'batch_size': BATCH_SIZE,\n",
        "    'class_mode': 'categorical',\n",
        "    'shuffle': True,\n",
        "    'seed': SEED,\n",
        "    'color_mode': 'rgb',\n",
        "}\n",
        "\n",
        "# Flow từ DataFrame\n",
        "train_generator = train_data_generator.flow_from_dataframe(train_data, **dataframe_config)\n",
        "val_generator = train_data_generator.flow_from_dataframe(val_data, **dataframe_config)\n",
        "test_generator = test_data_generator.flow_from_dataframe(test_df, **dataframe_config)\n"
      ]
    },
    {
      "cell_type": "code",
      "execution_count": null,
      "id": "675e5720",
      "metadata": {
        "execution": {
          "iopub.execute_input": "2025-01-20T17:11:55.745014Z",
          "iopub.status.busy": "2025-01-20T17:11:55.744653Z",
          "iopub.status.idle": "2025-01-20T17:11:55.757704Z",
          "shell.execute_reply": "2025-01-20T17:11:55.756857Z"
        },
        "id": "675e5720",
        "outputId": "21ac314d-0781-4ab3-bb26-a153b318c283",
        "papermill": {
          "duration": 0.021146,
          "end_time": "2025-01-20T17:11:55.758969",
          "exception": false,
          "start_time": "2025-01-20T17:11:55.737823",
          "status": "completed"
        },
        "tags": []
      },
      "outputs": [
        {
          "name": "stdout",
          "output_type": "stream",
          "text": [
            "Data Distribution in Train Generator:\n",
            "  0: 2513\n",
            "  1: 1841\n",
            "  2: 2006\n",
            "  3: 1946\n",
            "  4: 2036\n",
            "  5: 1838\n",
            "  6: 4097\n",
            "  7: 3577\n",
            "  8: 1324\n",
            "\n",
            "\n",
            "Data Distribution in Validation Generator:\n",
            "  0: 628\n",
            "  1: 460\n",
            "  2: 502\n",
            "  3: 486\n",
            "  4: 509\n",
            "  5: 460\n",
            "  6: 1025\n",
            "  7: 894\n",
            "  8: 331\n",
            "\n",
            "\n",
            "Data Distribution in Test Generator:\n",
            "  0: 788\n",
            "  1: 604\n",
            "  2: 652\n",
            "  3: 673\n",
            "  4: 666\n",
            "  5: 596\n",
            "  6: 1333\n",
            "  7: 1184\n",
            "  8: 459\n",
            "\n",
            "\n"
          ]
        }
      ],
      "source": [
        "import numpy as np\n",
        "\n",
        "def check_data_distribution(generator, name):\n",
        "    # Truy cập các nhãn được gán trong generator\n",
        "    labels = generator.classes  # Danh sách chỉ số lớp cho mỗi mẫu\n",
        "    unique, counts = np.unique(labels, return_counts=True)  # Đếm số lượng mẫu mỗi lớp\n",
        "\n",
        "    # Truy cập tên lớp\n",
        "    class_names = list(generator.class_indices.keys())  # Danh sách tên các lớp\n",
        "    distribution = dict(zip(class_names, counts))  # Ghép tên lớp và số lượng mẫu\n",
        "\n",
        "    print(f\"Data Distribution in {name}:\")\n",
        "    for cls, count in distribution.items():\n",
        "        print(f\"  {cls}: {count}\")\n",
        "    print(\"\\n\")\n",
        "    return distribution\n",
        "\n",
        "# Kiểm tra phân phối trên từng generator\n",
        "train_distribution = check_data_distribution(train_generator, \"Train Generator\")\n",
        "val_distribution = check_data_distribution(val_generator, \"Validation Generator\")\n",
        "test_distribution = check_data_distribution(test_generator, \"Test Generator\")\n"
      ]
    },
    {
      "cell_type": "code",
      "execution_count": null,
      "id": "be8710cb",
      "metadata": {
        "execution": {
          "iopub.execute_input": "2025-01-20T17:11:55.772524Z",
          "iopub.status.busy": "2025-01-20T17:11:55.772259Z",
          "iopub.status.idle": "2025-01-20T17:11:56.759468Z",
          "shell.execute_reply": "2025-01-20T17:11:56.758504Z"
        },
        "id": "be8710cb",
        "outputId": "bb244718-358a-4d97-a0fc-6477ba000f96",
        "papermill": {
          "duration": 0.995732,
          "end_time": "2025-01-20T17:11:56.760960",
          "exception": false,
          "start_time": "2025-01-20T17:11:55.765228",
          "status": "completed"
        },
        "tags": []
      },
      "outputs": [
        {
          "data": {
            "image/png": "[encoded data removed]",
            "text/plain": [
              "<Figure size 1200x600 with 1 Axes>"
            ]
          },
          "metadata": {},
          "output_type": "display_data"
        },
        {
          "data": {
            "image/png": "[encoded data removed]",
            "text/plain": [
              "<Figure size 1200x600 with 1 Axes>"
            ]
          },
          "metadata": {},
          "output_type": "display_data"
        },
        {
          "data": {
            "image/png": "[encoded data removed]",
            "text/plain": [
              "<Figure size 1200x600 with 1 Axes>"
            ]
          },
          "metadata": {},
          "output_type": "display_data"
        }
      ],
      "source": [
        "import matplotlib.pyplot as plt\n",
        "\n",
        "def plot_distribution(distribution, title):\n",
        "    classes = list(distribution.keys())\n",
        "    counts = list(distribution.values())\n",
        "\n",
        "    plt.figure(figsize=(12, 6))\n",
        "    plt.bar(classes, counts, color='skyblue')\n",
        "    plt.title(title)\n",
        "    plt.xlabel(\"Classes\")\n",
        "    plt.ylabel(\"Number of Samples\")\n",
        "    plt.xticks(rotation=45)\n",
        "    plt.show()\n",
        "\n",
        "# Vẽ biểu đồ phân phối\n",
        "plot_distribution(train_distribution, \"Train Data Distribution\")\n",
        "plot_distribution(val_distribution, \"Validation Data Distribution\")\n",
        "plot_distribution(test_distribution, \"Test Data Distribution\")\n"
      ]
    },
    {
      "cell_type": "code",
      "execution_count": null,
      "id": "322dca0c",
      "metadata": {},
      "outputs": [
        {
          "name": "stdout",
          "output_type": "stream",
          "text": [
            "Downloading data from https://storage.googleapis.com/tensorflow/keras-applications/resnet/resnet50_weights_tf_dim_ordering_tf_kernels_notop.h5\n",
            "\u001b[1m94765736/94765736\u001b[0m \u001b[32m━━━━━━━━━━━━━━━━━━━━\u001b[0m\u001b[37m\u001b[0m \u001b[1m5s\u001b[0m 0us/step\n"
          ]
        }
      ],
      "source": [
        "base_model = ResNet50(\n",
        "    include_top=False,  \n",
        "    weights='imagenet', \n",
        "    input_shape=(224, 224, 3) \n",
        ")\n",
        "\n",
        "model = models.Sequential()\n",
        "model.add(base_model)\n",
        "model.add(layers.GlobalAveragePooling2D())\n",
        "model.add(layers.Dense(1024, activation='relu'))\n",
        "model.add(layers.Dropout(0.5))\n",
        "model.add(layers.Dense(512, activation='relu'))\n",
        "model.add(layers.Dense(256, activation='relu'))\n",
        "model.add(layers.Dense(128, activation='relu'))\n",
        "model.add(layers.Dense(9, activation='softmax'))  "
      ]
    },
    {
      "cell_type": "markdown",
      "id": "e394c27e",
      "metadata": {
        "id": "e394c27e",
        "papermill": {
          "duration": 0.00827,
          "end_time": "2025-01-20T17:11:58.233453",
          "exception": false,
          "start_time": "2025-01-20T17:11:58.225183",
          "status": "completed"
        },
        "tags": []
      },
      "source": [
        "# Training"
      ]
    },
    {
      "cell_type": "code",
      "execution_count": null,
      "id": "9556dd07",
      "metadata": {
        "execution": {
          "iopub.execute_input": "2025-01-20T17:11:58.250666Z",
          "iopub.status.busy": "2025-01-20T17:11:58.250361Z",
          "iopub.status.idle": "2025-01-20T17:11:58.256670Z",
          "shell.execute_reply": "2025-01-20T17:11:58.255826Z"
        },
        "id": "9556dd07",
        "papermill": {
          "duration": 0.01653,
          "end_time": "2025-01-20T17:11:58.258068",
          "exception": false,
          "start_time": "2025-01-20T17:11:58.241538",
          "status": "completed"
        },
        "tags": []
      },
      "outputs": [],
      "source": [
        "from tensorflow.keras.callbacks import ModelCheckpoint, EarlyStopping, ReduceLROnPlateau, TensorBoard, LearningRateScheduler\n",
        "\n",
        "# Callbacks\n",
        "checkpoint = ModelCheckpoint(\"model.keras\", monitor=\"val_loss\", save_best_only=True, verbose=1)\n",
        "\n",
        "callbacks = [checkpoint]"
      ]
    },
    {
      "cell_type": "code",
      "execution_count": null,
      "id": "16e8715e",
      "metadata": {
        "execution": {
          "iopub.execute_input": "2025-01-20T17:11:58.274994Z",
          "iopub.status.busy": "2025-01-20T17:11:58.274719Z",
          "iopub.status.idle": "2025-01-20T17:11:58.277841Z",
          "shell.execute_reply": "2025-01-20T17:11:58.277051Z"
        },
        "id": "16e8715e",
        "papermill": {
          "duration": 0.012982,
          "end_time": "2025-01-20T17:11:58.279230",
          "exception": false,
          "start_time": "2025-01-20T17:11:58.266248",
          "status": "completed"
        },
        "tags": []
      },
      "outputs": [],
      "source": [
        "learning_rate = 0.0001\n",
        "epochs = 30"
      ]
    },
    {
      "cell_type": "code",
      "execution_count": null,
      "id": "8a408651",
      "metadata": {
        "execution": {
          "iopub.execute_input": "2025-01-20T17:11:58.295677Z",
          "iopub.status.busy": "2025-01-20T17:11:58.295462Z",
          "iopub.status.idle": "2025-01-20T17:11:58.308659Z",
          "shell.execute_reply": "2025-01-20T17:11:58.308005Z"
        },
        "id": "8a408651",
        "papermill": {
          "duration": 0.023172,
          "end_time": "2025-01-20T17:11:58.310175",
          "exception": false,
          "start_time": "2025-01-20T17:11:58.287003",
          "status": "completed"
        },
        "tags": []
      },
      "outputs": [],
      "source": [
        "model.compile(\n",
        "    optimizer=Adam(learning_rate=learning_rate),\n",
        "    loss='categorical_crossentropy',\n",
        "    metrics=['accuracy']\n",
        ")"
      ]
    },
    {
      "cell_type": "code",
      "execution_count": null,
      "id": "b28098ef",
      "metadata": {
        "execution": {
          "iopub.execute_input": "2025-01-20T17:11:58.348535Z",
          "iopub.status.busy": "2025-01-20T17:11:58.348289Z",
          "iopub.status.idle": "2025-01-20T22:10:48.627829Z",
          "shell.execute_reply": "2025-01-20T22:10:48.626845Z"
        },
        "id": "b28098ef",
        "outputId": "2ca4744c-d4a9-4ba1-a0d3-26a43a1ecbcb",
        "papermill": {
          "duration": 17930.853149,
          "end_time": "2025-01-20T22:10:49.192550",
          "exception": false,
          "start_time": "2025-01-20T17:11:58.339401",
          "status": "completed"
        },
        "tags": []
      },
      "outputs": [
        {
          "name": "stdout",
          "output_type": "stream",
          "text": [
            "Epoch 1/30\n"
          ]
        },
        {
          "name": "stderr",
          "output_type": "stream",
          "text": [
            "/usr/local/lib/python3.10/dist-packages/keras/src/trainers/data_adapters/py_dataset_adapter.py:121: UserWarning: Your `PyDataset` class should call `super().__init__(**kwargs)` in its constructor. `**kwargs` can include `workers`, `use_multiprocessing`, `max_queue_size`. Do not pass these arguments to `fit()`, as they will be ignored.\n",
            "  self._warn_if_super_not_called()\n"
          ]
        },
        {
          "name": "stdout",
          "output_type": "stream",
          "text": [
            "\u001b[1m  4/331\u001b[0m \u001b[37m━━━━━━━━━━━━━━━━━━━━\u001b[0m \u001b[1m4:55\u001b[0m 905ms/step - accuracy: 0.0560 - loss: 2.3328"
          ]
        },
        {
          "name": "stderr",
          "output_type": "stream",
          "text": [
            "/usr/local/lib/python3.10/dist-packages/PIL/Image.py:1056: UserWarning: Palette images with Transparency expressed in bytes should be converted to RGBA images\n",
            "  warnings.warn(\n"
          ]
        },
        {
          "name": "stdout",
          "output_type": "stream",
          "text": [
            "\u001b[1m331/331\u001b[0m \u001b[32m━━━━━━━━━━━━━━━━━━━━\u001b[0m\u001b[37m\u001b[0m \u001b[1m0s\u001b[0m 1s/step - accuracy: 0.2688 - loss: 1.9794\n",
            "Epoch 1: val_loss improved from inf to 1.39236, saving model to model.keras\n",
            "\u001b[1m331/331\u001b[0m \u001b[32m━━━━━━━━━━━━━━━━━━━━\u001b[0m\u001b[37m\u001b[0m \u001b[1m603s\u001b[0m 2s/step - accuracy: 0.2691 - loss: 1.9788 - val_accuracy: 0.5195 - val_loss: 1.3924\n",
            "Epoch 2/30\n",
            "\u001b[1m331/331\u001b[0m \u001b[32m━━━━━━━━━━━━━━━━━━━━\u001b[0m\u001b[37m\u001b[0m \u001b[1m0s\u001b[0m 1s/step - accuracy: 0.5507 - loss: 1.3032\n",
            "Epoch 2: val_loss improved from 1.39236 to 1.07000, saving model to model.keras\n",
            "\u001b[1m331/331\u001b[0m \u001b[32m━━━━━━━━━━━━━━━━━━━━\u001b[0m\u001b[37m\u001b[0m \u001b[1m543s\u001b[0m 2s/step - accuracy: 0.5508 - loss: 1.3030 - val_accuracy: 0.6393 - val_loss: 1.0700\n",
            "Epoch 3/30\n",
            "\u001b[1m331/331\u001b[0m \u001b[32m━━━━━━━━━━━━━━━━━━━━\u001b[0m\u001b[37m\u001b[0m \u001b[1m0s\u001b[0m 1s/step - accuracy: 0.6893 - loss: 0.9178\n",
            "Epoch 3: val_loss improved from 1.07000 to 0.88824, saving model to model.keras\n",
            "\u001b[1m331/331\u001b[0m \u001b[32m━━━━━━━━━━━━━━━━━━━━\u001b[0m\u001b[37m\u001b[0m \u001b[1m561s\u001b[0m 2s/step - accuracy: 0.6893 - loss: 0.9177 - val_accuracy: 0.7063 - val_loss: 0.8882\n",
            "Epoch 4/30\n",
            "\u001b[1m331/331\u001b[0m \u001b[32m━━━━━━━━━━━━━━━━━━━━\u001b[0m\u001b[37m\u001b[0m \u001b[1m0s\u001b[0m 1s/step - accuracy: 0.7554 - loss: 0.7234\n",
            "Epoch 4: val_loss improved from 0.88824 to 0.87984, saving model to model.keras\n",
            "\u001b[1m331/331\u001b[0m \u001b[32m━━━━━━━━━━━━━━━━━━━━\u001b[0m\u001b[37m\u001b[0m \u001b[1m552s\u001b[0m 2s/step - accuracy: 0.7554 - loss: 0.7234 - val_accuracy: 0.7014 - val_loss: 0.8798\n",
            "Epoch 5/30\n",
            "\u001b[1m331/331\u001b[0m \u001b[32m━━━━━━━━━━━━━━━━━━━━\u001b[0m\u001b[37m\u001b[0m \u001b[1m0s\u001b[0m 1s/step - accuracy: 0.7999 - loss: 0.6031\n",
            "Epoch 5: val_loss improved from 0.87984 to 0.80719, saving model to model.keras\n",
            "\u001b[1m331/331\u001b[0m \u001b[32m━━━━━━━━━━━━━━━━━━━━\u001b[0m\u001b[37m\u001b[0m \u001b[1m614s\u001b[0m 2s/step - accuracy: 0.7998 - loss: 0.6031 - val_accuracy: 0.7307 - val_loss: 0.8072\n",
            "Epoch 6/30\n",
            "\u001b[1m331/331\u001b[0m \u001b[32m━━━━━━━━━━━━━━━━━━━━\u001b[0m\u001b[37m\u001b[0m \u001b[1m0s\u001b[0m 1s/step - accuracy: 0.8361 - loss: 0.4980\n",
            "Epoch 6: val_loss improved from 0.80719 to 0.79130, saving model to model.keras\n",
            "\u001b[1m331/331\u001b[0m \u001b[32m━━━━━━━━━━━━━━━━━━━━\u001b[0m\u001b[37m\u001b[0m \u001b[1m611s\u001b[0m 2s/step - accuracy: 0.8361 - loss: 0.4980 - val_accuracy: 0.7462 - val_loss: 0.7913\n",
            "Epoch 7/30\n",
            "\u001b[1m331/331\u001b[0m \u001b[32m━━━━━━━━━━━━━━━━━━━━\u001b[0m\u001b[37m\u001b[0m \u001b[1m0s\u001b[0m 1s/step - accuracy: 0.8559 - loss: 0.4288\n",
            "Epoch 7: val_loss did not improve from 0.79130\n",
            "\u001b[1m331/331\u001b[0m \u001b[32m━━━━━━━━━━━━━━━━━━━━\u001b[0m\u001b[37m\u001b[0m \u001b[1m629s\u001b[0m 2s/step - accuracy: 0.8559 - loss: 0.4288 - val_accuracy: 0.7518 - val_loss: 0.8349\n",
            "Epoch 8/30\n",
            "\u001b[1m331/331\u001b[0m \u001b[32m━━━━━━━━━━━━━━━━━━━━\u001b[0m\u001b[37m\u001b[0m \u001b[1m0s\u001b[0m 1s/step - accuracy: 0.8696 - loss: 0.3905\n",
            "Epoch 8: val_loss improved from 0.79130 to 0.69875, saving model to model.keras\n",
            "\u001b[1m331/331\u001b[0m \u001b[32m━━━━━━━━━━━━━━━━━━━━\u001b[0m\u001b[37m\u001b[0m \u001b[1m617s\u001b[0m 2s/step - accuracy: 0.8696 - loss: 0.3905 - val_accuracy: 0.7766 - val_loss: 0.6987\n",
            "Epoch 9/30\n",
            "\u001b[1m331/331\u001b[0m \u001b[32m━━━━━━━━━━━━━━━━━━━━\u001b[0m\u001b[37m\u001b[0m \u001b[1m0s\u001b[0m 1s/step - accuracy: 0.8915 - loss: 0.3262\n",
            "Epoch 9: val_loss did not improve from 0.69875\n",
            "\u001b[1m331/331\u001b[0m \u001b[32m━━━━━━━━━━━━━━━━━━━━\u001b[0m\u001b[37m\u001b[0m \u001b[1m618s\u001b[0m 2s/step - accuracy: 0.8915 - loss: 0.3262 - val_accuracy: 0.7602 - val_loss: 0.8508\n",
            "Epoch 10/30\n",
            "\u001b[1m331/331\u001b[0m \u001b[32m━━━━━━━━━━━━━━━━━━━━\u001b[0m\u001b[37m\u001b[0m \u001b[1m0s\u001b[0m 1s/step - accuracy: 0.9048 - loss: 0.2849\n",
            "Epoch 10: val_loss did not improve from 0.69875\n",
            "\u001b[1m331/331\u001b[0m \u001b[32m━━━━━━━━━━━━━━━━━━━━\u001b[0m\u001b[37m\u001b[0m \u001b[1m631s\u001b[0m 2s/step - accuracy: 0.9048 - loss: 0.2849 - val_accuracy: 0.7726 - val_loss: 0.7658\n",
            "Epoch 11/30\n",
            "\u001b[1m331/331\u001b[0m \u001b[32m━━━━━━━━━━━━━━━━━━━━\u001b[0m\u001b[37m\u001b[0m \u001b[1m0s\u001b[0m 1s/step - accuracy: 0.9138 - loss: 0.2571\n",
            "Epoch 11: val_loss did not improve from 0.69875\n",
            "\u001b[1m331/331\u001b[0m \u001b[32m━━━━━━━━━━━━━━━━━━━━\u001b[0m\u001b[37m\u001b[0m \u001b[1m605s\u001b[0m 2s/step - accuracy: 0.9138 - loss: 0.2571 - val_accuracy: 0.7596 - val_loss: 0.9393\n",
            "Epoch 12/30\n",
            "\u001b[1m331/331\u001b[0m \u001b[32m━━━━━━━━━━━━━━━━━━━━\u001b[0m\u001b[37m\u001b[0m \u001b[1m0s\u001b[0m 1s/step - accuracy: 0.9218 - loss: 0.2300\n",
            "Epoch 12: val_loss did not improve from 0.69875\n",
            "\u001b[1m331/331\u001b[0m \u001b[32m━━━━━━━━━━━━━━━━━━━━\u001b[0m\u001b[37m\u001b[0m \u001b[1m615s\u001b[0m 2s/step - accuracy: 0.9218 - loss: 0.2301 - val_accuracy: 0.7736 - val_loss: 0.8995\n",
            "Epoch 13/30\n",
            "\u001b[1m331/331\u001b[0m \u001b[32m━━━━━━━━━━━━━━━━━━━━\u001b[0m\u001b[37m\u001b[0m \u001b[1m0s\u001b[0m 1s/step - accuracy: 0.9310 - loss: 0.1975\n",
            "Epoch 13: val_loss did not improve from 0.69875\n",
            "\u001b[1m331/331\u001b[0m \u001b[32m━━━━━━━━━━━━━━━━━━━━\u001b[0m\u001b[37m\u001b[0m \u001b[1m604s\u001b[0m 2s/step - accuracy: 0.9310 - loss: 0.1975 - val_accuracy: 0.7809 - val_loss: 0.7988\n",
            "Epoch 14/30\n",
            "\u001b[1m331/331\u001b[0m \u001b[32m━━━━━━━━━━━━━━━━━━━━\u001b[0m\u001b[37m\u001b[0m \u001b[1m0s\u001b[0m 1s/step - accuracy: 0.9366 - loss: 0.1880\n",
            "Epoch 14: val_loss did not improve from 0.69875\n",
            "\u001b[1m331/331\u001b[0m \u001b[32m━━━━━━━━━━━━━━━━━━━━\u001b[0m\u001b[37m\u001b[0m \u001b[1m597s\u001b[0m 2s/step - accuracy: 0.9365 - loss: 0.1880 - val_accuracy: 0.7979 - val_loss: 0.7599\n",
            "Epoch 15/30\n",
            "\u001b[1m331/331\u001b[0m \u001b[32m━━━━━━━━━━━━━━━━━━━━\u001b[0m\u001b[37m\u001b[0m \u001b[1m0s\u001b[0m 1s/step - accuracy: 0.9465 - loss: 0.1616\n",
            "Epoch 15: val_loss did not improve from 0.69875\n",
            "\u001b[1m331/331\u001b[0m \u001b[32m━━━━━━━━━━━━━━━━━━━━\u001b[0m\u001b[37m\u001b[0m \u001b[1m597s\u001b[0m 2s/step - accuracy: 0.9464 - loss: 0.1617 - val_accuracy: 0.7966 - val_loss: 0.7687\n",
            "Epoch 16/30\n",
            "\u001b[1m331/331\u001b[0m \u001b[32m━━━━━━━━━━━━━━━━━━━━\u001b[0m\u001b[37m\u001b[0m \u001b[1m0s\u001b[0m 1s/step - accuracy: 0.9491 - loss: 0.1493\n",
            "Epoch 16: val_loss did not improve from 0.69875\n",
            "\u001b[1m331/331\u001b[0m \u001b[32m━━━━━━━━━━━━━━━━━━━━\u001b[0m\u001b[37m\u001b[0m \u001b[1m589s\u001b[0m 2s/step - accuracy: 0.9491 - loss: 0.1493 - val_accuracy: 0.7405 - val_loss: 1.2588\n",
            "Epoch 17/30\n",
            "\u001b[1m331/331\u001b[0m \u001b[32m━━━━━━━━━━━━━━━━━━━━\u001b[0m\u001b[37m\u001b[0m \u001b[1m0s\u001b[0m 1s/step - accuracy: 0.9515 - loss: 0.1454\n",
            "Epoch 17: val_loss did not improve from 0.69875\n",
            "\u001b[1m331/331\u001b[0m \u001b[32m━━━━━━━━━━━━━━━━━━━━\u001b[0m\u001b[37m\u001b[0m \u001b[1m562s\u001b[0m 2s/step - accuracy: 0.9515 - loss: 0.1454 - val_accuracy: 0.7885 - val_loss: 0.8368\n",
            "Epoch 18/30\n",
            "\u001b[1m331/331\u001b[0m \u001b[32m━━━━━━━━━━━━━━━━━━━━\u001b[0m\u001b[37m\u001b[0m \u001b[1m0s\u001b[0m 1s/step - accuracy: 0.9541 - loss: 0.1361\n",
            "Epoch 18: val_loss did not improve from 0.69875\n",
            "\u001b[1m331/331\u001b[0m \u001b[32m━━━━━━━━━━━━━━━━━━━━\u001b[0m\u001b[37m\u001b[0m \u001b[1m577s\u001b[0m 2s/step - accuracy: 0.9541 - loss: 0.1362 - val_accuracy: 0.7730 - val_loss: 0.9571\n",
            "Epoch 19/30\n",
            "\u001b[1m331/331\u001b[0m \u001b[32m━━━━━━━━━━━━━━━━━━━━\u001b[0m\u001b[37m\u001b[0m \u001b[1m0s\u001b[0m 1s/step - accuracy: 0.9560 - loss: 0.1285\n",
            "Epoch 19: val_loss did not improve from 0.69875\n",
            "\u001b[1m331/331\u001b[0m \u001b[32m━━━━━━━━━━━━━━━━━━━━\u001b[0m\u001b[37m\u001b[0m \u001b[1m625s\u001b[0m 2s/step - accuracy: 0.9560 - loss: 0.1285 - val_accuracy: 0.7669 - val_loss: 1.0350\n",
            "Epoch 20/30\n",
            "\u001b[1m331/331\u001b[0m \u001b[32m━━━━━━━━━━━━━━━━━━━━\u001b[0m\u001b[37m\u001b[0m \u001b[1m0s\u001b[0m 1s/step - accuracy: 0.9641 - loss: 0.1074\n",
            "Epoch 20: val_loss did not improve from 0.69875\n",
            "\u001b[1m331/331\u001b[0m \u001b[32m━━━━━━━━━━━━━━━━━━━━\u001b[0m\u001b[37m\u001b[0m \u001b[1m616s\u001b[0m 2s/step - accuracy: 0.9641 - loss: 0.1074 - val_accuracy: 0.7989 - val_loss: 0.8141\n",
            "Epoch 21/30\n",
            "\u001b[1m331/331\u001b[0m \u001b[32m━━━━━━━━━━━━━━━━━━━━\u001b[0m\u001b[37m\u001b[0m \u001b[1m0s\u001b[0m 1s/step - accuracy: 0.9641 - loss: 0.1083\n",
            "Epoch 21: val_loss did not improve from 0.69875\n",
            "\u001b[1m331/331\u001b[0m \u001b[32m━━━━━━━━━━━━━━━━━━━━\u001b[0m\u001b[37m\u001b[0m \u001b[1m614s\u001b[0m 2s/step - accuracy: 0.9641 - loss: 0.1083 - val_accuracy: 0.8064 - val_loss: 0.8356\n",
            "Epoch 22/30\n",
            "\u001b[1m331/331\u001b[0m \u001b[32m━━━━━━━━━━━━━━━━━━━━\u001b[0m\u001b[37m\u001b[0m \u001b[1m0s\u001b[0m 1s/step - accuracy: 0.9612 - loss: 0.1171\n",
            "Epoch 22: val_loss did not improve from 0.69875\n",
            "\u001b[1m331/331\u001b[0m \u001b[32m━━━━━━━━━━━━━━━━━━━━\u001b[0m\u001b[37m\u001b[0m \u001b[1m610s\u001b[0m 2s/step - accuracy: 0.9612 - loss: 0.1171 - val_accuracy: 0.7883 - val_loss: 0.9105\n",
            "Epoch 23/30\n",
            "\u001b[1m331/331\u001b[0m \u001b[32m━━━━━━━━━━━━━━━━━━━━\u001b[0m\u001b[37m\u001b[0m \u001b[1m0s\u001b[0m 1s/step - accuracy: 0.9652 - loss: 0.1014\n",
            "Epoch 23: val_loss did not improve from 0.69875\n",
            "\u001b[1m331/331\u001b[0m \u001b[32m━━━━━━━━━━━━━━━━━━━━\u001b[0m\u001b[37m\u001b[0m \u001b[1m604s\u001b[0m 2s/step - accuracy: 0.9652 - loss: 0.1014 - val_accuracy: 0.7949 - val_loss: 0.9309\n",
            "Epoch 24/30\n",
            "\u001b[1m331/331\u001b[0m \u001b[32m━━━━━━━━━━━━━━━━━━━━\u001b[0m\u001b[37m\u001b[0m \u001b[1m0s\u001b[0m 1s/step - accuracy: 0.9698 - loss: 0.0873\n",
            "Epoch 24: val_loss did not improve from 0.69875\n",
            "\u001b[1m331/331\u001b[0m \u001b[32m━━━━━━━━━━━━━━━━━━━━\u001b[0m\u001b[37m\u001b[0m \u001b[1m595s\u001b[0m 2s/step - accuracy: 0.9698 - loss: 0.0873 - val_accuracy: 0.7919 - val_loss: 0.9260\n",
            "Epoch 25/30\n",
            "\u001b[1m331/331\u001b[0m \u001b[32m━━━━━━━━━━━━━━━━━━━━\u001b[0m\u001b[37m\u001b[0m \u001b[1m0s\u001b[0m 1s/step - accuracy: 0.9685 - loss: 0.0927\n",
            "Epoch 25: val_loss did not improve from 0.69875\n",
            "\u001b[1m331/331\u001b[0m \u001b[32m━━━━━━━━━━━━━━━━━━━━\u001b[0m\u001b[37m\u001b[0m \u001b[1m591s\u001b[0m 2s/step - accuracy: 0.9685 - loss: 0.0927 - val_accuracy: 0.8076 - val_loss: 0.8266\n",
            "Epoch 26/30\n",
            "\u001b[1m331/331\u001b[0m \u001b[32m━━━━━━━━━━━━━━━━━━━━\u001b[0m\u001b[37m\u001b[0m \u001b[1m0s\u001b[0m 1s/step - accuracy: 0.9717 - loss: 0.0845\n",
            "Epoch 26: val_loss did not improve from 0.69875\n",
            "\u001b[1m331/331\u001b[0m \u001b[32m━━━━━━━━━━━━━━━━━━━━\u001b[0m\u001b[37m\u001b[0m \u001b[1m583s\u001b[0m 2s/step - accuracy: 0.9717 - loss: 0.0845 - val_accuracy: 0.8083 - val_loss: 0.8575\n",
            "Epoch 27/30\n",
            "\u001b[1m331/331\u001b[0m \u001b[32m━━━━━━━━━━━━━━━━━━━━\u001b[0m\u001b[37m\u001b[0m \u001b[1m0s\u001b[0m 1s/step - accuracy: 0.9695 - loss: 0.0890\n",
            "Epoch 27: val_loss did not improve from 0.69875\n",
            "\u001b[1m331/331\u001b[0m \u001b[32m━━━━━━━━━━━━━━━━━━━━\u001b[0m\u001b[37m\u001b[0m \u001b[1m584s\u001b[0m 2s/step - accuracy: 0.9695 - loss: 0.0890 - val_accuracy: 0.8119 - val_loss: 0.8943\n",
            "Epoch 28/30\n",
            "\u001b[1m331/331\u001b[0m \u001b[32m━━━━━━━━━━━━━━━━━━━━\u001b[0m\u001b[37m\u001b[0m \u001b[1m0s\u001b[0m 1s/step - accuracy: 0.9760 - loss: 0.0726\n",
            "Epoch 28: val_loss did not improve from 0.69875\n",
            "\u001b[1m331/331\u001b[0m \u001b[32m━━━━━━━━━━━━━━━━━━━━\u001b[0m\u001b[37m\u001b[0m \u001b[1m587s\u001b[0m 2s/step - accuracy: 0.9760 - loss: 0.0726 - val_accuracy: 0.8157 - val_loss: 0.8409\n",
            "Epoch 29/30\n",
            "\u001b[1m331/331\u001b[0m \u001b[32m━━━━━━━━━━━━━━━━━━━━\u001b[0m\u001b[37m\u001b[0m \u001b[1m0s\u001b[0m 1s/step - accuracy: 0.9734 - loss: 0.0803\n",
            "Epoch 29: val_loss did not improve from 0.69875\n",
            "\u001b[1m331/331\u001b[0m \u001b[32m━━━━━━━━━━━━━━━━━━━━\u001b[0m\u001b[37m\u001b[0m \u001b[1m600s\u001b[0m 2s/step - accuracy: 0.9734 - loss: 0.0803 - val_accuracy: 0.8062 - val_loss: 0.8547\n",
            "Epoch 30/30\n",
            "\u001b[1m331/331\u001b[0m \u001b[32m━━━━━━━━━━━━━━━━━━━━\u001b[0m\u001b[37m\u001b[0m \u001b[1m0s\u001b[0m 1s/step - accuracy: 0.9759 - loss: 0.0754\n",
            "Epoch 30: val_loss did not improve from 0.69875\n",
            "\u001b[1m331/331\u001b[0m \u001b[32m━━━━━━━━━━━━━━━━━━━━\u001b[0m\u001b[37m\u001b[0m \u001b[1m593s\u001b[0m 2s/step - accuracy: 0.9759 - loss: 0.0755 - val_accuracy: 0.8015 - val_loss: 0.8354\n"
          ]
        }
      ],
      "source": [
        "history = model.fit(\n",
        "    train_generator,\n",
        "    epochs=epochs,\n",
        "    validation_data=val_generator,\n",
        "    callbacks=callbacks,\n",
        ")"
      ]
    },
    {
      "cell_type": "markdown",
      "id": "8c3975a6",
      "metadata": {
        "id": "8c3975a6",
        "papermill": {
          "duration": 0.526855,
          "end_time": "2025-01-20T22:10:50.282055",
          "exception": false,
          "start_time": "2025-01-20T22:10:49.755200",
          "status": "completed"
        },
        "tags": []
      },
      "source": [
        "# Testing"
      ]
    },
    {
      "cell_type": "code",
      "execution_count": null,
      "id": "09164960",
      "metadata": {
        "execution": {
          "iopub.execute_input": "2025-01-20T22:10:51.353209Z",
          "iopub.status.busy": "2025-01-20T22:10:51.352858Z",
          "iopub.status.idle": "2025-01-20T22:12:34.300956Z",
          "shell.execute_reply": "2025-01-20T22:12:34.300078Z"
        },
        "id": "09164960",
        "outputId": "c174c325-0513-4355-c5d6-aa4cf354c15a",
        "papermill": {
          "duration": 103.484359,
          "end_time": "2025-01-20T22:12:34.302274",
          "exception": false,
          "start_time": "2025-01-20T22:10:50.817915",
          "status": "completed"
        },
        "tags": []
      },
      "outputs": [
        {
          "name": "stdout",
          "output_type": "stream",
          "text": [
            "\u001b[1m109/109\u001b[0m \u001b[32m━━━━━━━━━━━━━━━━━━━━\u001b[0m\u001b[37m\u001b[0m \u001b[1m101s\u001b[0m 930ms/step - accuracy: 0.8219 - loss: 0.7688\n",
            "Test Accuracy: 0.8196980357170105\n"
          ]
        }
      ],
      "source": [
        "loss, accuracy = model.evaluate(test_generator, steps=len(test_generator))\n",
        "print(f\"Test Accuracy: {accuracy}\")"
      ]
    },
    {
      "cell_type": "code",
      "execution_count": null,
      "id": "3f190458",
      "metadata": {
        "execution": {
          "iopub.execute_input": "2025-01-20T22:12:35.429508Z",
          "iopub.status.busy": "2025-01-20T22:12:35.429163Z",
          "iopub.status.idle": "2025-01-20T22:12:36.006628Z",
          "shell.execute_reply": "2025-01-20T22:12:36.005676Z"
        },
        "id": "3f190458",
        "outputId": "bd6899ac-8250-4274-fc89-4e0a27d45ad4",
        "papermill": {
          "duration": 1.184987,
          "end_time": "2025-01-20T22:12:36.008282",
          "exception": false,
          "start_time": "2025-01-20T22:12:34.823295",
          "status": "completed"
        },
        "tags": []
      },
      "outputs": [
        {
          "data": {
            "image/png": "[encoded data removed]",
            "text/plain": [
              "<Figure size 640x480 with 1 Axes>"
            ]
          },
          "metadata": {},
          "output_type": "display_data"
        },
        {
          "data": {
            "image/png": "[encoded data removed]",
            "text/plain": [
              "<Figure size 640x480 with 1 Axes>"
            ]
          },
          "metadata": {},
          "output_type": "display_data"
        }
      ],
      "source": [
        "import matplotlib.pyplot as plt\n",
        "\n",
        "# Lấy giá trị loss và accuracy từ history\n",
        "train_loss = history.history['loss']\n",
        "val_loss = history.history['val_loss']\n",
        "train_accuracy = history.history['accuracy']\n",
        "val_accuracy = history.history['val_accuracy']\n",
        "\n",
        "# Vẽ biểu đồ loss\n",
        "# plt.figure(figsize=(12, 6))\n",
        "plt.plot(train_loss, label='Train Loss', color='blue')\n",
        "plt.plot(val_loss, label='Validation Loss', color='orange')\n",
        "plt.title('Loss During Training')\n",
        "plt.xlabel('Epochs')\n",
        "plt.ylabel('Loss')\n",
        "plt.legend()\n",
        "plt.show()\n",
        "\n",
        "# Vẽ biểu đồ accuracy\n",
        "# plt.figure(figsize=(12, 6))\n",
        "plt.plot(train_accuracy, label='Train Accuracy', color='green')\n",
        "plt.plot(val_accuracy, label='Validation Accuracy', color='red')\n",
        "plt.title('Accuracy During Training')\n",
        "plt.xlabel('Epochs')\n",
        "plt.ylabel('Accuracy')\n",
        "plt.legend()\n",
        "plt.show()"
      ]
    }
  ],
  "metadata": {
    "colab": {
      "provenance": []
    },
    "kaggle": {
      "accelerator": "gpu",
      "dataSources": [
        {
          "datasetId": 6456424,
          "sourceId": 10417621,
          "sourceType": "datasetVersion"
        },
        {
          "datasetId": 6456529,
          "sourceId": 10417775,
          "sourceType": "datasetVersion"
        },
        {
          "datasetId": 6461064,
          "sourceId": 10460360,
          "sourceType": "datasetVersion"
        }
      ],
      "dockerImageVersionId": 30823,
      "isGpuEnabled": true,
      "isInternetEnabled": true,
      "language": "python",
      "sourceType": "notebook"
    },
    "kernelspec": {
      "display_name": "Python 3",
      "language": "python",
      "name": "python3"
    },
    "language_info": {
      "codemirror_mode": {
        "name": "ipython",
        "version": 3
      },
      "file_extension": ".py",
      "mimetype": "text/x-python",
      "name": "python",
      "nbconvert_exporter": "python",
      "pygments_lexer": "ipython3",
      "version": "3.10.12"
    },
    "papermill": {
      "default_parameters": {},
      "duration": 18256.216831,
      "end_time": "2025-01-20T22:12:39.998552",
      "environment_variables": {},
      "exception": null,
      "input_path": "__notebook__.ipynb",
      "output_path": "__notebook__.ipynb",
      "parameters": {},
      "start_time": "2025-01-20T17:08:23.781721",
      "version": "2.6.0"
    }
  },
  "nbformat": 4,
  "nbformat_minor": 5
}
