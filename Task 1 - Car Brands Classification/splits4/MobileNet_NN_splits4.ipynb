{
 "cells": [
  {
   "cell_type": "code",
   "execution_count": 1,
   "id": "4ef0313d",
   "metadata": {
    "execution": {
     "iopub.execute_input": "2025-01-19T13:04:13.896335Z",
     "iopub.status.busy": "2025-01-19T13:04:13.896047Z",
     "iopub.status.idle": "2025-01-19T13:04:22.737210Z",
     "shell.execute_reply": "2025-01-19T13:04:22.736202Z"
    },
    "papermill": {
     "duration": 8.849677,
     "end_time": "2025-01-19T13:04:22.738965",
     "exception": false,
     "start_time": "2025-01-19T13:04:13.889288",
     "status": "completed"
    },
    "tags": []
   },
   "outputs": [],
   "source": [
    "import os\n",
    "import pandas as pd\n",
    "import multiprocessing\n",
    "from PIL import Image, UnidentifiedImageError\n",
    "from sklearn.model_selection import train_test_split\n",
    "from tensorflow.keras.preprocessing.image import ImageDataGenerator\n",
    "from keras.optimizers import Adam\n",
    "import tensorflow as tf\n",
    "from tensorflow.keras.applications import ResNet50, MobileNet\n",
    "from tensorflow.keras import layers, models, optimizers, callbacks\n",
    "import numpy as np\n",
    "import hashlib\n",
    "import matplotlib.pyplot as plt\n"
   ]
  },
  {
   "cell_type": "markdown",
   "id": "f850c4a6",
   "metadata": {
    "papermill": {
     "duration": 0.004075,
     "end_time": "2025-01-19T13:04:22.748394",
     "exception": false,
     "start_time": "2025-01-19T13:04:22.744319",
     "status": "completed"
    },
    "tags": []
   },
   "source": [
    "# Data Loading"
   ]
  },
  {
   "cell_type": "code",
   "execution_count": 2,
   "id": "db7ea4ac",
   "metadata": {
    "execution": {
     "iopub.execute_input": "2025-01-19T13:04:22.757733Z",
     "iopub.status.busy": "2025-01-19T13:04:22.757259Z",
     "iopub.status.idle": "2025-01-19T13:04:22.760899Z",
     "shell.execute_reply": "2025-01-19T13:04:22.760103Z"
    },
    "papermill": {
     "duration": 0.00974,
     "end_time": "2025-01-19T13:04:22.762271",
     "exception": false,
     "start_time": "2025-01-19T13:04:22.752531",
     "status": "completed"
    },
    "tags": []
   },
   "outputs": [],
   "source": [
    "SPLITS_ID = 4\n",
    "BATCH_SIZE = 64\n",
    "WIDTH = 224\n",
    "HEIGHT = 224\n",
    "SEED = 4"
   ]
  },
  {
   "cell_type": "code",
   "execution_count": 3,
   "id": "e6366146",
   "metadata": {
    "execution": {
     "iopub.execute_input": "2025-01-19T13:04:22.772453Z",
     "iopub.status.busy": "2025-01-19T13:04:22.772224Z",
     "iopub.status.idle": "2025-01-19T13:04:22.775359Z",
     "shell.execute_reply": "2025-01-19T13:04:22.774619Z"
    },
    "papermill": {
     "duration": 0.009766,
     "end_time": "2025-01-19T13:04:22.776712",
     "exception": false,
     "start_time": "2025-01-19T13:04:22.766946",
     "status": "completed"
    },
    "tags": []
   },
   "outputs": [],
   "source": [
    "DATASET_PATH = '/kaggle/input/data-car-public/Public'\n",
    "SPLITS_PATH = '/kaggle/input/cardataset-splits/cardataset_splits'"
   ]
  },
  {
   "cell_type": "code",
   "execution_count": 4,
   "id": "0f43e0c0",
   "metadata": {
    "execution": {
     "iopub.execute_input": "2025-01-19T13:04:22.788518Z",
     "iopub.status.busy": "2025-01-19T13:04:22.788285Z",
     "iopub.status.idle": "2025-01-19T13:04:22.931248Z",
     "shell.execute_reply": "2025-01-19T13:04:22.930451Z"
    },
    "papermill": {
     "duration": 0.151231,
     "end_time": "2025-01-19T13:04:22.932766",
     "exception": false,
     "start_time": "2025-01-19T13:04:22.781535",
     "status": "completed"
    },
    "tags": []
   },
   "outputs": [],
   "source": [
    "train_csv = os.path.join(SPLITS_PATH, f\"CarDataset-Splits-{SPLITS_ID}-Train.csv\")\n",
    "test_csv = os.path.join(SPLITS_PATH, f\"CarDataset-Splits-{SPLITS_ID}-Test.csv\")\n",
    "\n",
    "train_df = pd.read_csv(train_csv)\n",
    "test_df = pd.read_csv(test_csv)\n",
    "\n",
    "\n",
    "train_df[\"ImageFullPath\"] = train_df[\"ImageFullPath\"].apply(lambda x: os.path.join(DATASET_PATH, x))\n",
    "test_df[\"ImageFullPath\"] = test_df[\"ImageFullPath\"].apply(lambda x: os.path.join(DATASET_PATH, x))\n",
    "\n",
    "train_df[\"CategoryID\"] = train_df[\"CategoryID\"].astype(str)\n",
    "test_df[\"CategoryID\"] = test_df[\"CategoryID\"].astype(str)"
   ]
  },
  {
   "cell_type": "code",
   "execution_count": 5,
   "id": "707cf5d9",
   "metadata": {
    "execution": {
     "iopub.execute_input": "2025-01-19T13:04:22.942280Z",
     "iopub.status.busy": "2025-01-19T13:04:22.942005Z",
     "iopub.status.idle": "2025-01-19T13:04:22.954279Z",
     "shell.execute_reply": "2025-01-19T13:04:22.953551Z"
    },
    "papermill": {
     "duration": 0.018372,
     "end_time": "2025-01-19T13:04:22.955575",
     "exception": false,
     "start_time": "2025-01-19T13:04:22.937203",
     "status": "completed"
    },
    "tags": []
   },
   "outputs": [
    {
     "data": {
      "text/html": [
       "<div>\n",
       "<style scoped>\n",
       "    .dataframe tbody tr th:only-of-type {\n",
       "        vertical-align: middle;\n",
       "    }\n",
       "\n",
       "    .dataframe tbody tr th {\n",
       "        vertical-align: top;\n",
       "    }\n",
       "\n",
       "    .dataframe thead th {\n",
       "        text-align: right;\n",
       "    }\n",
       "</style>\n",
       "<table border=\"1\" class=\"dataframe\">\n",
       "  <thead>\n",
       "    <tr style=\"text-align: right;\">\n",
       "      <th></th>\n",
       "      <th>ImageFullPath</th>\n",
       "      <th>CategoryID</th>\n",
       "    </tr>\n",
       "  </thead>\n",
       "  <tbody>\n",
       "    <tr>\n",
       "      <th>0</th>\n",
       "      <td>/kaggle/input/data-car-public/Public/Mazda/225...</td>\n",
       "      <td>4</td>\n",
       "    </tr>\n",
       "    <tr>\n",
       "      <th>1</th>\n",
       "      <td>/kaggle/input/data-car-public/Public/Mazda/225...</td>\n",
       "      <td>4</td>\n",
       "    </tr>\n",
       "    <tr>\n",
       "      <th>2</th>\n",
       "      <td>/kaggle/input/data-car-public/Public/Mazda/225...</td>\n",
       "      <td>4</td>\n",
       "    </tr>\n",
       "    <tr>\n",
       "      <th>3</th>\n",
       "      <td>/kaggle/input/data-car-public/Public/Mazda/225...</td>\n",
       "      <td>4</td>\n",
       "    </tr>\n",
       "    <tr>\n",
       "      <th>4</th>\n",
       "      <td>/kaggle/input/data-car-public/Public/Mazda/225...</td>\n",
       "      <td>4</td>\n",
       "    </tr>\n",
       "    <tr>\n",
       "      <th>...</th>\n",
       "      <td>...</td>\n",
       "      <td>...</td>\n",
       "    </tr>\n",
       "    <tr>\n",
       "      <th>27858</th>\n",
       "      <td>/kaggle/input/data-car-public/Public/Honda/225...</td>\n",
       "      <td>1</td>\n",
       "    </tr>\n",
       "    <tr>\n",
       "      <th>27859</th>\n",
       "      <td>/kaggle/input/data-car-public/Public/Honda/225...</td>\n",
       "      <td>1</td>\n",
       "    </tr>\n",
       "    <tr>\n",
       "      <th>27860</th>\n",
       "      <td>/kaggle/input/data-car-public/Public/Honda/225...</td>\n",
       "      <td>1</td>\n",
       "    </tr>\n",
       "    <tr>\n",
       "      <th>27861</th>\n",
       "      <td>/kaggle/input/data-car-public/Public/Honda/225...</td>\n",
       "      <td>1</td>\n",
       "    </tr>\n",
       "    <tr>\n",
       "      <th>27862</th>\n",
       "      <td>/kaggle/input/data-car-public/Public/Honda/225...</td>\n",
       "      <td>1</td>\n",
       "    </tr>\n",
       "  </tbody>\n",
       "</table>\n",
       "<p>27863 rows × 2 columns</p>\n",
       "</div>"
      ],
      "text/plain": [
       "                                           ImageFullPath CategoryID\n",
       "0      /kaggle/input/data-car-public/Public/Mazda/225...          4\n",
       "1      /kaggle/input/data-car-public/Public/Mazda/225...          4\n",
       "2      /kaggle/input/data-car-public/Public/Mazda/225...          4\n",
       "3      /kaggle/input/data-car-public/Public/Mazda/225...          4\n",
       "4      /kaggle/input/data-car-public/Public/Mazda/225...          4\n",
       "...                                                  ...        ...\n",
       "27858  /kaggle/input/data-car-public/Public/Honda/225...          1\n",
       "27859  /kaggle/input/data-car-public/Public/Honda/225...          1\n",
       "27860  /kaggle/input/data-car-public/Public/Honda/225...          1\n",
       "27861  /kaggle/input/data-car-public/Public/Honda/225...          1\n",
       "27862  /kaggle/input/data-car-public/Public/Honda/225...          1\n",
       "\n",
       "[27863 rows x 2 columns]"
      ]
     },
     "execution_count": 5,
     "metadata": {},
     "output_type": "execute_result"
    }
   ],
   "source": [
    "train_df"
   ]
  },
  {
   "cell_type": "code",
   "execution_count": 6,
   "id": "1cf11aa7",
   "metadata": {
    "execution": {
     "iopub.execute_input": "2025-01-19T13:04:22.965388Z",
     "iopub.status.busy": "2025-01-19T13:04:22.965177Z",
     "iopub.status.idle": "2025-01-19T13:04:22.973171Z",
     "shell.execute_reply": "2025-01-19T13:04:22.972457Z"
    },
    "papermill": {
     "duration": 0.01459,
     "end_time": "2025-01-19T13:04:22.974709",
     "exception": false,
     "start_time": "2025-01-19T13:04:22.960119",
     "status": "completed"
    },
    "tags": []
   },
   "outputs": [
    {
     "data": {
      "text/html": [
       "<div>\n",
       "<style scoped>\n",
       "    .dataframe tbody tr th:only-of-type {\n",
       "        vertical-align: middle;\n",
       "    }\n",
       "\n",
       "    .dataframe tbody tr th {\n",
       "        vertical-align: top;\n",
       "    }\n",
       "\n",
       "    .dataframe thead th {\n",
       "        text-align: right;\n",
       "    }\n",
       "</style>\n",
       "<table border=\"1\" class=\"dataframe\">\n",
       "  <thead>\n",
       "    <tr style=\"text-align: right;\">\n",
       "      <th></th>\n",
       "      <th>ImageFullPath</th>\n",
       "      <th>CategoryID</th>\n",
       "    </tr>\n",
       "  </thead>\n",
       "  <tbody>\n",
       "    <tr>\n",
       "      <th>0</th>\n",
       "      <td>/kaggle/input/data-car-public/Public/Mazda/225...</td>\n",
       "      <td>4</td>\n",
       "    </tr>\n",
       "    <tr>\n",
       "      <th>1</th>\n",
       "      <td>/kaggle/input/data-car-public/Public/Mazda/225...</td>\n",
       "      <td>4</td>\n",
       "    </tr>\n",
       "    <tr>\n",
       "      <th>2</th>\n",
       "      <td>/kaggle/input/data-car-public/Public/Mazda/225...</td>\n",
       "      <td>4</td>\n",
       "    </tr>\n",
       "    <tr>\n",
       "      <th>3</th>\n",
       "      <td>/kaggle/input/data-car-public/Public/Mazda/225...</td>\n",
       "      <td>4</td>\n",
       "    </tr>\n",
       "    <tr>\n",
       "      <th>4</th>\n",
       "      <td>/kaggle/input/data-car-public/Public/Mazda/225...</td>\n",
       "      <td>4</td>\n",
       "    </tr>\n",
       "    <tr>\n",
       "      <th>...</th>\n",
       "      <td>...</td>\n",
       "      <td>...</td>\n",
       "    </tr>\n",
       "    <tr>\n",
       "      <th>6961</th>\n",
       "      <td>/kaggle/input/data-car-public/Public/Honda/225...</td>\n",
       "      <td>1</td>\n",
       "    </tr>\n",
       "    <tr>\n",
       "      <th>6962</th>\n",
       "      <td>/kaggle/input/data-car-public/Public/Honda/225...</td>\n",
       "      <td>1</td>\n",
       "    </tr>\n",
       "    <tr>\n",
       "      <th>6963</th>\n",
       "      <td>/kaggle/input/data-car-public/Public/Honda/225...</td>\n",
       "      <td>1</td>\n",
       "    </tr>\n",
       "    <tr>\n",
       "      <th>6964</th>\n",
       "      <td>/kaggle/input/data-car-public/Public/Honda/225...</td>\n",
       "      <td>1</td>\n",
       "    </tr>\n",
       "    <tr>\n",
       "      <th>6965</th>\n",
       "      <td>/kaggle/input/data-car-public/Public/Honda/225...</td>\n",
       "      <td>1</td>\n",
       "    </tr>\n",
       "  </tbody>\n",
       "</table>\n",
       "<p>6966 rows × 2 columns</p>\n",
       "</div>"
      ],
      "text/plain": [
       "                                          ImageFullPath CategoryID\n",
       "0     /kaggle/input/data-car-public/Public/Mazda/225...          4\n",
       "1     /kaggle/input/data-car-public/Public/Mazda/225...          4\n",
       "2     /kaggle/input/data-car-public/Public/Mazda/225...          4\n",
       "3     /kaggle/input/data-car-public/Public/Mazda/225...          4\n",
       "4     /kaggle/input/data-car-public/Public/Mazda/225...          4\n",
       "...                                                 ...        ...\n",
       "6961  /kaggle/input/data-car-public/Public/Honda/225...          1\n",
       "6962  /kaggle/input/data-car-public/Public/Honda/225...          1\n",
       "6963  /kaggle/input/data-car-public/Public/Honda/225...          1\n",
       "6964  /kaggle/input/data-car-public/Public/Honda/225...          1\n",
       "6965  /kaggle/input/data-car-public/Public/Honda/225...          1\n",
       "\n",
       "[6966 rows x 2 columns]"
      ]
     },
     "execution_count": 6,
     "metadata": {},
     "output_type": "execute_result"
    }
   ],
   "source": [
    "test_df"
   ]
  },
  {
   "cell_type": "markdown",
   "id": "a22c9f6d",
   "metadata": {
    "papermill": {
     "duration": 0.004533,
     "end_time": "2025-01-19T13:04:22.983916",
     "exception": false,
     "start_time": "2025-01-19T13:04:22.979383",
     "status": "completed"
    },
    "tags": []
   },
   "source": [
    "# Preprocessing"
   ]
  },
  {
   "cell_type": "code",
   "execution_count": 7,
   "id": "7ec0c547",
   "metadata": {
    "execution": {
     "iopub.execute_input": "2025-01-19T13:04:22.993441Z",
     "iopub.status.busy": "2025-01-19T13:04:22.993236Z",
     "iopub.status.idle": "2025-01-19T13:04:23.047274Z",
     "shell.execute_reply": "2025-01-19T13:04:23.046649Z"
    },
    "papermill": {
     "duration": 0.060276,
     "end_time": "2025-01-19T13:04:23.048554",
     "exception": false,
     "start_time": "2025-01-19T13:04:22.988278",
     "status": "completed"
    },
    "tags": []
   },
   "outputs": [],
   "source": [
    "# Đọc danh sách ảnh trùng lặp\n",
    "duplicate = pd.read_csv('/kaggle/input/car-duplicateimages/DuplicateImages.csv')\n",
    "duplicate['Image2'] = duplicate['Image2'].apply(lambda x: os.path.join(DATASET_PATH, x))\n",
    "\n",
    "# Chỉ lấy những ảnh có Similarity > 0.95\n",
    "high_similarity_duplicates = duplicate[duplicate['Similarity'] > 0.95]\n",
    "\n",
    "# Lấy danh sách đường dẫn ảnh cần loại bỏ\n",
    "duplicate_paths = high_similarity_duplicates['Image2'].unique().tolist()\n",
    "\n",
    "# Loại bỏ các ảnh trùng lặp khỏi train_df\n",
    "train_df = train_df[~train_df['ImageFullPath'].isin(duplicate_paths)]"
   ]
  },
  {
   "cell_type": "code",
   "execution_count": 8,
   "id": "65d1f97c",
   "metadata": {
    "execution": {
     "iopub.execute_input": "2025-01-19T13:04:23.058445Z",
     "iopub.status.busy": "2025-01-19T13:04:23.058213Z",
     "iopub.status.idle": "2025-01-19T13:04:23.066352Z",
     "shell.execute_reply": "2025-01-19T13:04:23.065580Z"
    },
    "papermill": {
     "duration": 0.01421,
     "end_time": "2025-01-19T13:04:23.067518",
     "exception": false,
     "start_time": "2025-01-19T13:04:23.053308",
     "status": "completed"
    },
    "tags": []
   },
   "outputs": [
    {
     "data": {
      "text/html": [
       "<div>\n",
       "<style scoped>\n",
       "    .dataframe tbody tr th:only-of-type {\n",
       "        vertical-align: middle;\n",
       "    }\n",
       "\n",
       "    .dataframe tbody tr th {\n",
       "        vertical-align: top;\n",
       "    }\n",
       "\n",
       "    .dataframe thead th {\n",
       "        text-align: right;\n",
       "    }\n",
       "</style>\n",
       "<table border=\"1\" class=\"dataframe\">\n",
       "  <thead>\n",
       "    <tr style=\"text-align: right;\">\n",
       "      <th></th>\n",
       "      <th>ImageFullPath</th>\n",
       "      <th>CategoryID</th>\n",
       "    </tr>\n",
       "  </thead>\n",
       "  <tbody>\n",
       "    <tr>\n",
       "      <th>0</th>\n",
       "      <td>/kaggle/input/data-car-public/Public/Mazda/225...</td>\n",
       "      <td>4</td>\n",
       "    </tr>\n",
       "    <tr>\n",
       "      <th>1</th>\n",
       "      <td>/kaggle/input/data-car-public/Public/Mazda/225...</td>\n",
       "      <td>4</td>\n",
       "    </tr>\n",
       "    <tr>\n",
       "      <th>2</th>\n",
       "      <td>/kaggle/input/data-car-public/Public/Mazda/225...</td>\n",
       "      <td>4</td>\n",
       "    </tr>\n",
       "    <tr>\n",
       "      <th>3</th>\n",
       "      <td>/kaggle/input/data-car-public/Public/Mazda/225...</td>\n",
       "      <td>4</td>\n",
       "    </tr>\n",
       "    <tr>\n",
       "      <th>4</th>\n",
       "      <td>/kaggle/input/data-car-public/Public/Mazda/225...</td>\n",
       "      <td>4</td>\n",
       "    </tr>\n",
       "    <tr>\n",
       "      <th>...</th>\n",
       "      <td>...</td>\n",
       "      <td>...</td>\n",
       "    </tr>\n",
       "    <tr>\n",
       "      <th>27858</th>\n",
       "      <td>/kaggle/input/data-car-public/Public/Honda/225...</td>\n",
       "      <td>1</td>\n",
       "    </tr>\n",
       "    <tr>\n",
       "      <th>27859</th>\n",
       "      <td>/kaggle/input/data-car-public/Public/Honda/225...</td>\n",
       "      <td>1</td>\n",
       "    </tr>\n",
       "    <tr>\n",
       "      <th>27860</th>\n",
       "      <td>/kaggle/input/data-car-public/Public/Honda/225...</td>\n",
       "      <td>1</td>\n",
       "    </tr>\n",
       "    <tr>\n",
       "      <th>27861</th>\n",
       "      <td>/kaggle/input/data-car-public/Public/Honda/225...</td>\n",
       "      <td>1</td>\n",
       "    </tr>\n",
       "    <tr>\n",
       "      <th>27862</th>\n",
       "      <td>/kaggle/input/data-car-public/Public/Honda/225...</td>\n",
       "      <td>1</td>\n",
       "    </tr>\n",
       "  </tbody>\n",
       "</table>\n",
       "<p>26077 rows × 2 columns</p>\n",
       "</div>"
      ],
      "text/plain": [
       "                                           ImageFullPath CategoryID\n",
       "0      /kaggle/input/data-car-public/Public/Mazda/225...          4\n",
       "1      /kaggle/input/data-car-public/Public/Mazda/225...          4\n",
       "2      /kaggle/input/data-car-public/Public/Mazda/225...          4\n",
       "3      /kaggle/input/data-car-public/Public/Mazda/225...          4\n",
       "4      /kaggle/input/data-car-public/Public/Mazda/225...          4\n",
       "...                                                  ...        ...\n",
       "27858  /kaggle/input/data-car-public/Public/Honda/225...          1\n",
       "27859  /kaggle/input/data-car-public/Public/Honda/225...          1\n",
       "27860  /kaggle/input/data-car-public/Public/Honda/225...          1\n",
       "27861  /kaggle/input/data-car-public/Public/Honda/225...          1\n",
       "27862  /kaggle/input/data-car-public/Public/Honda/225...          1\n",
       "\n",
       "[26077 rows x 2 columns]"
      ]
     },
     "execution_count": 8,
     "metadata": {},
     "output_type": "execute_result"
    }
   ],
   "source": [
    "train_df"
   ]
  },
  {
   "cell_type": "code",
   "execution_count": 9,
   "id": "f5cd219e",
   "metadata": {
    "execution": {
     "iopub.execute_input": "2025-01-19T13:04:23.077667Z",
     "iopub.status.busy": "2025-01-19T13:04:23.077459Z",
     "iopub.status.idle": "2025-01-19T13:10:47.026479Z",
     "shell.execute_reply": "2025-01-19T13:10:47.025500Z"
    },
    "papermill": {
     "duration": 383.955869,
     "end_time": "2025-01-19T13:10:47.028107",
     "exception": false,
     "start_time": "2025-01-19T13:04:23.072238",
     "status": "completed"
    },
    "tags": []
   },
   "outputs": [
    {
     "name": "stdout",
     "output_type": "stream",
     "text": [
      "Warning: File not found - /kaggle/input/data-car-public/Public/Mazda/22520779-22521587.Mazda.143 (1).jpg\n",
      "Warning: File not found - /kaggle/input/data-car-public/Public/Mazda/22520779-22521587.Mazda.146 (1).jpg\n",
      "Warning: File not found - /kaggle/input/data-car-public/Public/Mazda/22520779-22521587.Mazda.148 (1).jpg\n",
      "Warning: File not found - /kaggle/input/data-car-public/Public/Mazda/22520779-22521587.Mazda.145 (1).jpg\n",
      "Warning: File not found - /kaggle/input/data-car-public/Public/Mazda/22520779-22521587.Mazda.147 (1).jpg\n",
      "Warning: File not found - /kaggle/input/data-car-public/Public/Mazda/22520779-22521587.Mazda.149 (1).jpg\n",
      "Warning: File not found - /kaggle/input/data-car-public/Public/Mazda/22520779-22521587.Mazda.144 (1).jpg\n",
      "Warning: File not found - /kaggle/input/data-car-public/Public/Mitsubishi/22521586-22521559.Mitsubishi.155 (1).jpg\n",
      "Warning: File not found - /kaggle/input/data-car-public/Public/Mitsubishi/22521586-22521559.Mitsubishi.156 (1).jpg\n",
      "Warning: File not found - /kaggle/input/data-car-public/Public/Mitsubishi/22521586-22521559.Mitsubishi.157 (1).jpg\n",
      "Warning: File not found - /kaggle/input/data-car-public/Public/Mitsubishi/22521586-22521559.Mitsubishi.159 (1).jpg\n",
      "Warning: File not found - /kaggle/input/data-car-public/Public/Mitsubishi/22521586-22521559.Mitsubishi.160 (1).jpg\n",
      "Warning: File not found - /kaggle/input/data-car-public/Public/Mitsubishi/22521586-22521559.Mitsubishi.161 (1).jpg\n",
      "Warning: File not found - /kaggle/input/data-car-public/Public/Mitsubishi/22521586-22521559.Mitsubishi.162 (1).jpg\n",
      "Warning: File not found - /kaggle/input/data-car-public/Public/Mitsubishi/22521586-22521559.Mitsubishi.164 (1).jpg\n",
      "Warning: File not found - /kaggle/input/data-car-public/Public/Mitsubishi/22521586-22521559.Mitsubishi.165 (1).jpg\n",
      "Warning: File not found - /kaggle/input/data-car-public/Public/Mitsubishi/22521586-22521559.Mitsubishi.166 (1).jpg\n",
      "Warning: File not found - /kaggle/input/data-car-public/Public/Mitsubishi/22521586-22521559.Mitsubishi.167 (1).jpg\n",
      "Warning: File not found - /kaggle/input/data-car-public/Public/Mitsubishi/22521586-22521559.Mitsubishi.169 (1).jpg\n",
      "Warning: File not found - /kaggle/input/data-car-public/Public/Mitsubishi/22521586-22521559.Mitsubishi.170 (1).jpg\n",
      "Warning: File not found - /kaggle/input/data-car-public/Public/Mitsubishi/22521586-22521559.Mitsubishi.171 (1).jpg\n",
      "Warning: File not found - /kaggle/input/data-car-public/Public/Mitsubishi/22521586-22521559.Mitsubishi.172 (1).jpg\n",
      "Warning: File not found - /kaggle/input/data-car-public/Public/Mitsubishi/22521586-22521559.Mitsubishi.173 (1).jpg\n",
      "Warning: File not found - /kaggle/input/data-car-public/Public/Mitsubishi/22521586-22521559.Mitsubishi.174 (1).jpg\n",
      "Warning: File not found - /kaggle/input/data-car-public/Public/Mitsubishi/22521586-22521559.Mitsubishi.175 (1).jpg\n",
      "Warning: File not found - /kaggle/input/data-car-public/Public/Mitsubishi/22521586-22521559.Mitsubishi.176 (1).jpg\n",
      "Warning: File not found - /kaggle/input/data-car-public/Public/Mitsubishi/22521586-22521559.Mitsubishi.177 (1).jpg\n",
      "Warning: File not found - /kaggle/input/data-car-public/Public/Mitsubishi/22521586-22521559.Mitsubishi.179 (1).jpg\n",
      "Warning: File not found - /kaggle/input/data-car-public/Public/Hyundai/22520779-22521587.Hyundai.346 (1).jpg\n",
      "Warning: File not found - /kaggle/input/data-car-public/Public/Hyundai/22520779-22521587.Hyundai.350 (1).jpg\n",
      "Warning: File not found - /kaggle/input/data-car-public/Public/KIA/22520477-22520490.KIA.2 (1).jpg\n",
      "Warning: File not found - /kaggle/input/data-car-public/Public/KIA/22520477-22520490.KIA.0 (1).jpg\n",
      "Warning: File not found - /kaggle/input/data-car-public/Public/KIA/22520477-22520490.KIA.1 (1).jpg\n",
      "Warning: File not found - /kaggle/input/data-car-public/Public/Honda/22521492-22521599.Honda.9 (1).jpg\n",
      "Valid images: 26033\n",
      "Invalid images: 10\n",
      "Warning: File not found - /kaggle/input/data-car-public/Public/Mitsubishi/22521586-22521559.Mitsubishi.158 (1).jpg\n",
      "Warning: File not found - /kaggle/input/data-car-public/Public/Mitsubishi/22521586-22521559.Mitsubishi.163 (1).jpg\n",
      "Warning: File not found - /kaggle/input/data-car-public/Public/Mitsubishi/22521586-22521559.Mitsubishi.168 (1).jpg\n",
      "Warning: File not found - /kaggle/input/data-car-public/Public/Mitsubishi/22521586-22521559.Mitsubishi.178 (1).jpg\n",
      "Warning: File not found - /kaggle/input/data-car-public/Public/Mitsubishi/22521586-22521559.Mitsubishi.180 (1).jpg\n",
      "Warning: File not found - /kaggle/input/data-car-public/Public/Honda/22521492-22521599.Honda.3 (1).jpg\n",
      "Valid images: 6954\n",
      "Invalid images: 6\n"
     ]
    }
   ],
   "source": [
    "def check_image(df, column=\"ImageFullPath\"):\n",
    "    valid_images = []\n",
    "    invalid_images = []\n",
    "    for path in df[column]:\n",
    "        if not os.path.exists(path):\n",
    "            print(f\"Warning: File not found - {path}\")\n",
    "            continue\n",
    "        try:\n",
    "            with Image.open(path) as img:\n",
    "                img.verify()  # Xác minh file là ảnh hợp lệ\n",
    "                valid_images.append(path)\n",
    "        except (UnidentifiedImageError, FileNotFoundError, IOError):\n",
    "            invalid_images.append(path)\n",
    "    print(f\"Valid images: {len(valid_images)}\")\n",
    "    print(f\"Invalid images: {len(invalid_images)}\")\n",
    "    return valid_images\n",
    "            \n",
    "# Kiểm tra dữ liệu train và test\n",
    "train_valid_paths = check_image(train_df)\n",
    "test_valid_paths = check_image(test_df)\n",
    "\n",
    "# Lọc chỉ giữ lại các ảnh hợp lệ\n",
    "train_df = train_df[train_df['ImageFullPath'].isin(train_valid_paths)]\n",
    "test_df = test_df[test_df['ImageFullPath'].isin(test_valid_paths)]"
   ]
  },
  {
   "cell_type": "code",
   "execution_count": 10,
   "id": "5646efdb",
   "metadata": {
    "execution": {
     "iopub.execute_input": "2025-01-19T13:10:47.040433Z",
     "iopub.status.busy": "2025-01-19T13:10:47.040175Z",
     "iopub.status.idle": "2025-01-19T13:10:47.048772Z",
     "shell.execute_reply": "2025-01-19T13:10:47.048071Z"
    },
    "papermill": {
     "duration": 0.016043,
     "end_time": "2025-01-19T13:10:47.050065",
     "exception": false,
     "start_time": "2025-01-19T13:10:47.034022",
     "status": "completed"
    },
    "tags": []
   },
   "outputs": [
    {
     "data": {
      "text/html": [
       "<div>\n",
       "<style scoped>\n",
       "    .dataframe tbody tr th:only-of-type {\n",
       "        vertical-align: middle;\n",
       "    }\n",
       "\n",
       "    .dataframe tbody tr th {\n",
       "        vertical-align: top;\n",
       "    }\n",
       "\n",
       "    .dataframe thead th {\n",
       "        text-align: right;\n",
       "    }\n",
       "</style>\n",
       "<table border=\"1\" class=\"dataframe\">\n",
       "  <thead>\n",
       "    <tr style=\"text-align: right;\">\n",
       "      <th></th>\n",
       "      <th>ImageFullPath</th>\n",
       "      <th>CategoryID</th>\n",
       "    </tr>\n",
       "  </thead>\n",
       "  <tbody>\n",
       "    <tr>\n",
       "      <th>0</th>\n",
       "      <td>/kaggle/input/data-car-public/Public/Mazda/225...</td>\n",
       "      <td>4</td>\n",
       "    </tr>\n",
       "    <tr>\n",
       "      <th>1</th>\n",
       "      <td>/kaggle/input/data-car-public/Public/Mazda/225...</td>\n",
       "      <td>4</td>\n",
       "    </tr>\n",
       "    <tr>\n",
       "      <th>2</th>\n",
       "      <td>/kaggle/input/data-car-public/Public/Mazda/225...</td>\n",
       "      <td>4</td>\n",
       "    </tr>\n",
       "    <tr>\n",
       "      <th>3</th>\n",
       "      <td>/kaggle/input/data-car-public/Public/Mazda/225...</td>\n",
       "      <td>4</td>\n",
       "    </tr>\n",
       "    <tr>\n",
       "      <th>4</th>\n",
       "      <td>/kaggle/input/data-car-public/Public/Mazda/225...</td>\n",
       "      <td>4</td>\n",
       "    </tr>\n",
       "    <tr>\n",
       "      <th>...</th>\n",
       "      <td>...</td>\n",
       "      <td>...</td>\n",
       "    </tr>\n",
       "    <tr>\n",
       "      <th>27858</th>\n",
       "      <td>/kaggle/input/data-car-public/Public/Honda/225...</td>\n",
       "      <td>1</td>\n",
       "    </tr>\n",
       "    <tr>\n",
       "      <th>27859</th>\n",
       "      <td>/kaggle/input/data-car-public/Public/Honda/225...</td>\n",
       "      <td>1</td>\n",
       "    </tr>\n",
       "    <tr>\n",
       "      <th>27860</th>\n",
       "      <td>/kaggle/input/data-car-public/Public/Honda/225...</td>\n",
       "      <td>1</td>\n",
       "    </tr>\n",
       "    <tr>\n",
       "      <th>27861</th>\n",
       "      <td>/kaggle/input/data-car-public/Public/Honda/225...</td>\n",
       "      <td>1</td>\n",
       "    </tr>\n",
       "    <tr>\n",
       "      <th>27862</th>\n",
       "      <td>/kaggle/input/data-car-public/Public/Honda/225...</td>\n",
       "      <td>1</td>\n",
       "    </tr>\n",
       "  </tbody>\n",
       "</table>\n",
       "<p>26033 rows × 2 columns</p>\n",
       "</div>"
      ],
      "text/plain": [
       "                                           ImageFullPath CategoryID\n",
       "0      /kaggle/input/data-car-public/Public/Mazda/225...          4\n",
       "1      /kaggle/input/data-car-public/Public/Mazda/225...          4\n",
       "2      /kaggle/input/data-car-public/Public/Mazda/225...          4\n",
       "3      /kaggle/input/data-car-public/Public/Mazda/225...          4\n",
       "4      /kaggle/input/data-car-public/Public/Mazda/225...          4\n",
       "...                                                  ...        ...\n",
       "27858  /kaggle/input/data-car-public/Public/Honda/225...          1\n",
       "27859  /kaggle/input/data-car-public/Public/Honda/225...          1\n",
       "27860  /kaggle/input/data-car-public/Public/Honda/225...          1\n",
       "27861  /kaggle/input/data-car-public/Public/Honda/225...          1\n",
       "27862  /kaggle/input/data-car-public/Public/Honda/225...          1\n",
       "\n",
       "[26033 rows x 2 columns]"
      ]
     },
     "execution_count": 10,
     "metadata": {},
     "output_type": "execute_result"
    }
   ],
   "source": [
    "train_df"
   ]
  },
  {
   "cell_type": "code",
   "execution_count": 11,
   "id": "87a4b006",
   "metadata": {
    "execution": {
     "iopub.execute_input": "2025-01-19T13:10:47.061901Z",
     "iopub.status.busy": "2025-01-19T13:10:47.061630Z",
     "iopub.status.idle": "2025-01-19T13:10:47.069719Z",
     "shell.execute_reply": "2025-01-19T13:10:47.069032Z"
    },
    "papermill": {
     "duration": 0.015449,
     "end_time": "2025-01-19T13:10:47.071080",
     "exception": false,
     "start_time": "2025-01-19T13:10:47.055631",
     "status": "completed"
    },
    "tags": []
   },
   "outputs": [
    {
     "data": {
      "text/html": [
       "<div>\n",
       "<style scoped>\n",
       "    .dataframe tbody tr th:only-of-type {\n",
       "        vertical-align: middle;\n",
       "    }\n",
       "\n",
       "    .dataframe tbody tr th {\n",
       "        vertical-align: top;\n",
       "    }\n",
       "\n",
       "    .dataframe thead th {\n",
       "        text-align: right;\n",
       "    }\n",
       "</style>\n",
       "<table border=\"1\" class=\"dataframe\">\n",
       "  <thead>\n",
       "    <tr style=\"text-align: right;\">\n",
       "      <th></th>\n",
       "      <th>ImageFullPath</th>\n",
       "      <th>CategoryID</th>\n",
       "    </tr>\n",
       "  </thead>\n",
       "  <tbody>\n",
       "    <tr>\n",
       "      <th>0</th>\n",
       "      <td>/kaggle/input/data-car-public/Public/Mazda/225...</td>\n",
       "      <td>4</td>\n",
       "    </tr>\n",
       "    <tr>\n",
       "      <th>1</th>\n",
       "      <td>/kaggle/input/data-car-public/Public/Mazda/225...</td>\n",
       "      <td>4</td>\n",
       "    </tr>\n",
       "    <tr>\n",
       "      <th>2</th>\n",
       "      <td>/kaggle/input/data-car-public/Public/Mazda/225...</td>\n",
       "      <td>4</td>\n",
       "    </tr>\n",
       "    <tr>\n",
       "      <th>3</th>\n",
       "      <td>/kaggle/input/data-car-public/Public/Mazda/225...</td>\n",
       "      <td>4</td>\n",
       "    </tr>\n",
       "    <tr>\n",
       "      <th>4</th>\n",
       "      <td>/kaggle/input/data-car-public/Public/Mazda/225...</td>\n",
       "      <td>4</td>\n",
       "    </tr>\n",
       "    <tr>\n",
       "      <th>...</th>\n",
       "      <td>...</td>\n",
       "      <td>...</td>\n",
       "    </tr>\n",
       "    <tr>\n",
       "      <th>6961</th>\n",
       "      <td>/kaggle/input/data-car-public/Public/Honda/225...</td>\n",
       "      <td>1</td>\n",
       "    </tr>\n",
       "    <tr>\n",
       "      <th>6962</th>\n",
       "      <td>/kaggle/input/data-car-public/Public/Honda/225...</td>\n",
       "      <td>1</td>\n",
       "    </tr>\n",
       "    <tr>\n",
       "      <th>6963</th>\n",
       "      <td>/kaggle/input/data-car-public/Public/Honda/225...</td>\n",
       "      <td>1</td>\n",
       "    </tr>\n",
       "    <tr>\n",
       "      <th>6964</th>\n",
       "      <td>/kaggle/input/data-car-public/Public/Honda/225...</td>\n",
       "      <td>1</td>\n",
       "    </tr>\n",
       "    <tr>\n",
       "      <th>6965</th>\n",
       "      <td>/kaggle/input/data-car-public/Public/Honda/225...</td>\n",
       "      <td>1</td>\n",
       "    </tr>\n",
       "  </tbody>\n",
       "</table>\n",
       "<p>6954 rows × 2 columns</p>\n",
       "</div>"
      ],
      "text/plain": [
       "                                          ImageFullPath CategoryID\n",
       "0     /kaggle/input/data-car-public/Public/Mazda/225...          4\n",
       "1     /kaggle/input/data-car-public/Public/Mazda/225...          4\n",
       "2     /kaggle/input/data-car-public/Public/Mazda/225...          4\n",
       "3     /kaggle/input/data-car-public/Public/Mazda/225...          4\n",
       "4     /kaggle/input/data-car-public/Public/Mazda/225...          4\n",
       "...                                                 ...        ...\n",
       "6961  /kaggle/input/data-car-public/Public/Honda/225...          1\n",
       "6962  /kaggle/input/data-car-public/Public/Honda/225...          1\n",
       "6963  /kaggle/input/data-car-public/Public/Honda/225...          1\n",
       "6964  /kaggle/input/data-car-public/Public/Honda/225...          1\n",
       "6965  /kaggle/input/data-car-public/Public/Honda/225...          1\n",
       "\n",
       "[6954 rows x 2 columns]"
      ]
     },
     "execution_count": 11,
     "metadata": {},
     "output_type": "execute_result"
    }
   ],
   "source": [
    "test_df"
   ]
  },
  {
   "cell_type": "code",
   "execution_count": 12,
   "id": "b4bd0142",
   "metadata": {
    "execution": {
     "iopub.execute_input": "2025-01-19T13:10:47.083412Z",
     "iopub.status.busy": "2025-01-19T13:10:47.083183Z",
     "iopub.status.idle": "2025-01-19T13:11:04.557990Z",
     "shell.execute_reply": "2025-01-19T13:11:04.557057Z"
    },
    "papermill": {
     "duration": 17.482535,
     "end_time": "2025-01-19T13:11:04.559407",
     "exception": false,
     "start_time": "2025-01-19T13:10:47.076872",
     "status": "completed"
    },
    "tags": []
   },
   "outputs": [
    {
     "name": "stdout",
     "output_type": "stream",
     "text": [
      "Found 20826 validated image filenames belonging to 9 classes.\n",
      "Found 5207 validated image filenames belonging to 9 classes.\n",
      "Found 6954 validated image filenames belonging to 9 classes.\n"
     ]
    }
   ],
   "source": [
    "from sklearn.model_selection import train_test_split\n",
    "from tensorflow.keras.preprocessing.image import ImageDataGenerator\n",
    "# from tensorflow.keras.applications.resnet50 import preprocess_input\n",
    "from tensorflow.keras.applications.mobilenet import preprocess_input\n",
    "\n",
    "# Chia dữ liệu theo tỷ lệ lớp\n",
    "train_data, val_data = train_test_split(\n",
    "    train_df,\n",
    "    test_size=0.2,\n",
    "    stratify=train_df['CategoryID'],  # Đảm bảo phân phối lớp đồng đều\n",
    "    random_state=SEED\n",
    ")\n",
    "\n",
    "# Khởi tạo ImageDataGenerator\n",
    "train_data_generator = ImageDataGenerator(\n",
    "    preprocessing_function=preprocess_input,\n",
    "    rotation_range=10,          # Xoay ngẫu nhiên\n",
    "    width_shift_range=0.1,      # Dịch chuyển ngang\n",
    "    height_shift_range=0.1,     # Dịch chuyển dọc\n",
    "    shear_range=0.1,            # Biến dạng hình học\n",
    "    zoom_range=0.2,             # Phóng to / thu nhỏ\n",
    "    horizontal_flip=True,       # Lật ngang\n",
    "    fill_mode='nearest'         # Điền các pixel trống bằng giá trị pixel gần nhất\n",
    ")\n",
    "\n",
    "test_data_generator = ImageDataGenerator(\n",
    "    preprocessing_function=preprocess_input\n",
    ")\n",
    "\n",
    "# Cấu hình chung\n",
    "dataframe_config = {\n",
    "    'x_col': 'ImageFullPath',\n",
    "    'y_col': 'CategoryID',\n",
    "    'target_size': (HEIGHT, WIDTH),\n",
    "    'batch_size': BATCH_SIZE,\n",
    "    'class_mode': 'categorical',\n",
    "    'shuffle': True,\n",
    "    'seed': SEED,\n",
    "    'color_mode': 'rgb',\n",
    "}\n",
    "\n",
    "# Flow từ DataFrame\n",
    "train_generator = train_data_generator.flow_from_dataframe(train_data, **dataframe_config)\n",
    "val_generator = train_data_generator.flow_from_dataframe(val_data, **dataframe_config)\n",
    "test_generator = test_data_generator.flow_from_dataframe(test_df, **dataframe_config)\n"
   ]
  },
  {
   "cell_type": "code",
   "execution_count": 13,
   "id": "02a476d6",
   "metadata": {
    "execution": {
     "iopub.execute_input": "2025-01-19T13:11:04.572185Z",
     "iopub.status.busy": "2025-01-19T13:11:04.571942Z",
     "iopub.status.idle": "2025-01-19T13:11:04.582969Z",
     "shell.execute_reply": "2025-01-19T13:11:04.582200Z"
    },
    "papermill": {
     "duration": 0.018662,
     "end_time": "2025-01-19T13:11:04.584221",
     "exception": false,
     "start_time": "2025-01-19T13:11:04.565559",
     "status": "completed"
    },
    "tags": []
   },
   "outputs": [
    {
     "name": "stdout",
     "output_type": "stream",
     "text": [
      "Data Distribution in Train Generator:\n",
      "  0: 2511\n",
      "  1: 1814\n",
      "  2: 1982\n",
      "  3: 1873\n",
      "  4: 2018\n",
      "  5: 1810\n",
      "  6: 4039\n",
      "  7: 3499\n",
      "  8: 1280\n",
      "\n",
      "\n",
      "Data Distribution in Validation Generator:\n",
      "  0: 628\n",
      "  1: 453\n",
      "  2: 495\n",
      "  3: 468\n",
      "  4: 505\n",
      "  5: 453\n",
      "  6: 1010\n",
      "  7: 875\n",
      "  8: 320\n",
      "\n",
      "\n",
      "Data Distribution in Test Generator:\n",
      "  0: 788\n",
      "  1: 603\n",
      "  2: 653\n",
      "  3: 673\n",
      "  4: 665\n",
      "  5: 596\n",
      "  6: 1334\n",
      "  7: 1183\n",
      "  8: 459\n",
      "\n",
      "\n"
     ]
    }
   ],
   "source": [
    "import numpy as np\n",
    "\n",
    "def check_data_distribution(generator, name):\n",
    "    # Truy cập các nhãn được gán trong generator\n",
    "    labels = generator.classes  # Danh sách chỉ số lớp cho mỗi mẫu\n",
    "    unique, counts = np.unique(labels, return_counts=True)  # Đếm số lượng mẫu mỗi lớp\n",
    "    \n",
    "    # Truy cập tên lớp\n",
    "    class_names = list(generator.class_indices.keys())  # Danh sách tên các lớp\n",
    "    distribution = dict(zip(class_names, counts))  # Ghép tên lớp và số lượng mẫu\n",
    "    \n",
    "    print(f\"Data Distribution in {name}:\")\n",
    "    for cls, count in distribution.items():\n",
    "        print(f\"  {cls}: {count}\")\n",
    "    print(\"\\n\")\n",
    "    return distribution\n",
    "\n",
    "# Kiểm tra phân phối trên từng generator\n",
    "train_distribution = check_data_distribution(train_generator, \"Train Generator\")\n",
    "val_distribution = check_data_distribution(val_generator, \"Validation Generator\")\n",
    "test_distribution = check_data_distribution(test_generator, \"Test Generator\")\n"
   ]
  },
  {
   "cell_type": "code",
   "execution_count": 14,
   "id": "2d5faad3",
   "metadata": {
    "execution": {
     "iopub.execute_input": "2025-01-19T13:11:04.596422Z",
     "iopub.status.busy": "2025-01-19T13:11:04.596221Z",
     "iopub.status.idle": "2025-01-19T13:11:05.411347Z",
     "shell.execute_reply": "2025-01-19T13:11:05.410243Z"
    },
    "papermill": {
     "duration": 0.823449,
     "end_time": "2025-01-19T13:11:05.413489",
     "exception": false,
     "start_time": "2025-01-19T13:11:04.590040",
     "status": "completed"
    },
    "tags": []
   },
   "outputs": [
    {
     "data": {
      "image/png": "[encoded data removed]",
      "text/plain": [
       "<Figure size 1200x600 with 1 Axes>"
      ]
     },
     "metadata": {},
     "output_type": "display_data"
    },
    {
     "data": {
      "image/png": "[encoded data removed]",
      "text/plain": [
       "<Figure size 1200x600 with 1 Axes>"
      ]
     },
     "metadata": {},
     "output_type": "display_data"
    },
    {
     "data": {
      "image/png": "[encoded data removed]",
      "text/plain": [
       "<Figure size 1200x600 with 1 Axes>"
      ]
     },
     "metadata": {},
     "output_type": "display_data"
    }
   ],
   "source": [
    "import matplotlib.pyplot as plt\n",
    "\n",
    "def plot_distribution(distribution, title):\n",
    "    classes = list(distribution.keys())\n",
    "    counts = list(distribution.values())\n",
    "    \n",
    "    plt.figure(figsize=(12, 6))\n",
    "    plt.bar(classes, counts, color='skyblue')\n",
    "    plt.title(title)\n",
    "    plt.xlabel(\"Classes\")\n",
    "    plt.ylabel(\"Number of Samples\")\n",
    "    plt.xticks(rotation=45)\n",
    "    plt.show()\n",
    "\n",
    "# Vẽ biểu đồ phân phối\n",
    "plot_distribution(train_distribution, \"Train Data Distribution\")\n",
    "plot_distribution(val_distribution, \"Validation Data Distribution\")\n",
    "plot_distribution(test_distribution, \"Test Data Distribution\")\n"
   ]
  },
  {
   "cell_type": "code",
   "execution_count": 15,
   "id": "b764fa55",
   "metadata": {
    "execution": {
     "iopub.execute_input": "2025-01-19T13:11:05.429058Z",
     "iopub.status.busy": "2025-01-19T13:11:05.428782Z",
     "iopub.status.idle": "2025-01-19T13:11:06.794514Z",
     "shell.execute_reply": "2025-01-19T13:11:06.793829Z"
    },
    "papermill": {
     "duration": 1.37496,
     "end_time": "2025-01-19T13:11:06.796052",
     "exception": false,
     "start_time": "2025-01-19T13:11:05.421092",
     "status": "completed"
    },
    "tags": []
   },
   "outputs": [
    {
     "name": "stdout",
     "output_type": "stream",
     "text": [
      "Downloading data from https://storage.googleapis.com/tensorflow/keras-applications/mobilenet/mobilenet_1_0_224_tf_no_top.h5\n",
      "\u001b[1m17225924/17225924\u001b[0m \u001b[32m━━━━━━━━━━━━━━━━━━━━\u001b[0m\u001b[37m\u001b[0m \u001b[1m0s\u001b[0m 0us/step\n"
     ]
    }
   ],
   "source": [
    "base_model = MobileNet(\n",
    "    include_top=False,  \n",
    "    weights='imagenet', \n",
    "    input_shape=(HEIGHT, WIDTH, 3)\n",
    ")\n",
    "\n",
    "model = models.Sequential()\n",
    "model.add(base_model)\n",
    "model.add(layers.GlobalAveragePooling2D())\n",
    "model.add(layers.Dense(1024, activation='relu'))\n",
    "model.add(layers.Dropout(0.5))\n",
    "model.add(layers.Dense(512, activation='relu'))\n",
    "model.add(layers.Dense(256, activation='relu'))\n",
    "model.add(layers.Dense(128, activation='relu'))\n",
    "model.add(layers.Dense(9, activation='softmax'))  "
   ]
  },
  {
   "cell_type": "markdown",
   "id": "285f7292",
   "metadata": {
    "papermill": {
     "duration": 0.007297,
     "end_time": "2025-01-19T13:11:06.811449",
     "exception": false,
     "start_time": "2025-01-19T13:11:06.804152",
     "status": "completed"
    },
    "tags": []
   },
   "source": [
    "# Training"
   ]
  },
  {
   "cell_type": "code",
   "execution_count": 16,
   "id": "729d88a4",
   "metadata": {
    "execution": {
     "iopub.execute_input": "2025-01-19T13:11:06.826886Z",
     "iopub.status.busy": "2025-01-19T13:11:06.826592Z",
     "iopub.status.idle": "2025-01-19T13:11:06.833157Z",
     "shell.execute_reply": "2025-01-19T13:11:06.832346Z"
    },
    "papermill": {
     "duration": 0.015695,
     "end_time": "2025-01-19T13:11:06.834410",
     "exception": false,
     "start_time": "2025-01-19T13:11:06.818715",
     "status": "completed"
    },
    "tags": []
   },
   "outputs": [],
   "source": [
    "from tensorflow.keras.callbacks import ModelCheckpoint, EarlyStopping, ReduceLROnPlateau, TensorBoard, LearningRateScheduler\n",
    "\n",
    "# Callbacks\n",
    "checkpoint = ModelCheckpoint(\"model.keras\", monitor=\"val_loss\", save_best_only=True, verbose=1)\n",
    "early_stopping = EarlyStopping(monitor=\"val_loss\", patience=3, verbose=1, restore_best_weights=True)\n",
    "reduce_lr = ReduceLROnPlateau(\n",
    "    monitor='val_loss',\n",
    "    factor=0.5,\n",
    "    patience=2,\n",
    "    verbose=1,\n",
    "    min_lr=1e-6\n",
    ")\n",
    "\n",
    "callbacks = [checkpoint,reduce_lr,early_stopping]"
   ]
  },
  {
   "cell_type": "code",
   "execution_count": 17,
   "id": "b9dc4428",
   "metadata": {
    "execution": {
     "iopub.execute_input": "2025-01-19T13:11:06.849763Z",
     "iopub.status.busy": "2025-01-19T13:11:06.849550Z",
     "iopub.status.idle": "2025-01-19T13:11:06.852510Z",
     "shell.execute_reply": "2025-01-19T13:11:06.851912Z"
    },
    "papermill": {
     "duration": 0.011946,
     "end_time": "2025-01-19T13:11:06.853708",
     "exception": false,
     "start_time": "2025-01-19T13:11:06.841762",
     "status": "completed"
    },
    "tags": []
   },
   "outputs": [],
   "source": [
    "learning_rate = 0.0001\n",
    "epochs = 30"
   ]
  },
  {
   "cell_type": "code",
   "execution_count": 18,
   "id": "2d754cdd",
   "metadata": {
    "execution": {
     "iopub.execute_input": "2025-01-19T13:11:06.869178Z",
     "iopub.status.busy": "2025-01-19T13:11:06.868972Z",
     "iopub.status.idle": "2025-01-19T13:11:06.880089Z",
     "shell.execute_reply": "2025-01-19T13:11:06.879474Z"
    },
    "papermill": {
     "duration": 0.020194,
     "end_time": "2025-01-19T13:11:06.881277",
     "exception": false,
     "start_time": "2025-01-19T13:11:06.861083",
     "status": "completed"
    },
    "tags": []
   },
   "outputs": [],
   "source": [
    "model.compile(\n",
    "    optimizer=Adam(learning_rate=learning_rate),\n",
    "    loss='categorical_crossentropy',\n",
    "    metrics=['accuracy']\n",
    ")"
   ]
  },
  {
   "cell_type": "code",
   "execution_count": 19,
   "id": "27e089af",
   "metadata": {
    "execution": {
     "iopub.execute_input": "2025-01-19T13:11:06.896647Z",
     "iopub.status.busy": "2025-01-19T13:11:06.896439Z",
     "iopub.status.idle": "2025-01-19T13:11:06.920604Z",
     "shell.execute_reply": "2025-01-19T13:11:06.920020Z"
    },
    "papermill": {
     "duration": 0.033288,
     "end_time": "2025-01-19T13:11:06.921771",
     "exception": false,
     "start_time": "2025-01-19T13:11:06.888483",
     "status": "completed"
    },
    "tags": []
   },
   "outputs": [],
   "source": [
    "from sklearn.utils.class_weight import compute_class_weight\n",
    "\n",
    "class_weights = compute_class_weight(\n",
    "    class_weight='balanced',\n",
    "    classes=np.unique(train_df['CategoryID']),\n",
    "    y=train_df['CategoryID']\n",
    ")\n",
    "\n",
    "class_weights_dict = dict(enumerate(class_weights))"
   ]
  },
  {
   "cell_type": "code",
   "execution_count": 20,
   "id": "a492ca50",
   "metadata": {
    "execution": {
     "iopub.execute_input": "2025-01-19T13:11:06.937352Z",
     "iopub.status.busy": "2025-01-19T13:11:06.937124Z",
     "iopub.status.idle": "2025-01-19T15:02:42.925997Z",
     "shell.execute_reply": "2025-01-19T15:02:42.925099Z"
    },
    "papermill": {
     "duration": 6696.107009,
     "end_time": "2025-01-19T15:02:43.036256",
     "exception": false,
     "start_time": "2025-01-19T13:11:06.929247",
     "status": "completed"
    },
    "tags": []
   },
   "outputs": [
    {
     "name": "stdout",
     "output_type": "stream",
     "text": [
      "Epoch 1/30\n"
     ]
    },
    {
     "name": "stderr",
     "output_type": "stream",
     "text": [
      "/usr/local/lib/python3.10/dist-packages/keras/src/trainers/data_adapters/py_dataset_adapter.py:121: UserWarning: Your `PyDataset` class should call `super().__init__(**kwargs)` in its constructor. `**kwargs` can include `workers`, `use_multiprocessing`, `max_queue_size`. Do not pass these arguments to `fit()`, as they will be ignored.\n",
      "  self._warn_if_super_not_called()\n",
      "/usr/local/lib/python3.10/dist-packages/PIL/Image.py:1056: UserWarning: Palette images with Transparency expressed in bytes should be converted to RGBA images\n",
      "  warnings.warn(\n"
     ]
    },
    {
     "name": "stdout",
     "output_type": "stream",
     "text": [
      "\u001b[1m326/326\u001b[0m \u001b[32m━━━━━━━━━━━━━━━━━━━━\u001b[0m\u001b[37m\u001b[0m \u001b[1m0s\u001b[0m 1s/step - accuracy: 0.2290 - loss: 2.0731\n",
      "Epoch 1: val_loss improved from inf to 1.71361, saving model to model.keras\n",
      "\u001b[1m326/326\u001b[0m \u001b[32m━━━━━━━━━━━━━━━━━━━━\u001b[0m\u001b[37m\u001b[0m \u001b[1m596s\u001b[0m 2s/step - accuracy: 0.2292 - loss: 2.0725 - val_accuracy: 0.4119 - val_loss: 1.7136 - learning_rate: 1.0000e-04\n",
      "Epoch 2/30\n",
      "\u001b[1m326/326\u001b[0m \u001b[32m━━━━━━━━━━━━━━━━━━━━\u001b[0m\u001b[37m\u001b[0m \u001b[1m0s\u001b[0m 1s/step - accuracy: 0.5422 - loss: 1.3144\n",
      "Epoch 2: val_loss improved from 1.71361 to 1.13384, saving model to model.keras\n",
      "\u001b[1m326/326\u001b[0m \u001b[32m━━━━━━━━━━━━━━━━━━━━\u001b[0m\u001b[37m\u001b[0m \u001b[1m542s\u001b[0m 2s/step - accuracy: 0.5423 - loss: 1.3142 - val_accuracy: 0.6178 - val_loss: 1.1338 - learning_rate: 1.0000e-04\n",
      "Epoch 3/30\n",
      "\u001b[1m326/326\u001b[0m \u001b[32m━━━━━━━━━━━━━━━━━━━━\u001b[0m\u001b[37m\u001b[0m \u001b[1m0s\u001b[0m 1s/step - accuracy: 0.6636 - loss: 0.9493\n",
      "Epoch 3: val_loss improved from 1.13384 to 0.89459, saving model to model.keras\n",
      "\u001b[1m326/326\u001b[0m \u001b[32m━━━━━━━━━━━━━━━━━━━━\u001b[0m\u001b[37m\u001b[0m \u001b[1m553s\u001b[0m 2s/step - accuracy: 0.6636 - loss: 0.9492 - val_accuracy: 0.6981 - val_loss: 0.8946 - learning_rate: 1.0000e-04\n",
      "Epoch 4/30\n",
      "\u001b[1m326/326\u001b[0m \u001b[32m━━━━━━━━━━━━━━━━━━━━\u001b[0m\u001b[37m\u001b[0m \u001b[1m0s\u001b[0m 1s/step - accuracy: 0.7345 - loss: 0.7554\n",
      "Epoch 4: val_loss improved from 0.89459 to 0.87552, saving model to model.keras\n",
      "\u001b[1m326/326\u001b[0m \u001b[32m━━━━━━━━━━━━━━━━━━━━\u001b[0m\u001b[37m\u001b[0m \u001b[1m550s\u001b[0m 2s/step - accuracy: 0.7345 - loss: 0.7553 - val_accuracy: 0.7144 - val_loss: 0.8755 - learning_rate: 1.0000e-04\n",
      "Epoch 5/30\n",
      "\u001b[1m326/326\u001b[0m \u001b[32m━━━━━━━━━━━━━━━━━━━━\u001b[0m\u001b[37m\u001b[0m \u001b[1m0s\u001b[0m 1s/step - accuracy: 0.7779 - loss: 0.6154\n",
      "Epoch 5: val_loss did not improve from 0.87552\n",
      "\u001b[1m326/326\u001b[0m \u001b[32m━━━━━━━━━━━━━━━━━━━━\u001b[0m\u001b[37m\u001b[0m \u001b[1m552s\u001b[0m 2s/step - accuracy: 0.7779 - loss: 0.6154 - val_accuracy: 0.7031 - val_loss: 0.9049 - learning_rate: 1.0000e-04\n",
      "Epoch 6/30\n",
      "\u001b[1m326/326\u001b[0m \u001b[32m━━━━━━━━━━━━━━━━━━━━\u001b[0m\u001b[37m\u001b[0m \u001b[1m0s\u001b[0m 1s/step - accuracy: 0.8100 - loss: 0.5273\n",
      "Epoch 6: val_loss did not improve from 0.87552\n",
      "\n",
      "Epoch 6: ReduceLROnPlateau reducing learning rate to 4.999999873689376e-05.\n",
      "\u001b[1m326/326\u001b[0m \u001b[32m━━━━━━━━━━━━━━━━━━━━\u001b[0m\u001b[37m\u001b[0m \u001b[1m544s\u001b[0m 2s/step - accuracy: 0.8100 - loss: 0.5273 - val_accuracy: 0.7167 - val_loss: 0.9204 - learning_rate: 1.0000e-04\n",
      "Epoch 7/30\n",
      "\u001b[1m326/326\u001b[0m \u001b[32m━━━━━━━━━━━━━━━━━━━━\u001b[0m\u001b[37m\u001b[0m \u001b[1m0s\u001b[0m 1s/step - accuracy: 0.8444 - loss: 0.4368\n",
      "Epoch 7: val_loss improved from 0.87552 to 0.74628, saving model to model.keras\n",
      "\u001b[1m326/326\u001b[0m \u001b[32m━━━━━━━━━━━━━━━━━━━━\u001b[0m\u001b[37m\u001b[0m \u001b[1m559s\u001b[0m 2s/step - accuracy: 0.8444 - loss: 0.4367 - val_accuracy: 0.7672 - val_loss: 0.7463 - learning_rate: 5.0000e-05\n",
      "Epoch 8/30\n",
      "\u001b[1m326/326\u001b[0m \u001b[32m━━━━━━━━━━━━━━━━━━━━\u001b[0m\u001b[37m\u001b[0m \u001b[1m0s\u001b[0m 1s/step - accuracy: 0.8673 - loss: 0.3639\n",
      "Epoch 8: val_loss improved from 0.74628 to 0.74324, saving model to model.keras\n",
      "\u001b[1m326/326\u001b[0m \u001b[32m━━━━━━━━━━━━━━━━━━━━\u001b[0m\u001b[37m\u001b[0m \u001b[1m566s\u001b[0m 2s/step - accuracy: 0.8673 - loss: 0.3639 - val_accuracy: 0.7742 - val_loss: 0.7432 - learning_rate: 5.0000e-05\n",
      "Epoch 9/30\n",
      "\u001b[1m326/326\u001b[0m \u001b[32m━━━━━━━━━━━━━━━━━━━━\u001b[0m\u001b[37m\u001b[0m \u001b[1m0s\u001b[0m 1s/step - accuracy: 0.8877 - loss: 0.3172\n",
      "Epoch 9: val_loss improved from 0.74324 to 0.70332, saving model to model.keras\n",
      "\u001b[1m326/326\u001b[0m \u001b[32m━━━━━━━━━━━━━━━━━━━━\u001b[0m\u001b[37m\u001b[0m \u001b[1m554s\u001b[0m 2s/step - accuracy: 0.8877 - loss: 0.3172 - val_accuracy: 0.7818 - val_loss: 0.7033 - learning_rate: 5.0000e-05\n",
      "Epoch 10/30\n",
      "\u001b[1m326/326\u001b[0m \u001b[32m━━━━━━━━━━━━━━━━━━━━\u001b[0m\u001b[37m\u001b[0m \u001b[1m0s\u001b[0m 1s/step - accuracy: 0.8911 - loss: 0.2893\n",
      "Epoch 10: val_loss did not improve from 0.70332\n",
      "\u001b[1m326/326\u001b[0m \u001b[32m━━━━━━━━━━━━━━━━━━━━\u001b[0m\u001b[37m\u001b[0m \u001b[1m560s\u001b[0m 2s/step - accuracy: 0.8911 - loss: 0.2893 - val_accuracy: 0.7749 - val_loss: 0.7747 - learning_rate: 5.0000e-05\n",
      "Epoch 11/30\n",
      "\u001b[1m326/326\u001b[0m \u001b[32m━━━━━━━━━━━━━━━━━━━━\u001b[0m\u001b[37m\u001b[0m \u001b[1m0s\u001b[0m 1s/step - accuracy: 0.9000 - loss: 0.2745\n",
      "Epoch 11: val_loss did not improve from 0.70332\n",
      "\n",
      "Epoch 11: ReduceLROnPlateau reducing learning rate to 2.499999936844688e-05.\n",
      "\u001b[1m326/326\u001b[0m \u001b[32m━━━━━━━━━━━━━━━━━━━━\u001b[0m\u001b[37m\u001b[0m \u001b[1m553s\u001b[0m 2s/step - accuracy: 0.9000 - loss: 0.2744 - val_accuracy: 0.7887 - val_loss: 0.7505 - learning_rate: 5.0000e-05\n",
      "Epoch 12/30\n",
      "\u001b[1m326/326\u001b[0m \u001b[32m━━━━━━━━━━━━━━━━━━━━\u001b[0m\u001b[37m\u001b[0m \u001b[1m0s\u001b[0m 1s/step - accuracy: 0.9184 - loss: 0.2199\n",
      "Epoch 12: val_loss did not improve from 0.70332\n",
      "\u001b[1m326/326\u001b[0m \u001b[32m━━━━━━━━━━━━━━━━━━━━\u001b[0m\u001b[37m\u001b[0m \u001b[1m565s\u001b[0m 2s/step - accuracy: 0.9184 - loss: 0.2199 - val_accuracy: 0.7991 - val_loss: 0.7115 - learning_rate: 2.5000e-05\n",
      "Epoch 12: early stopping\n",
      "Restoring model weights from the end of the best epoch: 9.\n"
     ]
    }
   ],
   "source": [
    "history = model.fit(\n",
    "    train_generator,\n",
    "    epochs=epochs,\n",
    "    validation_data=val_generator,\n",
    "    callbacks=callbacks,\n",
    "    class_weight=class_weights_dict\n",
    ")"
   ]
  },
  {
   "cell_type": "markdown",
   "id": "b5fd626b",
   "metadata": {
    "papermill": {
     "duration": 0.183751,
     "end_time": "2025-01-19T15:02:43.407806",
     "exception": false,
     "start_time": "2025-01-19T15:02:43.224055",
     "status": "completed"
    },
    "tags": []
   },
   "source": [
    "# Testing"
   ]
  },
  {
   "cell_type": "code",
   "execution_count": 21,
   "id": "14190e80",
   "metadata": {
    "execution": {
     "iopub.execute_input": "2025-01-19T15:02:43.772999Z",
     "iopub.status.busy": "2025-01-19T15:02:43.772579Z",
     "iopub.status.idle": "2025-01-19T15:04:17.782254Z",
     "shell.execute_reply": "2025-01-19T15:04:17.781367Z"
    },
    "papermill": {
     "duration": 94.194518,
     "end_time": "2025-01-19T15:04:17.783514",
     "exception": false,
     "start_time": "2025-01-19T15:02:43.588996",
     "status": "completed"
    },
    "tags": []
   },
   "outputs": [
    {
     "name": "stdout",
     "output_type": "stream",
     "text": [
      "\u001b[1m109/109\u001b[0m \u001b[32m━━━━━━━━━━━━━━━━━━━━\u001b[0m\u001b[37m\u001b[0m \u001b[1m92s\u001b[0m 849ms/step - accuracy: 0.7974 - loss: 0.6744\n",
      "Test Accuracy: 0.8012654781341553\n"
     ]
    }
   ],
   "source": [
    "loss, accuracy = model.evaluate(test_generator, steps=len(test_generator))\n",
    "print(f\"Test Accuracy: {accuracy}\")"
   ]
  },
  {
   "cell_type": "code",
   "execution_count": 22,
   "id": "76bfe72f",
   "metadata": {
    "execution": {
     "iopub.execute_input": "2025-01-19T15:04:18.210427Z",
     "iopub.status.busy": "2025-01-19T15:04:18.210132Z",
     "iopub.status.idle": "2025-01-19T15:04:18.683528Z",
     "shell.execute_reply": "2025-01-19T15:04:18.682773Z"
    },
    "papermill": {
     "duration": 0.710637,
     "end_time": "2025-01-19T15:04:18.684928",
     "exception": false,
     "start_time": "2025-01-19T15:04:17.974291",
     "status": "completed"
    },
    "tags": []
   },
   "outputs": [
    {
     "data": {
      "image/png": "[encoded data removed]",
      "text/plain": [
       "<Figure size 640x480 with 1 Axes>"
      ]
     },
     "metadata": {},
     "output_type": "display_data"
    },
    {
     "data": {
      "image/png": "[encoded data removed]",
      "text/plain": [
       "<Figure size 640x480 with 1 Axes>"
      ]
     },
     "metadata": {},
     "output_type": "display_data"
    }
   ],
   "source": [
    "import matplotlib.pyplot as plt\n",
    "\n",
    "# Lấy giá trị loss và accuracy từ history\n",
    "train_loss = history.history['loss']\n",
    "val_loss = history.history['val_loss']\n",
    "train_accuracy = history.history['accuracy']\n",
    "val_accuracy = history.history['val_accuracy']\n",
    "\n",
    "# Vẽ biểu đồ loss\n",
    "# plt.figure(figsize=(12, 6))\n",
    "plt.plot(train_loss, label='Train Loss', color='blue')\n",
    "plt.plot(val_loss, label='Validation Loss', color='orange')\n",
    "plt.title('Loss During Training')\n",
    "plt.xlabel('Epochs')\n",
    "plt.ylabel('Loss')\n",
    "plt.legend()\n",
    "plt.show()\n",
    "\n",
    "# Vẽ biểu đồ accuracy\n",
    "# plt.figure(figsize=(12, 6))\n",
    "plt.plot(train_accuracy, label='Train Accuracy', color='green')\n",
    "plt.plot(val_accuracy, label='Validation Accuracy', color='red')\n",
    "plt.title('Accuracy During Training')\n",
    "plt.xlabel('Epochs')\n",
    "plt.ylabel('Accuracy')\n",
    "plt.legend()\n",
    "plt.show()"
   ]
  }
 ],
 "metadata": {
  "kaggle": {
   "accelerator": "gpu",
   "dataSources": [
    {
     "datasetId": 6456424,
     "sourceId": 10417621,
     "sourceType": "datasetVersion"
    },
    {
     "datasetId": 6456529,
     "sourceId": 10417775,
     "sourceType": "datasetVersion"
    },
    {
     "datasetId": 6461064,
     "sourceId": 10460360,
     "sourceType": "datasetVersion"
    }
   ],
   "dockerImageVersionId": 30823,
   "isGpuEnabled": true,
   "isInternetEnabled": true,
   "language": "python",
   "sourceType": "notebook"
  },
  "kernelspec": {
   "display_name": "Python 3",
   "language": "python",
   "name": "python3"
  },
  "language_info": {
   "codemirror_mode": {
    "name": "ipython",
    "version": 3
   },
   "file_extension": ".py",
   "mimetype": "text/x-python",
   "name": "python",
   "nbconvert_exporter": "python",
   "pygments_lexer": "ipython3",
   "version": "3.10.12"
  },
  "papermill": {
   "default_parameters": {},
   "duration": 7210.054803,
   "end_time": "2025-01-19T15:04:21.764263",
   "environment_variables": {},
   "exception": null,
   "input_path": "__notebook__.ipynb",
   "output_path": "__notebook__.ipynb",
   "parameters": {},
   "start_time": "2025-01-19T13:04:11.709460",
   "version": "2.6.0"
  }
 },
 "nbformat": 4,
 "nbformat_minor": 5
}
